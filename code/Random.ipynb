{
 "cells": [
  {
   "cell_type": "code",
   "execution_count": 1,
   "metadata": {},
   "outputs": [
    {
     "name": "stdout",
     "output_type": "stream",
     "text": [
      "[-1.79109255e-19  2.85112420e-02  2.79973443e-19  3.37658729e-20\n",
      " -2.72802663e-19  1.49285011e-01 -9.94082533e-20  8.35373900e-20\n",
      "  2.46718649e-01  5.78224144e-01 -4.03739463e-19  1.01242860e-03\n",
      " -9.28486180e-20  2.26767464e-01 -1.58813678e-19 -8.97232272e-20\n",
      " -1.22145729e-19 -1.51509428e-19  1.12060672e-19 -3.48318635e-19]\n",
      "[ 2.50938945  0.          2.78354615  1.79425782 13.08579183  0.\n",
      "  0.73716363  3.35344995  0.          0.          8.93825054  0.\n",
      "  7.02955161  0.          4.71068649  3.18873635  2.06090107 10.08166738\n",
      "  3.0481157   8.53268239]\n"
     ]
    },
    {
     "name": "stderr",
     "output_type": "stream",
     "text": [
      "c:\\users\\dolly\\documents\\epfl\\ma-3\\project\\prox_proj\\lib\\site-packages\\cvxpy\\expressions\\expression.py:550: UserWarning: \n",
      "This use of ``*`` has resulted in matrix multiplication.\n",
      "Using ``*`` for matrix multiplication has been deprecated since CVXPY 1.1.\n",
      "    Use ``*`` for matrix-scalar and vector-scalar multiplication.\n",
      "    Use ``@`` for matrix-matrix and matrix-vector multiplication.\n",
      "    Use ``multiply`` for elementwise multiplication.\n",
      "\n",
      "  warnings.warn(__STAR_MATMUL_WARNING__, UserWarning)\n",
      "c:\\users\\dolly\\documents\\epfl\\ma-3\\project\\prox_proj\\lib\\site-packages\\cvxpy\\interface\\numpy_interface\\ndarray_interface.py:47: DeprecationWarning: `np.complex` is a deprecated alias for the builtin `complex`. To silence this warning, use `complex` by itself. Doing this will not modify any behavior and is safe. If you specifically wanted the numpy scalar type, use `np.complex128` here.\n",
      "Deprecated in NumPy 1.20; for more details and guidance: https://numpy.org/devdocs/release/1.20.0-notes.html#deprecations\n",
      "  if result.dtype in [numpy.complex, numpy.float64]:\n",
      "c:\\users\\dolly\\documents\\epfl\\ma-3\\project\\prox_proj\\lib\\site-packages\\cvxpy\\interface\\numpy_interface\\sparse_matrix_interface.py:42: DeprecationWarning: `np.complex` is a deprecated alias for the builtin `complex`. To silence this warning, use `complex` by itself. Doing this will not modify any behavior and is safe. If you specifically wanted the numpy scalar type, use `np.complex128` here.\n",
      "Deprecated in NumPy 1.20; for more details and guidance: https://numpy.org/devdocs/release/1.20.0-notes.html#deprecations\n",
      "  if value.dtype in [np.double, np.complex]:\n"
     ]
    }
   ],
   "source": [
    "import cvxpy as cp\n",
    "import numpy as np\n",
    "import numpy.matlib\n",
    "import skimage.data\n",
    "import skimage.transform\n",
    "from iplabs import IPLabViewer as viewer\n",
    "import matplotlib\n",
    "import matplotlib.pyplot as plt\n",
    "import skimage.color\n",
    "%matplotlib widget\n",
    "# Problem data.\n",
    "m = 30\n",
    "n = 20\n",
    "np.random.seed(1)\n",
    "A = np.random.randn(m, n)\n",
    "b = np.random.randn(m)\n",
    "\n",
    "# Construct the problem.\n",
    "x = cp.Variable(n)\n",
    "objective = cp.Minimize(cp.sum_squares(A*x - b))\n",
    "constraints = [0 <= x, x <= 1]\n",
    "prob = cp.Problem(objective, constraints)\n",
    "\n",
    "# The optimal objective value is returned by `prob.solve()`.\n",
    "result = prob.solve()\n",
    "# The optimal value for x is stored in `x.value`.\n",
    "print(x.value)\n",
    "# The optimal Lagrange multiplier for a constraint is stored in\n",
    "# `constraint.dual_value`.\n",
    "print(constraints[0].dual_value)"
   ]
  },
  {
   "cell_type": "code",
   "execution_count": 2,
   "metadata": {},
   "outputs": [
    {
     "name": "stderr",
     "output_type": "stream",
     "text": [
      "c:\\users\\dolly\\documents\\epfl\\ma-3\\project\\prox_proj\\lib\\site-packages\\ipykernel\\ipkernel.py:283: DeprecationWarning: `should_run_async` will not call `transform_cell` automatically in the future. Please pass the result to `transformed_cell` argument and any exception that happen during thetransform in `preprocessing_exc_tuple` in IPython 7.17 and above.\n",
      "  and should_run_async(code)\n",
      "c:\\users\\dolly\\documents\\epfl\\ma-3\\project\\prox_proj\\lib\\site-packages\\ipykernel_launcher.py:1: FutureWarning: The behavior of rgb2gray will change in scikit-image 0.19. Currently, rgb2gray allows 2D grayscale image to be passed as inputs and leaves them unmodified as outputs. Starting from version 0.19, 2D arrays will be treated as 1D images with 3 channels.\n",
      "  \"\"\"Entry point for launching an IPython kernel.\n"
     ]
    },
    {
     "data": {
      "application/vnd.jupyter.widget-view+json": {
       "model_id": "e2b5364a36d84eb7a7915a55724f5cba",
       "version_major": 2,
       "version_minor": 0
      },
      "text/plain": [
       "HBox(children=(Output(layout=Layout(width='80%')), Output(), Output(layout=Layout(width='25%'))))"
      ]
     },
     "metadata": {},
     "output_type": "display_data"
    },
    {
     "data": {
      "application/vnd.jupyter.widget-view+json": {
       "model_id": "a9dc4200acfc4b4986c50af11a282d0d",
       "version_major": 2,
       "version_minor": 0
      },
      "text/plain": [
       "Button(description='Show Widgets', style=ButtonStyle())"
      ]
     },
     "metadata": {},
     "output_type": "display_data"
    },
    {
     "data": {
      "text/plain": [
       "<iplabs.IPLabViewer at 0x182d4313748>"
      ]
     },
     "execution_count": 2,
     "metadata": {},
     "output_type": "execute_result"
    }
   ],
   "source": [
    "coffee = skimage.color.rgb2gray(skimage.data.shepp_logan_phantom())\n",
    "radon_coffee = skimage.transform.radon(coffee, circle = False)\n",
    "rec = skimage.transform.iradon(radon_coffee, filter_name = None)\n",
    "nx, ny = rec.shape \n",
    "rec = rec[ny//2-200:ny//2+200, nx//2-200:nx//2+200]\n",
    "viewer([coffee, radon_coffee, rec])"
   ]
  },
  {
   "cell_type": "code",
   "execution_count": 3,
   "metadata": {},
   "outputs": [
    {
     "data": {
      "text/plain": [
       "array([[ 1., -1., -1.,  0.,  0.,  0.,  0.,  0.,  0.,  0.],\n",
       "       [ 0.,  1., -1., -1.,  0.,  0.,  0.,  0.,  0.,  0.],\n",
       "       [ 0.,  0.,  1., -1., -1.,  0.,  0.,  0.,  0.,  0.],\n",
       "       [ 0.,  0.,  0.,  1., -1., -1.,  0.,  0.,  0.,  0.],\n",
       "       [ 0.,  0.,  0.,  0.,  1., -1., -1.,  0.,  0.,  0.],\n",
       "       [ 0.,  0.,  0.,  0.,  0.,  1., -1., -1.,  0.,  0.],\n",
       "       [ 0.,  0.,  0.,  0.,  0.,  0.,  1., -1., -1.,  0.],\n",
       "       [ 0.,  0.,  0.,  0.,  0.,  0.,  0.,  1., -1., -1.],\n",
       "       [-1.,  0.,  0.,  0.,  0.,  0.,  0.,  0.,  1., -1.],\n",
       "       [-1., -1.,  0.,  0.,  0.,  0.,  0.,  0.,  0.,  1.]])"
      ]
     },
     "execution_count": 3,
     "metadata": {},
     "output_type": "execute_result"
    }
   ],
   "source": [
    "vector = np.zeros((10,))\n",
    "vector[0] = 1\n",
    "vector[1] = -1\n",
    "vector[2] = -1\n",
    "\n",
    "def circular(x):\n",
    "    idx = np.arange(len(x))\n",
    "    Q = np.matlib.repmat(x, len(x),1)\n",
    "#     circular = np.apply_along_axis(lambda x, idx: np.roll(x, idx)\n",
    "    for i, row in enumerate(Q):\n",
    "        Q[i] = np.roll(row, i)\n",
    "    return Q\n",
    "    \n",
    "Q = circular(vector)\n",
    "Q\n",
    "# Q@Q.T\n",
    "# v = np.random.normal(size = (10,))\n",
    "# print(v)\n",
    "# print((Q@v)[:-1])\n",
    "# print(v[1:] - v[:-1])"
   ]
  },
  {
   "cell_type": "code",
   "execution_count": 4,
   "metadata": {},
   "outputs": [
    {
     "data": {
      "text/plain": [
       "<module 'numpy.matlib' from 'c:\\\\users\\\\dolly\\\\documents\\\\epfl\\\\ma-3\\\\project\\\\prox_proj\\\\lib\\\\site-packages\\\\numpy\\\\matlib.py'>"
      ]
     },
     "execution_count": 4,
     "metadata": {},
     "output_type": "execute_result"
    }
   ],
   "source": [
    "np.matlib"
   ]
  },
  {
   "cell_type": "markdown",
   "metadata": {},
   "source": [
    "# Obsolete Code"
   ]
  },
  {
   "cell_type": "code",
   "execution_count": 5,
   "metadata": {},
   "outputs": [
    {
     "name": "stdout",
     "output_type": "stream",
     "text": [
      "[[   0    1    4    9   16   25   36]\n",
      " [  49   64   81  100  121  144  169]\n",
      " [ 196  225  256  289  324  361  400]\n",
      " [ 441  484  529  576  625  676  729]\n",
      " [ 784  841  900  961 1024 1089 1156]\n",
      " [1225 1296 1369 1444 1521 1600 1681]] (6, 7)\n",
      "[[ 1  3  5  7  9 11]\n",
      " [15 17 19 21 23 25]\n",
      " [29 31 33 35 37 39]\n",
      " [43 45 47 49 51 53]\n",
      " [57 59 61 63 65 67]\n",
      " [71 73 75 77 79 81]] (6, 6)\n",
      "[[ 49  63  77  91 105 119 133]\n",
      " [147 161 175 189 203 217 231]\n",
      " [245 259 273 287 301 315 329]\n",
      " [343 357 371 385 399 413 427]\n",
      " [441 455 469 483 497 511 525]] (5, 7)\n",
      "\n"
     ]
    }
   ],
   "source": [
    "# TV (1D) matrix generation \n",
    "#     # Declare Finite Differences\n",
    "vector = np.zeros((n,))\n",
    "vector[0] = 1\n",
    "vector[1] = -1\n",
    "idx = np.arange(n)\n",
    "Q = np.matlib.repmat(vector, n, 1)\n",
    "for i, row in enumerate(Q):\n",
    "    Q[i] = np.roll(row, i)\n",
    "    \n",
    "# Declare LoG Matric\n",
    "vector = np.zeros((n,))\n",
    "vector[0] = 1\n",
    "vector[1] = -2\n",
    "vector[2] = 1\n",
    "idx = np.arange(n)\n",
    "Q = np.matlib.repmat(vector, n, 1)\n",
    "for i, row in enumerate(Q):\n",
    "    Q[i] = np.roll(row, i)\n",
    "\n",
    "# Quick tests on finite differences matrices\n",
    "x = np.arange(6*7).reshape((6, 7))**2\n",
    "# print(A)\n",
    "# print('Horizontal direction')\n",
    "# print((A[:, 1:] - A[:, :-1])[:-1, :])\n",
    "# print('Vertical direction')\n",
    "# print((A[1:, :] - A[:-1, :])[:, :-1])\n",
    "\n",
    "D1 = (x[:, 1:] - x[:, :-1])\n",
    "D2 = (x[1:, :] - x[:-1, :])\n",
    "# D11 = (D1[:, 1:] - D1[:, :-1])[:-1, :]\n",
    "# D22 = (D2[1:, :] - D2[:-1, :])[:, :-1]\n",
    "# D21 = (D2[:, 1:] - D2[:, :-1])[:-1, :]\n",
    "# D12 = (D1[1:, :] - D1[:-1, :])[:, :-1]\n",
    "print(x, x.shape)\n",
    "print(D1, D1.shape)\n",
    "print(D2, D2.shape)\n",
    "print()\n",
    "# print(D11, D11.shape)\n",
    "# print(D22, D22.shape)\n",
    "# print(D21, D21.shape)\n",
    "# print(D12, D12.shape)"
   ]
  },
  {
   "cell_type": "code",
   "execution_count": 8,
   "metadata": {},
   "outputs": [
    {
     "data": {
      "text/plain": [
       "array([-1.89881206, -1.11711069, -0.50897228, -0.16648595,  1.42361443,\n",
       "        0.90399917,  1.57546791,  1.2066079 ])"
      ]
     },
     "execution_count": 8,
     "metadata": {},
     "output_type": "execute_result"
    }
   ],
   "source": [
    "a = np.random.normal(size = (2, 4,))\n",
    "a.reshape(-1)"
   ]
  },
  {
   "cell_type": "code",
   "execution_count": 6,
   "metadata": {},
   "outputs": [],
   "source": [
    "import scipy.linalg"
   ]
  },
  {
   "cell_type": "code",
   "execution_count": 7,
   "metadata": {},
   "outputs": [
    {
     "ename": "ValueError",
     "evalue": "object arrays are not supported",
     "output_type": "error",
     "traceback": [
      "\u001b[1;31m---------------------------------------------------------------------------\u001b[0m",
      "\u001b[1;31mValueError\u001b[0m                                Traceback (most recent call last)",
      "\u001b[1;32m<ipython-input-7-b809b5a493c9>\u001b[0m in \u001b[0;36m<module>\u001b[1;34m\u001b[0m\n\u001b[0;32m     30\u001b[0m \u001b[1;31m#         y[1, 1] = D22[i]\u001b[0m\u001b[1;33m\u001b[0m\u001b[1;33m\u001b[0m\u001b[1;33m\u001b[0m\u001b[0m\n\u001b[0;32m     31\u001b[0m     \u001b[0ma\u001b[0m \u001b[1;33m=\u001b[0m \u001b[1;33m[\u001b[0m\u001b[1;33m[\u001b[0m\u001b[0mD11\u001b[0m\u001b[1;33m[\u001b[0m\u001b[0mi\u001b[0m\u001b[1;33m]\u001b[0m\u001b[1;33m,\u001b[0m \u001b[0mD12\u001b[0m\u001b[1;33m[\u001b[0m\u001b[0mi\u001b[0m\u001b[1;33m]\u001b[0m\u001b[1;33m]\u001b[0m\u001b[1;33m,\u001b[0m \u001b[1;33m[\u001b[0m\u001b[0mD21\u001b[0m\u001b[1;33m[\u001b[0m\u001b[0mi\u001b[0m\u001b[1;33m]\u001b[0m\u001b[1;33m,\u001b[0m \u001b[0mD22\u001b[0m\u001b[1;33m[\u001b[0m\u001b[0mi\u001b[0m\u001b[1;33m]\u001b[0m\u001b[1;33m]\u001b[0m\u001b[1;33m]\u001b[0m\u001b[1;33m\u001b[0m\u001b[1;33m\u001b[0m\u001b[0m\n\u001b[1;32m---> 32\u001b[1;33m     \u001b[0meig\u001b[0m \u001b[1;33m=\u001b[0m \u001b[0mscipy\u001b[0m\u001b[1;33m.\u001b[0m\u001b[0mlinalg\u001b[0m\u001b[1;33m.\u001b[0m\u001b[0meigvals\u001b[0m\u001b[1;33m(\u001b[0m\u001b[0ma\u001b[0m\u001b[1;33m)\u001b[0m\u001b[1;33m\u001b[0m\u001b[1;33m\u001b[0m\u001b[0m\n\u001b[0m\u001b[0;32m     33\u001b[0m     \u001b[0minner\u001b[0m \u001b[1;33m=\u001b[0m \u001b[0minner\u001b[0m \u001b[1;33m+\u001b[0m \u001b[0meig\u001b[0m\u001b[1;33m[\u001b[0m\u001b[1;36m0\u001b[0m\u001b[1;33m]\u001b[0m \u001b[1;33m+\u001b[0m \u001b[0meig\u001b[0m\u001b[1;33m[\u001b[0m\u001b[1;36m1\u001b[0m\u001b[1;33m]\u001b[0m\u001b[1;31m# cp.sum_largest(scipy.linalg.eigvals(a), 2)\u001b[0m\u001b[1;33m\u001b[0m\u001b[1;33m\u001b[0m\u001b[0m\n\u001b[0;32m     34\u001b[0m \u001b[1;33m\u001b[0m\u001b[0m\n",
      "\u001b[1;32mc:\\users\\dolly\\documents\\epfl\\ma-3\\project\\prox_proj\\lib\\site-packages\\scipy\\linalg\\decomp.py\u001b[0m in \u001b[0;36meigvals\u001b[1;34m(a, b, overwrite_a, check_finite, homogeneous_eigvals)\u001b[0m\n\u001b[0;32m    878\u001b[0m     return eig(a, b=b, left=0, right=0, overwrite_a=overwrite_a,\n\u001b[0;32m    879\u001b[0m                \u001b[0mcheck_finite\u001b[0m\u001b[1;33m=\u001b[0m\u001b[0mcheck_finite\u001b[0m\u001b[1;33m,\u001b[0m\u001b[1;33m\u001b[0m\u001b[1;33m\u001b[0m\u001b[0m\n\u001b[1;32m--> 880\u001b[1;33m                homogeneous_eigvals=homogeneous_eigvals)\n\u001b[0m\u001b[0;32m    881\u001b[0m \u001b[1;33m\u001b[0m\u001b[0m\n\u001b[0;32m    882\u001b[0m \u001b[1;33m\u001b[0m\u001b[0m\n",
      "\u001b[1;32mc:\\users\\dolly\\documents\\epfl\\ma-3\\project\\prox_proj\\lib\\site-packages\\scipy\\linalg\\decomp.py\u001b[0m in \u001b[0;36meig\u001b[1;34m(a, b, left, right, overwrite_a, overwrite_b, check_finite, homogeneous_eigvals)\u001b[0m\n\u001b[0;32m    209\u001b[0m \u001b[1;33m\u001b[0m\u001b[0m\n\u001b[0;32m    210\u001b[0m     \"\"\"\n\u001b[1;32m--> 211\u001b[1;33m     \u001b[0ma1\u001b[0m \u001b[1;33m=\u001b[0m \u001b[0m_asarray_validated\u001b[0m\u001b[1;33m(\u001b[0m\u001b[0ma\u001b[0m\u001b[1;33m,\u001b[0m \u001b[0mcheck_finite\u001b[0m\u001b[1;33m=\u001b[0m\u001b[0mcheck_finite\u001b[0m\u001b[1;33m)\u001b[0m\u001b[1;33m\u001b[0m\u001b[1;33m\u001b[0m\u001b[0m\n\u001b[0m\u001b[0;32m    212\u001b[0m     \u001b[1;32mif\u001b[0m \u001b[0mlen\u001b[0m\u001b[1;33m(\u001b[0m\u001b[0ma1\u001b[0m\u001b[1;33m.\u001b[0m\u001b[0mshape\u001b[0m\u001b[1;33m)\u001b[0m \u001b[1;33m!=\u001b[0m \u001b[1;36m2\u001b[0m \u001b[1;32mor\u001b[0m \u001b[0ma1\u001b[0m\u001b[1;33m.\u001b[0m\u001b[0mshape\u001b[0m\u001b[1;33m[\u001b[0m\u001b[1;36m0\u001b[0m\u001b[1;33m]\u001b[0m \u001b[1;33m!=\u001b[0m \u001b[0ma1\u001b[0m\u001b[1;33m.\u001b[0m\u001b[0mshape\u001b[0m\u001b[1;33m[\u001b[0m\u001b[1;36m1\u001b[0m\u001b[1;33m]\u001b[0m\u001b[1;33m:\u001b[0m\u001b[1;33m\u001b[0m\u001b[1;33m\u001b[0m\u001b[0m\n\u001b[0;32m    213\u001b[0m         \u001b[1;32mraise\u001b[0m \u001b[0mValueError\u001b[0m\u001b[1;33m(\u001b[0m\u001b[1;34m'expected square matrix'\u001b[0m\u001b[1;33m)\u001b[0m\u001b[1;33m\u001b[0m\u001b[1;33m\u001b[0m\u001b[0m\n",
      "\u001b[1;32mc:\\users\\dolly\\documents\\epfl\\ma-3\\project\\prox_proj\\lib\\site-packages\\scipy\\_lib\\_util.py\u001b[0m in \u001b[0;36m_asarray_validated\u001b[1;34m(a, check_finite, sparse_ok, objects_ok, mask_ok, as_inexact)\u001b[0m\n\u001b[0;32m    263\u001b[0m     \u001b[1;32mif\u001b[0m \u001b[1;32mnot\u001b[0m \u001b[0mobjects_ok\u001b[0m\u001b[1;33m:\u001b[0m\u001b[1;33m\u001b[0m\u001b[1;33m\u001b[0m\u001b[0m\n\u001b[0;32m    264\u001b[0m         \u001b[1;32mif\u001b[0m \u001b[0ma\u001b[0m\u001b[1;33m.\u001b[0m\u001b[0mdtype\u001b[0m \u001b[1;32mis\u001b[0m \u001b[0mnp\u001b[0m\u001b[1;33m.\u001b[0m\u001b[0mdtype\u001b[0m\u001b[1;33m(\u001b[0m\u001b[1;34m'O'\u001b[0m\u001b[1;33m)\u001b[0m\u001b[1;33m:\u001b[0m\u001b[1;33m\u001b[0m\u001b[1;33m\u001b[0m\u001b[0m\n\u001b[1;32m--> 265\u001b[1;33m             \u001b[1;32mraise\u001b[0m \u001b[0mValueError\u001b[0m\u001b[1;33m(\u001b[0m\u001b[1;34m'object arrays are not supported'\u001b[0m\u001b[1;33m)\u001b[0m\u001b[1;33m\u001b[0m\u001b[1;33m\u001b[0m\u001b[0m\n\u001b[0m\u001b[0;32m    266\u001b[0m     \u001b[1;32mif\u001b[0m \u001b[0mas_inexact\u001b[0m\u001b[1;33m:\u001b[0m\u001b[1;33m\u001b[0m\u001b[1;33m\u001b[0m\u001b[0m\n\u001b[0;32m    267\u001b[0m         \u001b[1;32mif\u001b[0m \u001b[1;32mnot\u001b[0m \u001b[0mnp\u001b[0m\u001b[1;33m.\u001b[0m\u001b[0missubdtype\u001b[0m\u001b[1;33m(\u001b[0m\u001b[0ma\u001b[0m\u001b[1;33m.\u001b[0m\u001b[0mdtype\u001b[0m\u001b[1;33m,\u001b[0m \u001b[0mnp\u001b[0m\u001b[1;33m.\u001b[0m\u001b[0minexact\u001b[0m\u001b[1;33m)\u001b[0m\u001b[1;33m:\u001b[0m\u001b[1;33m\u001b[0m\u001b[1;33m\u001b[0m\u001b[0m\n",
      "\u001b[1;31mValueError\u001b[0m: object arrays are not supported"
     ]
    }
   ],
   "source": [
    "v = np.random.normal(20, 20)\n",
    "x = cp.Variable((20, 20), nonneg = True)\n",
    "\n",
    "# Defining D1 and D2x We loose one element in the *other* dimension to account for the lost element and have elements of equal size\n",
    "D1 = (x[:, 1:] - x[:, :-1])[:-1, :]\n",
    "D2 = (x[1:, :] - x[:-1, :])[:, :-1]\n",
    "D11 = (D1[:, 1:] - D1[:, :-1])[:-1, :]\n",
    "D22 = (D2[1:, :] - D2[:-1, :])[:, :-1]\n",
    "D21 = (D2[:, 1:] - D2[:, :-1])[:-1, :]\n",
    "D12 = (D1[1:, :] - D1[:-1, :])[:, :-1]\n",
    "#     T = D11 + D22\n",
    "#     D = cp.multiply(D11, D22) - cp.multiply(D12, D21)\n",
    "#     lamb_1 = T/2 + cp.multiply((T)**2, cp.power(4 - D, -1))\n",
    "#     lamb_2 = T/2 - cp.multiply((T)**2, cp.power(4 - D, -1))\n",
    "#     y = cp.Variable((nx*ny, 2, 2))\n",
    "#     y[:, 0, 0] = cp.vec(D11)\n",
    "#     y[:, 0, 1] = cp.vec(D12)\n",
    "#     y[:, 1, 0] = cp.vec(D21)\n",
    "#     y[:, 1, 1] = cp.vec(D22)\n",
    "D11 = cp.vec(D11)\n",
    "D12 = cp.vec(D12)\n",
    "D21 = cp.vec(D21)\n",
    "D22 = cp.vec(D22)\n",
    "inner = 0\n",
    "for i in range(400):\n",
    "#         y = cp.Variable((2, 2))\n",
    "#         y[0, 0] = D11[i]\n",
    "#         y[0, 1] = D12[i]\n",
    "#         y[1, 0] = D21[i]\n",
    "#         y[1, 1] = D22[i]\n",
    "    a = [[D11[i], D12[i]], [D21[i], D22[i]]]\n",
    "    eig = scipy.linalg.eigvals(a)\n",
    "    inner = inner + eig[0] + eig[1]# cp.sum_largest(scipy.linalg.eigvals(a), 2) \n",
    "\n",
    "#     obj = cp.pnorm(lamb_1 + lamb_2, 1) + cp.sum_squares(x - v)/(2*lamb)\n",
    "obj = inner + cp.sum_squares(x - v)/(2*lamb)\n",
    "\n",
    "\n",
    "prob = cp.Problem(cp.Minimize(obj))\n",
    "prob.solve()"
   ]
  },
  {
   "cell_type": "code",
   "execution_count": null,
   "metadata": {},
   "outputs": [],
   "source": [
    "# type(cp.expressions.leaf.Leaf((2, 2), a))\n",
    "# x = [[D11[i], D12[i]], [D21[i], D22[i]]]\n",
    "y = cp.expressions.leaf.Leaf((2, 2), constant = False)\n",
    "y.value = D11[i]"
   ]
  },
  {
   "cell_type": "code",
   "execution_count": null,
   "metadata": {},
   "outputs": [],
   "source": [
    "dir(cp.lambda_sum_largest.get_data)"
   ]
  },
  {
   "cell_type": "code",
   "execution_count": 17,
   "metadata": {},
   "outputs": [
    {
     "name": "stderr",
     "output_type": "stream",
     "text": [
      "c:\\users\\dolly\\documents\\epfl\\ma-3\\project\\prox_proj\\lib\\site-packages\\ipykernel\\ipkernel.py:283: DeprecationWarning: `should_run_async` will not call `transform_cell` automatically in the future. Please pass the result to `transformed_cell` argument and any exception that happen during thetransform in `preprocessing_exc_tuple` in IPython 7.17 and above.\n",
      "  and should_run_async(code)\n",
      "<>:30: DeprecationWarning: invalid escape sequence \\m\n",
      "<>:31: DeprecationWarning: invalid escape sequence \\o\n",
      "<>:33: DeprecationWarning: invalid escape sequence \\o\n",
      "<>:30: DeprecationWarning: invalid escape sequence \\m\n",
      "<>:31: DeprecationWarning: invalid escape sequence \\o\n",
      "<>:33: DeprecationWarning: invalid escape sequence \\o\n",
      "<>:30: DeprecationWarning: invalid escape sequence \\m\n",
      "<>:31: DeprecationWarning: invalid escape sequence \\o\n",
      "<>:33: DeprecationWarning: invalid escape sequence \\o\n",
      "<ipython-input-17-fac77fae2364>:30: DeprecationWarning: invalid escape sequence \\m\n",
      "  plt.xlabel('$\\mathbf{v}$')\n",
      "<ipython-input-17-fac77fae2364>:31: DeprecationWarning: invalid escape sequence \\o\n",
      "  plt.ylabel('$\\operatorname{M}_{\\lambda f}(\\mathbf{v})$')\n",
      "<ipython-input-17-fac77fae2364>:33: DeprecationWarning: invalid escape sequence \\o\n",
      "  plt.title('Moreau envelope $\\operatorname{M}_{\\lambda f}(\\mathbf{v})$ of $f(\\mathbf{v}) = x^2/2 + \\delta_{\\operatorname{R}^+}(x)$ ')\n",
      "c:\\users\\dolly\\documents\\epfl\\ma-3\\project\\prox_proj\\lib\\site-packages\\ipywidgets\\widgets\\widget.py:412: DeprecationWarning: Passing unrecognized arguments to super(Canvas).__init__().\n",
      "__init__() missing 1 required positional argument: 'figure'\n",
      "This is deprecated in traitlets 4.2.This error will be raised in a future release of traitlets.\n",
      "  super(Widget, self).__init__(**kwargs)\n",
      "c:\\users\\dolly\\documents\\epfl\\ma-3\\project\\prox_proj\\lib\\site-packages\\ipywidgets\\widgets\\widget.py:412: DeprecationWarning: Passing unrecognized arguments to super(Toolbar).__init__().\n",
      "__init__() missing 1 required positional argument: 'canvas'\n",
      "This is deprecated in traitlets 4.2.This error will be raised in a future release of traitlets.\n",
      "  super(Widget, self).__init__(**kwargs)\n"
     ]
    },
    {
     "data": {
      "application/vnd.jupyter.widget-view+json": {
       "model_id": "aa6d2488161c4bfa8cd8c4b9b62d55f3",
       "version_major": 2,
       "version_minor": 0
      },
      "text/plain": [
       "Canvas(toolbar=Toolbar(toolitems=[('Home', 'Reset original view', 'home', 'home'), ('Pan', 'Pan axes with left…"
      ]
     },
     "metadata": {},
     "output_type": "display_data"
    },
    {
     "data": {
      "text/plain": [
       "Text(0.5, 1.0, 'Moreau envelope $\\\\operatorname{M}_{\\\\lambda f}(\\\\mathbf{v})$ of $f(\\\\mathbf{v}) = x^2/2 + \\\\delta_{\\\\operatorname{R}^+}(x)$ ')"
      ]
     },
     "execution_count": 17,
     "metadata": {},
     "output_type": "execute_result"
    }
   ],
   "source": [
    "import numpy as np\n",
    "import matplotlib.pyplot as plt\n",
    "plt.close('all')\n",
    "\n",
    "x = np.linspace(-5,5,1000) \n",
    "gammas = [0.01, 0.1, 0.5, 1, 2]\n",
    "\n",
    "plt.figure()\n",
    "for gamma in gammas:\n",
    "    moreau = np.zeros_like(x)\n",
    "    # Pol's version\n",
    "#     moreau[x>0] = x[x>0]**2/(gamma+1)**2 * (gamma/2. +1./2.)\n",
    "    moreau[x>0] = x[x>0]**2/(2*(gamma+1))\n",
    "    # My version\n",
    "#     moreau[x>0] = x[x>0]**2*(1. + gamma)/(2.*gamma)\n",
    "    # Untouched version\n",
    "#     moreau[x>0] = x[x>0]**2 + x[x>0]**2/(2*gamma)\n",
    "    # Negative side\n",
    "    moreau[x<0] = x[x<0]**2/(2*gamma)\n",
    "#     moreau = 2*np.abs(x)-1\n",
    "#     moreau = np.abs(x)\n",
    "    \n",
    "    plt.plot(x,moreau,label=f\"$f_{{{gamma}}}(x)$\")\n",
    "plt.plot(x[x>=0],x[x>=0]**2/2,'k',label=r\"$f(x) = x^2/2 + \\delta_{\\mathbb{R}_+}(x)$\")\n",
    "# plt.plot(x, x**2)\n",
    "plt.legend()\n",
    "plt.axis((-5,5,0,25))\n",
    "plt.xticks(np.arange(-5, 5))\n",
    "plt.yticks(np.arange(0, 25, 2))\n",
    "plt.xlabel('$\\mathbf{v}$')\n",
    "plt.ylabel('$\\operatorname{M}_{\\lambda f}(\\mathbf{v})$')\n",
    "plt.grid()\n",
    "plt.title('Moreau envelope $\\operatorname{M}_{\\lambda f}(\\mathbf{v})$ of $f(\\mathbf{v}) = x^2/2 + \\delta_{\\operatorname{R}^+}(x)$ ')"
   ]
  },
  {
   "cell_type": "code",
   "execution_count": null,
   "metadata": {},
   "outputs": [],
   "source": [
    "plt.figure()\n",
    "x = np.linspace(-5,5,1000) \n",
    "gammas = [1, 2, 3]\n",
    "v = 4\n",
    "ax = plt.gca()\n",
    "for gamma in gammas:\n",
    "    proximal = np.zeros_like(x)\n",
    "    # Pol's version\n",
    "    proximal = np.abs(x) + (x-v)**2/(2*gamma)\n",
    "    opt = np.where(proximal == np.min(proximal))[0][0]\n",
    "    color = next(ax._get_lines.prop_cycler)['color']\n",
    "    plt.plot(x[opt], proximal[opt], 'o', color = color)\n",
    "    plt.plot(x,proximal,label=r\"$f(x) + \\frac{1}{2\\gamma}\\|x_v\\|_2^2$\" + f', $\\gamma$ = {gamma}', color = color)\n",
    "#     if gamma == 3:\n",
    "#         plt.plot(x[opt], proximal[opt], 'rx', label = r'$\\mathrm{min}$')\n",
    "#     plt.plot(x,proximal,label=f\"$prox_{f_{{{gamma}}}}(x)$\")\n",
    "plt.plot(x, np.abs(x), 'k', label=r\"$f(x) = |x|$\")\n",
    "# plt.axvline(4, 'r--', label = '$v$')\n",
    "plt.axvline(4, color='r', ls = '--', linewidth=0.5, label='$v$')\n",
    "# plt.plot(x, x**2)\n",
    "plt.legend()\n",
    "plt.axis((-5,5,0,25))\n",
    "plt.ylim([0, 10])\n",
    "plt.xticks(np.arange(-5, 5))\n",
    "# plt.yticks(np.arange(0, 5, 1))\n",
    "plt.xlabel('$x$')\n",
    "plt.ylabel('$f(x)$')\n",
    "plt.grid()\n",
    "plt.title(r'Proximal Minimization Algorithm ($f = |x|$, $v = 4$)')"
   ]
  },
  {
   "cell_type": "code",
   "execution_count": 8,
   "metadata": {},
   "outputs": [
    {
     "ename": "NameError",
     "evalue": "name 'proximal' is not defined",
     "output_type": "error",
     "traceback": [
      "\u001b[1;31m---------------------------------------------------------------------------\u001b[0m",
      "\u001b[1;31mNameError\u001b[0m                                 Traceback (most recent call last)",
      "\u001b[1;32m<ipython-input-8-b4de5ead51bb>\u001b[0m in \u001b[0;36m<module>\u001b[1;34m\u001b[0m\n\u001b[1;32m----> 1\u001b[1;33m \u001b[0mnp\u001b[0m\u001b[1;33m.\u001b[0m\u001b[0mwhere\u001b[0m\u001b[1;33m(\u001b[0m\u001b[0mproximal\u001b[0m \u001b[1;33m==\u001b[0m \u001b[0mnp\u001b[0m\u001b[1;33m.\u001b[0m\u001b[0mmin\u001b[0m\u001b[1;33m(\u001b[0m\u001b[0mproximal\u001b[0m\u001b[1;33m)\u001b[0m\u001b[1;33m)\u001b[0m\u001b[1;33m[\u001b[0m\u001b[1;36m0\u001b[0m\u001b[1;33m]\u001b[0m\u001b[1;33m[\u001b[0m\u001b[1;36m0\u001b[0m\u001b[1;33m]\u001b[0m\u001b[1;33m\u001b[0m\u001b[1;33m\u001b[0m\u001b[0m\n\u001b[0m",
      "\u001b[1;31mNameError\u001b[0m: name 'proximal' is not defined"
     ]
    }
   ],
   "source": [
    "np.where(proximal == np.min(proximal))[0][0]"
   ]
  },
  {
   "cell_type": "code",
   "execution_count": 9,
   "metadata": {},
   "outputs": [
    {
     "data": {
      "application/vnd.jupyter.widget-view+json": {
       "model_id": "af5d8d0e091a4776a38419a2df526de2",
       "version_major": 2,
       "version_minor": 0
      },
      "text/plain": [
       "Canvas(toolbar=Toolbar(toolitems=[('Home', 'Reset original view', 'home', 'home'), ('Pan', 'Pan axes with left…"
      ]
     },
     "metadata": {},
     "output_type": "display_data"
    },
    {
     "name": "stderr",
     "output_type": "stream",
     "text": [
      "c:\\users\\dolly\\documents\\epfl\\ma-3\\project\\prox_proj\\lib\\site-packages\\ipywidgets\\widgets\\widget.py:412: DeprecationWarning: Passing unrecognized arguments to super(Canvas).__init__().\n",
      "__init__() missing 1 required positional argument: 'figure'\n",
      "This is deprecated in traitlets 4.2.This error will be raised in a future release of traitlets.\n",
      "  super(Widget, self).__init__(**kwargs)\n",
      "c:\\users\\dolly\\documents\\epfl\\ma-3\\project\\prox_proj\\lib\\site-packages\\ipywidgets\\widgets\\widget.py:412: DeprecationWarning: Passing unrecognized arguments to super(Toolbar).__init__().\n",
      "__init__() missing 1 required positional argument: 'canvas'\n",
      "This is deprecated in traitlets 4.2.This error will be raised in a future release of traitlets.\n",
      "  super(Widget, self).__init__(**kwargs)\n"
     ]
    },
    {
     "data": {
      "application/vnd.jupyter.widget-view+json": {
       "model_id": "c9d7038ab0c346b198a45c3e246e9ac7",
       "version_major": 2,
       "version_minor": 0
      },
      "text/plain": [
       "Canvas(toolbar=Toolbar(toolitems=[('Home', 'Reset original view', 'home', 'home'), ('Pan', 'Pan axes with left…"
      ]
     },
     "metadata": {},
     "output_type": "display_data"
    }
   ],
   "source": [
    "import numpy\n",
    "N = 501    # Note: Use 501 instead of 500 to avoid the zero value\n",
    "d = numpy.finfo(numpy.float32).eps * 1e4\n",
    "a = 3.0\n",
    "x = a * numpy.ones(N, dtype=numpy.float32)\n",
    "y = [x[i] + numpy.multiply((i - numpy.divide(N, 2.0, dtype=numpy.float32)), d, dtype=numpy.float32) for i in range(N)]\n",
    "\n",
    "# Compute errors and \"true\" error\n",
    "relative_error = numpy.empty((2, N), dtype=numpy.float32)\n",
    "relative_error[0, :] = numpy.abs(x - y) / x\n",
    "relative_error[1, :] = numpy.abs(1.0 - y / x)\n",
    "exact = numpy.abs( (numpy.float64(x) - numpy.float64(y)) / numpy.float64(x))\n",
    "\n",
    "# Compute differences between error calculations\n",
    "error = numpy.empty((2, N))\n",
    "for i in range(2):\n",
    "    error[i, :] = numpy.abs((relative_error[i, :] - exact) / numpy.abs(exact))\n",
    "\n",
    "fig = plt.figure()\n",
    "axes = fig.add_subplot(1, 1, 1)\n",
    "axes.semilogy(y, error[0, :], '.', markersize=10, label=\"$|x-y|/|x|$\")\n",
    "axes.semilogy(y, error[1, :], '.', markersize=10, label=\"$|1-y/x|$\")\n",
    "\n",
    "axes.grid(True)\n",
    "axes.set_xlabel(\"y\")\n",
    "axes.set_ylabel(\"Relative Error\")\n",
    "axes.set_xlim((numpy.min(y), numpy.max(y)))\n",
    "axes.set_ylim((5e-9, numpy.max(error[1, :])))\n",
    "axes.set_title(\"Relative Error Comparison\")\n",
    "axes.legend()\n",
    "plt.show()\n",
    "\n",
    "fig = plt.figure()\n",
    "axes = fig.add_subplot(1, 1, 1)\n",
    "axes.plot(x)\n",
    "axes.plot(y)\n",
    "\n",
    "axes.grid(True)\n",
    "# axes.set_xlabel(\"y\")\n",
    "# axes.set_ylabel(\"Relative Error\")\n",
    "# axes.set_xlim((numpy.min(y), numpy.max(y)))\n",
    "# axes.set_ylim((5e-9, numpy.max(error[1, :])))\n",
    "# axes.set_title(\"Relative Error Comparison\")\n",
    "# axes.legend()\n",
    "plt.show()"
   ]
  },
  {
   "cell_type": "code",
   "execution_count": null,
   "metadata": {},
   "outputs": [],
   "source": []
  },
  {
   "cell_type": "code",
   "execution_count": null,
   "metadata": {},
   "outputs": [],
   "source": []
  }
 ],
 "metadata": {
  "kernelspec": {
   "display_name": "Python 3",
   "language": "python",
   "name": "python3"
  },
  "language_info": {
   "codemirror_mode": {
    "name": "ipython",
    "version": 3
   },
   "file_extension": ".py",
   "mimetype": "text/x-python",
   "name": "python",
   "nbconvert_exporter": "python",
   "pygments_lexer": "ipython3",
   "version": "3.7.9"
  }
 },
 "nbformat": 4,
 "nbformat_minor": 4
}
