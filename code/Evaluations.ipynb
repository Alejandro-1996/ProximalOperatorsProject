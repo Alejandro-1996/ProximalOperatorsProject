{
 "cells": [
  {
   "cell_type": "code",
   "execution_count": 1,
   "id": "committed-surname",
   "metadata": {},
   "outputs": [],
   "source": [
    "# Technical libraries\n",
    "import cvxpy as cp\n",
    "import numpy as np\n",
    "import numpy.matlib\n",
    "import numpy.random\n",
    "from scipy import linalg, special\n",
    "import matplotlib.pyplot as plt\n",
    "import ipywidgets as widgets\n",
    "import scipy \n",
    "import scipy.fftpack\n",
    "# from proximal import ProxUtils\n",
    "import proximal\n",
    "from iplabs import IPLabViewer as viewer\n",
    "import matplotlib\n",
    "%matplotlib widget"
   ]
  },
  {
   "cell_type": "markdown",
   "id": "looking-genome",
   "metadata": {},
   "source": [
    "# Proximal Operators for Nonnegative Inverse Problems\n",
    "\n",
    "Study of the combination of different image regularizers with nonnegativity constraints. This notebook is dedicated to evaluations only. See file [`proximal.py`](proximal.py) for details on the functions.\n",
    "\n",
    "# Index\n",
    "\n",
    "1. [Introduction](#Intro)\n",
    "    1. [Proximal Operator](#Prox)\n",
    "    2. [Nonnegativity Function](#Nonneg)\n",
    "2. [Norms](#2.-Norms)\n",
    "    1. [$\\ell_p$](#2.A-Lp)\n",
    "    2. [$\\ell_p^p$](#2.B-Lp^p)\n",
    "3. [Group Sparsity](#3.-Group-Sparsity)\n",
    "    1. [1D Group Sparsity](#3.A-1D-Group-Sparsity)\n",
    "    2. [2D Group Sparsity](#3.B-2D-Group-Sparsity)\n",
    "4. [Total Variation](#4.-Spectral-Norm)\n",
    "    1. [1D Total Variation](#4.A-1D-Total-Variation)\n",
    "    2. [2D Total Variation](#4.B-2D-Total-Variation)\n",
    "5. [Schatten Norm](#5.-Schatten-Norm)\n",
    "6. [Hessian Schatten](#6.-Hessian-Schatten-Norm)\n",
    "\n",
    "# <a name=\"Intro\"></a>1. Introduction\n",
    "\n",
    "The goal of the present notebook is to find how of common image regularizers combine with nonnegativity through the proximal operator. \n",
    "\n",
    "## <a name=\"Prox\"></a>1.A. Proximal Operator\n",
    "\n",
    "The proximal operator of a function $f$ is:\n",
    "\n",
    "$$\\mathrm{prox}_f(v) = \\arg \\min_x(f(x)+\\frac{1}{2\\lambda}||x - v||_2^2)$$\n",
    "\n",
    "This means that it will optimize an input vector $v$ with respect to a function, but adding the constraint that the result has to be *somewhat close* (by the minimization of the second term, and with *somewhat* parametrized by $\\lambda$) to the original. \n",
    "\n",
    "The interest of the project is to see how common image regularizers combine with nonnegativity constraints. In particular, we will see wether:\n",
    "$$\\mathrm{prox}_{f} = \\mathrm{prox}_{\\delta_{\\rm I\\!R_+^N}}(\\mathrm{prox}_{\\Re})$$\n",
    "or \n",
    "$$\\mathrm{prox}_{f} = \\mathrm{prox}_{\\Re}(\\mathrm{prox}_{\\delta_{\\rm I\\!R_+^N}})$$\n",
    "where $f = \\delta_{\\rm I\\!R_+^N} + \\Re$, for several regularizers. Therefore we have $3$ cases to solve, the left-hand-side of both equations (which is the same and corresponds to the ground truth), and the $2$ right-hand-sides.\n",
    "\n",
    "## <a name=\"Nonneg\"></a>1.B. Nonnegativity Function\n",
    "\n",
    "The nonnegativity function $\\delta$ is defined as:\n",
    "\n",
    "$$\\delta_{\\rm I\\!R_+^N} =\n",
    "\\begin{cases}\n",
    "        0 \\mathrm{ if } x \\in \\rm I\\!R_+^N \\\\\n",
    "        + \\inf \\mathrm{ if } x\\notin \\rm I\\!R_+^N\n",
    "     \\end{cases}$$\n",
    "     \n",
    "Given the definition of the proximal operator, it is immediate to see that to solve the proximal operator, we have as constraint $x\\in \\rm I\\!R_+^N$. As such, the first term vanishes (since $x\\in \\rm I\\!R_+^N$, by definition $f(x) = 0$). As such, we arrive to:\n",
    "\n",
    "$$prox_{\\rm I\\!R_+^N}(v) = \\arg \\min_{x\\in \\rm I\\!R_+^N}\\left(\\frac{1}{2}||x - v||_2^2\\right)$$\n",
    "\n",
    "Given that $v \\in \\rm I\\!R_+^N$, then the $x\\in \\rm I\\!R_+^N$ that minimizes the prox operator is simply the $x$ closest to $v$, but yet inside the domain imposed by the indicator function (indicator of nonnegativity). It is useless to include the parameter $\\lambda$ in this proximal, as the minimization of squares is the only term present. The result of the previous equation is that any negative element will be mapped to $0$, and the rest of the elements will be left untouched. "
   ]
  },
  {
   "cell_type": "markdown",
   "id": "green-space",
   "metadata": {},
   "source": [
    "# 2. Norms\n",
    "[Back to Index](#Index)\n",
    "\n",
    "In this section we will prove the equations provided on [1.A](#Prox), for the $\\mathrm{L}^1$ norm. It is a part from the family of the $L^p$ norms where $p = 1$, is defined for a vector $x$ as:\n",
    "$$\\|\\mathbf{x}\\|_p = (\\sum_{i = 1}^n |x|_n^p)^\\frac{1}{p} $$"
   ]
  },
  {
   "cell_type": "markdown",
   "id": "municipal-tuner",
   "metadata": {},
   "source": [
    "### 2.A Lp\n",
    "[Back to Index](#Index)"
   ]
  },
  {
   "cell_type": "code",
   "execution_count": 2,
   "id": "dramatic-fight",
   "metadata": {},
   "outputs": [
    {
     "name": "stdout",
     "output_type": "stream",
     "text": [
      "||p norm where p = 1\n",
      "prox_nonneg(prox_reg(v)) SEEMS equal to prox(reg + nonneg).\n",
      "Max absolute error: 3.348e-04\n",
      "Average absolute error: 3.316e-05\n",
      "\n",
      "prox_reg(prox_nonneg(v)) SEEMS equal to prox(reg + nonneg)\n",
      "Max absolute error: 5.237e-04\n",
      "Average absolute error: 4.774e-06\n",
      "\n",
      "||p norm where p = 2\n",
      "prox_nonneg(prox_reg(v)) IS NOT equal to prox(reg + nonneg)\n",
      "Max absolute error: 8.975e-02\n",
      "Average absolute error: 1.263e-02\n",
      "\n",
      "prox_reg(prox_nonneg(v)) SEEMS equal to prox(reg + nonneg)\n",
      "Max absolute error: 9.989e-05\n",
      "Average absolute error: 3.800e-06\n",
      "\n",
      "Plotting example\n"
     ]
    },
    {
     "data": {
      "application/vnd.jupyter.widget-view+json": {
       "model_id": "ad3b8829c52c43e1a81c6e53a61bed1f",
       "version_major": 2,
       "version_minor": 0
      },
      "text/plain": [
       "Canvas(toolbar=Toolbar(toolitems=[('Home', 'Reset original view', 'home', 'home'), ('Pan', 'Pan axes with left…"
      ]
     },
     "metadata": {},
     "output_type": "display_data"
    },
    {
     "name": "stdout",
     "output_type": "stream",
     "text": [
      "||p norm where p = 3\n",
      "prox_nonneg(prox_reg(v)) IS NOT equal to prox(reg + nonneg)\n",
      "Max absolute error: 2.494e-01\n",
      "Average absolute error: 1.142e-02\n",
      "\n",
      "prox_reg(prox_nonneg(v)) SEEMS equal to prox(reg + nonneg)\n",
      "Max absolute error: 2.943e-04\n",
      "Average absolute error: 3.817e-06\n",
      "\n",
      "||p norm where p = 5\n",
      "prox_nonneg(prox_reg(v)) IS NOT equal to prox(reg + nonneg)\n",
      "Max absolute error: 3.467e-01\n",
      "Average absolute error: 9.999e-03\n",
      "\n",
      "prox_reg(prox_nonneg(v)) SEEMS equal to prox(reg + nonneg)\n",
      "Max absolute error: 5.454e-04\n",
      "Average absolute error: 3.652e-06\n",
      "\n",
      "||p norm where p = 8\n",
      "prox_nonneg(prox_reg(v)) IS NOT equal to prox(reg + nonneg)\n",
      "Max absolute error: 4.052e-01\n",
      "Average absolute error: 9.372e-03\n",
      "\n",
      "prox_reg(prox_nonneg(v)) SEEMS equal to prox(reg + nonneg)\n",
      "Max absolute error: 3.930e-04\n",
      "Average absolute error: 3.495e-06\n",
      "\n",
      "||p norm where p = 10\n",
      "prox_nonneg(prox_reg(v)) IS NOT equal to prox(reg + nonneg)\n",
      "Max absolute error: 4.475e-01\n",
      "Average absolute error: 8.965e-03\n",
      "\n",
      "prox_reg(prox_nonneg(v)) SEEMS equal to prox(reg + nonneg)\n",
      "Max absolute error: 2.537e-04\n",
      "Average absolute error: 3.318e-06\n",
      "\n"
     ]
    }
   ],
   "source": [
    "for p in [1, 2, 3, 5, 8, 10]:\n",
    "    print(f'||p norm where p = {p}')\n",
    "    if p in [2]:\n",
    "        proximal.evaluate(proximal.Lp_prox, proximal.Lp_plus_nonneg_prox, n=10, size=(30, ), mean=0, sigma=1, lamb=0.5, additional_params=[p], err_thr=1e-3, plot=True)\n",
    "        continue\n",
    "    proximal.evaluate(proximal.Lp_prox, proximal.Lp_plus_nonneg_prox, n=100, size=(30, ), mean=0, sigma=2, lamb=0.5, plot=False, additional_params=[p], err_thr = 1e-2)\n"
   ]
  },
  {
   "cell_type": "markdown",
   "id": "foreign-reducing",
   "metadata": {},
   "source": [
    "### 2.B Lp^p\n",
    "[Back to Index](#Index)\n",
    "\n",
    "$$\\|\\mathbf{x}\\|_p = (\\sum_{i = 1}^n |x_n|^p) $$"
   ]
  },
  {
   "cell_type": "code",
   "execution_count": 3,
   "id": "little-reminder",
   "metadata": {},
   "outputs": [
    {
     "name": "stdout",
     "output_type": "stream",
     "text": [
      "||p^p norm where p = 1\n",
      "prox_nonneg(prox_reg(v)) SEEMS equal to prox(reg + nonneg).\n",
      "Max absolute error: 3.793e-04\n",
      "Average absolute error: 3.205e-05\n",
      "\n",
      "prox_reg(prox_nonneg(v)) SEEMS equal to prox(reg + nonneg)\n",
      "Max absolute error: 1.225e-04\n",
      "Average absolute error: 4.811e-06\n",
      "\n",
      "||p^p norm where p = 2\n",
      "prox_nonneg(prox_reg(v)) SEEMS equal to prox(reg + nonneg).\n",
      "Max absolute error: 1.141e-04\n",
      "Average absolute error: 1.069e-05\n",
      "\n",
      "prox_reg(prox_nonneg(v)) SEEMS equal to prox(reg + nonneg)\n",
      "Max absolute error: 7.211e-05\n",
      "Average absolute error: 8.635e-06\n",
      "\n",
      "||p^p norm where p = 3\n",
      "prox_nonneg(prox_reg(v)) SEEMS equal to prox(reg + nonneg).\n",
      "Max absolute error: 1.503e-04\n",
      "Average absolute error: 4.439e-06\n",
      "\n",
      "prox_reg(prox_nonneg(v)) SEEMS equal to prox(reg + nonneg)\n",
      "Max absolute error: 4.280e-05\n",
      "Average absolute error: 8.267e-07\n",
      "\n",
      "||p^p norm where p = 5\n",
      "prox_nonneg(prox_reg(v)) SEEMS equal to prox(reg + nonneg).\n",
      "Max absolute error: 1.235e-04\n",
      "Average absolute error: 5.830e-06\n",
      "\n",
      "prox_reg(prox_nonneg(v)) SEEMS equal to prox(reg + nonneg)\n",
      "Max absolute error: 1.907e-04\n",
      "Average absolute error: 4.525e-06\n",
      "\n",
      "Plotting example\n"
     ]
    },
    {
     "data": {
      "application/vnd.jupyter.widget-view+json": {
       "model_id": "f27fa4f0065b4135b7337b532459f303",
       "version_major": 2,
       "version_minor": 0
      },
      "text/plain": [
       "Canvas(toolbar=Toolbar(toolitems=[('Home', 'Reset original view', 'home', 'home'), ('Pan', 'Pan axes with left…"
      ]
     },
     "metadata": {},
     "output_type": "display_data"
    },
    {
     "name": "stdout",
     "output_type": "stream",
     "text": [
      "||p^p norm where p = 8\n",
      "prox_nonneg(prox_reg(v)) SEEMS equal to prox(reg + nonneg).\n",
      "Max absolute error: 7.972e-05\n",
      "Average absolute error: 3.041e-06\n",
      "\n",
      "prox_reg(prox_nonneg(v)) SEEMS equal to prox(reg + nonneg)\n",
      "Max absolute error: 1.577e-04\n",
      "Average absolute error: 1.510e-06\n",
      "\n"
     ]
    }
   ],
   "source": [
    "for p in [1, 2, 3, 5, 8]:\n",
    "    print(f'||p^p norm where p = {p}')\n",
    "    if p == 5:\n",
    "        proximal.evaluate(proximal.Lp_prox, proximal.Lp_plus_nonneg_prox, n=10, size=(30, ), mean=0, sigma=2, lamb=0.5, additional_params=[p, True], err_thr=1e-3, plot=True)\n",
    "        continue\n",
    "    proximal.evaluate(proximal.Lp_prox, proximal.Lp_plus_nonneg_prox, n=10, size=(30, ), mean=0, sigma=2, lamb=0.5, plot=False, additional_params=[p, True], err_thr = 1e-3)"
   ]
  },
  {
   "cell_type": "markdown",
   "id": "academic-rebecca",
   "metadata": {},
   "source": [
    "## 3. Group Sparsity\n",
    "[Back to Index](#Index)\n",
    "\n",
    "This section will calculate the equations of interest for Group Sparsity. The expression is the same for the $1$-dimensional and $2$-dimensional cases, and is given by\n",
    "$$\\|\\mathbf{x}\\|_{p, q} = \\left(\\sum^S_{i = 1}\\|\\mathbf{x}_i\\|_p^q\\right)^\\frac{1}{q}$$.\n",
    "\n",
    "### 3.A 1D Group Sparsity"
   ]
  },
  {
   "cell_type": "code",
   "execution_count": 4,
   "id": "ancient-deposit",
   "metadata": {},
   "outputs": [
    {
     "name": "stdout",
     "output_type": "stream",
     "text": [
      "||p norm where p = 1, q = 1\n",
      "prox_nonneg(prox_reg(v)) SEEMS equal to prox(reg + nonneg).\n",
      "Max absolute error: 1.390e-04\n",
      "Average absolute error: 3.581e-05\n",
      "\n",
      "prox_reg(prox_nonneg(v)) SEEMS equal to prox(reg + nonneg)\n",
      "Max absolute error: 5.005e-05\n",
      "Average absolute error: 1.792e-06\n",
      "\n",
      "||p norm where p = 1, q = 2\n",
      "prox_nonneg(prox_reg(v)) IS NOT equal to prox(reg + nonneg)\n",
      "Max absolute error: 1.755e-01\n",
      "Average absolute error: 2.097e-02\n",
      "\n",
      "prox_reg(prox_nonneg(v)) SEEMS equal to prox(reg + nonneg)\n",
      "Max absolute error: 1.129e-04\n",
      "Average absolute error: 4.182e-06\n",
      "\n",
      "||p norm where p = 1, q = 3\n",
      "prox_nonneg(prox_reg(v)) IS NOT equal to prox(reg + nonneg)\n",
      "Max absolute error: 2.712e-01\n",
      "Average absolute error: 3.799e-02\n",
      "\n",
      "prox_reg(prox_nonneg(v)) SEEMS equal to prox(reg + nonneg)\n",
      "Max absolute error: 2.663e-05\n",
      "Average absolute error: 1.551e-06\n",
      "\n",
      "||p norm where p = 2, q = 1\n",
      "prox_nonneg(prox_reg(v)) IS NOT equal to prox(reg + nonneg)\n",
      "Max absolute error: 3.589e-01\n",
      "Average absolute error: 3.355e-02\n",
      "\n",
      "prox_reg(prox_nonneg(v)) SEEMS equal to prox(reg + nonneg)\n",
      "Max absolute error: 1.956e-04\n",
      "Average absolute error: 3.685e-06\n",
      "\n",
      "||p norm where p = 2, q = 2\n",
      "prox_nonneg(prox_reg(v)) IS NOT equal to prox(reg + nonneg)\n",
      "Max absolute error: 7.637e-02\n",
      "Average absolute error: 9.468e-03\n",
      "\n",
      "prox_reg(prox_nonneg(v)) SEEMS equal to prox(reg + nonneg)\n",
      "Max absolute error: 3.063e-05\n",
      "Average absolute error: 1.822e-06\n",
      "\n",
      "Plotting example\n"
     ]
    },
    {
     "data": {
      "application/vnd.jupyter.widget-view+json": {
       "model_id": "defa59faceb04881a9cae4003dd1baef",
       "version_major": 2,
       "version_minor": 0
      },
      "text/plain": [
       "Canvas(toolbar=Toolbar(toolitems=[('Home', 'Reset original view', 'home', 'home'), ('Pan', 'Pan axes with left…"
      ]
     },
     "metadata": {},
     "output_type": "display_data"
    },
    {
     "name": "stdout",
     "output_type": "stream",
     "text": [
      "||p norm where p = 2, q = 3\n",
      "prox_nonneg(prox_reg(v)) IS NOT equal to prox(reg + nonneg)\n",
      "Max absolute error: 1.889e-01\n",
      "Average absolute error: 1.112e-02\n",
      "\n",
      "prox_reg(prox_nonneg(v)) SEEMS equal to prox(reg + nonneg)\n",
      "Max absolute error: 7.510e-05\n",
      "Average absolute error: 3.812e-06\n",
      "\n",
      "||p norm where p = 3, q = 1\n",
      "prox_nonneg(prox_reg(v)) IS NOT equal to prox(reg + nonneg)\n",
      "Max absolute error: 4.449e-01\n",
      "Average absolute error: 3.866e-02\n",
      "\n",
      "prox_reg(prox_nonneg(v)) SEEMS equal to prox(reg + nonneg)\n",
      "Max absolute error: 7.636e-05\n",
      "Average absolute error: 1.651e-06\n",
      "\n",
      "||p norm where p = 3, q = 2\n",
      "prox_nonneg(prox_reg(v)) IS NOT equal to prox(reg + nonneg)\n",
      "Max absolute error: 1.527e-01\n",
      "Average absolute error: 1.556e-02\n",
      "\n",
      "prox_reg(prox_nonneg(v)) SEEMS equal to prox(reg + nonneg)\n",
      "Max absolute error: 3.890e-05\n",
      "Average absolute error: 1.311e-06\n",
      "\n",
      "||p norm where p = 3, q = 3\n",
      "prox_nonneg(prox_reg(v)) IS NOT equal to prox(reg + nonneg)\n",
      "Max absolute error: 2.317e-01\n",
      "Average absolute error: 1.308e-02\n",
      "\n",
      "prox_reg(prox_nonneg(v)) SEEMS equal to prox(reg + nonneg)\n",
      "Max absolute error: 2.962e-05\n",
      "Average absolute error: 7.525e-07\n",
      "\n"
     ]
    }
   ],
   "source": [
    "for p in [1, 2, 3]:\n",
    "    for q in [1, 2, 3]:\n",
    "        print(f'||p norm where p = {p}, q = {q}')\n",
    "        if p == 2 and q == 2:\n",
    "            proximal.evaluate(proximal.GS_1D_prox, proximal.GS_1D_plus_nonneg_prox, n=10, size=(60, ), mean=0, sigma=1, lamb=0.5, additional_params=[6, p, q], err_thr=1e-3, plot=True)\n",
    "            continue\n",
    "#         else:\n",
    "#             continue\n",
    "        proximal.evaluate(proximal.GS_1D_prox, proximal.GS_1D_plus_nonneg_prox, n=10, size=(30, ), mean=0, sigma=1, lamb=0.5, plot=False, additional_params=[5, p, q], err_thr = 1e-3)"
   ]
  },
  {
   "cell_type": "markdown",
   "id": "brutal-lobby",
   "metadata": {},
   "source": [
    "$$\\|\\mathbf{x}\\|_{p, q}^{p, q} = \\sum^S_{i = 1}\\left(\\|\\mathbf{x}_i\\|_p^p\\right)^q$$."
   ]
  },
  {
   "cell_type": "code",
   "execution_count": 5,
   "id": "loving-calibration",
   "metadata": {},
   "outputs": [
    {
     "name": "stdout",
     "output_type": "stream",
     "text": [
      "||p norm where p = 1, q = 1\n",
      "prox_nonneg(prox_reg(v)) SEEMS equal to prox(reg + nonneg).\n",
      "Max absolute error: 1.333e-04\n",
      "Average absolute error: 3.479e-05\n",
      "\n",
      "prox_reg(prox_nonneg(v)) SEEMS equal to prox(reg + nonneg)\n",
      "Max absolute error: 5.991e-05\n",
      "Average absolute error: 1.895e-06\n",
      "\n",
      "||p norm where p = 1, q = 2\n",
      "prox_nonneg(prox_reg(v)) IS NOT equal to prox(reg + nonneg)\n",
      "Max absolute error: 6.161e-01\n",
      "Average absolute error: 2.994e-02\n",
      "\n",
      "prox_reg(prox_nonneg(v)) SEEMS equal to prox(reg + nonneg)\n",
      "Max absolute error: 5.600e-05\n",
      "Average absolute error: 1.810e-06\n",
      "\n",
      "Plotting example\n"
     ]
    },
    {
     "data": {
      "application/vnd.jupyter.widget-view+json": {
       "model_id": "65fde7431edd44e29468bf5be6d421d3",
       "version_major": 2,
       "version_minor": 0
      },
      "text/plain": [
       "Canvas(toolbar=Toolbar(toolitems=[('Home', 'Reset original view', 'home', 'home'), ('Pan', 'Pan axes with left…"
      ]
     },
     "metadata": {},
     "output_type": "display_data"
    },
    {
     "name": "stdout",
     "output_type": "stream",
     "text": [
      "||p norm where p = 1, q = 3\n",
      "prox_nonneg(prox_reg(v)) IS NOT equal to prox(reg + nonneg)\n",
      "Max absolute error: 7.034e-01\n",
      "Average absolute error: 4.218e-02\n",
      "\n",
      "prox_reg(prox_nonneg(v)) SEEMS equal to prox(reg + nonneg)\n",
      "Max absolute error: 2.050e-05\n",
      "Average absolute error: 1.304e-06\n",
      "\n",
      "||p norm where p = 2, q = 1\n",
      "prox_nonneg(prox_reg(v)) SEEMS equal to prox(reg + nonneg).\n",
      "Max absolute error: 8.073e-05\n",
      "Average absolute error: 2.926e-06\n",
      "\n",
      "prox_reg(prox_nonneg(v)) SEEMS equal to prox(reg + nonneg)\n",
      "Max absolute error: 9.715e-05\n",
      "Average absolute error: 2.795e-06\n",
      "\n",
      "||p norm where p = 2, q = 2\n",
      "prox_nonneg(prox_reg(v)) IS NOT equal to prox(reg + nonneg)\n",
      "Max absolute error: 2.683e-01\n",
      "Average absolute error: 2.810e-02\n",
      "\n",
      "prox_reg(prox_nonneg(v)) SEEMS equal to prox(reg + nonneg)\n",
      "Max absolute error: 5.621e-05\n",
      "Average absolute error: 2.844e-06\n",
      "\n",
      "||p norm where p = 2, q = 3\n",
      "prox_nonneg(prox_reg(v)) IS NOT equal to prox(reg + nonneg)\n",
      "Max absolute error: 3.767e-01\n",
      "Average absolute error: 4.070e-02\n",
      "\n",
      "prox_reg(prox_nonneg(v)) SEEMS equal to prox(reg + nonneg)\n",
      "Max absolute error: 3.606e-05\n",
      "Average absolute error: 2.835e-06\n",
      "\n",
      "||p norm where p = 3, q = 1\n",
      "prox_nonneg(prox_reg(v)) SEEMS equal to prox(reg + nonneg).\n",
      "Max absolute error: 1.010e-04\n",
      "Average absolute error: 2.697e-06\n",
      "\n",
      "prox_reg(prox_nonneg(v)) SEEMS equal to prox(reg + nonneg)\n",
      "Max absolute error: 8.040e-05\n",
      "Average absolute error: 2.220e-06\n",
      "\n",
      "||p norm where p = 3, q = 2\n",
      "prox_nonneg(prox_reg(v)) IS NOT equal to prox(reg + nonneg)\n",
      "Max absolute error: 1.917e-01\n",
      "Average absolute error: 2.186e-02\n",
      "\n",
      "prox_reg(prox_nonneg(v)) SEEMS equal to prox(reg + nonneg)\n",
      "Max absolute error: 1.239e-04\n",
      "Average absolute error: 2.210e-06\n",
      "\n",
      "||p norm where p = 3, q = 3\n",
      "prox_nonneg(prox_reg(v)) IS NOT equal to prox(reg + nonneg)\n",
      "Max absolute error: 2.641e-01\n",
      "Average absolute error: 2.703e-02\n",
      "\n",
      "prox_reg(prox_nonneg(v)) SEEMS equal to prox(reg + nonneg)\n",
      "Max absolute error: 6.044e-05\n",
      "Average absolute error: 1.386e-06\n",
      "\n"
     ]
    }
   ],
   "source": [
    "for p in [1, 2, 3]:\n",
    "    for q in [1, 2, 3]:\n",
    "        print(f'||p norm where p = {p}, q = {q}')\n",
    "        if p == 1 and q == 2:\n",
    "            proximal.evaluate(proximal.GS_1D_prox, proximal.GS_1D_plus_nonneg_prox, n=10, size=(30, ), mean=0, sigma=1, lamb=0.5, additional_params=[5, p, q, True], err_thr=1e-3, plot=True)\n",
    "            continue\n",
    "        proximal.evaluate(proximal.GS_1D_prox, proximal.GS_1D_plus_nonneg_prox, n=10, size=(30, ), mean=0, sigma=1, lamb=0.5, plot=False, additional_params=[5, p, q, True], err_thr = 1e-3)"
   ]
  },
  {
   "cell_type": "markdown",
   "id": "junior-justice",
   "metadata": {},
   "source": [
    "### 3.B 2D Group Sparsity\n",
    "[Back to Index](#Index)\n",
    "\n",
    "As aforementioned, the expressions are the same as for the $1$-dimensional cases. In the next cell I test for \n",
    "$$\\|\\mathbf{x}\\|_{p, q} = \\left(\\sum^S_{i = 1}\\|\\mathbf{x}_i\\|_p^q\\right)^\\frac{1}{q}$$."
   ]
  },
  {
   "cell_type": "code",
   "execution_count": 6,
   "id": "stuck-speaker",
   "metadata": {},
   "outputs": [
    {
     "name": "stdout",
     "output_type": "stream",
     "text": [
      "||p norm where p = 1, q = 1\n",
      "prox_nonneg(prox_reg(v)) SEEMS equal to prox(reg + nonneg).\n",
      "Max absolute error: 3.067e-04\n",
      "Average absolute error: 4.776e-06\n",
      "\n",
      "prox_reg(prox_nonneg(v)) SEEMS equal to prox(reg + nonneg)\n",
      "Max absolute error: 2.116e-04\n",
      "Average absolute error: 2.233e-07\n",
      "\n",
      "||p norm where p = 1, q = 2\n",
      "prox_nonneg(prox_reg(v)) SEEMS equal to prox(reg + nonneg).\n",
      "Max absolute error: 4.571e-04\n",
      "Average absolute error: 5.063e-06\n",
      "\n",
      "prox_reg(prox_nonneg(v)) SEEMS equal to prox(reg + nonneg)\n",
      "Max absolute error: 3.337e-04\n",
      "Average absolute error: 3.727e-07\n",
      "\n",
      "Plotting example as image.\n"
     ]
    },
    {
     "data": {
      "application/vnd.jupyter.widget-view+json": {
       "model_id": "85a68ec31c9a4589b0c0cc21c729a404",
       "version_major": 2,
       "version_minor": 0
      },
      "text/plain": [
       "HBox(children=(Output(layout=Layout(width='80%')), Output(), Output(layout=Layout(width='25%'))))"
      ]
     },
     "metadata": {},
     "output_type": "display_data"
    },
    {
     "data": {
      "application/vnd.jupyter.widget-view+json": {
       "model_id": "d098d006481b419bbbf80471ffaf2c79",
       "version_major": 2,
       "version_minor": 0
      },
      "text/plain": [
       "Button(description='Show Widgets', style=ButtonStyle())"
      ]
     },
     "metadata": {},
     "output_type": "display_data"
    },
    {
     "name": "stdout",
     "output_type": "stream",
     "text": [
      "||p norm where p = 1, q = 3\n",
      "prox_nonneg(prox_reg(v)) SEEMS equal to prox(reg + nonneg).\n",
      "Max absolute error: 3.314e-04\n",
      "Average absolute error: 3.956e-06\n",
      "\n",
      "prox_reg(prox_nonneg(v)) SEEMS equal to prox(reg + nonneg)\n",
      "Max absolute error: 3.158e-04\n",
      "Average absolute error: 2.744e-07\n",
      "\n",
      "||p norm where p = 2, q = 1\n",
      "prox_nonneg(prox_reg(v)) IS NOT equal to prox(reg + nonneg)\n",
      "Max absolute error: 7.451e-02\n",
      "Average absolute error: 5.429e-04\n",
      "\n",
      "prox_reg(prox_nonneg(v)) SEEMS equal to prox(reg + nonneg)\n",
      "Max absolute error: 1.173e-04\n",
      "Average absolute error: 1.630e-07\n",
      "\n",
      "||p norm where p = 2, q = 2\n",
      "prox_nonneg(prox_reg(v)) IS NOT equal to prox(reg + nonneg)\n",
      "Max absolute error: 7.508e-02\n",
      "Average absolute error: 5.519e-04\n",
      "\n",
      "prox_reg(prox_nonneg(v)) SEEMS equal to prox(reg + nonneg)\n",
      "Max absolute error: 2.079e-04\n",
      "Average absolute error: 2.139e-07\n",
      "\n",
      "||p norm where p = 2, q = 3\n",
      "prox_nonneg(prox_reg(v)) IS NOT equal to prox(reg + nonneg)\n",
      "Max absolute error: 6.745e-02\n",
      "Average absolute error: 5.177e-04\n",
      "\n",
      "prox_reg(prox_nonneg(v)) SEEMS equal to prox(reg + nonneg)\n",
      "Max absolute error: 2.575e-04\n",
      "Average absolute error: 2.937e-07\n",
      "\n"
     ]
    }
   ],
   "source": [
    "for p in [1, 2]:\n",
    "    for q in [1, 2, 3]:\n",
    "        print(f'||p norm where p = {p}, q = {q}')\n",
    "        if p == 1 and q == 2:\n",
    "            proximal.evaluate(proximal.GS_prox, proximal.GS_plus_nonneg_prox, n=10, size=(40, 40,), mean=0, sigma=1, lamb=0.5, additional_params=[(4, 4), p, q], err_thr=1e-3, plot=True)\n",
    "            continue\n",
    "        proximal.evaluate(proximal.GS_prox, proximal.GS_plus_nonneg_prox, n=10, size=(40, 40,), mean=0, sigma=1, lamb=0.5, plot=False, additional_params=[(4, 4), p, q], err_thr = 1e-3)"
   ]
  },
  {
   "cell_type": "markdown",
   "id": "needed-measure",
   "metadata": {},
   "source": [
    "$$\\|\\mathbf{x}\\|_{p, q}^{p, q} = \\sum^S_{i = 1}\\left(\\|\\mathbf{x}_i\\|_p^p\\right)^q$$."
   ]
  },
  {
   "cell_type": "code",
   "execution_count": 7,
   "id": "static-compatibility",
   "metadata": {},
   "outputs": [
    {
     "name": "stdout",
     "output_type": "stream",
     "text": [
      "||p norm where p = 1, q = 1\n",
      "prox_nonneg(prox_reg(v)) SEEMS equal to prox(reg + nonneg).\n",
      "Max absolute error: 1.970e-04\n",
      "Average absolute error: 2.771e-06\n",
      "\n",
      "prox_reg(prox_nonneg(v)) SEEMS equal to prox(reg + nonneg)\n",
      "Max absolute error: 8.987e-05\n",
      "Average absolute error: 1.096e-07\n",
      "\n",
      "||p norm where p = 1, q = 2\n",
      "prox_nonneg(prox_reg(v)) IS NOT equal to prox(reg + nonneg)\n",
      "Max absolute error: 4.954e-01\n",
      "Average absolute error: 7.704e-04\n",
      "\n",
      "prox_reg(prox_nonneg(v)) SEEMS equal to prox(reg + nonneg)\n",
      "Max absolute error: 1.398e-04\n",
      "Average absolute error: 1.858e-07\n",
      "\n",
      "Plotting example as image.\n"
     ]
    },
    {
     "data": {
      "application/vnd.jupyter.widget-view+json": {
       "model_id": "38c4eca802e34658af64e31d54f2d05d",
       "version_major": 2,
       "version_minor": 0
      },
      "text/plain": [
       "HBox(children=(Output(layout=Layout(width='80%')), Output(), Output(layout=Layout(width='25%'))))"
      ]
     },
     "metadata": {},
     "output_type": "display_data"
    },
    {
     "data": {
      "application/vnd.jupyter.widget-view+json": {
       "model_id": "6c049ecc94f54094b07c2e6155945568",
       "version_major": 2,
       "version_minor": 0
      },
      "text/plain": [
       "Button(description='Show Widgets', style=ButtonStyle())"
      ]
     },
     "metadata": {},
     "output_type": "display_data"
    },
    {
     "name": "stdout",
     "output_type": "stream",
     "text": [
      "||p norm where p = 1, q = 3\n",
      "prox_nonneg(prox_reg(v)) IS NOT equal to prox(reg + nonneg)\n",
      "Max absolute error: 7.028e-01\n",
      "Average absolute error: 7.641e-04\n",
      "\n",
      "prox_reg(prox_nonneg(v)) SEEMS equal to prox(reg + nonneg)\n",
      "Max absolute error: 9.788e-05\n",
      "Average absolute error: 1.622e-07\n",
      "\n",
      "||p norm where p = 2, q = 1\n",
      "prox_nonneg(prox_reg(v)) SEEMS equal to prox(reg + nonneg).\n",
      "Max absolute error: 1.241e-04\n",
      "Average absolute error: 5.856e-07\n",
      "\n",
      "prox_reg(prox_nonneg(v)) SEEMS equal to prox(reg + nonneg)\n",
      "Max absolute error: 1.253e-04\n",
      "Average absolute error: 4.502e-07\n",
      "\n",
      "||p norm where p = 2, q = 2\n",
      "prox_nonneg(prox_reg(v)) IS NOT equal to prox(reg + nonneg)\n",
      "Max absolute error: 2.554e-01\n",
      "Average absolute error: 8.129e-04\n",
      "\n",
      "prox_reg(prox_nonneg(v)) SEEMS equal to prox(reg + nonneg)\n",
      "Max absolute error: 3.497e-04\n",
      "Average absolute error: 2.908e-07\n",
      "\n",
      "||p norm where p = 2, q = 3\n",
      "prox_nonneg(prox_reg(v)) IS NOT equal to prox(reg + nonneg)\n",
      "Max absolute error: 2.529e-01\n",
      "Average absolute error: 1.005e-03\n",
      "\n",
      "prox_reg(prox_nonneg(v)) SEEMS equal to prox(reg + nonneg)\n",
      "Max absolute error: 2.422e-04\n",
      "Average absolute error: 2.600e-07\n",
      "\n",
      "||p norm where p = 4, q = 1\n",
      "prox_nonneg(prox_reg(v)) SEEMS equal to prox(reg + nonneg).\n",
      "Max absolute error: 2.820e-04\n",
      "Average absolute error: 2.760e-07\n",
      "\n",
      "prox_reg(prox_nonneg(v)) SEEMS equal to prox(reg + nonneg)\n",
      "Max absolute error: 2.830e-04\n",
      "Average absolute error: 2.203e-07\n",
      "\n",
      "||p norm where p = 4, q = 2\n",
      "prox_nonneg(prox_reg(v)) IS NOT equal to prox(reg + nonneg)\n",
      "Max absolute error: 1.241e-01\n",
      "Average absolute error: 5.972e-04\n",
      "\n",
      "prox_reg(prox_nonneg(v)) SEEMS equal to prox(reg + nonneg)\n",
      "Max absolute error: 2.676e-04\n",
      "Average absolute error: 1.801e-07\n",
      "\n",
      "||p norm where p = 4, q = 3\n",
      "prox_nonneg(prox_reg(v)) IS NOT equal to prox(reg + nonneg)\n",
      "Max absolute error: 1.747e-01\n",
      "Average absolute error: 8.418e-04\n",
      "\n",
      "prox_reg(prox_nonneg(v)) SEEMS equal to prox(reg + nonneg)\n",
      "Max absolute error: 2.433e-04\n",
      "Average absolute error: 2.261e-07\n",
      "\n"
     ]
    }
   ],
   "source": [
    "for p in [1, 2, 4]:\n",
    "    for q in [1, 2, 3]:\n",
    "        print(f'||p norm where p = {p}, q = {q}')\n",
    "        if p == 1 and q == 2:\n",
    "            proximal.evaluate(proximal.GS_prox, proximal.GS_plus_nonneg_prox, n=10, size=(30, 30,), mean=0, sigma=1, lamb=0.5, additional_params=[(5, 5), p, q, True], err_thr=1e-3, plot=True)\n",
    "            continue\n",
    "        proximal.evaluate(proximal.GS_prox, proximal.GS_plus_nonneg_prox, n=10, size=(30, 30,), mean=0, sigma=1, lamb=0.5, plot=False, additional_params=[(5, 5), p, q, True], err_thr = 1e-3)"
   ]
  },
  {
   "cell_type": "markdown",
   "id": "russian-training",
   "metadata": {},
   "source": [
    "## 4. Total Variation\n",
    "[Back to Index](#Index)\n",
    "\n",
    "The finite differences operator is denoted by $\\operatorname{D}_n$, and it computes the gradient along the direction specified by $n$. In $1$-dimensional signals, there is no need to specify $n$.\n",
    "\n",
    "\n",
    "## 4.A 1D Total Variation \n",
    "[Back to Index](#Index)\n",
    "\n",
    "$$\\|\\operatorname{D}\\mathbf{x}\\|_p$$\n"
   ]
  },
  {
   "cell_type": "code",
   "execution_count": 8,
   "id": "broke-process",
   "metadata": {},
   "outputs": [
    {
     "name": "stdout",
     "output_type": "stream",
     "text": [
      "||p norm where p = 1\n",
      "prox_nonneg(prox_reg(v)) IS NOT equal to prox(reg + nonneg)\n",
      "Max absolute error: 1.670e-04\n",
      "Average absolute error: 3.794e-06\n",
      "\n",
      "prox_reg(prox_nonneg(v)) IS NOT equal to prox(reg + nonneg)\n",
      "Max absolute error: 1.000e+00\n",
      "Average absolute error: 1.568e-01\n",
      "\n",
      "Plotting example\n"
     ]
    },
    {
     "data": {
      "application/vnd.jupyter.widget-view+json": {
       "model_id": "75c05215fe4b472c9aab573c22268547",
       "version_major": 2,
       "version_minor": 0
      },
      "text/plain": [
       "Canvas(toolbar=Toolbar(toolitems=[('Home', 'Reset original view', 'home', 'home'), ('Pan', 'Pan axes with left…"
      ]
     },
     "metadata": {},
     "output_type": "display_data"
    }
   ],
   "source": [
    "for p in [1]:#, 2, 3, 5, 8, 'inf']:\n",
    "    print(f'||p norm where p = {p}')\n",
    "    if p == 1:\n",
    "        proximal.evaluate(proximal.TV_1D_Lp_prox, proximal.TV_1D_Lp_plus_nonneg_prox, n=100, size=(30, ), mean=0, sigma=1, lamb=0.5, additional_params=[p], err_thr=1e-4, plot=True)\n",
    "        continue\n",
    "    proximal.evaluate(proximal.TV_1D_Lp_prox, proximal.TV_1D_Lp_plus_nonneg_prox, n=100, size=(30, ), mean=0, sigma=1, lamb=0.5, plot=False, additional_params=[p], err_thr = 1e-4)"
   ]
  },
  {
   "cell_type": "markdown",
   "id": "correct-gospel",
   "metadata": {},
   "source": [
    "$$\\|\\operatorname{D}\\mathbf{x}\\|_p^p$$"
   ]
  },
  {
   "cell_type": "code",
   "execution_count": 9,
   "id": "governmental-technology",
   "metadata": {},
   "outputs": [
    {
     "name": "stdout",
     "output_type": "stream",
     "text": [
      "||p^p norm where p = 1\n",
      "prox_nonneg(prox_reg(v)) SEEMS equal to prox(reg + nonneg).\n",
      "Max absolute error: 7.167e-05\n",
      "Average absolute error: 3.156e-06\n",
      "\n",
      "prox_reg(prox_nonneg(v)) IS NOT equal to prox(reg + nonneg)\n",
      "Max absolute error: 6.167e-01\n",
      "Average absolute error: 1.700e-01\n",
      "\n",
      "||p^p norm where p = 2\n",
      "prox_nonneg(prox_reg(v)) IS NOT equal to prox(reg + nonneg)\n",
      "Max absolute error: 3.486e-01\n",
      "Average absolute error: 5.131e-02\n",
      "\n",
      "prox_reg(prox_nonneg(v)) IS NOT equal to prox(reg + nonneg)\n",
      "Max absolute error: 5.118e-01\n",
      "Average absolute error: 1.246e-01\n",
      "\n",
      "||p^p norm where p = 3\n",
      "prox_nonneg(prox_reg(v)) IS NOT equal to prox(reg + nonneg)\n",
      "Max absolute error: 5.425e-01\n",
      "Average absolute error: 6.605e-02\n",
      "\n",
      "prox_reg(prox_nonneg(v)) IS NOT equal to prox(reg + nonneg)\n",
      "Max absolute error: 7.927e-01\n",
      "Average absolute error: 1.318e-01\n",
      "\n",
      "Plotting example\n"
     ]
    },
    {
     "data": {
      "application/vnd.jupyter.widget-view+json": {
       "model_id": "7172465e81fd4888bd4fbcf2e638cbb2",
       "version_major": 2,
       "version_minor": 0
      },
      "text/plain": [
       "Canvas(toolbar=Toolbar(toolitems=[('Home', 'Reset original view', 'home', 'home'), ('Pan', 'Pan axes with left…"
      ]
     },
     "metadata": {},
     "output_type": "display_data"
    },
    {
     "name": "stdout",
     "output_type": "stream",
     "text": [
      "||p^p norm where p = 5\n",
      "prox_nonneg(prox_reg(v)) IS NOT equal to prox(reg + nonneg)\n",
      "Max absolute error: 8.261e-01\n",
      "Average absolute error: 7.661e-02\n",
      "\n",
      "prox_reg(prox_nonneg(v)) IS NOT equal to prox(reg + nonneg)\n",
      "Max absolute error: 6.574e-01\n",
      "Average absolute error: 9.071e-02\n",
      "\n",
      "||p^p norm where p = 8\n",
      "prox_nonneg(prox_reg(v)) IS NOT equal to prox(reg + nonneg)\n",
      "Max absolute error: 7.771e-01\n",
      "Average absolute error: 8.015e-02\n",
      "\n",
      "prox_reg(prox_nonneg(v)) IS NOT equal to prox(reg + nonneg)\n",
      "Max absolute error: 5.296e-01\n",
      "Average absolute error: 7.822e-02\n",
      "\n",
      "||p^p norm where p = inf\n"
     ]
    },
    {
     "ename": "TypeError",
     "evalue": "'>' not supported between instances of 'str' and 'int'",
     "output_type": "error",
     "traceback": [
      "\u001b[1;31m---------------------------------------------------------------------------\u001b[0m",
      "\u001b[1;31mTypeError\u001b[0m                                 Traceback (most recent call last)",
      "\u001b[1;32m~\\Documents\\EPFL\\MA-3\\Project\\ProximalOperatorsProject\\code\\proximal.py\u001b[0m in \u001b[0;36mevaluate\u001b[1;34m(reg, reg_nonneg, n, size, mean, sigma, lamb, rtol, atol, plot, distribution, low, high, err_thr, additional_params)\u001b[0m\n\u001b[0;32m    103\u001b[0m         \u001b[1;32mtry\u001b[0m\u001b[1;33m:\u001b[0m\u001b[1;33m\u001b[0m\u001b[1;33m\u001b[0m\u001b[0m\n\u001b[1;32m--> 104\u001b[1;33m             \u001b[0mreg_plus_nonneg_vect\u001b[0m \u001b[1;33m=\u001b[0m \u001b[0mreg_nonneg\u001b[0m\u001b[1;33m(\u001b[0m\u001b[0mnp\u001b[0m\u001b[1;33m.\u001b[0m\u001b[0mcopy\u001b[0m\u001b[1;33m(\u001b[0m\u001b[0mv\u001b[0m\u001b[1;33m)\u001b[0m\u001b[1;33m,\u001b[0m \u001b[0mnp\u001b[0m\u001b[1;33m.\u001b[0m\u001b[0mones_like\u001b[0m\u001b[1;33m(\u001b[0m\u001b[0mv\u001b[0m\u001b[1;33m)\u001b[0m\u001b[1;33m*\u001b[0m\u001b[0mlamb\u001b[0m\u001b[1;33m,\u001b[0m \u001b[1;33m*\u001b[0m\u001b[0madditional_params\u001b[0m\u001b[1;33m)\u001b[0m\u001b[1;33m\u001b[0m\u001b[1;33m\u001b[0m\u001b[0m\n\u001b[0m\u001b[0;32m    105\u001b[0m             \u001b[0mreg_o_nonneg_vect\u001b[0m \u001b[1;33m=\u001b[0m \u001b[0mreg\u001b[0m\u001b[1;33m(\u001b[0m\u001b[0mnonneg\u001b[0m\u001b[1;33m(\u001b[0m\u001b[0mnp\u001b[0m\u001b[1;33m.\u001b[0m\u001b[0mcopy\u001b[0m\u001b[1;33m(\u001b[0m\u001b[0mv\u001b[0m\u001b[1;33m)\u001b[0m\u001b[1;33m)\u001b[0m\u001b[1;33m,\u001b[0m \u001b[0mnp\u001b[0m\u001b[1;33m.\u001b[0m\u001b[0mones_like\u001b[0m\u001b[1;33m(\u001b[0m\u001b[0mv\u001b[0m\u001b[1;33m)\u001b[0m\u001b[1;33m*\u001b[0m\u001b[0mlamb\u001b[0m\u001b[1;33m,\u001b[0m \u001b[1;33m*\u001b[0m\u001b[0madditional_params\u001b[0m\u001b[1;33m)\u001b[0m\u001b[1;33m\u001b[0m\u001b[1;33m\u001b[0m\u001b[0m\n",
      "\u001b[1;32m~\\Documents\\EPFL\\MA-3\\Project\\ProximalOperatorsProject\\code\\proximal.py\u001b[0m in \u001b[0;36mTV_1D_Lp_plus_nonneg_prox\u001b[1;34m(v, lamb, p, exp_p)\u001b[0m\n\u001b[0;32m    272\u001b[0m     \u001b[1;32mif\u001b[0m \u001b[0mexp_p\u001b[0m\u001b[1;33m:\u001b[0m\u001b[1;33m\u001b[0m\u001b[1;33m\u001b[0m\u001b[0m\n\u001b[1;32m--> 273\u001b[1;33m         \u001b[0mobj\u001b[0m \u001b[1;33m=\u001b[0m \u001b[0mcp\u001b[0m\u001b[1;33m.\u001b[0m\u001b[0mpower\u001b[0m\u001b[1;33m(\u001b[0m\u001b[0mcp\u001b[0m\u001b[1;33m.\u001b[0m\u001b[0mnorm\u001b[0m\u001b[1;33m(\u001b[0m\u001b[1;33m(\u001b[0m\u001b[0mx\u001b[0m\u001b[1;33m[\u001b[0m\u001b[1;36m1\u001b[0m\u001b[1;33m:\u001b[0m\u001b[1;33m]\u001b[0m \u001b[1;33m-\u001b[0m \u001b[0mx\u001b[0m\u001b[1;33m[\u001b[0m\u001b[1;33m:\u001b[0m\u001b[1;33m-\u001b[0m\u001b[1;36m1\u001b[0m\u001b[1;33m]\u001b[0m\u001b[1;33m)\u001b[0m\u001b[1;33m,\u001b[0m \u001b[0mp\u001b[0m\u001b[1;33m)\u001b[0m\u001b[1;33m,\u001b[0m \u001b[0mp\u001b[0m\u001b[1;33m)\u001b[0m \u001b[1;33m+\u001b[0m \u001b[0mcp\u001b[0m\u001b[1;33m.\u001b[0m\u001b[0msum_squares\u001b[0m\u001b[1;33m(\u001b[0m\u001b[0mx\u001b[0m \u001b[1;33m-\u001b[0m \u001b[0mv\u001b[0m\u001b[1;33m)\u001b[0m\u001b[1;33m/\u001b[0m\u001b[1;33m(\u001b[0m\u001b[1;36m2\u001b[0m\u001b[1;33m*\u001b[0m\u001b[0mlamb\u001b[0m\u001b[1;33m)\u001b[0m\u001b[1;33m\u001b[0m\u001b[1;33m\u001b[0m\u001b[0m\n\u001b[0m\u001b[0;32m    274\u001b[0m     \u001b[1;32melse\u001b[0m\u001b[1;33m:\u001b[0m\u001b[1;33m\u001b[0m\u001b[1;33m\u001b[0m\u001b[0m\n",
      "\u001b[1;32mc:\\users\\dolly\\documents\\epfl\\ma-3\\project\\prox_proj\\lib\\site-packages\\cvxpy\\atoms\\elementwise\\power.py\u001b[0m in \u001b[0;36m__init__\u001b[1;34m(self, x, p, max_denom)\u001b[0m\n\u001b[0;32m    147\u001b[0m             \u001b[1;31m# how we convert p to a rational depends on the branch of the function\u001b[0m\u001b[1;33m\u001b[0m\u001b[1;33m\u001b[0m\u001b[1;33m\u001b[0m\u001b[0m\n\u001b[1;32m--> 148\u001b[1;33m             \u001b[1;32mif\u001b[0m \u001b[0mp\u001b[0m \u001b[1;33m>\u001b[0m \u001b[1;36m1\u001b[0m\u001b[1;33m:\u001b[0m\u001b[1;33m\u001b[0m\u001b[1;33m\u001b[0m\u001b[0m\n\u001b[0m\u001b[0;32m    149\u001b[0m                 \u001b[0mp\u001b[0m\u001b[1;33m,\u001b[0m \u001b[0mw\u001b[0m \u001b[1;33m=\u001b[0m \u001b[0mpow_high\u001b[0m\u001b[1;33m(\u001b[0m\u001b[0mp\u001b[0m\u001b[1;33m,\u001b[0m \u001b[0mmax_denom\u001b[0m\u001b[1;33m)\u001b[0m\u001b[1;33m\u001b[0m\u001b[1;33m\u001b[0m\u001b[0m\n",
      "\u001b[1;31mTypeError\u001b[0m: '>' not supported between instances of 'str' and 'int'",
      "\nDuring handling of the above exception, another exception occurred:\n",
      "\u001b[1;31mTypeError\u001b[0m                                 Traceback (most recent call last)",
      "\u001b[1;32m<ipython-input-9-0051e2225374>\u001b[0m in \u001b[0;36m<module>\u001b[1;34m\u001b[0m\n\u001b[0;32m      4\u001b[0m         \u001b[0mproximal\u001b[0m\u001b[1;33m.\u001b[0m\u001b[0mevaluate\u001b[0m\u001b[1;33m(\u001b[0m\u001b[0mproximal\u001b[0m\u001b[1;33m.\u001b[0m\u001b[0mTV_1D_Lp_prox\u001b[0m\u001b[1;33m,\u001b[0m \u001b[0mproximal\u001b[0m\u001b[1;33m.\u001b[0m\u001b[0mTV_1D_Lp_plus_nonneg_prox\u001b[0m\u001b[1;33m,\u001b[0m \u001b[0mn\u001b[0m\u001b[1;33m=\u001b[0m\u001b[1;36m10\u001b[0m\u001b[1;33m,\u001b[0m \u001b[0msize\u001b[0m\u001b[1;33m=\u001b[0m\u001b[1;33m(\u001b[0m\u001b[1;36m50\u001b[0m\u001b[1;33m,\u001b[0m \u001b[1;33m)\u001b[0m\u001b[1;33m,\u001b[0m \u001b[0mmean\u001b[0m\u001b[1;33m=\u001b[0m\u001b[1;36m0\u001b[0m\u001b[1;33m,\u001b[0m \u001b[0msigma\u001b[0m\u001b[1;33m=\u001b[0m\u001b[1;36m1\u001b[0m\u001b[1;33m,\u001b[0m \u001b[0mlamb\u001b[0m\u001b[1;33m=\u001b[0m\u001b[1;36m0.5\u001b[0m\u001b[1;33m,\u001b[0m \u001b[0madditional_params\u001b[0m\u001b[1;33m=\u001b[0m\u001b[1;33m[\u001b[0m\u001b[0mp\u001b[0m\u001b[1;33m,\u001b[0m \u001b[1;32mTrue\u001b[0m\u001b[1;33m]\u001b[0m\u001b[1;33m,\u001b[0m \u001b[0merr_thr\u001b[0m\u001b[1;33m=\u001b[0m\u001b[1;36m1e-4\u001b[0m\u001b[1;33m,\u001b[0m \u001b[0mplot\u001b[0m\u001b[1;33m=\u001b[0m\u001b[1;32mTrue\u001b[0m\u001b[1;33m)\u001b[0m\u001b[1;33m\u001b[0m\u001b[1;33m\u001b[0m\u001b[0m\n\u001b[0;32m      5\u001b[0m         \u001b[1;32mcontinue\u001b[0m\u001b[1;33m\u001b[0m\u001b[1;33m\u001b[0m\u001b[0m\n\u001b[1;32m----> 6\u001b[1;33m     \u001b[0mproximal\u001b[0m\u001b[1;33m.\u001b[0m\u001b[0mevaluate\u001b[0m\u001b[1;33m(\u001b[0m\u001b[0mproximal\u001b[0m\u001b[1;33m.\u001b[0m\u001b[0mTV_1D_Lp_prox\u001b[0m\u001b[1;33m,\u001b[0m \u001b[0mproximal\u001b[0m\u001b[1;33m.\u001b[0m\u001b[0mTV_1D_Lp_plus_nonneg_prox\u001b[0m\u001b[1;33m,\u001b[0m \u001b[0mn\u001b[0m\u001b[1;33m=\u001b[0m\u001b[1;36m10\u001b[0m\u001b[1;33m,\u001b[0m \u001b[0msize\u001b[0m\u001b[1;33m=\u001b[0m\u001b[1;33m(\u001b[0m\u001b[1;36m50\u001b[0m\u001b[1;33m,\u001b[0m \u001b[1;33m)\u001b[0m\u001b[1;33m,\u001b[0m \u001b[0mmean\u001b[0m\u001b[1;33m=\u001b[0m\u001b[1;36m0\u001b[0m\u001b[1;33m,\u001b[0m \u001b[0msigma\u001b[0m\u001b[1;33m=\u001b[0m\u001b[1;36m1\u001b[0m\u001b[1;33m,\u001b[0m \u001b[0mlamb\u001b[0m\u001b[1;33m=\u001b[0m\u001b[1;36m0.5\u001b[0m\u001b[1;33m,\u001b[0m \u001b[0mplot\u001b[0m\u001b[1;33m=\u001b[0m\u001b[1;32mFalse\u001b[0m\u001b[1;33m,\u001b[0m \u001b[0madditional_params\u001b[0m\u001b[1;33m=\u001b[0m\u001b[1;33m[\u001b[0m\u001b[0mp\u001b[0m\u001b[1;33m,\u001b[0m \u001b[1;32mTrue\u001b[0m\u001b[1;33m]\u001b[0m\u001b[1;33m,\u001b[0m \u001b[0merr_thr\u001b[0m \u001b[1;33m=\u001b[0m \u001b[1;36m1e-4\u001b[0m\u001b[1;33m)\u001b[0m\u001b[1;33m\u001b[0m\u001b[1;33m\u001b[0m\u001b[0m\n\u001b[0m",
      "\u001b[1;32m~\\Documents\\EPFL\\MA-3\\Project\\ProximalOperatorsProject\\code\\proximal.py\u001b[0m in \u001b[0;36mevaluate\u001b[1;34m(reg, reg_nonneg, n, size, mean, sigma, lamb, rtol, atol, plot, distribution, low, high, err_thr, additional_params)\u001b[0m\n\u001b[0;32m    107\u001b[0m         \u001b[1;31m# Except will do the job for CVXPy\u001b[0m\u001b[1;33m\u001b[0m\u001b[1;33m\u001b[0m\u001b[1;33m\u001b[0m\u001b[0m\n\u001b[0;32m    108\u001b[0m         \u001b[1;32mexcept\u001b[0m\u001b[1;33m:\u001b[0m\u001b[1;33m\u001b[0m\u001b[1;33m\u001b[0m\u001b[0m\n\u001b[1;32m--> 109\u001b[1;33m             \u001b[0mreg_plus_nonneg_vect\u001b[0m \u001b[1;33m=\u001b[0m \u001b[0mreg_nonneg\u001b[0m\u001b[1;33m(\u001b[0m\u001b[0mnp\u001b[0m\u001b[1;33m.\u001b[0m\u001b[0mcopy\u001b[0m\u001b[1;33m(\u001b[0m\u001b[0mv\u001b[0m\u001b[1;33m)\u001b[0m\u001b[1;33m,\u001b[0m \u001b[0mlamb\u001b[0m\u001b[1;33m,\u001b[0m \u001b[1;33m*\u001b[0m\u001b[0madditional_params\u001b[0m\u001b[1;33m)\u001b[0m\u001b[1;33m\u001b[0m\u001b[1;33m\u001b[0m\u001b[0m\n\u001b[0m\u001b[0;32m    110\u001b[0m             \u001b[0mreg_o_nonneg_vect\u001b[0m \u001b[1;33m=\u001b[0m \u001b[0mreg\u001b[0m\u001b[1;33m(\u001b[0m\u001b[0mnonneg\u001b[0m\u001b[1;33m(\u001b[0m\u001b[0mnp\u001b[0m\u001b[1;33m.\u001b[0m\u001b[0mcopy\u001b[0m\u001b[1;33m(\u001b[0m\u001b[0mv\u001b[0m\u001b[1;33m)\u001b[0m\u001b[1;33m)\u001b[0m\u001b[1;33m,\u001b[0m \u001b[0mlamb\u001b[0m\u001b[1;33m,\u001b[0m \u001b[1;33m*\u001b[0m\u001b[0madditional_params\u001b[0m\u001b[1;33m)\u001b[0m\u001b[1;33m\u001b[0m\u001b[1;33m\u001b[0m\u001b[0m\n\u001b[0;32m    111\u001b[0m             \u001b[0mnonneg_o_reg_vect\u001b[0m \u001b[1;33m=\u001b[0m \u001b[0mnonneg\u001b[0m\u001b[1;33m(\u001b[0m\u001b[0mreg\u001b[0m\u001b[1;33m(\u001b[0m\u001b[0mnp\u001b[0m\u001b[1;33m.\u001b[0m\u001b[0mcopy\u001b[0m\u001b[1;33m(\u001b[0m\u001b[0mv\u001b[0m\u001b[1;33m)\u001b[0m\u001b[1;33m,\u001b[0m \u001b[0mlamb\u001b[0m\u001b[1;33m,\u001b[0m \u001b[1;33m*\u001b[0m\u001b[0madditional_params\u001b[0m\u001b[1;33m)\u001b[0m\u001b[1;33m)\u001b[0m\u001b[1;33m\u001b[0m\u001b[1;33m\u001b[0m\u001b[0m\n",
      "\u001b[1;32m~\\Documents\\EPFL\\MA-3\\Project\\ProximalOperatorsProject\\code\\proximal.py\u001b[0m in \u001b[0;36mTV_1D_Lp_plus_nonneg_prox\u001b[1;34m(v, lamb, p, exp_p)\u001b[0m\n\u001b[0;32m    271\u001b[0m \u001b[1;31m#     obj = cp.norm(((Q@x)[:-1]), p) + cp.sum_squares(x - v)/(2*lamb)\u001b[0m\u001b[1;33m\u001b[0m\u001b[1;33m\u001b[0m\u001b[1;33m\u001b[0m\u001b[0m\n\u001b[0;32m    272\u001b[0m     \u001b[1;32mif\u001b[0m \u001b[0mexp_p\u001b[0m\u001b[1;33m:\u001b[0m\u001b[1;33m\u001b[0m\u001b[1;33m\u001b[0m\u001b[0m\n\u001b[1;32m--> 273\u001b[1;33m         \u001b[0mobj\u001b[0m \u001b[1;33m=\u001b[0m \u001b[0mcp\u001b[0m\u001b[1;33m.\u001b[0m\u001b[0mpower\u001b[0m\u001b[1;33m(\u001b[0m\u001b[0mcp\u001b[0m\u001b[1;33m.\u001b[0m\u001b[0mnorm\u001b[0m\u001b[1;33m(\u001b[0m\u001b[1;33m(\u001b[0m\u001b[0mx\u001b[0m\u001b[1;33m[\u001b[0m\u001b[1;36m1\u001b[0m\u001b[1;33m:\u001b[0m\u001b[1;33m]\u001b[0m \u001b[1;33m-\u001b[0m \u001b[0mx\u001b[0m\u001b[1;33m[\u001b[0m\u001b[1;33m:\u001b[0m\u001b[1;33m-\u001b[0m\u001b[1;36m1\u001b[0m\u001b[1;33m]\u001b[0m\u001b[1;33m)\u001b[0m\u001b[1;33m,\u001b[0m \u001b[0mp\u001b[0m\u001b[1;33m)\u001b[0m\u001b[1;33m,\u001b[0m \u001b[0mp\u001b[0m\u001b[1;33m)\u001b[0m \u001b[1;33m+\u001b[0m \u001b[0mcp\u001b[0m\u001b[1;33m.\u001b[0m\u001b[0msum_squares\u001b[0m\u001b[1;33m(\u001b[0m\u001b[0mx\u001b[0m \u001b[1;33m-\u001b[0m \u001b[0mv\u001b[0m\u001b[1;33m)\u001b[0m\u001b[1;33m/\u001b[0m\u001b[1;33m(\u001b[0m\u001b[1;36m2\u001b[0m\u001b[1;33m*\u001b[0m\u001b[0mlamb\u001b[0m\u001b[1;33m)\u001b[0m\u001b[1;33m\u001b[0m\u001b[1;33m\u001b[0m\u001b[0m\n\u001b[0m\u001b[0;32m    274\u001b[0m     \u001b[1;32melse\u001b[0m\u001b[1;33m:\u001b[0m\u001b[1;33m\u001b[0m\u001b[1;33m\u001b[0m\u001b[0m\n\u001b[0;32m    275\u001b[0m         \u001b[0mobj\u001b[0m \u001b[1;33m=\u001b[0m \u001b[0mcp\u001b[0m\u001b[1;33m.\u001b[0m\u001b[0mnorm\u001b[0m\u001b[1;33m(\u001b[0m\u001b[1;33m(\u001b[0m\u001b[0mx\u001b[0m\u001b[1;33m[\u001b[0m\u001b[1;36m1\u001b[0m\u001b[1;33m:\u001b[0m\u001b[1;33m]\u001b[0m \u001b[1;33m-\u001b[0m \u001b[0mx\u001b[0m\u001b[1;33m[\u001b[0m\u001b[1;33m:\u001b[0m\u001b[1;33m-\u001b[0m\u001b[1;36m1\u001b[0m\u001b[1;33m]\u001b[0m\u001b[1;33m)\u001b[0m\u001b[1;33m,\u001b[0m \u001b[0mp\u001b[0m\u001b[1;33m)\u001b[0m \u001b[1;33m+\u001b[0m \u001b[0mcp\u001b[0m\u001b[1;33m.\u001b[0m\u001b[0msum_squares\u001b[0m\u001b[1;33m(\u001b[0m\u001b[0mx\u001b[0m \u001b[1;33m-\u001b[0m \u001b[0mv\u001b[0m\u001b[1;33m)\u001b[0m\u001b[1;33m/\u001b[0m\u001b[1;33m(\u001b[0m\u001b[1;36m2\u001b[0m\u001b[1;33m*\u001b[0m\u001b[0mlamb\u001b[0m\u001b[1;33m)\u001b[0m\u001b[1;33m\u001b[0m\u001b[1;33m\u001b[0m\u001b[0m\n",
      "\u001b[1;32mc:\\users\\dolly\\documents\\epfl\\ma-3\\project\\prox_proj\\lib\\site-packages\\cvxpy\\atoms\\elementwise\\power.py\u001b[0m in \u001b[0;36m__init__\u001b[1;34m(self, x, p, max_denom)\u001b[0m\n\u001b[0;32m    146\u001b[0m                 \u001b[0mp\u001b[0m \u001b[1;33m=\u001b[0m \u001b[0mself\u001b[0m\u001b[1;33m.\u001b[0m\u001b[0mp\u001b[0m\u001b[1;33m.\u001b[0m\u001b[0mvalue\u001b[0m\u001b[1;33m\u001b[0m\u001b[1;33m\u001b[0m\u001b[0m\n\u001b[0;32m    147\u001b[0m             \u001b[1;31m# how we convert p to a rational depends on the branch of the function\u001b[0m\u001b[1;33m\u001b[0m\u001b[1;33m\u001b[0m\u001b[1;33m\u001b[0m\u001b[0m\n\u001b[1;32m--> 148\u001b[1;33m             \u001b[1;32mif\u001b[0m \u001b[0mp\u001b[0m \u001b[1;33m>\u001b[0m \u001b[1;36m1\u001b[0m\u001b[1;33m:\u001b[0m\u001b[1;33m\u001b[0m\u001b[1;33m\u001b[0m\u001b[0m\n\u001b[0m\u001b[0;32m    149\u001b[0m                 \u001b[0mp\u001b[0m\u001b[1;33m,\u001b[0m \u001b[0mw\u001b[0m \u001b[1;33m=\u001b[0m \u001b[0mpow_high\u001b[0m\u001b[1;33m(\u001b[0m\u001b[0mp\u001b[0m\u001b[1;33m,\u001b[0m \u001b[0mmax_denom\u001b[0m\u001b[1;33m)\u001b[0m\u001b[1;33m\u001b[0m\u001b[1;33m\u001b[0m\u001b[0m\n\u001b[0;32m    150\u001b[0m             \u001b[1;32melif\u001b[0m \u001b[1;36m0\u001b[0m \u001b[1;33m<\u001b[0m \u001b[0mp\u001b[0m \u001b[1;33m<\u001b[0m \u001b[1;36m1\u001b[0m\u001b[1;33m:\u001b[0m\u001b[1;33m\u001b[0m\u001b[1;33m\u001b[0m\u001b[0m\n",
      "\u001b[1;31mTypeError\u001b[0m: '>' not supported between instances of 'str' and 'int'"
     ]
    }
   ],
   "source": [
    "for p in [1, 2, 3, 5, 8, 'inf']:\n",
    "    print(f'||p^p norm where p = {p}')\n",
    "    if p == 3:\n",
    "        proximal.evaluate(proximal.TV_1D_Lp_prox, proximal.TV_1D_Lp_plus_nonneg_prox, n=10, size=(50, ), mean=0, sigma=1, lamb=0.5, additional_params=[p, True], err_thr=1e-4, plot=True)\n",
    "        continue\n",
    "    proximal.evaluate(proximal.TV_1D_Lp_prox, proximal.TV_1D_Lp_plus_nonneg_prox, n=10, size=(50, ), mean=0, sigma=1, lamb=0.5, plot=False, additional_params=[p, True], err_thr = 1e-4)"
   ]
  },
  {
   "cell_type": "markdown",
   "id": "amateur-policy",
   "metadata": {},
   "source": [
    "### 4.B 2D Total Variation \n",
    "[Back to Index](#Index)\n",
    "\n",
    "In the following cell I will test for $\\operatorname{TV}$ with $\\|\\cdot\\|_{p, q}$ mixed-norm. This includes nonisotropic $\\operatorname{TV}$\n",
    "$$\\mathcal{R}(\\mathbf{x}) = \\sum^N_{n = 1}\\|\\mathbf{D}_1\\mathbf{x}\\|_n + \\|\\mathbf{D}_2\\mathbf{x}\\|_n$$ \n",
    "for $p=q=1$, and isotropic $\\operatorname{TV}$ \n",
    "$$\\mathcal{R}(\\mathbf{x}) = \\sum^N_{n = 1}\\sqrt{[\\mathbf{D_1x}]^2_n + [\\mathbf{D_2x}]^2_n}$$\n",
    "for $p=2$ and $q=1$."
   ]
  },
  {
   "cell_type": "code",
   "execution_count": null,
   "id": "cellular-sculpture",
   "metadata": {},
   "outputs": [],
   "source": [
    "for p in [1, 2]:\n",
    "    for q in [1, 2, 3]:\n",
    "        print(f'|TV*|p,q norm where p = {p} and q = {q}.')\n",
    "        if p == 2 and q == 2:\n",
    "            proximal.evaluate(proximal.TV_prox, proximal.TV_plus_nonneg_prox, n=10, size=(40, 40), mean=0, sigma=1, lamb=0.5, additional_params=[p, q, False], err_thr=1e-4, plot=True)\n",
    "            continue\n",
    "        proximal.evaluate(proximal.TV_prox, proximal.TV_plus_nonneg_prox, n=10, size=(40, 40), mean=0, sigma=1, lamb=0.5, plot=False, additional_params=[p, q, False], err_thr = 1e-3)"
   ]
  },
  {
   "cell_type": "markdown",
   "id": "ecological-bobby",
   "metadata": {},
   "source": [
    "The following cell will test for $\\operatorname{TV}$ with $\\|\\cdot\\|_{p, q}^{p, q}$ mixed-norm."
   ]
  },
  {
   "cell_type": "code",
   "execution_count": null,
   "id": "quarterly-democrat",
   "metadata": {},
   "outputs": [],
   "source": [
    "for p in [1, 2]:\n",
    "    for q in [1, 2]:\n",
    "        print(f'|TV*|p,q norm where p = {p} and q = {q}.')\n",
    "        if p == 2 and q == 2:\n",
    "            proximal.evaluate(proximal.TV_prox, proximal.TV_plus_nonneg_prox, n=40, size=(30, 30), mean=0, sigma=1, lamb=0.5, additional_params=[p, q, True], err_thr=1e-4, plot=True)\n",
    "            continue\n",
    "        proximal.evaluate(proximal.TV_prox, proximal.TV_plus_nonneg_prox, n=40, size=(30, 30), mean=0, sigma=1, lamb=0.5, plot=False, additional_params=[p, q, True], err_thr = 1e-3)"
   ]
  },
  {
   "cell_type": "markdown",
   "id": "freelance-investor",
   "metadata": {},
   "source": [
    "## 5. Schatten Norm\n",
    "[Back to Index](#Index)\n",
    "\n",
    "This section will test for the Schatten norm, defined by\n",
    "$$\\|\\mathbf{X}\\|_{S_p} = \\left( \\sum_{k=1}^{\\min\\left(n_{1},n_{2}\\right)}\\mathbf{\\sigma}_{k}^{p}\\left({\\mathbf X}\\right)\\right)^\\frac{1}{p}$$, \n",
    "where $\\mathbf{\\sigma}_{k}^{p}\\left({\\bf X}\\right)$ denotes the $k_{\\mathrm{th}}$ singular value of $\\bf{X}$\n",
    "\n",
    "The values tested will be  $p\\in\\{1, 2, +\\infty\\}$."
   ]
  },
  {
   "cell_type": "code",
   "execution_count": null,
   "id": "imported-attribute",
   "metadata": {},
   "outputs": [],
   "source": [
    "for p in ['nuc', 'fro', 2]:\n",
    "    print(f'||p norm where p = {p}')\n",
    "    if p == 'nuc':\n",
    "        proximal.evaluate(proximal.schatten_prox, proximal.schatten_plus_nonneg_prox, n=100, size=(2, 2), mean=0, sigma=100, lamb=0.1, additional_params=[p], err_thr = 1e-4, plot=True)\n",
    "        continue\n",
    "    else:\n",
    "        proximal.evaluate(proximal.schatten_prox, proximal.schatten_plus_nonneg_prox, n=100, size=(2, 2), mean=0, sigma=100, lamb=0.1, additional_params=[p], err_thr = 1e-4)"
   ]
  },
  {
   "cell_type": "markdown",
   "id": "respiratory-touch",
   "metadata": {},
   "source": [
    "## 6. Hessian Schatten Norm\n",
    "[Back to Index](#Index)\n",
    "\n",
    "in the following cell I will test for the Hessian-Schatten norm, defined by\n",
    "$$\\mathcal{R}(x) = \\sum^N_{n = 1}\\| \\left[\n",
    "  \\begin{bmatrix}\n",
    "    [D_{11}x]_n [D_{12}x]_n\\\\\n",
    "    [D_{21}x]_n [D_{22}x]_n\n",
    "  \\end{bmatrix}\n",
    "\\right] \\|_{S_p}$$\n",
    "with the Schatten norm taken over $p\\in\\{1, 2, +\\infty\\}$"
   ]
  },
  {
   "cell_type": "code",
   "execution_count": null,
   "id": "prostate-saskatchewan",
   "metadata": {},
   "outputs": [],
   "source": [
    "for p in ['nuc', 'fro', 2]:\n",
    "    print(f'Hessian-Schatten norm:')\n",
    "    proximal.evaluate(proximal.Hessian_Schatten_prox, proximal.Hessian_Schatten_plus_nonneg_prox, \n",
    "                  n=10, size=(15, 15), mean=0, sigma=10, lamb=0.5, err_thr = 1e-4, plot=True, additional_params = [p])"
   ]
  },
  {
   "cell_type": "markdown",
   "id": "steady-ceremony",
   "metadata": {},
   "source": [
    "## References\n",
    "\n",
    "[1.](https://arc.aiaa.org/doi/pdf/10.2514/1.26320?casa_token=EpyiTfodqo4AAAAA%3AGmnFHyrImbNxMMk2ONs1c9wpN6bLTip8_a7irQweswoms0vMBtL1kGu6h8v6IK76_zhhhtk0KPA&) Pol del Aguila Pla and Joakim Jaldén, Cell detection by functional inverse diffusion and non-negative group sparsity—Part II: Proximal optimization and Performance evaluation, IEEE Transactions on Signal Processing, vol. 66, no. 20, pp. 5422–5437, 2018\n",
    "\n",
    "[2.](http://bigwww.epfl.ch/publications/soubies1904.pdf) E. Soubies, F. Soulez, M.T. McCann, T.-a. Pham, L. Donati, T. Debarre, D. Sage, M. Unser, \"Pocket Guide to Solve Inverse Problems with GlobalBioIm,\" Inverse Problems, vol. 35, no. 10, paper no. 104006, pp. 1-20, October 2019"
   ]
  }
 ],
 "metadata": {
  "kernelspec": {
   "display_name": "Python 3",
   "language": "python",
   "name": "python3"
  },
  "language_info": {
   "codemirror_mode": {
    "name": "ipython",
    "version": 3
   },
   "file_extension": ".py",
   "mimetype": "text/x-python",
   "name": "python",
   "nbconvert_exporter": "python",
   "pygments_lexer": "ipython3",
   "version": "3.7.9"
  }
 },
 "nbformat": 4,
 "nbformat_minor": 5
}
