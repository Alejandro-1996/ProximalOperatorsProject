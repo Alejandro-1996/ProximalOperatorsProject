{
 "cells": [
  {
   "cell_type": "code",
   "execution_count": 2,
   "id": "superb-navigator",
   "metadata": {},
   "outputs": [],
   "source": [
    "# Technical libraries\n",
    "import cvxpy as cp\n",
    "import numpy as np\n",
    "import numpy.matlib\n",
    "import numpy.random\n",
    "from scipy import linalg, special\n",
    "import matplotlib.pyplot as plt\n",
    "import ipywidgets as widgets\n",
    "import scipy \n",
    "import scipy.fftpack\n",
    "# from proximal import ProxUtils\n",
    "import proximal\n",
    "from iplabs import IPLabViewer as viewer\n",
    "import matplotlib\n",
    "%matplotlib widget"
   ]
  },
  {
   "cell_type": "markdown",
   "id": "corrected-nashville",
   "metadata": {},
   "source": [
    "# Proximal Operators for Nonnegative Inverse Problems\n",
    "\n",
    "Study of the combination of different image regularizers with nonnegativity constraints.\n",
    "\n",
    "# Index\n",
    "\n",
    "1. [Introduction](#Intro)\n",
    "    1. [Proximal Operator](#Prox)\n",
    "    2. [Nonnegativity Function](#Nonneg)\n",
    "2. [Norms](#2.-Norms)\n",
    "    1. [$\\ell_p$](#2.A-Lp)\n",
    "    2. [$\\ell_p^p$](#2.B-Lp^p)\n",
    "3. [Group Sparsity](#3.-Group-Sparsity)\n",
    "    1. [1D Group Sparsity](#3.A-1D-Group-Sparsity)\n",
    "    2. [2D Group Sparsity](#3.B-2D-Group-Sparsity)\n",
    "4. [Total Variation](#4.-Spectral-Norm)\n",
    "    1. [1D Total Variation](#4.A-1D-Total-Variation)\n",
    "    2. [2D Total Variation](#4.B-2D-Total-Variation)\n",
    "5. [Norms on Eigendecomposition](#5.-Norms-on-Eigendecomposition)\n",
    "    1. [$\\ell_p$](#5.A-Lp)\n",
    "    2. [$\\ell_p^p$](#5.B-Lp^p)\n",
    "6. [Hessian Schatten](#6.-Hessian-Schatten-Norm)\n",
    "6. DCT\n",
    "\n",
    "# <a name=\"Intro\"></a>1. Introduction\n",
    "\n",
    "The goal of the present notebook is to find how of common image regularizers combine with nonnegativity through the proximal operator. We will be studying regularizers likethe $\\mathrm{L}^1$ and the $\\mathrm{L}^2$ norm, and group sparsity.\n",
    "\n",
    "## <a name=\"Prox\"></a>1.A. Proximal Operator\n",
    "\n",
    "The proximal operator of a function $f$ is:\n",
    "\n",
    "$$\\mathrm{prox}_f(v) = \\arg \\min_x(f(x)+\\frac{1}{2\\lambda}||x - v||_2^2)$$\n",
    "\n",
    "This means that it will optimize an input vector $v$ with respect to a function, but adding the constraint that the result has to be *somewhat close* (by the minimization of the second term, and with *somewhat* parametrized by $\\lambda$) to the original. \n",
    "\n",
    "The interest of the project is to see how common image regularizers combine with nonnegativity constraints. In particular, we will see wether:\n",
    "$$\\mathrm{prox}_{f} = \\mathrm{prox}_{\\delta_{\\rm I\\!R_+^N}}(\\mathrm{prox}_{\\Re})$$\n",
    "or \n",
    "$$\\mathrm{prox}_{f} = \\mathrm{prox}_{\\Re}(\\mathrm{prox}_{\\delta_{\\rm I\\!R_+^N}})$$\n",
    "where $f = \\delta_{\\rm I\\!R_+^N} + \\Re$,\n",
    "for several regularizers, starting by the know cases of $\\mathrm{L^1}$ and $\\mathrm{L^2}$ norms. \n",
    "\n",
    "In some cases for which the $\\mathrm{prox}$ is a point-wise operation, a plot of $v_i$ vs $x_i$ can be made, where $v_i$ is the $i^{th}$ element of $v$. In this cases, the previous equations can be provedor discarded analitically.  \n",
    "\n",
    "## <a name=\"Nonneg\"></a>1.B. Nonnegativity Function\n",
    "\n",
    "The nonnegativity function $\\delta$ is defined as:\n",
    "\n",
    "$$\\delta_{\\rm I\\!R_+^N} =\n",
    "\\begin{cases}\n",
    "        0 \\mathrm{ if } x \\in \\rm I\\!R_+^N \\\\\n",
    "        + \\inf \\mathrm{ if } x\\notin \\rm I\\!R_+^N\n",
    "     \\end{cases}$$\n",
    "     \n",
    "Given the definition of the proximal operator, it is immediate to see that to solve the proximal operator, we have as constraint $x\\in \\rm I\\!R_+^N$. As such, the first term vanishes (since $x\\in \\rm I\\!R_+^N$, by definition $f(x) = 0$). As such, we arrive to:\n",
    "\n",
    "$$prox_{\\rm I\\!R_+^N}(v) = \\arg \\min_{x\\in \\rm I\\!R_+^N}\\left(\\frac{1}{2}||x - v||_2^2\\right)$$\n",
    "\n",
    "Given that $v \\in \\rm I\\!R_+^N$, then the $x\\in \\rm I\\!R_+^N$ that minimizes the prox operator is simply the $x$ closest to $v$, but yet inside the domain imposed by the indicator function (indicator of nonnegativity). It is useless to include the parameter $\\lambda$ in this proximal, as the minimization of squares is the only term present."
   ]
  },
  {
   "cell_type": "markdown",
   "id": "photographic-salem",
   "metadata": {},
   "source": [
    "# 2. Norms\n",
    "[Back to Index](#Index)\n",
    "\n",
    "In this section we will prove the equations provided on [1.A](#Prox), for the $\\mathrm{L}^1$ norm. It is a part from the family of the $L^p$ norms where $p = 1$, is defined for a vector $x$ as:\n",
    "$$\\|\\mathbf{x}\\|_p = (\\sum_{i = 1}^n \\mathbf{x}^p)^\\frac{1}{p} $$\n",
    "\n",
    "It follows that the $L^1$ norm of a vector is simply the sum of its components. It is a common image regularizer because it enforces sparsity, a well known property of natural images. "
   ]
  },
  {
   "cell_type": "markdown",
   "id": "dietary-commissioner",
   "metadata": {},
   "source": [
    "### 2.A Lp\n",
    "[Back to Index](#Index)"
   ]
  },
  {
   "cell_type": "code",
   "execution_count": 2,
   "id": "radio-formula",
   "metadata": {},
   "outputs": [
    {
     "name": "stdout",
     "output_type": "stream",
     "text": [
      "||p norm where p = 1\n",
      "prox_nonneg(prox_reg(v)) SEEMS equal to prox(reg + nonneg).\n",
      "Max absolute error: 4.296e-07\n",
      "Average absolute error: 2.745e-08\n",
      "\n",
      "prox_reg(prox_nonneg(v)) SEEMS equal to prox(reg + nonneg)\n",
      "Max absolute error: 4.296e-07\n",
      "Average absolute error: 2.745e-08\n",
      "\n",
      "||p norm where p = 2\n",
      "prox_nonneg(prox_reg(v)) IS NOT equal to prox(reg + nonneg)\n",
      "Max absolute error: 1.316e-02\n",
      "Average absolute error: 1.584e-03\n",
      "\n",
      "prox_reg(prox_nonneg(v)) SEEMS equal to prox(reg + nonneg)\n",
      "Max absolute error: 2.247e-05\n",
      "Average absolute error: 2.630e-06\n",
      "\n",
      "||p norm where p = 3\n",
      "prox_nonneg(prox_reg(v)) IS NOT equal to prox(reg + nonneg)\n",
      "Max absolute error: 1.050e-02\n",
      "Average absolute error: 5.961e-04\n",
      "\n",
      "prox_reg(prox_nonneg(v)) SEEMS equal to prox(reg + nonneg)\n",
      "Max absolute error: 1.026e-07\n",
      "Average absolute error: 9.790e-10\n",
      "\n"
     ]
    }
   ],
   "source": [
    "for p in [1, 2, 3]:\n",
    "    print(f'||p norm where p = {p}')\n",
    "    if p == 5:\n",
    "        proximal.evaluate(proximal.Lp_prox, proximal.Lp_plus_nonneg_prox, n=1, size=(20, 20), mean=0, sigma=1, lamb=0.5, additional_params=[p], err_thr=1e-4, plot=True)\n",
    "        continue\n",
    "    proximal.evaluate(proximal.Lp_prox, proximal.Lp_plus_nonneg_prox, n=1, size=(50, 50), mean=0, sigma=1, lamb=0.5, plot=False, additional_params=[p], err_thr = 1e-4)\n",
    "             "
   ]
  },
  {
   "cell_type": "markdown",
   "id": "brief-premium",
   "metadata": {},
   "source": [
    "### 2.B Lp^p\n",
    "[Back to Index](#Index)"
   ]
  },
  {
   "cell_type": "code",
   "execution_count": 14,
   "id": "appointed-merchant",
   "metadata": {},
   "outputs": [
    {
     "name": "stdout",
     "output_type": "stream",
     "text": [
      "||p^p norm where p = 1\n",
      "prox_nonneg(prox_reg(v)) SEEMS equal to prox(reg + nonneg).\n",
      "Max absolute error: 2.001e-07\n",
      "Average absolute error: 5.571e-09\n",
      "\n",
      "prox_reg(prox_nonneg(v)) SEEMS equal to prox(reg + nonneg)\n",
      "Max absolute error: 2.001e-07\n",
      "Average absolute error: 5.571e-09\n",
      "\n",
      "||p^p norm where p = 2\n",
      "prox_nonneg(prox_reg(v)) SEEMS equal to prox(reg + nonneg).\n",
      "Max absolute error: 1.276e-04\n",
      "Average absolute error: 1.211e-05\n",
      "\n",
      "prox_reg(prox_nonneg(v)) SEEMS equal to prox(reg + nonneg)\n",
      "Max absolute error: 1.670e-04\n",
      "Average absolute error: 1.953e-05\n",
      "\n",
      "||p^p norm where p = 3\n",
      "prox_nonneg(prox_reg(v)) SEEMS equal to prox(reg + nonneg).\n",
      "Max absolute error: 2.899e-05\n",
      "Average absolute error: 6.574e-07\n",
      "\n",
      "prox_reg(prox_nonneg(v)) SEEMS equal to prox(reg + nonneg)\n",
      "Max absolute error: 1.829e-06\n",
      "Average absolute error: 5.253e-08\n",
      "\n",
      "||p^p norm where p = 5\n",
      "prox_nonneg(prox_reg(v)) SEEMS equal to prox(reg + nonneg).\n",
      "Max absolute error: 6.091e-06\n",
      "Average absolute error: 1.581e-07\n",
      "\n",
      "prox_reg(prox_nonneg(v)) SEEMS equal to prox(reg + nonneg)\n",
      "Max absolute error: 1.109e-06\n",
      "Average absolute error: 4.179e-08\n",
      "\n",
      "Plotting example\n"
     ]
    },
    {
     "data": {
      "application/vnd.jupyter.widget-view+json": {
       "model_id": "77dda50428cf44f1ab5232388aa30338",
       "version_major": 2,
       "version_minor": 0
      },
      "text/plain": [
       "Canvas(toolbar=Toolbar(toolitems=[('Home', 'Reset original view', 'home', 'home'), ('Pan', 'Pan axes with left…"
      ]
     },
     "metadata": {},
     "output_type": "display_data"
    },
    {
     "name": "stdout",
     "output_type": "stream",
     "text": [
      "||p^p norm where p = 8\n",
      "prox_nonneg(prox_reg(v)) SEEMS equal to prox(reg + nonneg).\n",
      "Max absolute error: 7.004e-07\n",
      "Average absolute error: 3.266e-08\n",
      "\n",
      "prox_reg(prox_nonneg(v)) SEEMS equal to prox(reg + nonneg)\n",
      "Max absolute error: 7.914e-07\n",
      "Average absolute error: 2.953e-08\n",
      "\n"
     ]
    }
   ],
   "source": [
    "for p in [1, 2, 3, 5, 8]:\n",
    "    print(f'||p^p norm where p = {p}')\n",
    "    if p == 5:\n",
    "        proximal.evaluate(proximal.Lp_prox, proximal.Lp_plus_nonneg_prox, n=10, size=(30, ), mean=0, sigma=1, lamb=0.5, additional_params=[p, True], err_thr=1e-4, plot=True)\n",
    "        continue\n",
    "    proximal.evaluate(proximal.Lp_prox, proximal.Lp_plus_nonneg_prox, n=10, size=(30, ), mean=0, sigma=1, lamb=0.5, plot=False, additional_params=[p, True], err_thr = 1e-3)"
   ]
  },
  {
   "cell_type": "markdown",
   "id": "novel-survival",
   "metadata": {},
   "source": [
    "## 3. Group Sparsity\n",
    "[Back to Index](#Index)\n",
    "\n",
    "The group sparsity operator is denoted by $\\operatorname{G}$\n",
    "\n",
    "### 3.A 1D Group Sparsity\n",
    "\n",
    "$$\\|\\operatorname{G}x\\|_{p, q}$$"
   ]
  },
  {
   "cell_type": "code",
   "execution_count": 2,
   "id": "normal-intelligence",
   "metadata": {},
   "outputs": [
    {
     "name": "stdout",
     "output_type": "stream",
     "text": [
      "||p norm where p = 1, q = 1\n",
      "prox_nonneg(prox_reg(v)) SEEMS equal to prox(reg + nonneg).\n",
      "Max absolute error: 1.997e-05\n",
      "Average absolute error: 1.498e-06\n",
      "\n",
      "prox_reg(prox_nonneg(v)) SEEMS equal to prox(reg + nonneg)\n",
      "Max absolute error: 1.997e-05\n",
      "Average absolute error: 1.498e-06\n",
      "\n",
      "||p norm where p = 1, q = 2\n",
      "prox_nonneg(prox_reg(v)) IS NOT equal to prox(reg + nonneg)\n",
      "Max absolute error: 1.753e-01\n",
      "Average absolute error: 2.462e-02\n",
      "\n",
      "prox_reg(prox_nonneg(v)) SEEMS equal to prox(reg + nonneg)\n",
      "Max absolute error: 4.518e-05\n",
      "Average absolute error: 3.400e-06\n",
      "\n",
      "Plotting example\n"
     ]
    },
    {
     "data": {
      "application/vnd.jupyter.widget-view+json": {
       "model_id": "e73c7b1eed9f4f83a991a998c66746ea",
       "version_major": 2,
       "version_minor": 0
      },
      "text/plain": [
       "Canvas(toolbar=Toolbar(toolitems=[('Home', 'Reset original view', 'home', 'home'), ('Pan', 'Pan axes with left…"
      ]
     },
     "metadata": {},
     "output_type": "display_data"
    },
    {
     "name": "stdout",
     "output_type": "stream",
     "text": [
      "||p norm where p = 1, q = 3\n",
      "prox_nonneg(prox_reg(v)) IS NOT equal to prox(reg + nonneg)\n",
      "Max absolute error: 2.658e-01\n",
      "Average absolute error: 3.159e-02\n",
      "\n",
      "prox_reg(prox_nonneg(v)) SEEMS equal to prox(reg + nonneg)\n",
      "Max absolute error: 2.572e-05\n",
      "Average absolute error: 1.212e-06\n",
      "\n",
      "||p norm where p = 2, q = 1\n",
      "prox_nonneg(prox_reg(v)) IS NOT equal to prox(reg + nonneg)\n",
      "Max absolute error: 3.632e-01\n",
      "Average absolute error: 3.694e-02\n",
      "\n",
      "prox_reg(prox_nonneg(v)) SEEMS equal to prox(reg + nonneg)\n",
      "Max absolute error: 9.455e-05\n",
      "Average absolute error: 5.840e-06\n",
      "\n",
      "||p norm where p = 2, q = 2\n",
      "prox_nonneg(prox_reg(v)) IS NOT equal to prox(reg + nonneg)\n",
      "Max absolute error: 1.461e-01\n",
      "Average absolute error: 1.541e-02\n",
      "\n",
      "prox_reg(prox_nonneg(v)) SEEMS equal to prox(reg + nonneg)\n",
      "Max absolute error: 1.549e-04\n",
      "Average absolute error: 1.210e-05\n",
      "\n",
      "||p norm where p = 2, q = 3\n",
      "prox_nonneg(prox_reg(v)) IS NOT equal to prox(reg + nonneg)\n",
      "Max absolute error: 1.648e-01\n",
      "Average absolute error: 1.270e-02\n",
      "\n",
      "prox_reg(prox_nonneg(v)) SEEMS equal to prox(reg + nonneg)\n",
      "Max absolute error: 4.082e-05\n",
      "Average absolute error: 2.385e-06\n",
      "\n",
      "||p norm where p = 3, q = 1\n",
      "prox_nonneg(prox_reg(v)) IS NOT equal to prox(reg + nonneg)\n",
      "Max absolute error: 3.672e-01\n",
      "Average absolute error: 4.016e-02\n",
      "\n",
      "prox_reg(prox_nonneg(v)) SEEMS equal to prox(reg + nonneg)\n",
      "Max absolute error: 3.658e-05\n",
      "Average absolute error: 1.674e-07\n",
      "\n",
      "||p norm where p = 3, q = 2\n",
      "prox_nonneg(prox_reg(v)) IS NOT equal to prox(reg + nonneg)\n",
      "Max absolute error: 1.784e-01\n",
      "Average absolute error: 1.461e-02\n",
      "\n",
      "prox_reg(prox_nonneg(v)) SEEMS equal to prox(reg + nonneg)\n",
      "Max absolute error: 7.571e-07\n",
      "Average absolute error: 3.016e-08\n",
      "\n",
      "||p norm where p = 3, q = 3\n",
      "prox_nonneg(prox_reg(v)) IS NOT equal to prox(reg + nonneg)\n",
      "Max absolute error: 2.349e-01\n",
      "Average absolute error: 8.047e-03\n",
      "\n",
      "prox_reg(prox_nonneg(v)) SEEMS equal to prox(reg + nonneg)\n",
      "Max absolute error: 1.055e-06\n",
      "Average absolute error: 3.114e-08\n",
      "\n"
     ]
    }
   ],
   "source": [
    "for p in [1, 2, 3]:\n",
    "    for q in [1, 2, 3]:\n",
    "        print(f'||p norm where p = {p}, q = {q}')\n",
    "        if p == 1 and q == 2:\n",
    "            proximal.evaluate(proximal.GS_1D_prox, proximal.GS_1D_plus_nonneg_prox, n=10, size=(30, ), mean=0, sigma=1, lamb=0.5, additional_params=[5, p, q], err_thr=1e-3, plot=True)\n",
    "            continue\n",
    "        proximal.evaluate(proximal.GS_1D_prox, proximal.GS_1D_plus_nonneg_prox, n=10, size=(30, ), mean=0, sigma=1, lamb=0.5, plot=False, additional_params=[5, p, q], err_thr = 1e-3)"
   ]
  },
  {
   "cell_type": "markdown",
   "id": "ruled-copying",
   "metadata": {},
   "source": [
    "$$\\|\\operatorname{G}x\\|_{p, q}^{p, q}$$"
   ]
  },
  {
   "cell_type": "code",
   "execution_count": 3,
   "id": "boolean-panel",
   "metadata": {},
   "outputs": [
    {
     "name": "stdout",
     "output_type": "stream",
     "text": [
      "||p norm where p = 1, q = 1\n",
      "prox_nonneg(prox_reg(v)) SEEMS equal to prox(reg + nonneg).\n",
      "Max absolute error: 2.270e-04\n",
      "Average absolute error: 1.064e-05\n",
      "\n",
      "prox_reg(prox_nonneg(v)) SEEMS equal to prox(reg + nonneg)\n",
      "Max absolute error: 2.347e-04\n",
      "Average absolute error: 9.615e-06\n",
      "\n",
      "||p norm where p = 1, q = 2\n",
      "prox_nonneg(prox_reg(v)) IS NOT equal to prox(reg + nonneg)\n",
      "Max absolute error: 6.256e-01\n",
      "Average absolute error: 3.061e-02\n",
      "\n",
      "prox_reg(prox_nonneg(v)) SEEMS equal to prox(reg + nonneg)\n",
      "Max absolute error: 3.793e-05\n",
      "Average absolute error: 1.658e-06\n",
      "\n",
      "Plotting example\n"
     ]
    },
    {
     "data": {
      "application/vnd.jupyter.widget-view+json": {
       "model_id": "245ab194fc8b4d45b8839b0e161eac93",
       "version_major": 2,
       "version_minor": 0
      },
      "text/plain": [
       "Canvas(toolbar=Toolbar(toolitems=[('Home', 'Reset original view', 'home', 'home'), ('Pan', 'Pan axes with left…"
      ]
     },
     "metadata": {},
     "output_type": "display_data"
    },
    {
     "name": "stdout",
     "output_type": "stream",
     "text": [
      "||p norm where p = 1, q = 3\n",
      "prox_nonneg(prox_reg(v)) IS NOT equal to prox(reg + nonneg)\n",
      "Max absolute error: 7.107e-01\n",
      "Average absolute error: 3.904e-02\n",
      "\n",
      "prox_reg(prox_nonneg(v)) SEEMS equal to prox(reg + nonneg)\n",
      "Max absolute error: 3.052e-05\n",
      "Average absolute error: 1.347e-06\n",
      "\n",
      "||p norm where p = 2, q = 1\n",
      "prox_nonneg(prox_reg(v)) SEEMS equal to prox(reg + nonneg).\n",
      "Max absolute error: 1.091e-04\n",
      "Average absolute error: 3.829e-06\n",
      "\n",
      "prox_reg(prox_nonneg(v)) SEEMS equal to prox(reg + nonneg)\n",
      "Max absolute error: 8.551e-05\n",
      "Average absolute error: 3.937e-06\n",
      "\n",
      "||p norm where p = 2, q = 2\n",
      "prox_nonneg(prox_reg(v)) IS NOT equal to prox(reg + nonneg)\n",
      "Max absolute error: 2.204e-01\n",
      "Average absolute error: 2.632e-02\n",
      "\n",
      "prox_reg(prox_nonneg(v)) SEEMS equal to prox(reg + nonneg)\n",
      "Max absolute error: 3.887e-05\n",
      "Average absolute error: 2.737e-06\n",
      "\n",
      "||p norm where p = 2, q = 3\n",
      "prox_nonneg(prox_reg(v)) IS NOT equal to prox(reg + nonneg)\n",
      "Max absolute error: 3.738e-01\n",
      "Average absolute error: 3.720e-02\n",
      "\n",
      "prox_reg(prox_nonneg(v)) SEEMS equal to prox(reg + nonneg)\n",
      "Max absolute error: 6.046e-05\n",
      "Average absolute error: 1.944e-06\n",
      "\n",
      "||p norm where p = 3, q = 1\n",
      "prox_nonneg(prox_reg(v)) SEEMS equal to prox(reg + nonneg).\n",
      "Max absolute error: 1.539e-05\n",
      "Average absolute error: 7.120e-07\n",
      "\n",
      "prox_reg(prox_nonneg(v)) SEEMS equal to prox(reg + nonneg)\n",
      "Max absolute error: 4.960e-06\n",
      "Average absolute error: 6.486e-08\n",
      "\n",
      "||p norm where p = 3, q = 2\n",
      "prox_nonneg(prox_reg(v)) IS NOT equal to prox(reg + nonneg)\n",
      "Max absolute error: 1.873e-01\n",
      "Average absolute error: 1.574e-02\n",
      "\n",
      "prox_reg(prox_nonneg(v)) SEEMS equal to prox(reg + nonneg)\n",
      "Max absolute error: 3.466e-06\n",
      "Average absolute error: 2.577e-08\n",
      "\n",
      "||p norm where p = 3, q = 3\n",
      "prox_nonneg(prox_reg(v)) IS NOT equal to prox(reg + nonneg)\n",
      "Max absolute error: 2.346e-01\n",
      "Average absolute error: 2.322e-02\n",
      "\n",
      "prox_reg(prox_nonneg(v)) SEEMS equal to prox(reg + nonneg)\n",
      "Max absolute error: 1.378e-06\n",
      "Average absolute error: 1.956e-08\n",
      "\n"
     ]
    }
   ],
   "source": [
    "for p in [1, 2, 3]:\n",
    "    for q in [1, 2, 3]:\n",
    "        print(f'||p norm where p = {p}, q = {q}')\n",
    "        if p == 1 and q == 2:\n",
    "            proximal.evaluate(proximal.GS_1D_prox, proximal.GS_1D_plus_nonneg_prox, n=10, size=(30, ), mean=0, sigma=1, lamb=0.5, additional_params=[5, p, q, True], err_thr=1e-3, plot=True)\n",
    "            continue\n",
    "        proximal.evaluate(proximal.GS_1D_prox, proximal.GS_1D_plus_nonneg_prox, n=10, size=(30, ), mean=0, sigma=1, lamb=0.5, plot=False, additional_params=[5, p, q, True], err_thr = 1e-3)"
   ]
  },
  {
   "cell_type": "markdown",
   "id": "interested-shadow",
   "metadata": {},
   "source": [
    "### 3.B 2D Group Sparsity\n",
    "[Back to Index](#Index)\n",
    "\n",
    "$$\\|\\operatorname{G}x\\|_{p, q}$$"
   ]
  },
  {
   "cell_type": "code",
   "execution_count": 4,
   "id": "intended-hungary",
   "metadata": {},
   "outputs": [
    {
     "name": "stdout",
     "output_type": "stream",
     "text": [
      "||p norm where p = 1, q = 1\n",
      "prox_nonneg(prox_reg(v)) IS NOT equal to prox(reg + nonneg)\n",
      "Max absolute error: 4.848e-01\n",
      "Average absolute error: 1.506e-03\n",
      "\n",
      "prox_reg(prox_nonneg(v)) SEEMS equal to prox(reg + nonneg)\n",
      "Max absolute error: 1.381e-04\n",
      "Average absolute error: 2.898e-07\n",
      "\n",
      "||p norm where p = 1, q = 2\n",
      "prox_nonneg(prox_reg(v)) IS NOT equal to prox(reg + nonneg)\n",
      "Max absolute error: 3.258e-01\n",
      "Average absolute error: 1.555e-03\n",
      "\n",
      "prox_reg(prox_nonneg(v)) SEEMS equal to prox(reg + nonneg)\n",
      "Max absolute error: 7.268e-05\n",
      "Average absolute error: 1.870e-07\n",
      "\n",
      "Plotting example as image.\n"
     ]
    },
    {
     "data": {
      "application/vnd.jupyter.widget-view+json": {
       "model_id": "56a2c7b7421245dcb10e622b7bb72963",
       "version_major": 2,
       "version_minor": 0
      },
      "text/plain": [
       "HBox(children=(Output(layout=Layout(width='80%')), Output(), Output(layout=Layout(width='25%'))))"
      ]
     },
     "metadata": {},
     "output_type": "display_data"
    },
    {
     "data": {
      "application/vnd.jupyter.widget-view+json": {
       "model_id": "",
       "version_major": 2,
       "version_minor": 0
      },
      "text/plain": [
       "Button(description='Show Widgets', style=ButtonStyle())"
      ]
     },
     "metadata": {},
     "output_type": "display_data"
    },
    {
     "name": "stdout",
     "output_type": "stream",
     "text": [
      "||p norm where p = 1, q = 3\n",
      "prox_nonneg(prox_reg(v)) IS NOT equal to prox(reg + nonneg)\n",
      "Max absolute error: 4.247e-01\n",
      "Average absolute error: 1.576e-03\n",
      "\n",
      "prox_reg(prox_nonneg(v)) SEEMS equal to prox(reg + nonneg)\n",
      "Max absolute error: 9.748e-05\n",
      "Average absolute error: 2.157e-07\n",
      "\n",
      "||p norm where p = 2, q = 1\n",
      "FATAL: Cannot solve SDPs with > 2x2 matrices without linked blas+lapack libraries\n",
      "Install blas+lapack and re-compile SCS with blas+lapack library locations\n",
      "ERROR: init_cone failure\n",
      "Failure:could not initialize work\n"
     ]
    },
    {
     "ename": "SolverError",
     "evalue": "Solver 'SCS' failed. Try another solver, or solve with verbose=True for more information.",
     "output_type": "error",
     "traceback": [
      "\u001b[1;31m---------------------------------------------------------------------------\u001b[0m",
      "\u001b[1;31mValueError\u001b[0m                                Traceback (most recent call last)",
      "\u001b[1;32m~\\Documents\\EPFL\\MA-3\\Project\\ProximalOperatorsProject\\code\\proximal.py\u001b[0m in \u001b[0;36mevaluate\u001b[1;34m(reg, reg_nonneg, n, size, mean, sigma, lamb, rtol, atol, plot, distribution, low, high, err_thr, additional_params)\u001b[0m\n\u001b[0;32m    105\u001b[0m         \u001b[1;32mtry\u001b[0m\u001b[1;33m:\u001b[0m\u001b[1;33m\u001b[0m\u001b[1;33m\u001b[0m\u001b[0m\n\u001b[1;32m--> 106\u001b[1;33m             \u001b[0mreg_plus_nonneg_vect\u001b[0m \u001b[1;33m=\u001b[0m \u001b[0mreg_nonneg\u001b[0m\u001b[1;33m(\u001b[0m\u001b[0mnp\u001b[0m\u001b[1;33m.\u001b[0m\u001b[0mcopy\u001b[0m\u001b[1;33m(\u001b[0m\u001b[0mv\u001b[0m\u001b[1;33m)\u001b[0m\u001b[1;33m,\u001b[0m \u001b[0mnp\u001b[0m\u001b[1;33m.\u001b[0m\u001b[0mones_like\u001b[0m\u001b[1;33m(\u001b[0m\u001b[0mv\u001b[0m\u001b[1;33m)\u001b[0m\u001b[1;33m*\u001b[0m\u001b[0mlamb\u001b[0m\u001b[1;33m,\u001b[0m \u001b[1;33m*\u001b[0m\u001b[0madditional_params\u001b[0m\u001b[1;33m)\u001b[0m\u001b[1;33m\u001b[0m\u001b[1;33m\u001b[0m\u001b[0m\n\u001b[0m\u001b[0;32m    107\u001b[0m             \u001b[0mreg_o_nonneg_vect\u001b[0m \u001b[1;33m=\u001b[0m \u001b[0mreg\u001b[0m\u001b[1;33m(\u001b[0m\u001b[0mnonneg\u001b[0m\u001b[1;33m(\u001b[0m\u001b[0mnp\u001b[0m\u001b[1;33m.\u001b[0m\u001b[0mcopy\u001b[0m\u001b[1;33m(\u001b[0m\u001b[0mv\u001b[0m\u001b[1;33m)\u001b[0m\u001b[1;33m)\u001b[0m\u001b[1;33m,\u001b[0m \u001b[0mnp\u001b[0m\u001b[1;33m.\u001b[0m\u001b[0mones_like\u001b[0m\u001b[1;33m(\u001b[0m\u001b[0mv\u001b[0m\u001b[1;33m)\u001b[0m\u001b[1;33m*\u001b[0m\u001b[0mlamb\u001b[0m\u001b[1;33m,\u001b[0m \u001b[1;33m*\u001b[0m\u001b[0madditional_params\u001b[0m\u001b[1;33m)\u001b[0m\u001b[1;33m\u001b[0m\u001b[1;33m\u001b[0m\u001b[0m\n",
      "\u001b[1;32m~\\Documents\\EPFL\\MA-3\\Project\\ProximalOperatorsProject\\code\\proximal.py\u001b[0m in \u001b[0;36mGS_plus_nonneg_prox\u001b[1;34m(v, lamb, g, p, q, exp)\u001b[0m\n\u001b[0;32m    529\u001b[0m \u001b[1;33m\u001b[0m\u001b[0m\n\u001b[1;32m--> 530\u001b[1;33m     \u001b[0mprob\u001b[0m \u001b[1;33m=\u001b[0m \u001b[0mcp\u001b[0m\u001b[1;33m.\u001b[0m\u001b[0mProblem\u001b[0m\u001b[1;33m(\u001b[0m\u001b[0mcp\u001b[0m\u001b[1;33m.\u001b[0m\u001b[0mMinimize\u001b[0m\u001b[1;33m(\u001b[0m\u001b[0mobj\u001b[0m\u001b[1;33m)\u001b[0m\u001b[1;33m)\u001b[0m\u001b[1;33m\u001b[0m\u001b[1;33m\u001b[0m\u001b[0m\n\u001b[0m\u001b[0;32m    531\u001b[0m     \u001b[0mprob\u001b[0m\u001b[1;33m.\u001b[0m\u001b[0msolve\u001b[0m\u001b[1;33m(\u001b[0m\u001b[1;33m)\u001b[0m\u001b[1;33m\u001b[0m\u001b[1;33m\u001b[0m\u001b[0m\n",
      "\u001b[1;32mc:\\users\\dolly\\documents\\epfl\\ma-3\\project\\prox_proj\\lib\\site-packages\\cvxpy\\problems\\objective.py\u001b[0m in \u001b[0;36m__init__\u001b[1;34m(self, expr)\u001b[0m\n\u001b[0;32m     43\u001b[0m             raise ValueError(\"The '%s' objective must resolve to a scalar.\"\n\u001b[1;32m---> 44\u001b[1;33m                              % self.NAME)\n\u001b[0m\u001b[0;32m     45\u001b[0m         \u001b[1;32mif\u001b[0m \u001b[1;32mnot\u001b[0m \u001b[0mself\u001b[0m\u001b[1;33m.\u001b[0m\u001b[0margs\u001b[0m\u001b[1;33m[\u001b[0m\u001b[1;36m0\u001b[0m\u001b[1;33m]\u001b[0m\u001b[1;33m.\u001b[0m\u001b[0mis_real\u001b[0m\u001b[1;33m(\u001b[0m\u001b[1;33m)\u001b[0m\u001b[1;33m:\u001b[0m\u001b[1;33m\u001b[0m\u001b[1;33m\u001b[0m\u001b[0m\n",
      "\u001b[1;31mValueError\u001b[0m: The 'minimize' objective must resolve to a scalar.",
      "\nDuring handling of the above exception, another exception occurred:\n",
      "\u001b[1;31mSolverError\u001b[0m                               Traceback (most recent call last)",
      "\u001b[1;32m<ipython-input-4-96e9c2d7dbe2>\u001b[0m in \u001b[0;36m<module>\u001b[1;34m\u001b[0m\n\u001b[0;32m      5\u001b[0m             \u001b[0mproximal\u001b[0m\u001b[1;33m.\u001b[0m\u001b[0mevaluate\u001b[0m\u001b[1;33m(\u001b[0m\u001b[0mproximal\u001b[0m\u001b[1;33m.\u001b[0m\u001b[0mGS_prox\u001b[0m\u001b[1;33m,\u001b[0m \u001b[0mproximal\u001b[0m\u001b[1;33m.\u001b[0m\u001b[0mGS_plus_nonneg_prox\u001b[0m\u001b[1;33m,\u001b[0m \u001b[0mn\u001b[0m\u001b[1;33m=\u001b[0m\u001b[1;36m10\u001b[0m\u001b[1;33m,\u001b[0m \u001b[0msize\u001b[0m\u001b[1;33m=\u001b[0m\u001b[1;33m(\u001b[0m\u001b[1;36m30\u001b[0m\u001b[1;33m,\u001b[0m \u001b[1;36m30\u001b[0m\u001b[1;33m,\u001b[0m\u001b[1;33m)\u001b[0m\u001b[1;33m,\u001b[0m \u001b[0mmean\u001b[0m\u001b[1;33m=\u001b[0m\u001b[1;36m0\u001b[0m\u001b[1;33m,\u001b[0m \u001b[0msigma\u001b[0m\u001b[1;33m=\u001b[0m\u001b[1;36m1\u001b[0m\u001b[1;33m,\u001b[0m \u001b[0mlamb\u001b[0m\u001b[1;33m=\u001b[0m\u001b[1;36m0.5\u001b[0m\u001b[1;33m,\u001b[0m \u001b[0madditional_params\u001b[0m\u001b[1;33m=\u001b[0m\u001b[1;33m[\u001b[0m\u001b[1;33m(\u001b[0m\u001b[1;36m5\u001b[0m\u001b[1;33m,\u001b[0m \u001b[1;36m5\u001b[0m\u001b[1;33m)\u001b[0m\u001b[1;33m,\u001b[0m \u001b[0mp\u001b[0m\u001b[1;33m,\u001b[0m \u001b[0mq\u001b[0m\u001b[1;33m]\u001b[0m\u001b[1;33m,\u001b[0m \u001b[0merr_thr\u001b[0m\u001b[1;33m=\u001b[0m\u001b[1;36m1e-3\u001b[0m\u001b[1;33m,\u001b[0m \u001b[0mplot\u001b[0m\u001b[1;33m=\u001b[0m\u001b[1;32mTrue\u001b[0m\u001b[1;33m)\u001b[0m\u001b[1;33m\u001b[0m\u001b[1;33m\u001b[0m\u001b[0m\n\u001b[0;32m      6\u001b[0m             \u001b[1;32mcontinue\u001b[0m\u001b[1;33m\u001b[0m\u001b[1;33m\u001b[0m\u001b[0m\n\u001b[1;32m----> 7\u001b[1;33m         \u001b[0mproximal\u001b[0m\u001b[1;33m.\u001b[0m\u001b[0mevaluate\u001b[0m\u001b[1;33m(\u001b[0m\u001b[0mproximal\u001b[0m\u001b[1;33m.\u001b[0m\u001b[0mGS_prox\u001b[0m\u001b[1;33m,\u001b[0m \u001b[0mproximal\u001b[0m\u001b[1;33m.\u001b[0m\u001b[0mGS_plus_nonneg_prox\u001b[0m\u001b[1;33m,\u001b[0m \u001b[0mn\u001b[0m\u001b[1;33m=\u001b[0m\u001b[1;36m10\u001b[0m\u001b[1;33m,\u001b[0m \u001b[0msize\u001b[0m\u001b[1;33m=\u001b[0m\u001b[1;33m(\u001b[0m\u001b[1;36m30\u001b[0m\u001b[1;33m,\u001b[0m \u001b[1;36m30\u001b[0m\u001b[1;33m,\u001b[0m\u001b[1;33m)\u001b[0m\u001b[1;33m,\u001b[0m \u001b[0mmean\u001b[0m\u001b[1;33m=\u001b[0m\u001b[1;36m0\u001b[0m\u001b[1;33m,\u001b[0m \u001b[0msigma\u001b[0m\u001b[1;33m=\u001b[0m\u001b[1;36m1\u001b[0m\u001b[1;33m,\u001b[0m \u001b[0mlamb\u001b[0m\u001b[1;33m=\u001b[0m\u001b[1;36m0.5\u001b[0m\u001b[1;33m,\u001b[0m \u001b[0mplot\u001b[0m\u001b[1;33m=\u001b[0m\u001b[1;32mFalse\u001b[0m\u001b[1;33m,\u001b[0m \u001b[0madditional_params\u001b[0m\u001b[1;33m=\u001b[0m\u001b[1;33m[\u001b[0m\u001b[1;33m(\u001b[0m\u001b[1;36m5\u001b[0m\u001b[1;33m,\u001b[0m \u001b[1;36m5\u001b[0m\u001b[1;33m)\u001b[0m\u001b[1;33m,\u001b[0m \u001b[0mp\u001b[0m\u001b[1;33m,\u001b[0m \u001b[0mq\u001b[0m\u001b[1;33m]\u001b[0m\u001b[1;33m,\u001b[0m \u001b[0merr_thr\u001b[0m \u001b[1;33m=\u001b[0m \u001b[1;36m1e-3\u001b[0m\u001b[1;33m)\u001b[0m\u001b[1;33m\u001b[0m\u001b[1;33m\u001b[0m\u001b[0m\n\u001b[0m",
      "\u001b[1;32m~\\Documents\\EPFL\\MA-3\\Project\\ProximalOperatorsProject\\code\\proximal.py\u001b[0m in \u001b[0;36mevaluate\u001b[1;34m(reg, reg_nonneg, n, size, mean, sigma, lamb, rtol, atol, plot, distribution, low, high, err_thr, additional_params)\u001b[0m\n\u001b[0;32m    109\u001b[0m         \u001b[1;31m# Except will do the job for CVXPy\u001b[0m\u001b[1;33m\u001b[0m\u001b[1;33m\u001b[0m\u001b[1;33m\u001b[0m\u001b[0m\n\u001b[0;32m    110\u001b[0m         \u001b[1;32mexcept\u001b[0m\u001b[1;33m:\u001b[0m\u001b[1;33m\u001b[0m\u001b[1;33m\u001b[0m\u001b[0m\n\u001b[1;32m--> 111\u001b[1;33m             \u001b[0mreg_plus_nonneg_vect\u001b[0m \u001b[1;33m=\u001b[0m \u001b[0mreg_nonneg\u001b[0m\u001b[1;33m(\u001b[0m\u001b[0mnp\u001b[0m\u001b[1;33m.\u001b[0m\u001b[0mcopy\u001b[0m\u001b[1;33m(\u001b[0m\u001b[0mv\u001b[0m\u001b[1;33m)\u001b[0m\u001b[1;33m,\u001b[0m \u001b[0mlamb\u001b[0m\u001b[1;33m,\u001b[0m \u001b[1;33m*\u001b[0m\u001b[0madditional_params\u001b[0m\u001b[1;33m)\u001b[0m\u001b[1;33m\u001b[0m\u001b[1;33m\u001b[0m\u001b[0m\n\u001b[0m\u001b[0;32m    112\u001b[0m             \u001b[0mreg_o_nonneg_vect\u001b[0m \u001b[1;33m=\u001b[0m \u001b[0mreg\u001b[0m\u001b[1;33m(\u001b[0m\u001b[0mnonneg\u001b[0m\u001b[1;33m(\u001b[0m\u001b[0mnp\u001b[0m\u001b[1;33m.\u001b[0m\u001b[0mcopy\u001b[0m\u001b[1;33m(\u001b[0m\u001b[0mv\u001b[0m\u001b[1;33m)\u001b[0m\u001b[1;33m)\u001b[0m\u001b[1;33m,\u001b[0m \u001b[0mlamb\u001b[0m\u001b[1;33m,\u001b[0m \u001b[1;33m*\u001b[0m\u001b[0madditional_params\u001b[0m\u001b[1;33m)\u001b[0m\u001b[1;33m\u001b[0m\u001b[1;33m\u001b[0m\u001b[0m\n\u001b[0;32m    113\u001b[0m             \u001b[0mnonneg_o_reg_vect\u001b[0m \u001b[1;33m=\u001b[0m \u001b[0mnonneg\u001b[0m\u001b[1;33m(\u001b[0m\u001b[0mreg\u001b[0m\u001b[1;33m(\u001b[0m\u001b[0mnp\u001b[0m\u001b[1;33m.\u001b[0m\u001b[0mcopy\u001b[0m\u001b[1;33m(\u001b[0m\u001b[0mv\u001b[0m\u001b[1;33m)\u001b[0m\u001b[1;33m,\u001b[0m \u001b[0mlamb\u001b[0m\u001b[1;33m,\u001b[0m \u001b[1;33m*\u001b[0m\u001b[0madditional_params\u001b[0m\u001b[1;33m)\u001b[0m\u001b[1;33m)\u001b[0m\u001b[1;33m\u001b[0m\u001b[1;33m\u001b[0m\u001b[0m\n",
      "\u001b[1;32m~\\Documents\\EPFL\\MA-3\\Project\\ProximalOperatorsProject\\code\\proximal.py\u001b[0m in \u001b[0;36mGS_plus_nonneg_prox\u001b[1;34m(v, lamb, g, p, q, exp)\u001b[0m\n\u001b[0;32m    529\u001b[0m \u001b[1;33m\u001b[0m\u001b[0m\n\u001b[0;32m    530\u001b[0m     \u001b[0mprob\u001b[0m \u001b[1;33m=\u001b[0m \u001b[0mcp\u001b[0m\u001b[1;33m.\u001b[0m\u001b[0mProblem\u001b[0m\u001b[1;33m(\u001b[0m\u001b[0mcp\u001b[0m\u001b[1;33m.\u001b[0m\u001b[0mMinimize\u001b[0m\u001b[1;33m(\u001b[0m\u001b[0mobj\u001b[0m\u001b[1;33m)\u001b[0m\u001b[1;33m)\u001b[0m\u001b[1;33m\u001b[0m\u001b[1;33m\u001b[0m\u001b[0m\n\u001b[1;32m--> 531\u001b[1;33m     \u001b[0mprob\u001b[0m\u001b[1;33m.\u001b[0m\u001b[0msolve\u001b[0m\u001b[1;33m(\u001b[0m\u001b[1;33m)\u001b[0m\u001b[1;33m\u001b[0m\u001b[1;33m\u001b[0m\u001b[0m\n\u001b[0m\u001b[0;32m    532\u001b[0m \u001b[1;33m\u001b[0m\u001b[0m\n\u001b[0;32m    533\u001b[0m     \u001b[1;32mreturn\u001b[0m \u001b[0mx\u001b[0m\u001b[1;33m.\u001b[0m\u001b[0mvalue\u001b[0m\u001b[1;33m\u001b[0m\u001b[1;33m\u001b[0m\u001b[0m\n",
      "\u001b[1;32mc:\\users\\dolly\\documents\\epfl\\ma-3\\project\\prox_proj\\lib\\site-packages\\cvxpy\\problems\\problem.py\u001b[0m in \u001b[0;36msolve\u001b[1;34m(self, *args, **kwargs)\u001b[0m\n\u001b[0;32m    399\u001b[0m         \u001b[1;32melse\u001b[0m\u001b[1;33m:\u001b[0m\u001b[1;33m\u001b[0m\u001b[1;33m\u001b[0m\u001b[0m\n\u001b[0;32m    400\u001b[0m             \u001b[0msolve_func\u001b[0m \u001b[1;33m=\u001b[0m \u001b[0mProblem\u001b[0m\u001b[1;33m.\u001b[0m\u001b[0m_solve\u001b[0m\u001b[1;33m\u001b[0m\u001b[1;33m\u001b[0m\u001b[0m\n\u001b[1;32m--> 401\u001b[1;33m         \u001b[1;32mreturn\u001b[0m \u001b[0msolve_func\u001b[0m\u001b[1;33m(\u001b[0m\u001b[0mself\u001b[0m\u001b[1;33m,\u001b[0m \u001b[1;33m*\u001b[0m\u001b[0margs\u001b[0m\u001b[1;33m,\u001b[0m \u001b[1;33m**\u001b[0m\u001b[0mkwargs\u001b[0m\u001b[1;33m)\u001b[0m\u001b[1;33m\u001b[0m\u001b[1;33m\u001b[0m\u001b[0m\n\u001b[0m\u001b[0;32m    402\u001b[0m \u001b[1;33m\u001b[0m\u001b[0m\n\u001b[0;32m    403\u001b[0m     \u001b[1;33m@\u001b[0m\u001b[0mclassmethod\u001b[0m\u001b[1;33m\u001b[0m\u001b[1;33m\u001b[0m\u001b[0m\n",
      "\u001b[1;32mc:\\users\\dolly\\documents\\epfl\\ma-3\\project\\prox_proj\\lib\\site-packages\\cvxpy\\problems\\problem.py\u001b[0m in \u001b[0;36m_solve\u001b[1;34m(self, solver, warm_start, verbose, gp, qcp, requires_grad, enforce_dpp, **kwargs)\u001b[0m\n\u001b[0;32m    817\u001b[0m         solution = solving_chain.solve_via_data(\n\u001b[0;32m    818\u001b[0m             self, data, warm_start, verbose, kwargs)\n\u001b[1;32m--> 819\u001b[1;33m         \u001b[0mself\u001b[0m\u001b[1;33m.\u001b[0m\u001b[0munpack_results\u001b[0m\u001b[1;33m(\u001b[0m\u001b[0msolution\u001b[0m\u001b[1;33m,\u001b[0m \u001b[0msolving_chain\u001b[0m\u001b[1;33m,\u001b[0m \u001b[0minverse_data\u001b[0m\u001b[1;33m)\u001b[0m\u001b[1;33m\u001b[0m\u001b[1;33m\u001b[0m\u001b[0m\n\u001b[0m\u001b[0;32m    820\u001b[0m         \u001b[1;32mreturn\u001b[0m \u001b[0mself\u001b[0m\u001b[1;33m.\u001b[0m\u001b[0mvalue\u001b[0m\u001b[1;33m\u001b[0m\u001b[1;33m\u001b[0m\u001b[0m\n\u001b[0;32m    821\u001b[0m \u001b[1;33m\u001b[0m\u001b[0m\n",
      "\u001b[1;32mc:\\users\\dolly\\documents\\epfl\\ma-3\\project\\prox_proj\\lib\\site-packages\\cvxpy\\problems\\problem.py\u001b[0m in \u001b[0;36munpack_results\u001b[1;34m(self, solution, chain, inverse_data)\u001b[0m\n\u001b[0;32m   1131\u001b[0m             raise error.SolverError(\n\u001b[0;32m   1132\u001b[0m                     \u001b[1;34m\"Solver '%s' failed. \"\u001b[0m \u001b[1;33m%\u001b[0m \u001b[0mchain\u001b[0m\u001b[1;33m.\u001b[0m\u001b[0msolver\u001b[0m\u001b[1;33m.\u001b[0m\u001b[0mname\u001b[0m\u001b[1;33m(\u001b[0m\u001b[1;33m)\u001b[0m \u001b[1;33m+\u001b[0m\u001b[1;33m\u001b[0m\u001b[1;33m\u001b[0m\u001b[0m\n\u001b[1;32m-> 1133\u001b[1;33m                     \u001b[1;34m\"Try another solver, or solve with verbose=True for more \"\u001b[0m\u001b[1;33m\u001b[0m\u001b[1;33m\u001b[0m\u001b[0m\n\u001b[0m\u001b[0;32m   1134\u001b[0m                     \"information.\")\n\u001b[0;32m   1135\u001b[0m         \u001b[0mself\u001b[0m\u001b[1;33m.\u001b[0m\u001b[0munpack\u001b[0m\u001b[1;33m(\u001b[0m\u001b[0msolution\u001b[0m\u001b[1;33m)\u001b[0m\u001b[1;33m\u001b[0m\u001b[1;33m\u001b[0m\u001b[0m\n",
      "\u001b[1;31mSolverError\u001b[0m: Solver 'SCS' failed. Try another solver, or solve with verbose=True for more information."
     ]
    }
   ],
   "source": [
    "for p in [1, 2]:\n",
    "    for q in [1, 2, 3]:\n",
    "        print(f'||p norm where p = {p}, q = {q}')\n",
    "        if p == 1 and q == 2:\n",
    "            proximal.evaluate(proximal.GS_prox, proximal.GS_plus_nonneg_prox, n=10, size=(30, 30,), mean=0, sigma=1, lamb=0.5, additional_params=[(5, 5), p, q], err_thr=1e-3, plot=True)\n",
    "            continue\n",
    "        proximal.evaluate(proximal.GS_prox, proximal.GS_plus_nonneg_prox, n=10, size=(30, 30,), mean=0, sigma=1, lamb=0.5, plot=False, additional_params=[(5, 5), p, q], err_thr = 1e-3)"
   ]
  },
  {
   "cell_type": "markdown",
   "id": "basic-parliament",
   "metadata": {},
   "source": [
    "$$\\|\\operatorname{G}x\\|_{p, q}^{p, q}$$"
   ]
  },
  {
   "cell_type": "code",
   "execution_count": 5,
   "id": "animal-tampa",
   "metadata": {},
   "outputs": [
    {
     "name": "stdout",
     "output_type": "stream",
     "text": [
      "||p norm where p = 1, q = 1\n"
     ]
    },
    {
     "ename": "TypeError",
     "evalue": "__init__() missing 1 required positional argument: 'p'",
     "output_type": "error",
     "traceback": [
      "\u001b[1;31m---------------------------------------------------------------------------\u001b[0m",
      "\u001b[1;31mValueError\u001b[0m                                Traceback (most recent call last)",
      "\u001b[1;32m~\\Documents\\EPFL\\MA-3\\Project\\ProximalOperatorsProject\\code\\proximal.py\u001b[0m in \u001b[0;36mevaluate\u001b[1;34m(reg, reg_nonneg, n, size, mean, sigma, lamb, rtol, atol, plot, distribution, low, high, err_thr, additional_params)\u001b[0m\n\u001b[0;32m    105\u001b[0m         \u001b[1;32mtry\u001b[0m\u001b[1;33m:\u001b[0m\u001b[1;33m\u001b[0m\u001b[1;33m\u001b[0m\u001b[0m\n\u001b[1;32m--> 106\u001b[1;33m             \u001b[0mreg_plus_nonneg_vect\u001b[0m \u001b[1;33m=\u001b[0m \u001b[0mreg_nonneg\u001b[0m\u001b[1;33m(\u001b[0m\u001b[0mnp\u001b[0m\u001b[1;33m.\u001b[0m\u001b[0mcopy\u001b[0m\u001b[1;33m(\u001b[0m\u001b[0mv\u001b[0m\u001b[1;33m)\u001b[0m\u001b[1;33m,\u001b[0m \u001b[0mnp\u001b[0m\u001b[1;33m.\u001b[0m\u001b[0mones_like\u001b[0m\u001b[1;33m(\u001b[0m\u001b[0mv\u001b[0m\u001b[1;33m)\u001b[0m\u001b[1;33m*\u001b[0m\u001b[0mlamb\u001b[0m\u001b[1;33m,\u001b[0m \u001b[1;33m*\u001b[0m\u001b[0madditional_params\u001b[0m\u001b[1;33m)\u001b[0m\u001b[1;33m\u001b[0m\u001b[1;33m\u001b[0m\u001b[0m\n\u001b[0m\u001b[0;32m    107\u001b[0m             \u001b[0mreg_o_nonneg_vect\u001b[0m \u001b[1;33m=\u001b[0m \u001b[0mreg\u001b[0m\u001b[1;33m(\u001b[0m\u001b[0mnonneg\u001b[0m\u001b[1;33m(\u001b[0m\u001b[0mnp\u001b[0m\u001b[1;33m.\u001b[0m\u001b[0mcopy\u001b[0m\u001b[1;33m(\u001b[0m\u001b[0mv\u001b[0m\u001b[1;33m)\u001b[0m\u001b[1;33m)\u001b[0m\u001b[1;33m,\u001b[0m \u001b[0mnp\u001b[0m\u001b[1;33m.\u001b[0m\u001b[0mones_like\u001b[0m\u001b[1;33m(\u001b[0m\u001b[0mv\u001b[0m\u001b[1;33m)\u001b[0m\u001b[1;33m*\u001b[0m\u001b[0mlamb\u001b[0m\u001b[1;33m,\u001b[0m \u001b[1;33m*\u001b[0m\u001b[0madditional_params\u001b[0m\u001b[1;33m)\u001b[0m\u001b[1;33m\u001b[0m\u001b[1;33m\u001b[0m\u001b[0m\n",
      "\u001b[1;32m~\\Documents\\EPFL\\MA-3\\Project\\ProximalOperatorsProject\\code\\proximal.py\u001b[0m in \u001b[0;36mGS_plus_nonneg_prox\u001b[1;34m(v, lamb, g, p, q, exp)\u001b[0m\n\u001b[0;32m    529\u001b[0m \u001b[1;33m\u001b[0m\u001b[0m\n\u001b[1;32m--> 530\u001b[1;33m     \u001b[0mprob\u001b[0m \u001b[1;33m=\u001b[0m \u001b[0mcp\u001b[0m\u001b[1;33m.\u001b[0m\u001b[0mProblem\u001b[0m\u001b[1;33m(\u001b[0m\u001b[0mcp\u001b[0m\u001b[1;33m.\u001b[0m\u001b[0mMinimize\u001b[0m\u001b[1;33m(\u001b[0m\u001b[0mobj\u001b[0m\u001b[1;33m)\u001b[0m\u001b[1;33m)\u001b[0m\u001b[1;33m\u001b[0m\u001b[1;33m\u001b[0m\u001b[0m\n\u001b[0m\u001b[0;32m    531\u001b[0m     \u001b[0mprob\u001b[0m\u001b[1;33m.\u001b[0m\u001b[0msolve\u001b[0m\u001b[1;33m(\u001b[0m\u001b[1;33m)\u001b[0m\u001b[1;33m\u001b[0m\u001b[1;33m\u001b[0m\u001b[0m\n",
      "\u001b[1;32mc:\\users\\dolly\\documents\\epfl\\ma-3\\project\\prox_proj\\lib\\site-packages\\cvxpy\\problems\\objective.py\u001b[0m in \u001b[0;36m__init__\u001b[1;34m(self, expr)\u001b[0m\n\u001b[0;32m     43\u001b[0m             raise ValueError(\"The '%s' objective must resolve to a scalar.\"\n\u001b[1;32m---> 44\u001b[1;33m                              % self.NAME)\n\u001b[0m\u001b[0;32m     45\u001b[0m         \u001b[1;32mif\u001b[0m \u001b[1;32mnot\u001b[0m \u001b[0mself\u001b[0m\u001b[1;33m.\u001b[0m\u001b[0margs\u001b[0m\u001b[1;33m[\u001b[0m\u001b[1;36m0\u001b[0m\u001b[1;33m]\u001b[0m\u001b[1;33m.\u001b[0m\u001b[0mis_real\u001b[0m\u001b[1;33m(\u001b[0m\u001b[1;33m)\u001b[0m\u001b[1;33m:\u001b[0m\u001b[1;33m\u001b[0m\u001b[1;33m\u001b[0m\u001b[0m\n",
      "\u001b[1;31mValueError\u001b[0m: The 'minimize' objective must resolve to a scalar.",
      "\nDuring handling of the above exception, another exception occurred:\n",
      "\u001b[1;31mTypeError\u001b[0m                                 Traceback (most recent call last)",
      "\u001b[1;32m<ipython-input-5-55d04549c6d7>\u001b[0m in \u001b[0;36m<module>\u001b[1;34m\u001b[0m\n\u001b[0;32m      5\u001b[0m             \u001b[0mproximal\u001b[0m\u001b[1;33m.\u001b[0m\u001b[0mevaluate\u001b[0m\u001b[1;33m(\u001b[0m\u001b[0mproximal\u001b[0m\u001b[1;33m.\u001b[0m\u001b[0mGS_prox\u001b[0m\u001b[1;33m,\u001b[0m \u001b[0mproximal\u001b[0m\u001b[1;33m.\u001b[0m\u001b[0mGS_plus_nonneg_prox\u001b[0m\u001b[1;33m,\u001b[0m \u001b[0mn\u001b[0m\u001b[1;33m=\u001b[0m\u001b[1;36m10\u001b[0m\u001b[1;33m,\u001b[0m \u001b[0msize\u001b[0m\u001b[1;33m=\u001b[0m\u001b[1;33m(\u001b[0m\u001b[1;36m30\u001b[0m\u001b[1;33m,\u001b[0m \u001b[1;36m30\u001b[0m\u001b[1;33m,\u001b[0m\u001b[1;33m)\u001b[0m\u001b[1;33m,\u001b[0m \u001b[0mmean\u001b[0m\u001b[1;33m=\u001b[0m\u001b[1;36m0\u001b[0m\u001b[1;33m,\u001b[0m \u001b[0msigma\u001b[0m\u001b[1;33m=\u001b[0m\u001b[1;36m1\u001b[0m\u001b[1;33m,\u001b[0m \u001b[0mlamb\u001b[0m\u001b[1;33m=\u001b[0m\u001b[1;36m0.5\u001b[0m\u001b[1;33m,\u001b[0m \u001b[0madditional_params\u001b[0m\u001b[1;33m=\u001b[0m\u001b[1;33m[\u001b[0m\u001b[1;33m(\u001b[0m\u001b[1;36m5\u001b[0m\u001b[1;33m,\u001b[0m \u001b[1;36m5\u001b[0m\u001b[1;33m)\u001b[0m\u001b[1;33m,\u001b[0m \u001b[0mp\u001b[0m\u001b[1;33m,\u001b[0m \u001b[0mq\u001b[0m\u001b[1;33m,\u001b[0m \u001b[1;32mTrue\u001b[0m\u001b[1;33m]\u001b[0m\u001b[1;33m,\u001b[0m \u001b[0merr_thr\u001b[0m\u001b[1;33m=\u001b[0m\u001b[1;36m1e-3\u001b[0m\u001b[1;33m,\u001b[0m \u001b[0mplot\u001b[0m\u001b[1;33m=\u001b[0m\u001b[1;32mTrue\u001b[0m\u001b[1;33m)\u001b[0m\u001b[1;33m\u001b[0m\u001b[1;33m\u001b[0m\u001b[0m\n\u001b[0;32m      6\u001b[0m             \u001b[1;32mcontinue\u001b[0m\u001b[1;33m\u001b[0m\u001b[1;33m\u001b[0m\u001b[0m\n\u001b[1;32m----> 7\u001b[1;33m         \u001b[0mproximal\u001b[0m\u001b[1;33m.\u001b[0m\u001b[0mevaluate\u001b[0m\u001b[1;33m(\u001b[0m\u001b[0mproximal\u001b[0m\u001b[1;33m.\u001b[0m\u001b[0mGS_prox\u001b[0m\u001b[1;33m,\u001b[0m \u001b[0mproximal\u001b[0m\u001b[1;33m.\u001b[0m\u001b[0mGS_plus_nonneg_prox\u001b[0m\u001b[1;33m,\u001b[0m \u001b[0mn\u001b[0m\u001b[1;33m=\u001b[0m\u001b[1;36m10\u001b[0m\u001b[1;33m,\u001b[0m \u001b[0msize\u001b[0m\u001b[1;33m=\u001b[0m\u001b[1;33m(\u001b[0m\u001b[1;36m30\u001b[0m\u001b[1;33m,\u001b[0m \u001b[1;36m30\u001b[0m\u001b[1;33m,\u001b[0m\u001b[1;33m)\u001b[0m\u001b[1;33m,\u001b[0m \u001b[0mmean\u001b[0m\u001b[1;33m=\u001b[0m\u001b[1;36m0\u001b[0m\u001b[1;33m,\u001b[0m \u001b[0msigma\u001b[0m\u001b[1;33m=\u001b[0m\u001b[1;36m1\u001b[0m\u001b[1;33m,\u001b[0m \u001b[0mlamb\u001b[0m\u001b[1;33m=\u001b[0m\u001b[1;36m0.5\u001b[0m\u001b[1;33m,\u001b[0m \u001b[0mplot\u001b[0m\u001b[1;33m=\u001b[0m\u001b[1;32mFalse\u001b[0m\u001b[1;33m,\u001b[0m \u001b[0madditional_params\u001b[0m\u001b[1;33m=\u001b[0m\u001b[1;33m[\u001b[0m\u001b[1;33m(\u001b[0m\u001b[1;36m5\u001b[0m\u001b[1;33m,\u001b[0m \u001b[1;36m5\u001b[0m\u001b[1;33m)\u001b[0m\u001b[1;33m,\u001b[0m \u001b[0mp\u001b[0m\u001b[1;33m,\u001b[0m \u001b[0mq\u001b[0m\u001b[1;33m,\u001b[0m \u001b[1;32mTrue\u001b[0m\u001b[1;33m]\u001b[0m\u001b[1;33m,\u001b[0m \u001b[0merr_thr\u001b[0m \u001b[1;33m=\u001b[0m \u001b[1;36m1e-3\u001b[0m\u001b[1;33m)\u001b[0m\u001b[1;33m\u001b[0m\u001b[1;33m\u001b[0m\u001b[0m\n\u001b[0m",
      "\u001b[1;32m~\\Documents\\EPFL\\MA-3\\Project\\ProximalOperatorsProject\\code\\proximal.py\u001b[0m in \u001b[0;36mevaluate\u001b[1;34m(reg, reg_nonneg, n, size, mean, sigma, lamb, rtol, atol, plot, distribution, low, high, err_thr, additional_params)\u001b[0m\n\u001b[0;32m    110\u001b[0m         \u001b[1;32mexcept\u001b[0m\u001b[1;33m:\u001b[0m\u001b[1;33m\u001b[0m\u001b[1;33m\u001b[0m\u001b[0m\n\u001b[0;32m    111\u001b[0m             \u001b[0mreg_plus_nonneg_vect\u001b[0m \u001b[1;33m=\u001b[0m \u001b[0mreg_nonneg\u001b[0m\u001b[1;33m(\u001b[0m\u001b[0mnp\u001b[0m\u001b[1;33m.\u001b[0m\u001b[0mcopy\u001b[0m\u001b[1;33m(\u001b[0m\u001b[0mv\u001b[0m\u001b[1;33m)\u001b[0m\u001b[1;33m,\u001b[0m \u001b[0mlamb\u001b[0m\u001b[1;33m,\u001b[0m \u001b[1;33m*\u001b[0m\u001b[0madditional_params\u001b[0m\u001b[1;33m)\u001b[0m\u001b[1;33m\u001b[0m\u001b[1;33m\u001b[0m\u001b[0m\n\u001b[1;32m--> 112\u001b[1;33m             \u001b[0mreg_o_nonneg_vect\u001b[0m \u001b[1;33m=\u001b[0m \u001b[0mreg\u001b[0m\u001b[1;33m(\u001b[0m\u001b[0mnonneg\u001b[0m\u001b[1;33m(\u001b[0m\u001b[0mnp\u001b[0m\u001b[1;33m.\u001b[0m\u001b[0mcopy\u001b[0m\u001b[1;33m(\u001b[0m\u001b[0mv\u001b[0m\u001b[1;33m)\u001b[0m\u001b[1;33m)\u001b[0m\u001b[1;33m,\u001b[0m \u001b[0mlamb\u001b[0m\u001b[1;33m,\u001b[0m \u001b[1;33m*\u001b[0m\u001b[0madditional_params\u001b[0m\u001b[1;33m)\u001b[0m\u001b[1;33m\u001b[0m\u001b[1;33m\u001b[0m\u001b[0m\n\u001b[0m\u001b[0;32m    113\u001b[0m             \u001b[0mnonneg_o_reg_vect\u001b[0m \u001b[1;33m=\u001b[0m \u001b[0mnonneg\u001b[0m\u001b[1;33m(\u001b[0m\u001b[0mreg\u001b[0m\u001b[1;33m(\u001b[0m\u001b[0mnp\u001b[0m\u001b[1;33m.\u001b[0m\u001b[0mcopy\u001b[0m\u001b[1;33m(\u001b[0m\u001b[0mv\u001b[0m\u001b[1;33m)\u001b[0m\u001b[1;33m,\u001b[0m \u001b[0mlamb\u001b[0m\u001b[1;33m,\u001b[0m \u001b[1;33m*\u001b[0m\u001b[0madditional_params\u001b[0m\u001b[1;33m)\u001b[0m\u001b[1;33m)\u001b[0m\u001b[1;33m\u001b[0m\u001b[1;33m\u001b[0m\u001b[0m\n\u001b[0;32m    114\u001b[0m \u001b[1;33m\u001b[0m\u001b[0m\n",
      "\u001b[1;32m~\\Documents\\EPFL\\MA-3\\Project\\ProximalOperatorsProject\\code\\proximal.py\u001b[0m in \u001b[0;36mGS_prox\u001b[1;34m(v, lamb, g, p, q, exp)\u001b[0m\n\u001b[0;32m    478\u001b[0m         \u001b[1;32mfor\u001b[0m \u001b[0mj\u001b[0m \u001b[1;32min\u001b[0m \u001b[0mnp\u001b[0m\u001b[1;33m.\u001b[0m\u001b[0marange\u001b[0m\u001b[1;33m(\u001b[0m\u001b[1;36m0\u001b[0m\u001b[1;33m,\u001b[0m \u001b[0mg\u001b[0m\u001b[1;33m[\u001b[0m\u001b[1;36m0\u001b[0m\u001b[1;33m]\u001b[0m\u001b[1;33m,\u001b[0m \u001b[0mlen_n_gy\u001b[0m\u001b[1;33m)\u001b[0m\u001b[1;33m:\u001b[0m\u001b[1;33m\u001b[0m\u001b[1;33m\u001b[0m\u001b[0m\n\u001b[0;32m    479\u001b[0m             \u001b[1;32mif\u001b[0m \u001b[0mexp\u001b[0m\u001b[1;33m:\u001b[0m\u001b[1;33m\u001b[0m\u001b[1;33m\u001b[0m\u001b[0m\n\u001b[1;32m--> 480\u001b[1;33m                 \u001b[0mgroup_norms\u001b[0m\u001b[1;33m.\u001b[0m\u001b[0mappend\u001b[0m\u001b[1;33m(\u001b[0m\u001b[0mcp\u001b[0m\u001b[1;33m.\u001b[0m\u001b[0mpower\u001b[0m\u001b[1;33m(\u001b[0m\u001b[0mcp\u001b[0m\u001b[1;33m.\u001b[0m\u001b[0mnorm\u001b[0m\u001b[1;33m(\u001b[0m\u001b[0mx\u001b[0m\u001b[1;33m[\u001b[0m\u001b[0mi\u001b[0m\u001b[1;33m:\u001b[0m\u001b[0mi\u001b[0m\u001b[1;33m+\u001b[0m\u001b[0mlen_n_gx\u001b[0m\u001b[1;33m,\u001b[0m \u001b[0mj\u001b[0m\u001b[1;33m:\u001b[0m\u001b[0mj\u001b[0m\u001b[1;33m+\u001b[0m\u001b[0mlen_n_gy\u001b[0m\u001b[1;33m]\u001b[0m\u001b[1;33m,\u001b[0m \u001b[0mp\u001b[0m\u001b[1;33m)\u001b[0m\u001b[1;33m)\u001b[0m\u001b[1;33m,\u001b[0m \u001b[0mp\u001b[0m\u001b[1;33m)\u001b[0m\u001b[1;33m\u001b[0m\u001b[1;33m\u001b[0m\u001b[0m\n\u001b[0m\u001b[0;32m    481\u001b[0m             \u001b[1;32melse\u001b[0m\u001b[1;33m:\u001b[0m\u001b[1;33m\u001b[0m\u001b[1;33m\u001b[0m\u001b[0m\n\u001b[0;32m    482\u001b[0m                 \u001b[0mgroup_norms\u001b[0m\u001b[1;33m.\u001b[0m\u001b[0mappend\u001b[0m\u001b[1;33m(\u001b[0m\u001b[0mcp\u001b[0m\u001b[1;33m.\u001b[0m\u001b[0mnorm\u001b[0m\u001b[1;33m(\u001b[0m\u001b[0mx\u001b[0m\u001b[1;33m[\u001b[0m\u001b[0mi\u001b[0m\u001b[1;33m:\u001b[0m\u001b[0mi\u001b[0m\u001b[1;33m+\u001b[0m\u001b[0mlen_n_gx\u001b[0m\u001b[1;33m,\u001b[0m \u001b[0mj\u001b[0m\u001b[1;33m:\u001b[0m\u001b[0mj\u001b[0m\u001b[1;33m+\u001b[0m\u001b[0mlen_n_gy\u001b[0m\u001b[1;33m]\u001b[0m\u001b[1;33m,\u001b[0m \u001b[0mp\u001b[0m\u001b[1;33m)\u001b[0m\u001b[1;33m)\u001b[0m\u001b[1;33m\u001b[0m\u001b[1;33m\u001b[0m\u001b[0m\n",
      "\u001b[1;31mTypeError\u001b[0m: __init__() missing 1 required positional argument: 'p'"
     ]
    }
   ],
   "source": [
    "for p in [1, 2]:\n",
    "    for q in [1, 2, 3]:\n",
    "        print(f'||p norm where p = {p}, q = {q}')\n",
    "        if p == 1 and q == 2:\n",
    "            proximal.evaluate(proximal.GS_prox, proximal.GS_plus_nonneg_prox, n=10, size=(30, 30,), mean=0, sigma=1, lamb=0.5, additional_params=[(5, 5), p, q, True], err_thr=1e-3, plot=True)\n",
    "            continue\n",
    "        proximal.evaluate(proximal.GS_prox, proximal.GS_plus_nonneg_prox, n=10, size=(30, 30,), mean=0, sigma=1, lamb=0.5, plot=False, additional_params=[(5, 5), p, q, True], err_thr = 1e-3)"
   ]
  },
  {
   "cell_type": "markdown",
   "id": "neural-suspension",
   "metadata": {},
   "source": [
    "## 4. Total Variation\n",
    "[Back to Index](#Index)\n",
    "\n",
    "The finite differences Operator is denoted by $\\operatorname{D}$\n",
    "\n",
    "\n",
    "## 4.A 1D Total Variation \n",
    "[Back to Index](#Index)\n",
    "\n",
    "$$\\|Dx\\|_p$$\n"
   ]
  },
  {
   "cell_type": "code",
   "execution_count": 10,
   "id": "certain-virtue",
   "metadata": {},
   "outputs": [
    {
     "data": {
      "text/plain": [
       "array([5, 6])"
      ]
     },
     "execution_count": 10,
     "metadata": {},
     "output_type": "execute_result"
    }
   ],
   "source": [
    "np.arange(1, 10)[4:6]\n"
   ]
  },
  {
   "cell_type": "code",
   "execution_count": 7,
   "id": "annual-latin",
   "metadata": {},
   "outputs": [
    {
     "name": "stdout",
     "output_type": "stream",
     "text": [
      "||p norm where p = 1\n",
      "prox_nonneg(prox_reg(v)) SEEMS equal to prox(reg + nonneg).\n",
      "Max absolute error: 1.384e-05\n",
      "Average absolute error: 4.833e-07\n",
      "\n",
      "prox_reg(prox_nonneg(v)) IS NOT equal to prox(reg + nonneg)\n",
      "Max absolute error: 6.166e-01\n",
      "Average absolute error: 1.640e-01\n",
      "\n",
      "Plotting example\n"
     ]
    },
    {
     "data": {
      "application/vnd.jupyter.widget-view+json": {
       "model_id": "6b13a78dd72d4ea4b4b9f902da12033e",
       "version_major": 2,
       "version_minor": 0
      },
      "text/plain": [
       "Canvas(toolbar=Toolbar(toolitems=[('Home', 'Reset original view', 'home', 'home'), ('Pan', 'Pan axes with left…"
      ]
     },
     "metadata": {},
     "output_type": "display_data"
    },
    {
     "name": "stdout",
     "output_type": "stream",
     "text": [
      "||p norm where p = 2\n",
      "prox_nonneg(prox_reg(v)) IS NOT equal to prox(reg + nonneg)\n",
      "Max absolute error: 1.615e-01\n",
      "Average absolute error: 2.636e-02\n",
      "\n",
      "prox_reg(prox_nonneg(v)) IS NOT equal to prox(reg + nonneg)\n",
      "Max absolute error: 3.373e-01\n",
      "Average absolute error: 4.507e-02\n",
      "\n",
      "||p norm where p = 3\n",
      "prox_nonneg(prox_reg(v)) IS NOT equal to prox(reg + nonneg)\n",
      "Max absolute error: 1.649e-01\n",
      "Average absolute error: 2.005e-02\n",
      "\n",
      "prox_reg(prox_nonneg(v)) IS NOT equal to prox(reg + nonneg)\n",
      "Max absolute error: 2.883e-01\n",
      "Average absolute error: 2.802e-02\n",
      "\n",
      "||p norm where p = 5\n",
      "prox_nonneg(prox_reg(v)) IS NOT equal to prox(reg + nonneg)\n",
      "Max absolute error: 2.432e-01\n",
      "Average absolute error: 1.636e-02\n",
      "\n",
      "prox_reg(prox_nonneg(v)) IS NOT equal to prox(reg + nonneg)\n",
      "Max absolute error: 2.791e-01\n",
      "Average absolute error: 2.081e-02\n",
      "\n",
      "||p norm where p = 8\n",
      "prox_nonneg(prox_reg(v)) IS NOT equal to prox(reg + nonneg)\n",
      "Max absolute error: 3.582e-01\n",
      "Average absolute error: 1.739e-02\n",
      "\n",
      "prox_reg(prox_nonneg(v)) IS NOT equal to prox(reg + nonneg)\n",
      "Max absolute error: 3.462e-01\n",
      "Average absolute error: 1.781e-02\n",
      "\n",
      "||p norm where p = inf\n",
      "prox_nonneg(prox_reg(v)) IS NOT equal to prox(reg + nonneg)\n",
      "Max absolute error: 5.000e-01\n",
      "Average absolute error: 2.014e-02\n",
      "\n",
      "prox_reg(prox_nonneg(v)) IS NOT equal to prox(reg + nonneg)\n",
      "Max absolute error: 3.203e-01\n",
      "Average absolute error: 1.753e-02\n",
      "\n"
     ]
    }
   ],
   "source": [
    "for p in [1, 2, 3, 5, 8, 'inf']:\n",
    "    print(f'||p norm where p = {p}')\n",
    "    if p == 1:\n",
    "        proximal.evaluate(proximal.TV_1D_Lp_prox, proximal.TV_1D_Lp_plus_nonneg_prox, n=10, size=(30, ), mean=0, sigma=1, lamb=0.5, additional_params=[p], err_thr=1e-4, plot=True)\n",
    "        continue\n",
    "    proximal.evaluate(proximal.TV_1D_Lp_prox, proximal.TV_1D_Lp_plus_nonneg_prox, n=10, size=(30, ), mean=0, sigma=1, lamb=0.5, plot=False, additional_params=[p], err_thr = 1e-4)"
   ]
  },
  {
   "cell_type": "markdown",
   "id": "small-wichita",
   "metadata": {},
   "source": [
    "$$\\|Dx\\|_p^p$$"
   ]
  },
  {
   "cell_type": "code",
   "execution_count": 8,
   "id": "monetary-angle",
   "metadata": {},
   "outputs": [
    {
     "name": "stdout",
     "output_type": "stream",
     "text": [
      "||p^p norm where p = 1\n",
      "prox_nonneg(prox_reg(v)) SEEMS equal to prox(reg + nonneg).\n",
      "Max absolute error: 1.992e-05\n",
      "Average absolute error: 5.538e-07\n",
      "\n",
      "prox_reg(prox_nonneg(v)) IS NOT equal to prox(reg + nonneg)\n",
      "Max absolute error: 9.603e-01\n",
      "Average absolute error: 1.691e-01\n",
      "\n",
      "||p^p norm where p = 2\n",
      "prox_nonneg(prox_reg(v)) IS NOT equal to prox(reg + nonneg)\n",
      "Max absolute error: 5.065e-01\n",
      "Average absolute error: 5.263e-02\n",
      "\n",
      "prox_reg(prox_nonneg(v)) IS NOT equal to prox(reg + nonneg)\n",
      "Max absolute error: 5.573e-01\n",
      "Average absolute error: 1.351e-01\n",
      "\n",
      "||p^p norm where p = 3\n",
      "prox_nonneg(prox_reg(v)) IS NOT equal to prox(reg + nonneg)\n",
      "Max absolute error: 5.897e-01\n",
      "Average absolute error: 6.812e-02\n",
      "\n",
      "prox_reg(prox_nonneg(v)) IS NOT equal to prox(reg + nonneg)\n",
      "Max absolute error: 6.080e-01\n",
      "Average absolute error: 1.286e-01\n",
      "\n",
      "Plotting example\n"
     ]
    },
    {
     "data": {
      "application/vnd.jupyter.widget-view+json": {
       "model_id": "8dfa2349346347248916a357de1cd45c",
       "version_major": 2,
       "version_minor": 0
      },
      "text/plain": [
       "Canvas(toolbar=Toolbar(toolitems=[('Home', 'Reset original view', 'home', 'home'), ('Pan', 'Pan axes with left…"
      ]
     },
     "metadata": {},
     "output_type": "display_data"
    },
    {
     "name": "stdout",
     "output_type": "stream",
     "text": [
      "||p^p norm where p = 5\n",
      "prox_nonneg(prox_reg(v)) IS NOT equal to prox(reg + nonneg)\n",
      "Max absolute error: 7.570e-01\n",
      "Average absolute error: 8.439e-02\n",
      "\n",
      "prox_reg(prox_nonneg(v)) IS NOT equal to prox(reg + nonneg)\n",
      "Max absolute error: 5.604e-01\n",
      "Average absolute error: 9.641e-02\n",
      "\n",
      "||p^p norm where p = 8\n",
      "prox_nonneg(prox_reg(v)) IS NOT equal to prox(reg + nonneg)\n",
      "Max absolute error: 6.714e-01\n",
      "Average absolute error: 7.861e-02\n",
      "\n",
      "prox_reg(prox_nonneg(v)) IS NOT equal to prox(reg + nonneg)\n",
      "Max absolute error: 5.682e-01\n",
      "Average absolute error: 8.630e-02\n",
      "\n",
      "||p^p norm where p = inf\n"
     ]
    },
    {
     "ename": "TypeError",
     "evalue": "'>' not supported between instances of 'str' and 'int'",
     "output_type": "error",
     "traceback": [
      "\u001b[1;31m---------------------------------------------------------------------------\u001b[0m",
      "\u001b[1;31mTypeError\u001b[0m                                 Traceback (most recent call last)",
      "\u001b[1;32m~\\Documents\\EPFL\\MA-3\\Project\\ProximalOperatorsProject\\code\\proximal.py\u001b[0m in \u001b[0;36mevaluate\u001b[1;34m(reg, reg_nonneg, n, size, mean, sigma, lamb, rtol, atol, plot, distribution, low, high, err_thr, additional_params)\u001b[0m\n\u001b[0;32m    105\u001b[0m         \u001b[1;32mtry\u001b[0m\u001b[1;33m:\u001b[0m\u001b[1;33m\u001b[0m\u001b[1;33m\u001b[0m\u001b[0m\n\u001b[1;32m--> 106\u001b[1;33m             \u001b[0mreg_plus_nonneg_vect\u001b[0m \u001b[1;33m=\u001b[0m \u001b[0mreg_nonneg\u001b[0m\u001b[1;33m(\u001b[0m\u001b[0mnp\u001b[0m\u001b[1;33m.\u001b[0m\u001b[0mcopy\u001b[0m\u001b[1;33m(\u001b[0m\u001b[0mv\u001b[0m\u001b[1;33m)\u001b[0m\u001b[1;33m,\u001b[0m \u001b[0mnp\u001b[0m\u001b[1;33m.\u001b[0m\u001b[0mones_like\u001b[0m\u001b[1;33m(\u001b[0m\u001b[0mv\u001b[0m\u001b[1;33m)\u001b[0m\u001b[1;33m*\u001b[0m\u001b[0mlamb\u001b[0m\u001b[1;33m,\u001b[0m \u001b[1;33m*\u001b[0m\u001b[0madditional_params\u001b[0m\u001b[1;33m)\u001b[0m\u001b[1;33m\u001b[0m\u001b[1;33m\u001b[0m\u001b[0m\n\u001b[0m\u001b[0;32m    107\u001b[0m             \u001b[0mreg_o_nonneg_vect\u001b[0m \u001b[1;33m=\u001b[0m \u001b[0mreg\u001b[0m\u001b[1;33m(\u001b[0m\u001b[0mnonneg\u001b[0m\u001b[1;33m(\u001b[0m\u001b[0mnp\u001b[0m\u001b[1;33m.\u001b[0m\u001b[0mcopy\u001b[0m\u001b[1;33m(\u001b[0m\u001b[0mv\u001b[0m\u001b[1;33m)\u001b[0m\u001b[1;33m)\u001b[0m\u001b[1;33m,\u001b[0m \u001b[0mnp\u001b[0m\u001b[1;33m.\u001b[0m\u001b[0mones_like\u001b[0m\u001b[1;33m(\u001b[0m\u001b[0mv\u001b[0m\u001b[1;33m)\u001b[0m\u001b[1;33m*\u001b[0m\u001b[0mlamb\u001b[0m\u001b[1;33m,\u001b[0m \u001b[1;33m*\u001b[0m\u001b[0madditional_params\u001b[0m\u001b[1;33m)\u001b[0m\u001b[1;33m\u001b[0m\u001b[1;33m\u001b[0m\u001b[0m\n",
      "\u001b[1;32m~\\Documents\\EPFL\\MA-3\\Project\\ProximalOperatorsProject\\code\\proximal.py\u001b[0m in \u001b[0;36mTV_1D_Lp_plus_nonneg_prox\u001b[1;34m(v, lamb, p, exp_p)\u001b[0m\n\u001b[0;32m    283\u001b[0m     \u001b[1;32mif\u001b[0m \u001b[0mexp_p\u001b[0m\u001b[1;33m:\u001b[0m\u001b[1;33m\u001b[0m\u001b[1;33m\u001b[0m\u001b[0m\n\u001b[1;32m--> 284\u001b[1;33m         \u001b[0mobj\u001b[0m \u001b[1;33m=\u001b[0m \u001b[0mcp\u001b[0m\u001b[1;33m.\u001b[0m\u001b[0mpower\u001b[0m\u001b[1;33m(\u001b[0m\u001b[0mcp\u001b[0m\u001b[1;33m.\u001b[0m\u001b[0mnorm\u001b[0m\u001b[1;33m(\u001b[0m\u001b[1;33m(\u001b[0m\u001b[0mx\u001b[0m\u001b[1;33m[\u001b[0m\u001b[1;36m1\u001b[0m\u001b[1;33m:\u001b[0m\u001b[1;33m]\u001b[0m \u001b[1;33m-\u001b[0m \u001b[0mx\u001b[0m\u001b[1;33m[\u001b[0m\u001b[1;33m:\u001b[0m\u001b[1;33m-\u001b[0m\u001b[1;36m1\u001b[0m\u001b[1;33m]\u001b[0m\u001b[1;33m)\u001b[0m\u001b[1;33m,\u001b[0m \u001b[0mp\u001b[0m\u001b[1;33m)\u001b[0m\u001b[1;33m,\u001b[0m \u001b[0mp\u001b[0m\u001b[1;33m)\u001b[0m \u001b[1;33m+\u001b[0m \u001b[0mcp\u001b[0m\u001b[1;33m.\u001b[0m\u001b[0msum_squares\u001b[0m\u001b[1;33m(\u001b[0m\u001b[0mx\u001b[0m \u001b[1;33m-\u001b[0m \u001b[0mv\u001b[0m\u001b[1;33m)\u001b[0m\u001b[1;33m/\u001b[0m\u001b[1;33m(\u001b[0m\u001b[1;36m2\u001b[0m\u001b[1;33m*\u001b[0m\u001b[0mlamb\u001b[0m\u001b[1;33m)\u001b[0m\u001b[1;33m\u001b[0m\u001b[1;33m\u001b[0m\u001b[0m\n\u001b[0m\u001b[0;32m    285\u001b[0m     \u001b[1;32melse\u001b[0m\u001b[1;33m:\u001b[0m\u001b[1;33m\u001b[0m\u001b[1;33m\u001b[0m\u001b[0m\n",
      "\u001b[1;32mc:\\users\\dolly\\documents\\epfl\\ma-3\\project\\prox_proj\\lib\\site-packages\\cvxpy\\atoms\\elementwise\\power.py\u001b[0m in \u001b[0;36m__init__\u001b[1;34m(self, x, p, max_denom)\u001b[0m\n\u001b[0;32m    147\u001b[0m             \u001b[1;31m# how we convert p to a rational depends on the branch of the function\u001b[0m\u001b[1;33m\u001b[0m\u001b[1;33m\u001b[0m\u001b[1;33m\u001b[0m\u001b[0m\n\u001b[1;32m--> 148\u001b[1;33m             \u001b[1;32mif\u001b[0m \u001b[0mp\u001b[0m \u001b[1;33m>\u001b[0m \u001b[1;36m1\u001b[0m\u001b[1;33m:\u001b[0m\u001b[1;33m\u001b[0m\u001b[1;33m\u001b[0m\u001b[0m\n\u001b[0m\u001b[0;32m    149\u001b[0m                 \u001b[0mp\u001b[0m\u001b[1;33m,\u001b[0m \u001b[0mw\u001b[0m \u001b[1;33m=\u001b[0m \u001b[0mpow_high\u001b[0m\u001b[1;33m(\u001b[0m\u001b[0mp\u001b[0m\u001b[1;33m,\u001b[0m \u001b[0mmax_denom\u001b[0m\u001b[1;33m)\u001b[0m\u001b[1;33m\u001b[0m\u001b[1;33m\u001b[0m\u001b[0m\n",
      "\u001b[1;31mTypeError\u001b[0m: '>' not supported between instances of 'str' and 'int'",
      "\nDuring handling of the above exception, another exception occurred:\n",
      "\u001b[1;31mTypeError\u001b[0m                                 Traceback (most recent call last)",
      "\u001b[1;32m<ipython-input-8-0051e2225374>\u001b[0m in \u001b[0;36m<module>\u001b[1;34m\u001b[0m\n\u001b[0;32m      4\u001b[0m         \u001b[0mproximal\u001b[0m\u001b[1;33m.\u001b[0m\u001b[0mevaluate\u001b[0m\u001b[1;33m(\u001b[0m\u001b[0mproximal\u001b[0m\u001b[1;33m.\u001b[0m\u001b[0mTV_1D_Lp_prox\u001b[0m\u001b[1;33m,\u001b[0m \u001b[0mproximal\u001b[0m\u001b[1;33m.\u001b[0m\u001b[0mTV_1D_Lp_plus_nonneg_prox\u001b[0m\u001b[1;33m,\u001b[0m \u001b[0mn\u001b[0m\u001b[1;33m=\u001b[0m\u001b[1;36m10\u001b[0m\u001b[1;33m,\u001b[0m \u001b[0msize\u001b[0m\u001b[1;33m=\u001b[0m\u001b[1;33m(\u001b[0m\u001b[1;36m50\u001b[0m\u001b[1;33m,\u001b[0m \u001b[1;33m)\u001b[0m\u001b[1;33m,\u001b[0m \u001b[0mmean\u001b[0m\u001b[1;33m=\u001b[0m\u001b[1;36m0\u001b[0m\u001b[1;33m,\u001b[0m \u001b[0msigma\u001b[0m\u001b[1;33m=\u001b[0m\u001b[1;36m1\u001b[0m\u001b[1;33m,\u001b[0m \u001b[0mlamb\u001b[0m\u001b[1;33m=\u001b[0m\u001b[1;36m0.5\u001b[0m\u001b[1;33m,\u001b[0m \u001b[0madditional_params\u001b[0m\u001b[1;33m=\u001b[0m\u001b[1;33m[\u001b[0m\u001b[0mp\u001b[0m\u001b[1;33m,\u001b[0m \u001b[1;32mTrue\u001b[0m\u001b[1;33m]\u001b[0m\u001b[1;33m,\u001b[0m \u001b[0merr_thr\u001b[0m\u001b[1;33m=\u001b[0m\u001b[1;36m1e-4\u001b[0m\u001b[1;33m,\u001b[0m \u001b[0mplot\u001b[0m\u001b[1;33m=\u001b[0m\u001b[1;32mTrue\u001b[0m\u001b[1;33m)\u001b[0m\u001b[1;33m\u001b[0m\u001b[1;33m\u001b[0m\u001b[0m\n\u001b[0;32m      5\u001b[0m         \u001b[1;32mcontinue\u001b[0m\u001b[1;33m\u001b[0m\u001b[1;33m\u001b[0m\u001b[0m\n\u001b[1;32m----> 6\u001b[1;33m     \u001b[0mproximal\u001b[0m\u001b[1;33m.\u001b[0m\u001b[0mevaluate\u001b[0m\u001b[1;33m(\u001b[0m\u001b[0mproximal\u001b[0m\u001b[1;33m.\u001b[0m\u001b[0mTV_1D_Lp_prox\u001b[0m\u001b[1;33m,\u001b[0m \u001b[0mproximal\u001b[0m\u001b[1;33m.\u001b[0m\u001b[0mTV_1D_Lp_plus_nonneg_prox\u001b[0m\u001b[1;33m,\u001b[0m \u001b[0mn\u001b[0m\u001b[1;33m=\u001b[0m\u001b[1;36m10\u001b[0m\u001b[1;33m,\u001b[0m \u001b[0msize\u001b[0m\u001b[1;33m=\u001b[0m\u001b[1;33m(\u001b[0m\u001b[1;36m50\u001b[0m\u001b[1;33m,\u001b[0m \u001b[1;33m)\u001b[0m\u001b[1;33m,\u001b[0m \u001b[0mmean\u001b[0m\u001b[1;33m=\u001b[0m\u001b[1;36m0\u001b[0m\u001b[1;33m,\u001b[0m \u001b[0msigma\u001b[0m\u001b[1;33m=\u001b[0m\u001b[1;36m1\u001b[0m\u001b[1;33m,\u001b[0m \u001b[0mlamb\u001b[0m\u001b[1;33m=\u001b[0m\u001b[1;36m0.5\u001b[0m\u001b[1;33m,\u001b[0m \u001b[0mplot\u001b[0m\u001b[1;33m=\u001b[0m\u001b[1;32mFalse\u001b[0m\u001b[1;33m,\u001b[0m \u001b[0madditional_params\u001b[0m\u001b[1;33m=\u001b[0m\u001b[1;33m[\u001b[0m\u001b[0mp\u001b[0m\u001b[1;33m,\u001b[0m \u001b[1;32mTrue\u001b[0m\u001b[1;33m]\u001b[0m\u001b[1;33m,\u001b[0m \u001b[0merr_thr\u001b[0m \u001b[1;33m=\u001b[0m \u001b[1;36m1e-4\u001b[0m\u001b[1;33m)\u001b[0m\u001b[1;33m\u001b[0m\u001b[1;33m\u001b[0m\u001b[0m\n\u001b[0m",
      "\u001b[1;32m~\\Documents\\EPFL\\MA-3\\Project\\ProximalOperatorsProject\\code\\proximal.py\u001b[0m in \u001b[0;36mevaluate\u001b[1;34m(reg, reg_nonneg, n, size, mean, sigma, lamb, rtol, atol, plot, distribution, low, high, err_thr, additional_params)\u001b[0m\n\u001b[0;32m    109\u001b[0m         \u001b[1;31m# Except will do the job for CVXPy\u001b[0m\u001b[1;33m\u001b[0m\u001b[1;33m\u001b[0m\u001b[1;33m\u001b[0m\u001b[0m\n\u001b[0;32m    110\u001b[0m         \u001b[1;32mexcept\u001b[0m\u001b[1;33m:\u001b[0m\u001b[1;33m\u001b[0m\u001b[1;33m\u001b[0m\u001b[0m\n\u001b[1;32m--> 111\u001b[1;33m             \u001b[0mreg_plus_nonneg_vect\u001b[0m \u001b[1;33m=\u001b[0m \u001b[0mreg_nonneg\u001b[0m\u001b[1;33m(\u001b[0m\u001b[0mnp\u001b[0m\u001b[1;33m.\u001b[0m\u001b[0mcopy\u001b[0m\u001b[1;33m(\u001b[0m\u001b[0mv\u001b[0m\u001b[1;33m)\u001b[0m\u001b[1;33m,\u001b[0m \u001b[0mlamb\u001b[0m\u001b[1;33m,\u001b[0m \u001b[1;33m*\u001b[0m\u001b[0madditional_params\u001b[0m\u001b[1;33m)\u001b[0m\u001b[1;33m\u001b[0m\u001b[1;33m\u001b[0m\u001b[0m\n\u001b[0m\u001b[0;32m    112\u001b[0m             \u001b[0mreg_o_nonneg_vect\u001b[0m \u001b[1;33m=\u001b[0m \u001b[0mreg\u001b[0m\u001b[1;33m(\u001b[0m\u001b[0mnonneg\u001b[0m\u001b[1;33m(\u001b[0m\u001b[0mnp\u001b[0m\u001b[1;33m.\u001b[0m\u001b[0mcopy\u001b[0m\u001b[1;33m(\u001b[0m\u001b[0mv\u001b[0m\u001b[1;33m)\u001b[0m\u001b[1;33m)\u001b[0m\u001b[1;33m,\u001b[0m \u001b[0mlamb\u001b[0m\u001b[1;33m,\u001b[0m \u001b[1;33m*\u001b[0m\u001b[0madditional_params\u001b[0m\u001b[1;33m)\u001b[0m\u001b[1;33m\u001b[0m\u001b[1;33m\u001b[0m\u001b[0m\n\u001b[0;32m    113\u001b[0m             \u001b[0mnonneg_o_reg_vect\u001b[0m \u001b[1;33m=\u001b[0m \u001b[0mnonneg\u001b[0m\u001b[1;33m(\u001b[0m\u001b[0mreg\u001b[0m\u001b[1;33m(\u001b[0m\u001b[0mnp\u001b[0m\u001b[1;33m.\u001b[0m\u001b[0mcopy\u001b[0m\u001b[1;33m(\u001b[0m\u001b[0mv\u001b[0m\u001b[1;33m)\u001b[0m\u001b[1;33m,\u001b[0m \u001b[0mlamb\u001b[0m\u001b[1;33m,\u001b[0m \u001b[1;33m*\u001b[0m\u001b[0madditional_params\u001b[0m\u001b[1;33m)\u001b[0m\u001b[1;33m)\u001b[0m\u001b[1;33m\u001b[0m\u001b[1;33m\u001b[0m\u001b[0m\n",
      "\u001b[1;32m~\\Documents\\EPFL\\MA-3\\Project\\ProximalOperatorsProject\\code\\proximal.py\u001b[0m in \u001b[0;36mTV_1D_Lp_plus_nonneg_prox\u001b[1;34m(v, lamb, p, exp_p)\u001b[0m\n\u001b[0;32m    282\u001b[0m \u001b[1;31m#     obj = cp.norm(((Q@x)[:-1]), p) + cp.sum_squares(x - v)/(2*lamb)\u001b[0m\u001b[1;33m\u001b[0m\u001b[1;33m\u001b[0m\u001b[1;33m\u001b[0m\u001b[0m\n\u001b[0;32m    283\u001b[0m     \u001b[1;32mif\u001b[0m \u001b[0mexp_p\u001b[0m\u001b[1;33m:\u001b[0m\u001b[1;33m\u001b[0m\u001b[1;33m\u001b[0m\u001b[0m\n\u001b[1;32m--> 284\u001b[1;33m         \u001b[0mobj\u001b[0m \u001b[1;33m=\u001b[0m \u001b[0mcp\u001b[0m\u001b[1;33m.\u001b[0m\u001b[0mpower\u001b[0m\u001b[1;33m(\u001b[0m\u001b[0mcp\u001b[0m\u001b[1;33m.\u001b[0m\u001b[0mnorm\u001b[0m\u001b[1;33m(\u001b[0m\u001b[1;33m(\u001b[0m\u001b[0mx\u001b[0m\u001b[1;33m[\u001b[0m\u001b[1;36m1\u001b[0m\u001b[1;33m:\u001b[0m\u001b[1;33m]\u001b[0m \u001b[1;33m-\u001b[0m \u001b[0mx\u001b[0m\u001b[1;33m[\u001b[0m\u001b[1;33m:\u001b[0m\u001b[1;33m-\u001b[0m\u001b[1;36m1\u001b[0m\u001b[1;33m]\u001b[0m\u001b[1;33m)\u001b[0m\u001b[1;33m,\u001b[0m \u001b[0mp\u001b[0m\u001b[1;33m)\u001b[0m\u001b[1;33m,\u001b[0m \u001b[0mp\u001b[0m\u001b[1;33m)\u001b[0m \u001b[1;33m+\u001b[0m \u001b[0mcp\u001b[0m\u001b[1;33m.\u001b[0m\u001b[0msum_squares\u001b[0m\u001b[1;33m(\u001b[0m\u001b[0mx\u001b[0m \u001b[1;33m-\u001b[0m \u001b[0mv\u001b[0m\u001b[1;33m)\u001b[0m\u001b[1;33m/\u001b[0m\u001b[1;33m(\u001b[0m\u001b[1;36m2\u001b[0m\u001b[1;33m*\u001b[0m\u001b[0mlamb\u001b[0m\u001b[1;33m)\u001b[0m\u001b[1;33m\u001b[0m\u001b[1;33m\u001b[0m\u001b[0m\n\u001b[0m\u001b[0;32m    285\u001b[0m     \u001b[1;32melse\u001b[0m\u001b[1;33m:\u001b[0m\u001b[1;33m\u001b[0m\u001b[1;33m\u001b[0m\u001b[0m\n\u001b[0;32m    286\u001b[0m         \u001b[0mobj\u001b[0m \u001b[1;33m=\u001b[0m \u001b[0mcp\u001b[0m\u001b[1;33m.\u001b[0m\u001b[0mnorm\u001b[0m\u001b[1;33m(\u001b[0m\u001b[1;33m(\u001b[0m\u001b[0mx\u001b[0m\u001b[1;33m[\u001b[0m\u001b[1;36m1\u001b[0m\u001b[1;33m:\u001b[0m\u001b[1;33m]\u001b[0m \u001b[1;33m-\u001b[0m \u001b[0mx\u001b[0m\u001b[1;33m[\u001b[0m\u001b[1;33m:\u001b[0m\u001b[1;33m-\u001b[0m\u001b[1;36m1\u001b[0m\u001b[1;33m]\u001b[0m\u001b[1;33m)\u001b[0m\u001b[1;33m,\u001b[0m \u001b[0mp\u001b[0m\u001b[1;33m)\u001b[0m \u001b[1;33m+\u001b[0m \u001b[0mcp\u001b[0m\u001b[1;33m.\u001b[0m\u001b[0msum_squares\u001b[0m\u001b[1;33m(\u001b[0m\u001b[0mx\u001b[0m \u001b[1;33m-\u001b[0m \u001b[0mv\u001b[0m\u001b[1;33m)\u001b[0m\u001b[1;33m/\u001b[0m\u001b[1;33m(\u001b[0m\u001b[1;36m2\u001b[0m\u001b[1;33m*\u001b[0m\u001b[0mlamb\u001b[0m\u001b[1;33m)\u001b[0m\u001b[1;33m\u001b[0m\u001b[1;33m\u001b[0m\u001b[0m\n",
      "\u001b[1;32mc:\\users\\dolly\\documents\\epfl\\ma-3\\project\\prox_proj\\lib\\site-packages\\cvxpy\\atoms\\elementwise\\power.py\u001b[0m in \u001b[0;36m__init__\u001b[1;34m(self, x, p, max_denom)\u001b[0m\n\u001b[0;32m    146\u001b[0m                 \u001b[0mp\u001b[0m \u001b[1;33m=\u001b[0m \u001b[0mself\u001b[0m\u001b[1;33m.\u001b[0m\u001b[0mp\u001b[0m\u001b[1;33m.\u001b[0m\u001b[0mvalue\u001b[0m\u001b[1;33m\u001b[0m\u001b[1;33m\u001b[0m\u001b[0m\n\u001b[0;32m    147\u001b[0m             \u001b[1;31m# how we convert p to a rational depends on the branch of the function\u001b[0m\u001b[1;33m\u001b[0m\u001b[1;33m\u001b[0m\u001b[1;33m\u001b[0m\u001b[0m\n\u001b[1;32m--> 148\u001b[1;33m             \u001b[1;32mif\u001b[0m \u001b[0mp\u001b[0m \u001b[1;33m>\u001b[0m \u001b[1;36m1\u001b[0m\u001b[1;33m:\u001b[0m\u001b[1;33m\u001b[0m\u001b[1;33m\u001b[0m\u001b[0m\n\u001b[0m\u001b[0;32m    149\u001b[0m                 \u001b[0mp\u001b[0m\u001b[1;33m,\u001b[0m \u001b[0mw\u001b[0m \u001b[1;33m=\u001b[0m \u001b[0mpow_high\u001b[0m\u001b[1;33m(\u001b[0m\u001b[0mp\u001b[0m\u001b[1;33m,\u001b[0m \u001b[0mmax_denom\u001b[0m\u001b[1;33m)\u001b[0m\u001b[1;33m\u001b[0m\u001b[1;33m\u001b[0m\u001b[0m\n\u001b[0;32m    150\u001b[0m             \u001b[1;32melif\u001b[0m \u001b[1;36m0\u001b[0m \u001b[1;33m<\u001b[0m \u001b[0mp\u001b[0m \u001b[1;33m<\u001b[0m \u001b[1;36m1\u001b[0m\u001b[1;33m:\u001b[0m\u001b[1;33m\u001b[0m\u001b[1;33m\u001b[0m\u001b[0m\n",
      "\u001b[1;31mTypeError\u001b[0m: '>' not supported between instances of 'str' and 'int'"
     ]
    }
   ],
   "source": [
    "for p in [1, 2, 3, 5, 8, 'inf']:\n",
    "    print(f'||p^p norm where p = {p}')\n",
    "    if p == 3:\n",
    "        proximal.evaluate(proximal.TV_1D_Lp_prox, proximal.TV_1D_Lp_plus_nonneg_prox, n=10, size=(50, ), mean=0, sigma=1, lamb=0.5, additional_params=[p, True], err_thr=1e-4, plot=True)\n",
    "        continue\n",
    "    proximal.evaluate(proximal.TV_1D_Lp_prox, proximal.TV_1D_Lp_plus_nonneg_prox, n=10, size=(50, ), mean=0, sigma=1, lamb=0.5, plot=False, additional_params=[p, True], err_thr = 1e-4)"
   ]
  },
  {
   "cell_type": "markdown",
   "id": "white-hunger",
   "metadata": {},
   "source": [
    "### 4.B 2D Total Variation \n",
    "[Back to Index](#Index)\n",
    "$$\\|\\operatorname{D}x\\|_{p, q}$$"
   ]
  },
  {
   "cell_type": "code",
   "execution_count": 11,
   "id": "nervous-simpson",
   "metadata": {},
   "outputs": [
    {
     "name": "stdout",
     "output_type": "stream",
     "text": [
      "|TV*|p,q norm where p = 1 and q = 1.\n",
      "prox_nonneg(prox_reg(v)) SEEMS equal to prox(reg + nonneg).\n",
      "Max absolute error: 1.719e-04\n",
      "Average absolute error: 4.661e-06\n",
      "\n",
      "prox_reg(prox_nonneg(v)) IS NOT equal to prox(reg + nonneg)\n",
      "Max absolute error: 7.084e-01\n",
      "Average absolute error: 2.810e-01\n",
      "\n",
      "|TV*|p,q norm where p = 1 and q = 2.\n",
      "prox_nonneg(prox_reg(v)) IS NOT equal to prox(reg + nonneg)\n",
      "Max absolute error: 1.362e-01\n",
      "Average absolute error: 1.373e-02\n",
      "\n",
      "prox_reg(prox_nonneg(v)) IS NOT equal to prox(reg + nonneg)\n",
      "Max absolute error: 2.277e-01\n",
      "Average absolute error: 2.913e-02\n",
      "\n",
      "|TV*|p,q norm where p = 2 and q = 1.\n",
      "prox_nonneg(prox_reg(v)) IS NOT equal to prox(reg + nonneg)\n",
      "Max absolute error: 2.041e-01\n",
      "Average absolute error: 1.292e-02\n",
      "\n",
      "prox_reg(prox_nonneg(v)) IS NOT equal to prox(reg + nonneg)\n",
      "Max absolute error: 6.382e-01\n",
      "Average absolute error: 2.500e-01\n",
      "\n",
      "|TV*|p,q norm where p = 2 and q = 2.\n",
      "prox_nonneg(prox_reg(v)) IS NOT equal to prox(reg + nonneg)\n",
      "Max absolute error: 1.146e-01\n",
      "Average absolute error: 1.242e-02\n",
      "\n",
      "prox_reg(prox_nonneg(v)) IS NOT equal to prox(reg + nonneg)\n",
      "Max absolute error: 1.913e-01\n",
      "Average absolute error: 2.171e-02\n",
      "\n",
      "Plotting example as image.\n"
     ]
    },
    {
     "data": {
      "application/vnd.jupyter.widget-view+json": {
       "model_id": "50686a63f8b549aa90defdae0f2dee11",
       "version_major": 2,
       "version_minor": 0
      },
      "text/plain": [
       "HBox(children=(Output(layout=Layout(width='80%')), Output(), Output(layout=Layout(width='25%'))))"
      ]
     },
     "metadata": {},
     "output_type": "display_data"
    },
    {
     "data": {
      "application/vnd.jupyter.widget-view+json": {
       "model_id": "fc7db51821db47eab6ac6208213641a5",
       "version_major": 2,
       "version_minor": 0
      },
      "text/plain": [
       "Button(description='Show Widgets', style=ButtonStyle())"
      ]
     },
     "metadata": {},
     "output_type": "display_data"
    }
   ],
   "source": [
    "for p in [1, 2]:\n",
    "    for q in [1, 2]:\n",
    "        print(f'|TV*|p,q norm where p = {p} and q = {q}.')\n",
    "        if p == 2 and q == 2:\n",
    "            proximal.evaluate(proximal.TV_prox, proximal.TV_plus_nonneg_prox, n=10, size=(15, 15), mean=0, sigma=1, lamb=0.5, additional_params=[p, q, False], err_thr=1e-4, plot=True)\n",
    "            continue\n",
    "        proximal.evaluate(proximal.TV_prox, proximal.TV_plus_nonneg_prox, n=10, size=(15, 15), mean=0, sigma=1, lamb=0.5, plot=False, additional_params=[p, q, False], err_thr = 1e-3)"
   ]
  },
  {
   "cell_type": "markdown",
   "id": "arctic-triangle",
   "metadata": {},
   "source": [
    "$$\\|\\operatorname{D}x\\|_{p, q}^{p, q}$$"
   ]
  },
  {
   "cell_type": "code",
   "execution_count": 13,
   "id": "forty-distinction",
   "metadata": {},
   "outputs": [
    {
     "name": "stdout",
     "output_type": "stream",
     "text": [
      "|TV*|p,q norm where p = 1 and q = 1.\n",
      "prox_nonneg(prox_reg(v)) SEEMS equal to prox(reg + nonneg).\n",
      "Max absolute error: 1.614e-04\n",
      "Average absolute error: 1.658e-06\n",
      "\n",
      "prox_reg(prox_nonneg(v)) IS NOT equal to prox(reg + nonneg)\n",
      "Max absolute error: 6.554e-01\n",
      "Average absolute error: 2.842e-01\n",
      "\n",
      "|TV*|p,q norm where p = 1 and q = 2.\n",
      "prox_nonneg(prox_reg(v)) IS NOT equal to prox(reg + nonneg)\n",
      "Max absolute error: 3.481e-01\n",
      "Average absolute error: 6.100e-02\n",
      "\n",
      "prox_reg(prox_nonneg(v)) IS NOT equal to prox(reg + nonneg)\n",
      "Max absolute error: 8.032e-01\n",
      "Average absolute error: 2.218e-01\n",
      "\n",
      "|TV*|p,q norm where p = 2 and q = 1.\n",
      "prox_nonneg(prox_reg(v)) IS NOT equal to prox(reg + nonneg)\n",
      "Max absolute error: 3.885e-01\n",
      "Average absolute error: 6.586e-02\n",
      "\n",
      "prox_reg(prox_nonneg(v)) IS NOT equal to prox(reg + nonneg)\n",
      "Max absolute error: 5.585e-01\n",
      "Average absolute error: 1.973e-01\n",
      "\n",
      "|TV*|p,q norm where p = 2 and q = 2.\n",
      "prox_nonneg(prox_reg(v)) IS NOT equal to prox(reg + nonneg)\n",
      "Max absolute error: 6.485e-01\n",
      "Average absolute error: 9.007e-02\n",
      "\n",
      "prox_reg(prox_nonneg(v)) IS NOT equal to prox(reg + nonneg)\n",
      "Max absolute error: 5.851e-01\n",
      "Average absolute error: 1.524e-01\n",
      "\n",
      "Plotting example as image.\n"
     ]
    },
    {
     "data": {
      "application/vnd.jupyter.widget-view+json": {
       "model_id": "dcbc2212c71347bdaa66426320da0a5e",
       "version_major": 2,
       "version_minor": 0
      },
      "text/plain": [
       "HBox(children=(Output(layout=Layout(width='80%')), Output(), Output(layout=Layout(width='25%'))))"
      ]
     },
     "metadata": {},
     "output_type": "display_data"
    },
    {
     "data": {
      "application/vnd.jupyter.widget-view+json": {
       "model_id": "742c995bc33a426486a68e005aa8cf08",
       "version_major": 2,
       "version_minor": 0
      },
      "text/plain": [
       "Button(description='Show Widgets', style=ButtonStyle())"
      ]
     },
     "metadata": {},
     "output_type": "display_data"
    }
   ],
   "source": [
    "for p in [1, 2]:\n",
    "    for q in [1, 2]:\n",
    "        print(f'|TV*|p,q norm where p = {p} and q = {q}.')\n",
    "        if p == 2 and q == 2:\n",
    "            proximal.evaluate(proximal.TV_prox, proximal.TV_plus_nonneg_prox, n=10, size=(20, 20), mean=0, sigma=1, lamb=0.5, additional_params=[p, q, True], err_thr=1e-4, plot=True)\n",
    "            continue\n",
    "        proximal.evaluate(proximal.TV_prox, proximal.TV_plus_nonneg_prox, n=10, size=(20, 20), mean=0, sigma=1, lamb=0.5, plot=False, additional_params=[p, q, True], err_thr = 1e-3)"
   ]
  },
  {
   "cell_type": "markdown",
   "id": "tender-durham",
   "metadata": {},
   "source": [
    "## 5. Norms on Eigendecomposition\n",
    "[Back to Index](#Index)\n",
    "\n",
    "$$\\|S\\|$$, \n",
    "where\n",
    "$$S = \\mathrm{diag}([\\lambda_1, \\lambda_2, ..., \\lambda_i])$$\n",
    "\n",
    "### 5.A Lp\n",
    "[Back to Index](#Index)"
   ]
  },
  {
   "cell_type": "code",
   "execution_count": 3,
   "id": "polyphonic-prize",
   "metadata": {},
   "outputs": [
    {
     "name": "stdout",
     "output_type": "stream",
     "text": [
      "||p norm where p = inf\n",
      "FATAL: Cannot solve SDPs with > 2x2 matrices without linked blas+lapack libraries\n",
      "Install blas+lapack and re-compile SCS with blas+lapack library locations\n",
      "ERROR: init_cone failure\n",
      "Failure:could not initialize work\n"
     ]
    },
    {
     "ename": "SolverError",
     "evalue": "Either candidate conic solvers (['ECOS']) do not support the cones output by the problem (SOC, PSD), or there are not enough constraints in the problem.",
     "output_type": "error",
     "traceback": [
      "\u001b[1;31m---------------------------------------------------------------------------\u001b[0m",
      "\u001b[1;31mValueError\u001b[0m                                Traceback (most recent call last)",
      "\u001b[1;32m~\\Documents\\EPFL\\MA-3\\Project\\ProximalOperatorsProject\\code\\proximal.py\u001b[0m in \u001b[0;36mevaluate\u001b[1;34m(reg, reg_nonneg, n, size, mean, sigma, lamb, rtol, atol, plot, distribution, low, high, err_thr, additional_params)\u001b[0m\n\u001b[0;32m    105\u001b[0m         \u001b[1;32mtry\u001b[0m\u001b[1;33m:\u001b[0m\u001b[1;33m\u001b[0m\u001b[1;33m\u001b[0m\u001b[0m\n\u001b[1;32m--> 106\u001b[1;33m             \u001b[0mreg_plus_nonneg_vect\u001b[0m \u001b[1;33m=\u001b[0m \u001b[0mreg_nonneg\u001b[0m\u001b[1;33m(\u001b[0m\u001b[0mnp\u001b[0m\u001b[1;33m.\u001b[0m\u001b[0mcopy\u001b[0m\u001b[1;33m(\u001b[0m\u001b[0mv\u001b[0m\u001b[1;33m)\u001b[0m\u001b[1;33m,\u001b[0m \u001b[0mnp\u001b[0m\u001b[1;33m.\u001b[0m\u001b[0mones_like\u001b[0m\u001b[1;33m(\u001b[0m\u001b[0mv\u001b[0m\u001b[1;33m)\u001b[0m\u001b[1;33m*\u001b[0m\u001b[0mlamb\u001b[0m\u001b[1;33m,\u001b[0m \u001b[1;33m*\u001b[0m\u001b[0madditional_params\u001b[0m\u001b[1;33m)\u001b[0m\u001b[1;33m\u001b[0m\u001b[1;33m\u001b[0m\u001b[0m\n\u001b[0m\u001b[0;32m    107\u001b[0m             \u001b[0mreg_o_nonneg_vect\u001b[0m \u001b[1;33m=\u001b[0m \u001b[0mreg\u001b[0m\u001b[1;33m(\u001b[0m\u001b[0mnonneg\u001b[0m\u001b[1;33m(\u001b[0m\u001b[0mnp\u001b[0m\u001b[1;33m.\u001b[0m\u001b[0mcopy\u001b[0m\u001b[1;33m(\u001b[0m\u001b[0mv\u001b[0m\u001b[1;33m)\u001b[0m\u001b[1;33m)\u001b[0m\u001b[1;33m,\u001b[0m \u001b[0mnp\u001b[0m\u001b[1;33m.\u001b[0m\u001b[0mones_like\u001b[0m\u001b[1;33m(\u001b[0m\u001b[0mv\u001b[0m\u001b[1;33m)\u001b[0m\u001b[1;33m*\u001b[0m\u001b[0mlamb\u001b[0m\u001b[1;33m,\u001b[0m \u001b[1;33m*\u001b[0m\u001b[0madditional_params\u001b[0m\u001b[1;33m)\u001b[0m\u001b[1;33m\u001b[0m\u001b[1;33m\u001b[0m\u001b[0m\n",
      "\u001b[1;32m~\\Documents\\EPFL\\MA-3\\Project\\ProximalOperatorsProject\\code\\proximal.py\u001b[0m in \u001b[0;36meig_plus_nonneg_prox\u001b[1;34m(v, lamb, p, exp)\u001b[0m\n\u001b[0;32m    575\u001b[0m \u001b[1;33m\u001b[0m\u001b[0m\n\u001b[1;32m--> 576\u001b[1;33m     \u001b[0mprob\u001b[0m \u001b[1;33m=\u001b[0m \u001b[0mcp\u001b[0m\u001b[1;33m.\u001b[0m\u001b[0mProblem\u001b[0m\u001b[1;33m(\u001b[0m\u001b[0mcp\u001b[0m\u001b[1;33m.\u001b[0m\u001b[0mMinimize\u001b[0m\u001b[1;33m(\u001b[0m\u001b[0mobj\u001b[0m\u001b[1;33m)\u001b[0m\u001b[1;33m)\u001b[0m\u001b[1;33m\u001b[0m\u001b[1;33m\u001b[0m\u001b[0m\n\u001b[0m\u001b[0;32m    577\u001b[0m     \u001b[1;32mtry\u001b[0m\u001b[1;33m:\u001b[0m\u001b[1;33m\u001b[0m\u001b[1;33m\u001b[0m\u001b[0m\n",
      "\u001b[1;32mc:\\users\\dolly\\documents\\epfl\\ma-3\\project\\prox_proj\\lib\\site-packages\\cvxpy\\problems\\objective.py\u001b[0m in \u001b[0;36m__init__\u001b[1;34m(self, expr)\u001b[0m\n\u001b[0;32m     43\u001b[0m             raise ValueError(\"The '%s' objective must resolve to a scalar.\"\n\u001b[1;32m---> 44\u001b[1;33m                              % self.NAME)\n\u001b[0m\u001b[0;32m     45\u001b[0m         \u001b[1;32mif\u001b[0m \u001b[1;32mnot\u001b[0m \u001b[0mself\u001b[0m\u001b[1;33m.\u001b[0m\u001b[0margs\u001b[0m\u001b[1;33m[\u001b[0m\u001b[1;36m0\u001b[0m\u001b[1;33m]\u001b[0m\u001b[1;33m.\u001b[0m\u001b[0mis_real\u001b[0m\u001b[1;33m(\u001b[0m\u001b[1;33m)\u001b[0m\u001b[1;33m:\u001b[0m\u001b[1;33m\u001b[0m\u001b[1;33m\u001b[0m\u001b[0m\n",
      "\u001b[1;31mValueError\u001b[0m: The 'minimize' objective must resolve to a scalar.",
      "\nDuring handling of the above exception, another exception occurred:\n",
      "\u001b[1;31mSolverError\u001b[0m                               Traceback (most recent call last)",
      "\u001b[1;32m~\\Documents\\EPFL\\MA-3\\Project\\ProximalOperatorsProject\\code\\proximal.py\u001b[0m in \u001b[0;36meig_plus_nonneg_prox\u001b[1;34m(v, lamb, p, exp)\u001b[0m\n\u001b[0;32m    577\u001b[0m     \u001b[1;32mtry\u001b[0m\u001b[1;33m:\u001b[0m\u001b[1;33m\u001b[0m\u001b[1;33m\u001b[0m\u001b[0m\n\u001b[1;32m--> 578\u001b[1;33m         \u001b[0mprob\u001b[0m\u001b[1;33m.\u001b[0m\u001b[0msolve\u001b[0m\u001b[1;33m(\u001b[0m\u001b[1;33m)\u001b[0m\u001b[1;33m\u001b[0m\u001b[1;33m\u001b[0m\u001b[0m\n\u001b[0m\u001b[0;32m    579\u001b[0m     \u001b[1;32mexcept\u001b[0m\u001b[1;33m:\u001b[0m\u001b[1;33m\u001b[0m\u001b[1;33m\u001b[0m\u001b[0m\n",
      "\u001b[1;32mc:\\users\\dolly\\documents\\epfl\\ma-3\\project\\prox_proj\\lib\\site-packages\\cvxpy\\problems\\problem.py\u001b[0m in \u001b[0;36msolve\u001b[1;34m(self, *args, **kwargs)\u001b[0m\n\u001b[0;32m    400\u001b[0m             \u001b[0msolve_func\u001b[0m \u001b[1;33m=\u001b[0m \u001b[0mProblem\u001b[0m\u001b[1;33m.\u001b[0m\u001b[0m_solve\u001b[0m\u001b[1;33m\u001b[0m\u001b[1;33m\u001b[0m\u001b[0m\n\u001b[1;32m--> 401\u001b[1;33m         \u001b[1;32mreturn\u001b[0m \u001b[0msolve_func\u001b[0m\u001b[1;33m(\u001b[0m\u001b[0mself\u001b[0m\u001b[1;33m,\u001b[0m \u001b[1;33m*\u001b[0m\u001b[0margs\u001b[0m\u001b[1;33m,\u001b[0m \u001b[1;33m**\u001b[0m\u001b[0mkwargs\u001b[0m\u001b[1;33m)\u001b[0m\u001b[1;33m\u001b[0m\u001b[1;33m\u001b[0m\u001b[0m\n\u001b[0m\u001b[0;32m    402\u001b[0m \u001b[1;33m\u001b[0m\u001b[0m\n",
      "\u001b[1;32mc:\\users\\dolly\\documents\\epfl\\ma-3\\project\\prox_proj\\lib\\site-packages\\cvxpy\\problems\\problem.py\u001b[0m in \u001b[0;36m_solve\u001b[1;34m(self, solver, warm_start, verbose, gp, qcp, requires_grad, enforce_dpp, **kwargs)\u001b[0m\n\u001b[0;32m    818\u001b[0m             self, data, warm_start, verbose, kwargs)\n\u001b[1;32m--> 819\u001b[1;33m         \u001b[0mself\u001b[0m\u001b[1;33m.\u001b[0m\u001b[0munpack_results\u001b[0m\u001b[1;33m(\u001b[0m\u001b[0msolution\u001b[0m\u001b[1;33m,\u001b[0m \u001b[0msolving_chain\u001b[0m\u001b[1;33m,\u001b[0m \u001b[0minverse_data\u001b[0m\u001b[1;33m)\u001b[0m\u001b[1;33m\u001b[0m\u001b[1;33m\u001b[0m\u001b[0m\n\u001b[0m\u001b[0;32m    820\u001b[0m         \u001b[1;32mreturn\u001b[0m \u001b[0mself\u001b[0m\u001b[1;33m.\u001b[0m\u001b[0mvalue\u001b[0m\u001b[1;33m\u001b[0m\u001b[1;33m\u001b[0m\u001b[0m\n",
      "\u001b[1;32mc:\\users\\dolly\\documents\\epfl\\ma-3\\project\\prox_proj\\lib\\site-packages\\cvxpy\\problems\\problem.py\u001b[0m in \u001b[0;36munpack_results\u001b[1;34m(self, solution, chain, inverse_data)\u001b[0m\n\u001b[0;32m   1132\u001b[0m                     \u001b[1;34m\"Solver '%s' failed. \"\u001b[0m \u001b[1;33m%\u001b[0m \u001b[0mchain\u001b[0m\u001b[1;33m.\u001b[0m\u001b[0msolver\u001b[0m\u001b[1;33m.\u001b[0m\u001b[0mname\u001b[0m\u001b[1;33m(\u001b[0m\u001b[1;33m)\u001b[0m \u001b[1;33m+\u001b[0m\u001b[1;33m\u001b[0m\u001b[1;33m\u001b[0m\u001b[0m\n\u001b[1;32m-> 1133\u001b[1;33m                     \u001b[1;34m\"Try another solver, or solve with verbose=True for more \"\u001b[0m\u001b[1;33m\u001b[0m\u001b[1;33m\u001b[0m\u001b[0m\n\u001b[0m\u001b[0;32m   1134\u001b[0m                     \"information.\")\n",
      "\u001b[1;31mSolverError\u001b[0m: Solver 'SCS' failed. Try another solver, or solve with verbose=True for more information.",
      "\nDuring handling of the above exception, another exception occurred:\n",
      "\u001b[1;31mSolverError\u001b[0m                               Traceback (most recent call last)",
      "\u001b[1;32m<ipython-input-3-db185144090c>\u001b[0m in \u001b[0;36m<module>\u001b[1;34m\u001b[0m\n\u001b[0;32m      1\u001b[0m \u001b[1;32mfor\u001b[0m \u001b[0mp\u001b[0m \u001b[1;32min\u001b[0m \u001b[1;33m[\u001b[0m\u001b[1;34m'inf'\u001b[0m\u001b[1;33m]\u001b[0m\u001b[1;33m:\u001b[0m\u001b[1;33m\u001b[0m\u001b[1;33m\u001b[0m\u001b[0m\n\u001b[0;32m      2\u001b[0m     \u001b[0mprint\u001b[0m\u001b[1;33m(\u001b[0m\u001b[1;34mf'||p norm where p = {p}'\u001b[0m\u001b[1;33m)\u001b[0m\u001b[1;33m\u001b[0m\u001b[1;33m\u001b[0m\u001b[0m\n\u001b[1;32m----> 3\u001b[1;33m     \u001b[0mproximal\u001b[0m\u001b[1;33m.\u001b[0m\u001b[0mevaluate\u001b[0m\u001b[1;33m(\u001b[0m\u001b[0mproximal\u001b[0m\u001b[1;33m.\u001b[0m\u001b[0meig_prox\u001b[0m\u001b[1;33m,\u001b[0m \u001b[0mproximal\u001b[0m\u001b[1;33m.\u001b[0m\u001b[0meig_plus_nonneg_prox\u001b[0m\u001b[1;33m,\u001b[0m \u001b[0mn\u001b[0m\u001b[1;33m=\u001b[0m\u001b[1;36m10\u001b[0m\u001b[1;33m,\u001b[0m \u001b[0msize\u001b[0m\u001b[1;33m=\u001b[0m\u001b[1;33m(\u001b[0m\u001b[1;36m20\u001b[0m\u001b[1;33m,\u001b[0m \u001b[1;36m20\u001b[0m\u001b[1;33m)\u001b[0m\u001b[1;33m,\u001b[0m \u001b[0mmean\u001b[0m\u001b[1;33m=\u001b[0m\u001b[1;36m0\u001b[0m\u001b[1;33m,\u001b[0m \u001b[0msigma\u001b[0m\u001b[1;33m=\u001b[0m\u001b[1;36m1\u001b[0m\u001b[1;33m,\u001b[0m \u001b[0mlamb\u001b[0m\u001b[1;33m=\u001b[0m\u001b[1;36m0.5\u001b[0m\u001b[1;33m,\u001b[0m \u001b[0madditional_params\u001b[0m\u001b[1;33m=\u001b[0m\u001b[1;33m[\u001b[0m\u001b[0mp\u001b[0m\u001b[1;33m]\u001b[0m\u001b[1;33m,\u001b[0m \u001b[0merr_thr\u001b[0m \u001b[1;33m=\u001b[0m \u001b[1;36m1e-4\u001b[0m\u001b[1;33m,\u001b[0m \u001b[0mplot\u001b[0m\u001b[1;33m=\u001b[0m\u001b[1;32mTrue\u001b[0m\u001b[1;33m)\u001b[0m\u001b[1;33m\u001b[0m\u001b[1;33m\u001b[0m\u001b[0m\n\u001b[0m",
      "\u001b[1;32m~\\Documents\\EPFL\\MA-3\\Project\\ProximalOperatorsProject\\code\\proximal.py\u001b[0m in \u001b[0;36mevaluate\u001b[1;34m(reg, reg_nonneg, n, size, mean, sigma, lamb, rtol, atol, plot, distribution, low, high, err_thr, additional_params)\u001b[0m\n\u001b[0;32m    109\u001b[0m         \u001b[1;31m# Except will do the job for CVXPy\u001b[0m\u001b[1;33m\u001b[0m\u001b[1;33m\u001b[0m\u001b[1;33m\u001b[0m\u001b[0m\n\u001b[0;32m    110\u001b[0m         \u001b[1;32mexcept\u001b[0m\u001b[1;33m:\u001b[0m\u001b[1;33m\u001b[0m\u001b[1;33m\u001b[0m\u001b[0m\n\u001b[1;32m--> 111\u001b[1;33m             \u001b[0mreg_plus_nonneg_vect\u001b[0m \u001b[1;33m=\u001b[0m \u001b[0mreg_nonneg\u001b[0m\u001b[1;33m(\u001b[0m\u001b[0mnp\u001b[0m\u001b[1;33m.\u001b[0m\u001b[0mcopy\u001b[0m\u001b[1;33m(\u001b[0m\u001b[0mv\u001b[0m\u001b[1;33m)\u001b[0m\u001b[1;33m,\u001b[0m \u001b[0mlamb\u001b[0m\u001b[1;33m,\u001b[0m \u001b[1;33m*\u001b[0m\u001b[0madditional_params\u001b[0m\u001b[1;33m)\u001b[0m\u001b[1;33m\u001b[0m\u001b[1;33m\u001b[0m\u001b[0m\n\u001b[0m\u001b[0;32m    112\u001b[0m             \u001b[0mreg_o_nonneg_vect\u001b[0m \u001b[1;33m=\u001b[0m \u001b[0mreg\u001b[0m\u001b[1;33m(\u001b[0m\u001b[0mnonneg\u001b[0m\u001b[1;33m(\u001b[0m\u001b[0mnp\u001b[0m\u001b[1;33m.\u001b[0m\u001b[0mcopy\u001b[0m\u001b[1;33m(\u001b[0m\u001b[0mv\u001b[0m\u001b[1;33m)\u001b[0m\u001b[1;33m)\u001b[0m\u001b[1;33m,\u001b[0m \u001b[0mlamb\u001b[0m\u001b[1;33m,\u001b[0m \u001b[1;33m*\u001b[0m\u001b[0madditional_params\u001b[0m\u001b[1;33m)\u001b[0m\u001b[1;33m\u001b[0m\u001b[1;33m\u001b[0m\u001b[0m\n\u001b[0;32m    113\u001b[0m             \u001b[0mnonneg_o_reg_vect\u001b[0m \u001b[1;33m=\u001b[0m \u001b[0mnonneg\u001b[0m\u001b[1;33m(\u001b[0m\u001b[0mreg\u001b[0m\u001b[1;33m(\u001b[0m\u001b[0mnp\u001b[0m\u001b[1;33m.\u001b[0m\u001b[0mcopy\u001b[0m\u001b[1;33m(\u001b[0m\u001b[0mv\u001b[0m\u001b[1;33m)\u001b[0m\u001b[1;33m,\u001b[0m \u001b[0mlamb\u001b[0m\u001b[1;33m,\u001b[0m \u001b[1;33m*\u001b[0m\u001b[0madditional_params\u001b[0m\u001b[1;33m)\u001b[0m\u001b[1;33m)\u001b[0m\u001b[1;33m\u001b[0m\u001b[1;33m\u001b[0m\u001b[0m\n",
      "\u001b[1;32m~\\Documents\\EPFL\\MA-3\\Project\\ProximalOperatorsProject\\code\\proximal.py\u001b[0m in \u001b[0;36meig_plus_nonneg_prox\u001b[1;34m(v, lamb, p, exp)\u001b[0m\n\u001b[0;32m    578\u001b[0m         \u001b[0mprob\u001b[0m\u001b[1;33m.\u001b[0m\u001b[0msolve\u001b[0m\u001b[1;33m(\u001b[0m\u001b[1;33m)\u001b[0m\u001b[1;33m\u001b[0m\u001b[1;33m\u001b[0m\u001b[0m\n\u001b[0;32m    579\u001b[0m     \u001b[1;32mexcept\u001b[0m\u001b[1;33m:\u001b[0m\u001b[1;33m\u001b[0m\u001b[1;33m\u001b[0m\u001b[0m\n\u001b[1;32m--> 580\u001b[1;33m         \u001b[0mprob\u001b[0m\u001b[1;33m.\u001b[0m\u001b[0msolve\u001b[0m\u001b[1;33m(\u001b[0m\u001b[0msolver\u001b[0m\u001b[1;33m=\u001b[0m\u001b[0mcp\u001b[0m\u001b[1;33m.\u001b[0m\u001b[0mECOS\u001b[0m\u001b[1;33m)\u001b[0m\u001b[1;33m\u001b[0m\u001b[1;33m\u001b[0m\u001b[0m\n\u001b[0m\u001b[0;32m    581\u001b[0m \u001b[1;33m\u001b[0m\u001b[0m\n\u001b[0;32m    582\u001b[0m     \u001b[1;32mreturn\u001b[0m \u001b[0mx\u001b[0m\u001b[1;33m.\u001b[0m\u001b[0mvalue\u001b[0m\u001b[1;33m\u001b[0m\u001b[1;33m\u001b[0m\u001b[0m\n",
      "\u001b[1;32mc:\\users\\dolly\\documents\\epfl\\ma-3\\project\\prox_proj\\lib\\site-packages\\cvxpy\\problems\\problem.py\u001b[0m in \u001b[0;36msolve\u001b[1;34m(self, *args, **kwargs)\u001b[0m\n\u001b[0;32m    399\u001b[0m         \u001b[1;32melse\u001b[0m\u001b[1;33m:\u001b[0m\u001b[1;33m\u001b[0m\u001b[1;33m\u001b[0m\u001b[0m\n\u001b[0;32m    400\u001b[0m             \u001b[0msolve_func\u001b[0m \u001b[1;33m=\u001b[0m \u001b[0mProblem\u001b[0m\u001b[1;33m.\u001b[0m\u001b[0m_solve\u001b[0m\u001b[1;33m\u001b[0m\u001b[1;33m\u001b[0m\u001b[0m\n\u001b[1;32m--> 401\u001b[1;33m         \u001b[1;32mreturn\u001b[0m \u001b[0msolve_func\u001b[0m\u001b[1;33m(\u001b[0m\u001b[0mself\u001b[0m\u001b[1;33m,\u001b[0m \u001b[1;33m*\u001b[0m\u001b[0margs\u001b[0m\u001b[1;33m,\u001b[0m \u001b[1;33m**\u001b[0m\u001b[0mkwargs\u001b[0m\u001b[1;33m)\u001b[0m\u001b[1;33m\u001b[0m\u001b[1;33m\u001b[0m\u001b[0m\n\u001b[0m\u001b[0;32m    402\u001b[0m \u001b[1;33m\u001b[0m\u001b[0m\n\u001b[0;32m    403\u001b[0m     \u001b[1;33m@\u001b[0m\u001b[0mclassmethod\u001b[0m\u001b[1;33m\u001b[0m\u001b[1;33m\u001b[0m\u001b[0m\n",
      "\u001b[1;32mc:\\users\\dolly\\documents\\epfl\\ma-3\\project\\prox_proj\\lib\\site-packages\\cvxpy\\problems\\problem.py\u001b[0m in \u001b[0;36m_solve\u001b[1;34m(self, solver, warm_start, verbose, gp, qcp, requires_grad, enforce_dpp, **kwargs)\u001b[0m\n\u001b[0;32m    814\u001b[0m \u001b[1;33m\u001b[0m\u001b[0m\n\u001b[0;32m    815\u001b[0m         data, solving_chain, inverse_data = self.get_problem_data(\n\u001b[1;32m--> 816\u001b[1;33m             solver, gp, enforce_dpp)\n\u001b[0m\u001b[0;32m    817\u001b[0m         solution = solving_chain.solve_via_data(\n\u001b[0;32m    818\u001b[0m             self, data, warm_start, verbose, kwargs)\n",
      "\u001b[1;32mc:\\users\\dolly\\documents\\epfl\\ma-3\\project\\prox_proj\\lib\\site-packages\\cvxpy\\problems\\problem.py\u001b[0m in \u001b[0;36mget_problem_data\u001b[1;34m(self, solver, gp, enforce_dpp)\u001b[0m\n\u001b[0;32m    503\u001b[0m             \u001b[0mself\u001b[0m\u001b[1;33m.\u001b[0m\u001b[0m_cache\u001b[0m\u001b[1;33m.\u001b[0m\u001b[0minvalidate\u001b[0m\u001b[1;33m(\u001b[0m\u001b[1;33m)\u001b[0m\u001b[1;33m\u001b[0m\u001b[1;33m\u001b[0m\u001b[0m\n\u001b[0;32m    504\u001b[0m             solving_chain = self._construct_chain(\n\u001b[1;32m--> 505\u001b[1;33m                 solver=solver, gp=gp, enforce_dpp=enforce_dpp)\n\u001b[0m\u001b[0;32m    506\u001b[0m             \u001b[0mself\u001b[0m\u001b[1;33m.\u001b[0m\u001b[0m_cache\u001b[0m\u001b[1;33m.\u001b[0m\u001b[0mkey\u001b[0m \u001b[1;33m=\u001b[0m \u001b[0mkey\u001b[0m\u001b[1;33m\u001b[0m\u001b[1;33m\u001b[0m\u001b[0m\n\u001b[0;32m    507\u001b[0m             \u001b[0mself\u001b[0m\u001b[1;33m.\u001b[0m\u001b[0m_cache\u001b[0m\u001b[1;33m.\u001b[0m\u001b[0msolving_chain\u001b[0m \u001b[1;33m=\u001b[0m \u001b[0msolving_chain\u001b[0m\u001b[1;33m\u001b[0m\u001b[1;33m\u001b[0m\u001b[0m\n",
      "\u001b[1;32mc:\\users\\dolly\\documents\\epfl\\ma-3\\project\\prox_proj\\lib\\site-packages\\cvxpy\\problems\\problem.py\u001b[0m in \u001b[0;36m_construct_chain\u001b[1;34m(self, solver, gp, enforce_dpp)\u001b[0m\n\u001b[0;32m    700\u001b[0m         \u001b[0mself\u001b[0m\u001b[1;33m.\u001b[0m\u001b[0m_sort_candidate_solvers\u001b[0m\u001b[1;33m(\u001b[0m\u001b[0mcandidate_solvers\u001b[0m\u001b[1;33m)\u001b[0m\u001b[1;33m\u001b[0m\u001b[1;33m\u001b[0m\u001b[0m\n\u001b[0;32m    701\u001b[0m         return construct_solving_chain(self, candidate_solvers, gp=gp,\n\u001b[1;32m--> 702\u001b[1;33m                                        enforce_dpp=enforce_dpp)\n\u001b[0m\u001b[0;32m    703\u001b[0m \u001b[1;33m\u001b[0m\u001b[0m\n\u001b[0;32m    704\u001b[0m     \u001b[1;33m@\u001b[0m\u001b[0mstaticmethod\u001b[0m\u001b[1;33m\u001b[0m\u001b[1;33m\u001b[0m\u001b[0m\n",
      "\u001b[1;32mc:\\users\\dolly\\documents\\epfl\\ma-3\\project\\prox_proj\\lib\\site-packages\\cvxpy\\reductions\\solvers\\solving_chain.py\u001b[0m in \u001b[0;36mconstruct_solving_chain\u001b[1;34m(problem, candidates, gp, enforce_dpp)\u001b[0m\n\u001b[0;32m    240\u001b[0m                       \"enough constraints in the problem.\" % (\n\u001b[0;32m    241\u001b[0m                           \u001b[0mcandidates\u001b[0m\u001b[1;33m[\u001b[0m\u001b[1;34m'conic_solvers'\u001b[0m\u001b[1;33m]\u001b[0m\u001b[1;33m,\u001b[0m\u001b[1;33m\u001b[0m\u001b[1;33m\u001b[0m\u001b[0m\n\u001b[1;32m--> 242\u001b[1;33m                           \", \".join([cone.__name__ for cone in cones])))\n\u001b[0m\u001b[0;32m    243\u001b[0m \u001b[1;33m\u001b[0m\u001b[0m\n\u001b[0;32m    244\u001b[0m \u001b[1;33m\u001b[0m\u001b[0m\n",
      "\u001b[1;31mSolverError\u001b[0m: Either candidate conic solvers (['ECOS']) do not support the cones output by the problem (SOC, PSD), or there are not enough constraints in the problem."
     ]
    }
   ],
   "source": [
    "for p in ['inf']:\n",
    "    print(f'||p norm where p = {p}')\n",
    "    proximal.evaluate(proximal.eig_prox, proximal.eig_plus_nonneg_prox, n=10, size=(20, 20), mean=0, sigma=1, lamb=0.5, additional_params=[p], err_thr = 1e-4, plot=True)"
   ]
  },
  {
   "cell_type": "markdown",
   "id": "welsh-newcastle",
   "metadata": {},
   "source": [
    "### 5.B Lp^p\n",
    "[Back to Index](#Index)"
   ]
  },
  {
   "cell_type": "markdown",
   "id": "excited-carry",
   "metadata": {},
   "source": [
    "## 6. Hessian Schatten Norm\n",
    "[Back to Index](#Index)\n",
    "$$\\mathcal{R}(Lx) = \\sum^N_{n = 1}\\| \\left[\n",
    "  \\begin{bmatrix}\n",
    "    [D_{11}x]_n [D_{12}x]_n\\\\\n",
    "    [D_{21}x]_n [D_{22}x]_n\n",
    "  \\end{bmatrix}\n",
    "\\right] \\|_*$$"
   ]
  },
  {
   "cell_type": "code",
   "execution_count": 2,
   "id": "forty-economy",
   "metadata": {},
   "outputs": [],
   "source": [
    "def Hessian_Schatten_prox(v, lamb):\n",
    "    \n",
    "    if len(v.shape) != 2:\n",
    "        print('WARNING\\n:This function is  designed for 2D operators. Terminating function.')\n",
    "        return\n",
    "    \n",
    "    nx, ny = v.shape\n",
    "    \n",
    "    x = cp.Variable((nx, ny))\n",
    "    \n",
    "    # Defining D1 and D2x We loose one element in the *other* dimension to account for the lost element and have elements of equal size\n",
    "    D1 = cp.abs((x[:, 1:] - x[:, :-1])[:-1, :])\n",
    "    D2 = cp.abs((x[1:, :] - x[:-1, :])[:, :-1])\n",
    "    D11 = cp.abs((D1[:, 1:] - D1[:, :-1])[:-1, :])\n",
    "    D22 = cp.abs((D2[1:, :] - D2[:-1, :])[:, :-1])\n",
    "    D21 = cp.abs((D2[:, 1:] - D2[:, :-1])[:-1, :])\n",
    "    D12 = cp.abs((D1[1:, :] - D1[:-1, :])[:, :-1])\n",
    "#     T = D11 + D22\n",
    "#     D = cp.multiply(D11, D22) - cp.multiply(D12, D21)\n",
    "#     lamb_1 = T/2 + cp.multiply((T)**2, cp.power(4 - D, -1))\n",
    "#     lamb_2 = T/2 - cp.multiply((T)**2, cp.power(4 - D, -1))\n",
    "#     y = cp.Variable((nx*ny, 2, 2))\n",
    "#     y[:, 0, 0] = cp.vec(D11)\n",
    "#     y[:, 0, 1] = cp.vec(D12)\n",
    "#     y[:, 1, 0] = cp.vec(D21)\n",
    "#     y[:, 1, 1] = cp.vec(D22)\n",
    "    D11 = cp.vec(D11)\n",
    "    D12 = cp.vec(D12)\n",
    "    D21 = cp.vec(D21)\n",
    "    D22 = cp.vec(D22)\n",
    "    inner = 0\n",
    "    for i in range(nx*ny):\n",
    "#         y = cp.Variable((2, 2))\n",
    "#         y[0, 0] = D11[i]\n",
    "#         y[0, 1] = D12[i]\n",
    "#         y[1, 0] = D21[i]\n",
    "#         y[1, 1] = D22[i]\n",
    "        a = [[D11[i], D12[i]], [D21[i], D22[i]]]\n",
    "        inner = inner + cp.sum_largest(scipy.linalg.eigvals(a), 2) \n",
    "    \n",
    "#     obj = cp.pnorm(lamb_1 + lamb_2, 1) + cp.sum_squares(x - v)/(2*lamb)\n",
    "    obj = inner + cp.sum_squares(x - v)/(2*lamb)\n",
    "    prob = cp.Problem(cp.Minimize(obj))\n",
    "    prob.solve()\n",
    "    \n",
    "    return x.value\n",
    "\n",
    "def Hessian_Schatten_plus_nonneg_prox(v, lamb):\n",
    "    \n",
    "    if len(v.shape) != 2:\n",
    "        print('WARNING\\n:This function is  designed for 2D operators. Terminating function.')\n",
    "        return\n",
    "    \n",
    "    nx, ny = v.shape\n",
    "    \n",
    "    x = cp.Variable((nx, ny), nonneg = True)\n",
    "    \n",
    "    # Defining D1 and D2x We loose one element in the *other* dimension to account for the lost element and have elements of equal size\n",
    "    D1 = (x[:, 1:] - x[:, :-1])[:-1, :]\n",
    "    D2 = (x[1:, :] - x[:-1, :])[:, :-1]\n",
    "    D11 = (D1[:, 1:] - D1[:, :-1])[:-1, :]\n",
    "    D22 = (D2[1:, :] - D2[:-1, :])[:, :-1]\n",
    "    D21 = (D2[:, 1:] - D2[:, :-1])[:-1, :]\n",
    "    D12 = (D1[1:, :] - D1[:-1, :])[:, :-1]\n",
    "#     T = D11 + D22\n",
    "#     D = cp.multiply(D11, D22) - cp.multiply(D12, D21)\n",
    "#     lamb_1 = T/2 + cp.multiply((T)**2, cp.power(4 - D, -1))\n",
    "#     lamb_2 = T/2 - cp.multiply((T)**2, cp.power(4 - D, -1))\n",
    "#     y = cp.Variable((nx*ny, 2, 2))\n",
    "#     y[:, 0, 0] = cp.vec(D11)\n",
    "#     y[:, 0, 1] = cp.vec(D12)\n",
    "#     y[:, 1, 0] = cp.vec(D21)\n",
    "#     y[:, 1, 1] = cp.vec(D22)\n",
    "    D11 = cp.vec(D11)\n",
    "    D12 = cp.vec(D12)\n",
    "    D21 = cp.vec(D21)\n",
    "    D22 = cp.vec(D22)\n",
    "    inner = 0\n",
    "    for i in range(nx*ny):\n",
    "#         y = cp.Variable((2, 2))\n",
    "#         y[0, 0] = D11[i]\n",
    "#         y[0, 1] = D12[i]\n",
    "#         y[1, 0] = D21[i]\n",
    "#         y[1, 1] = D22[i]\n",
    "        a = [[D11[i], D12[i]], [D21[i], D22[i]]]\n",
    "        eig = scipy.linalg.eigvals(a)\n",
    "        inner = inner + eig[0] + eig[1]# cp.sum_largest(scipy.linalg.eigvals(a), 2) \n",
    "    \n",
    "#     obj = cp.pnorm(lamb_1 + lamb_2, 1) + cp.sum_squares(x - v)/(2*lamb)\n",
    "    obj = inner + cp.sum_squares(x - v)/(2*lamb)\n",
    "\n",
    "    \n",
    "    prob = cp.Problem(cp.Minimize(obj))\n",
    "    prob.solve()\n",
    "    \n",
    "    return x.value"
   ]
  },
  {
   "cell_type": "markdown",
   "id": "convinced-grenada",
   "metadata": {},
   "source": [
    "# <a name = 'Eval'></a> Evaluation\n",
    "\n",
    "The following function `evaluate` is designed to evaluate a number of random vectors created from normal distributions on the cases presented in [section 1](#Intro):\n",
    "\n",
    "$$\\mathrm{prox}_{L^2 + \\delta_{\\rm I\\!R_+^N }} $$\n",
    "$$ \\mathrm{prox}_{\\mathrm{L}^2}(\\mathrm{prox}_{\\delta_{\\rm I\\!R_+^N}})$$ \n",
    "$$\\mathrm{prox}_{\\delta_{\\rm I\\!R_+^N}}(\\mathrm{prox}_{\\mathcal{R}})$$\n",
    "\n",
    "And searches for equality. It takes as input parameters:\n",
    "* `reg` (function): Closed-form solution of the proximal operator of the regularizer, **Considerar como input problema CVXPY**\n",
    "* `reg_nonneg` (function): Closed-form solution of the proximal operator of the regularizer + $\\delta_{\\rm I\\!R_+^N }$,\n",
    "* `n` (int): Number of vectors\n",
    "* `shape` (tuple): Shape of the vectors\n",
    "* `mean` (scalar): Mean of the vectors\n",
    "* `sigma` (scalar): $\\sigma$ of the normal distribution used to sample the vectors\n",
    "* `lamb` (scalar): Parameter $\\lambda$ to be used in the pointwise operations.\n",
    "\n",
    "It returns:\n",
    "* `reg_nonneg` (boolean): The findings on whether $\\mathrm{prox}_{L^2 + \\delta_{\\rm I\\!R_+^N }} == \\mathrm{prox}_{\\mathrm{L}^2}(\\mathrm{prox}_{\\delta_{\\rm I\\!R_+^N}})$\n",
    "* `nonneg_reg` (boolean): The findings on whether\n",
    "$\\mathrm{prox}_{L^2 + \\delta_{\\rm I\\!R_+^N }} == \\mathrm{prox}_{\\delta_{\\rm I\\!R_+^N}}(\\mathrm{prox}_{\\Re})$"
   ]
  },
  {
   "cell_type": "markdown",
   "id": "sorted-preserve",
   "metadata": {},
   "source": [
    "Now we will run the function for the L1 and L2 norm"
   ]
  },
  {
   "cell_type": "code",
   "execution_count": null,
   "id": "experimental-level",
   "metadata": {},
   "outputs": [],
   "source": [
    "# print('L2 Norm:')\n",
    "# proximal.evaluate(l2_prox, l2_plus_nonneg_prox, n=100, size=(100,), mean=0, sigma=1, lamb=3, plot=True,)\n",
    "# print('\\nL1 Norm:')\n",
    "# proximal.evaluate(l1_prox, l1_plus_nonneg_prox, n=100, size=(100,), mean=0, sigma=1, lamb=1, plot=True )\n",
    "# print('\\n||Qx||1 Norm, where Q is the DCT:')\n",
    "# proximal.evaluate(DCT_l1_prox, DCT_l1_plus_nonneg, n=100, size=(100,), mean=0, sigma=1, lamb=0.1)\n",
    "# print('\\n||Qx||1 Norm, where Q is the finite differences:')\n",
    "# proximal.evaluate(Q_L1_prox_1D, Q_L1_plus_nonneg_prox_1D, n=100, size=(50,), mean=0, sigma=1, lamb=0.5, plot = True,\n",
    "#                   rtol=1e-2, atol=1e-3)\n",
    "# print('\\n$||x||_0$ Norm')\n",
    "# proximal.evaluate(l0_prox, l0_plus_nonneg_prox, n=10, size=(50,), mean=0, sigma=1, lamb=1, plot = True,\n",
    "#                   rtol=1e-2, atol=1e-3)\n",
    "print('\\nTV 2,1 Regularizer:')\n",
    "proximal.evaluate(TV_prox, TV_plus_nonneg_prox, n=2, size=(20, 20), mean=0, sigma=1, lamb=0.2, plot = True, rtol=1e-3, atol=1e-3)\n",
    "# print('\\nTV(x) Regularizer:')\n",
    "# proximal.evaluate(Hessian_Schatten_prox, Hessian_Schatten_plus_nonneg_prox, n=10, size=(20, 20), mean=0, sigma=1, lamb=0.2, plot = True, rtol=1e-3, atol=1e-3)\n"
   ]
  },
  {
   "cell_type": "markdown",
   "id": "ultimate-recipient",
   "metadata": {},
   "source": [
    "## References\n",
    "\n",
    "[1.](https://arc.aiaa.org/doi/pdf/10.2514/1.26320?casa_token=EpyiTfodqo4AAAAA%3AGmnFHyrImbNxMMk2ONs1c9wpN6bLTip8_a7irQweswoms0vMBtL1kGu6h8v6IK76_zhhhtk0KPA&) Pol del Aguila Pla and Joakim Jaldén, Cell detection by functional inverse diffusion and non-negative group sparsity—Part II: Proximal optimization and Performance evaluation, IEEE Transactions on Signal Processing, vol. 66, no. 20, pp. 5422–5437, 2018\n",
    "\n",
    "[2.](http://bigwww.epfl.ch/publications/soubies1904.pdf) E. Soubies, F. Soulez, M.T. McCann, T.-a. Pham, L. Donati, T. Debarre, D. Sage, M. Unser, \"Pocket Guide to Solve Inverse Problems with GlobalBioIm,\" Inverse Problems, vol. 35, no. 10, paper no. 104006, pp. 1-20, October 2019"
   ]
  }
 ],
 "metadata": {
  "kernelspec": {
   "display_name": "Python 3",
   "language": "python",
   "name": "python3"
  },
  "language_info": {
   "codemirror_mode": {
    "name": "ipython",
    "version": 3
   },
   "file_extension": ".py",
   "mimetype": "text/x-python",
   "name": "python",
   "nbconvert_exporter": "python",
   "pygments_lexer": "ipython3",
   "version": "3.7.9"
  }
 },
 "nbformat": 4,
 "nbformat_minor": 5
}
