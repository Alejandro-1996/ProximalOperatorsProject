{
 "cells": [
  {
   "cell_type": "code",
   "execution_count": 1,
   "id": "social-diesel",
   "metadata": {},
   "outputs": [],
   "source": [
    "# Import technical libraries\n",
    "import cvxpy as cp\n",
    "import numpy as np\n",
    "import numpy.matlib\n",
    "from scipy import linalg\n",
    "import matplotlib.pyplot as plt\n",
    "import ipywidgets as widgets\n",
    "import scipy \n",
    "import scipy.fftpack\n",
    "import proximal \n",
    "from iplabs import IPLabViewer as viewer\n",
    "import matplotlib\n",
    "import proximal\n",
    "%matplotlib widget\n",
    "import seaborn\n",
    "import matplotlib as mpl\n",
    "\n",
    "# Set Matplotlib style\n",
    "mpl.rcParams['grid.linewidth'] = 0.3\n",
    "mpl.rcParams['axes.linewidth'] = 1\n",
    "plt.rcParams[\"font.family\"] = \"Times New Roman\""
   ]
  },
  {
   "cell_type": "markdown",
   "id": "simplified-berry",
   "metadata": {},
   "source": [
    "# Plots\n",
    "\n",
    "The present notebook is used to generating the different plots and toy examples shown in the report and in the presentation."
   ]
  },
  {
   "cell_type": "markdown",
   "id": "individual-bulgarian",
   "metadata": {},
   "source": [
    "### Plot of Element-wise Proximal Operators "
   ]
  },
  {
   "cell_type": "code",
   "execution_count": 2,
   "id": "widespread-tourism",
   "metadata": {},
   "outputs": [],
   "source": [
    "# Define some useful functions\n",
    "nonneg = lambda x: np.maximum(np.zeros_like(x), x)\n",
    "l1_prox = lambda x, lamb: np.sign(x)*np.maximum(np.abs(x) - lamb, 0)\n",
    "l2_prox_param = lambda x, lamb: (1 - np.minimum(lamb, np.ones_like(x)))*x\n",
    "l3_prox_param = lambda x, lamb: np.sign(x)*(np.sqrt(1 + 12*lamb*np.abs(x) -1))/(6*lamb)"
   ]
  },
  {
   "cell_type": "code",
   "execution_count": 3,
   "id": "organized-mortgage",
   "metadata": {},
   "outputs": [
    {
     "data": {
      "application/vnd.jupyter.widget-view+json": {
       "model_id": "109569be05c242308c0cd8008020c127",
       "version_major": 2,
       "version_minor": 0
      },
      "text/plain": [
       "Canvas(toolbar=Toolbar(toolitems=[('Home', 'Reset original view', 'home', 'home'), ('Pan', 'Pan axes with left…"
      ]
     },
     "metadata": {},
     "output_type": "display_data"
    },
    {
     "data": {
      "text/plain": [
       "<matplotlib.legend.Legend at 0x280dc16f1c8>"
      ]
     },
     "execution_count": 3,
     "metadata": {},
     "output_type": "execute_result"
    }
   ],
   "source": [
    "# Plot proximals \n",
    "lamb = 0.8\n",
    "vi = np.arange(-10, 10, 0.1)\n",
    "plt.figure()\n",
    "plt.title('Element-Wise Proximal Operators ($\\lambda = 0.6$)', fontsize = 16)\n",
    "plt.grid()\n",
    "plt.xlabel('$\\mathbf{v}$', fontsize = 14)\n",
    "plt.ylabel('$\\mathrm{prox}_{\\lambda f}(\\mathbf{v})$', fontsize = 14)\n",
    "# Plot nonnegativity constraints\n",
    "plt.plot(vi, list(map(nonneg, vi)), label = r'$\\mathrm{prox}_{\\lambda \\delta}$')\n",
    "# Plot l1 proxi\n",
    "plt.plot(vi, l1_prox(np.copy(vi), 0.6), label = r'$\\mathrm{prox}_{\\lambda \\ell_1}$')\n",
    "# Plot l2 proxi\n",
    "plt.plot(vi, l2_prox_param(np.copy(vi), 0.6), label = r'$\\mathrm{prox}_{\\lambda \\ell_2}$')\n",
    "# Plot l3 proxi\n",
    "plt.plot(vi, l3_prox_param(np.copy(vi), 0.6), label = r'$\\mathrm{prox}_{\\lambda \\ell_3}$')\n",
    "plt.axvline(lamb, color='r', linewidth=0.5, label='\\u03bb')\n",
    "plt.axvline(-lamb, color='r', linewidth=0.5, label='-\\u03bb')\n",
    "plt.legend(prop={'size': 12})"
   ]
  },
  {
   "cell_type": "markdown",
   "id": "enclosed-happening",
   "metadata": {},
   "source": [
    "### Moreau Envelope Plot"
   ]
  },
  {
   "cell_type": "code",
   "execution_count": 4,
   "id": "postal-evanescence",
   "metadata": {},
   "outputs": [
    {
     "data": {
      "application/vnd.jupyter.widget-view+json": {
       "model_id": "cd7da67a077948a79f164ebf21c10df4",
       "version_major": 2,
       "version_minor": 0
      },
      "text/plain": [
       "Canvas(toolbar=Toolbar(toolitems=[('Home', 'Reset original view', 'home', 'home'), ('Pan', 'Pan axes with left…"
      ]
     },
     "metadata": {},
     "output_type": "display_data"
    },
    {
     "data": {
      "text/plain": [
       "Text(0.5, 1.0, 'Moreau Envelope $\\\\operatorname{M}_{\\\\lambda f}(v)$ of $f(x) = \\\\frac{x^2}{2} + \\\\delta_{\\\\mathbb{R}^+}(x)$')"
      ]
     },
     "execution_count": 4,
     "metadata": {},
     "output_type": "execute_result"
    }
   ],
   "source": [
    "# Declare original array and values for gamma\n",
    "x = np.linspace(-5,5,1000) \n",
    "gammas = [0.01, 0.1, 0.5, 1, 2]\n",
    "\n",
    "plt.figure()\n",
    "# Plot original function\n",
    "plt.plot(x[x>=0],x[x>=0]**2/2,'k',label=r\"$f(x) = \\frac{x^2}{2} + \\delta_{\\mathbb{R}_+}(x)$\")\n",
    "plt.axvline(0, color='k')\n",
    "# Calculate for different parameters\n",
    "for gamma in gammas:\n",
    "    moreau = np.zeros_like(x)\n",
    "    moreau[x>0] = x[x>0]**2/(2*(gamma+1))\n",
    "    moreau[x<0] = x[x<0]**2/(2*gamma)    \n",
    "    plt.plot(x,moreau,label=f\"$f_{{{gamma}}}(x)$\")\n",
    "\n",
    "# Plot parameters\n",
    "plt.legend(prop={'size': 12}); plt.axis((-5,5,0,25)); plt.grid()\n",
    "plt.xticks(np.arange(-5, 5)); plt.yticks(np.arange(0, 25, 2))\n",
    "plt.xlabel('$\\mathbf{v}$', fontsize = 14); plt.ylabel('$\\operatorname{M}_{\\lambda f}(\\mathbf{v})$', fontsize = 14)\n",
    "plt.title('Moreau Envelope $\\operatorname{M}_{\\lambda f}(v)$ of $f(x) = \\\\frac{x^2}{2} + \\delta_{\\mathbb{R}^+}(x)$', fontsize = 16)"
   ]
  },
  {
   "cell_type": "markdown",
   "id": "institutional-southeast",
   "metadata": {},
   "source": [
    "### Proximal Minimization Example"
   ]
  },
  {
   "cell_type": "code",
   "execution_count": 13,
   "id": "forbidden-capture",
   "metadata": {},
   "outputs": [
    {
     "data": {
      "application/vnd.jupyter.widget-view+json": {
       "model_id": "1138b34a6ae94cbfbab3298988b7e899",
       "version_major": 2,
       "version_minor": 0
      },
      "text/plain": [
       "Canvas(toolbar=Toolbar(toolitems=[('Home', 'Reset original view', 'home', 'home'), ('Pan', 'Pan axes with left…"
      ]
     },
     "metadata": {},
     "output_type": "display_data"
    },
    {
     "data": {
      "text/plain": [
       "Text(0.5, 1.0, 'Proximal Minimization Algorithm ($f(x) = |x|$, $v = 4$)')"
      ]
     },
     "execution_count": 13,
     "metadata": {},
     "output_type": "execute_result"
    }
   ],
   "source": [
    "plt.figure()\n",
    "# Declare initial arrays, parameters and starting point\n",
    "x = np.linspace(-5,5,1000) \n",
    "gammas = [1, 2, 3]\n",
    "v = 4\n",
    "ax = plt.gca()\n",
    "# Get objective functions with different parameters\n",
    "for gamma in gammas:\n",
    "    proximal = np.zeros_like(x)\n",
    "    proximal = np.abs(x) + (x-v)**2/(2*gamma)\n",
    "    opt = np.where(proximal == np.min(proximal))[0][0]\n",
    "    color = next(ax._get_lines.prop_cycler)['color']\n",
    "    plt.plot(x[opt], proximal[opt], 'o', color = color)\n",
    "    plt.plot(x,proximal,label=r\"$|x| + \\frac{1}{2\\gamma}\\|x-v\\|_2^2$\" + f', $\\lambda$ = {gamma}', color = color)\n",
    "# Plot\n",
    "plt.plot(x, np.abs(x), 'k', label=r\"$|x|$\")\n",
    "plt.axvline(4, color='r', ls = '--', linewidth=0.5, label='$v$')\n",
    "plt.legend(prop={'size': 12})\n",
    "plt.axis((-5,5,0,25))\n",
    "plt.ylim([0, 10])\n",
    "plt.xticks(np.arange(-5, 5))\n",
    "plt.xlabel('$x$', fontsize = 14)\n",
    "plt.ylabel('$f(x)$', fontsize = 14)\n",
    "plt.grid()\n",
    "plt.title(r'Proximal Minimization Algorithm ($f(x) = |x|$, $v = 4$)', fontsize = 16)"
   ]
  },
  {
   "cell_type": "markdown",
   "id": "fixed-halifax",
   "metadata": {},
   "source": [
    "## CVXPy Minimization Example"
   ]
  },
  {
   "cell_type": "code",
   "execution_count": 12,
   "id": "minute-bernard",
   "metadata": {},
   "outputs": [
    {
     "name": "stdout",
     "output_type": "stream",
     "text": [
      "Value of v: [-1.24   1.013  0.106 -1.131 -1.865 -0.641  0.685  0.469 -0.992  0.108]\n",
      "The optimal value of x: [0.    0.513 0.    0.    0.    0.    0.185 0.    0.    0.   ]\n"
     ]
    }
   ],
   "source": [
    "# Define size of vector, lambda, and initialize vector to apply prox to  \n",
    "n = 10; lambda_ = 0.5\n",
    "v = np.random.normal(size = (n))\n",
    "print(f'Value of v: {np.round(v, 3)}')\n",
    "\n",
    "# Define CVXPy variable of the same size as v, constrained to the nonnegative domain\n",
    "x_nonneg = cp.Variable(n, nonneg = True)\n",
    "\n",
    "# Define cost function: |x|_1 + |x-v|^2_2 * (1/2 lambda_)\n",
    "obj = cp.norm(x_nonneg, 1) + cp.norm(x_nonneg - v, 2)**2/(2*lambda_)\n",
    "\n",
    "# Solve problem\n",
    "prox_nonneg_prob = cp.Problem(cp.Minimize(obj))\n",
    "prox_nonneg_prob.solve()\n",
    "print(f'The optimal value of x: {np.round(x_nonneg.value, 3)}')"
   ]
  },
  {
   "cell_type": "code",
   "execution_count": 13,
   "id": "grave-myrtle",
   "metadata": {},
   "outputs": [
    {
     "data": {
      "application/vnd.jupyter.widget-view+json": {
       "model_id": "f95d780433b64688a998ed8c4b133b93",
       "version_major": 2,
       "version_minor": 0
      },
      "text/plain": [
       "Canvas(toolbar=Toolbar(toolitems=[('Home', 'Reset original view', 'home', 'home'), ('Pan', 'Pan axes with left…"
      ]
     },
     "metadata": {},
     "output_type": "display_data"
    }
   ],
   "source": [
    "plt.figure(figsize = (8, 3))\n",
    "plt.plot(v, 'o', label = '$\\mathbf{x}$', markersize = 6)\n",
    "plt.plot(x_nonneg.value, 's', label = '$\\mathrm{prox}_{\\ell_1 + \\delta}(\\mathbf{x})$', alpha = 1 ,markersize = 6)\n",
    "plt.xlabel('Index', fontsize = 14); plt.ylabel('Value', fontsize = 14); plt.title('$\\mathrm{prox}_{\\ell_1 + \\delta}(\\mathbf{v})$ Example', fontsize = 16)\n",
    "plt.vlines([5, 4, 8], [v[5], v[4], v[8]], [x_nonneg.value[5], x_nonneg.value[4], x_nonneg.value[8]], color='r', ls = '--', linewidth=0.8, label = '$\\lambda$')\n",
    "plt.grid()\n",
    "plt.legend()\n",
    "plt.tight_layout()\n",
    "plt.show()"
   ]
  }
 ],
 "metadata": {
  "kernelspec": {
   "display_name": "Python 3",
   "language": "python",
   "name": "python3"
  },
  "language_info": {
   "codemirror_mode": {
    "name": "ipython",
    "version": 3
   },
   "file_extension": ".py",
   "mimetype": "text/x-python",
   "name": "python",
   "nbconvert_exporter": "python",
   "pygments_lexer": "ipython3",
   "version": "3.7.9"
  }
 },
 "nbformat": 4,
 "nbformat_minor": 5
}
