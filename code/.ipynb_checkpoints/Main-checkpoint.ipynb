{
 "cells": [
  {
   "cell_type": "code",
   "execution_count": 43,
   "metadata": {},
   "outputs": [],
   "source": [
    "# Technical libraries\n",
    "import cvxpy as cp\n",
    "import numpy as np\n",
    "from skimage import data, util\n",
    "from scipy import special, linalg\n",
    "import astropy\n",
    "\n",
    "# General purpose libraries\n",
    "import sys  \n",
    "\n",
    "%matplotlib widget\n",
    "\n",
    "sys.path.insert(0, r'C:\\Users\\dolly\\Documents\\EPFL\\Proyectos\\IP_Labs\\IPLABs2020\\labs2020\\IP2\\source\\Wavelets_Lab\\lib')\n",
    "from iplabs import IPLabViewer as viewer"
   ]
  },
  {
   "cell_type": "markdown",
   "metadata": {},
   "source": [
    "## Index\n",
    "1. Test"
   ]
  },
  {
   "cell_type": "code",
   "execution_count": 84,
   "metadata": {},
   "outputs": [
    {
     "name": "stderr",
     "output_type": "stream",
     "text": [
      "c:\\users\\dolly\\appdata\\local\\programs\\python\\python38\\lib\\site-packages\\numpy\\lib\\histograms.py:854: ComplexWarning: Casting complex values to real discards the imaginary part\n",
      "  indices = f_indices.astype(np.intp)\n"
     ]
    },
    {
     "data": {
      "application/vnd.jupyter.widget-view+json": {
       "model_id": "746bde897eb74a899e5413b402924463",
       "version_major": 2,
       "version_minor": 0
      },
      "text/plain": [
       "HBox(children=(Output(layout=Layout(width='80%')), Output(), Output(layout=Layout(width='25%'))))"
      ]
     },
     "metadata": {},
     "output_type": "display_data"
    },
    {
     "data": {
      "application/vnd.jupyter.widget-view+json": {
       "model_id": "",
       "version_major": 2,
       "version_minor": 0
      },
      "text/plain": [
       "Button(description='Show Widgets', style=ButtonStyle())"
      ]
     },
     "metadata": {},
     "output_type": "display_data"
    },
    {
     "data": {
      "text/plain": [
       "<iplabs.IPLabViewer at 0x19c009a4c40>"
      ]
     },
     "execution_count": 84,
     "metadata": {},
     "output_type": "execute_result"
    }
   ],
   "source": [
    "# Define our test image\n",
    "original = data.moon().astype('float64')/255\n",
    "# Define operator (in order: FT, Airy, iFT, equivalent)\n",
    "ft = linalg.dft(512, scale = 'sqrtn')\n",
    "kern = convolution.AiryDisk2DKernel(10, x_size = 512, y_size = 512).array\n",
    "\n",
    "\n",
    "H = ft.T @  np.multiply(ft @ kern, ft)\n",
    "\n",
    "\n",
    "# H = ft.T  @ ft\n",
    "# And add some noise\n",
    "np.random.seed(3)\n",
    "noise = np.random.normal(loc=0.0, scale=0.01, size=(512, 512))\n",
    "transform = np.abs(ft.T @ np.multiply(ft @ original @ ft, ft @ kern @ ft) @ ft.T)\n",
    "transform = np.fft.fftshift((transform - transform.min()) / (transform.max() - transform.min()) + noise)\n",
    "# And visualize both\n",
    "plt.close('all')\n",
    "viewer([original, transform, np.abs(H@np.copy(original)), np.abs(np.matmul(ft.T @ ft @ original, ft) @ ft.T), np.abs(ft @ original), np.multiply(ft @ kern, ft) ], \n",
    "       title = ['Original', f'H@orig', 'ft.T@ft'])"
   ]
  },
  {
   "cell_type": "code",
   "execution_count": 14,
   "metadata": {},
   "outputs": [],
   "source": [
    "x = np.linspace(-15, 15, 201)\n",
    "ai, aip, bi, bip = special.airy(x)"
   ]
  },
  {
   "cell_type": "code",
   "execution_count": 41,
   "metadata": {},
   "outputs": [
    {
     "data": {
      "application/vnd.jupyter.widget-view+json": {
       "model_id": "e3d80dc7991848b8bad7203c93f9e7d7",
       "version_major": 2,
       "version_minor": 0
      },
      "text/plain": [
       "HBox(children=(Output(layout=Layout(width='80%')), Output(), Output(layout=Layout(width='25%'))))"
      ]
     },
     "metadata": {},
     "output_type": "display_data"
    },
    {
     "data": {
      "application/vnd.jupyter.widget-view+json": {
       "model_id": "",
       "version_major": 2,
       "version_minor": 0
      },
      "text/plain": [
       "Button(description='Show Widgets', style=ButtonStyle())"
      ]
     },
     "metadata": {},
     "output_type": "display_data"
    },
    {
     "data": {
      "text/plain": [
       "<iplabs.IPLabViewer at 0x19c438dac10>"
      ]
     },
     "execution_count": 41,
     "metadata": {},
     "output_type": "execute_result"
    }
   ],
   "source": [
    "from astropy import convolution\n",
    "kern = convolution.AiryDisk2DKernel(1, x_size = 512, y_size = 512).array\n",
    "viewer(kern)\n",
    "# type(kern)\n"
   ]
  },
  {
   "cell_type": "code",
   "execution_count": 86,
   "metadata": {},
   "outputs": [
    {
     "data": {
      "text/plain": [
       "1.0"
      ]
     },
     "execution_count": 86,
     "metadata": {},
     "output_type": "execute_result"
    }
   ],
   "source": [
    "linalg.norm(np.array([0.5, 0.5]), ord = 1)"
   ]
  },
  {
   "cell_type": "code",
   "execution_count": null,
   "metadata": {},
   "outputs": [],
   "source": []
  }
 ],
 "metadata": {
  "kernelspec": {
   "display_name": "Python 3",
   "language": "python",
   "name": "python3"
  },
  "language_info": {
   "codemirror_mode": {
    "name": "ipython",
    "version": 3
   },
   "file_extension": ".py",
   "mimetype": "text/x-python",
   "name": "python",
   "nbconvert_exporter": "python",
   "pygments_lexer": "ipython3",
   "version": "3.7.9"
  }
 },
 "nbformat": 4,
 "nbformat_minor": 4
}
