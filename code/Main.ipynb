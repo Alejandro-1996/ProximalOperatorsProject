{
 "cells": [
  {
   "cell_type": "code",
   "execution_count": 43,
   "metadata": {},
   "outputs": [],
   "source": [
    "# Technical libraries\n",
    "import cvxpy as cp\n",
    "import numpy as np\n",
    "from scipy import linalg"
   ]
  },
  {
   "cell_type": "markdown",
   "metadata": {},
   "source": [
    "## Index\n",
    "1. [Define Nonnegativity Function](#Nonnegativity)\n",
    "    1. [Nonnegativity](#Nonnegativity_Function)\n",
    "    2. [Proximal](#Regularizer)\n",
    "2. [Define Regularizer](#Regularizer)\n",
    "    1. [Nonnegativity](#Nonnegativity_Function)\n",
    "    2. [Proximal](#Regularizer)\n",
    "3. [$prox_{\\Re + \\delta_{\\rm_+}}(x)$](#Prox(reg_nonneg))\n",
    "4. [$prox_{\\Re}(prox_{\\delta_{\\rm_+}}(x))$](#Prox(reg_nonneg))\n",
    "4. [$prox_{\\delta_{\\rm_+}}(prox_{\\Re}(x))$](#Prox(reg_nonneg))"
   ]
  },
  {
   "cell_type": "code",
   "execution_count": null,
   "metadata": {},
   "outputs": [],
   "source": []
  }
 ],
 "metadata": {
  "kernelspec": {
   "display_name": "Python 3",
   "language": "python",
   "name": "python3"
  },
  "language_info": {
   "codemirror_mode": {
    "name": "ipython",
    "version": 3
   },
   "file_extension": ".py",
   "mimetype": "text/x-python",
   "name": "python",
   "nbconvert_exporter": "python",
   "pygments_lexer": "ipython3",
   "version": "3.7.9"
  }
 },
 "nbformat": 4,
 "nbformat_minor": 4
}
