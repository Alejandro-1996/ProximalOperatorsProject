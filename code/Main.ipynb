{
 "cells": [
  {
   "cell_type": "code",
   "execution_count": 1,
   "id": "choice-verse",
   "metadata": {},
   "outputs": [],
   "source": [
    "# Technical libraries\n",
    "import cvxpy as cp\n",
    "import numpy as np\n",
    "import numpy.matlib\n",
    "from scipy import linalg\n",
    "import matplotlib.pyplot as plt\n",
    "import ipywidgets as widgets\n",
    "import scipy \n",
    "import scipy.fftpack\n",
    "import proximal \n",
    "# !pip install scikit-image\n",
    "# from skimage import data\n",
    "\n",
    "%matplotlib inline"
   ]
  },
  {
   "cell_type": "markdown",
   "id": "statistical-router",
   "metadata": {},
   "source": [
    "# Proximal Operators for Nonnegative Inverse Problems\n",
    "\n",
    "Study of the combination of different image regularizers with nonnegativity constraints.\n",
    "\n",
    "# Index\n",
    "\n",
    "1. [Introductionr](#Intro)\n",
    "    1. [Proximal Operator](#Prox)\n",
    "    2. [Nonnegativity Function](#Nonneg)\n",
    "2. [$\\mathrm{L^1}$](#L1)\n",
    "3. [$\\mathrm{L^2}$](#L2)\n",
    "4. [Matrix Q](#MatQ)\n",
    "5. [Evaluating](#Eval)\n",
    "\n",
    "# <a name=\"Intro\"></a>1. Introduction\n",
    "\n",
    "The goal of the present notebook is to find how of common image regularizers combine with nonnegativity through the proximal operator. We will be studying regularizers likethe $\\mathrm{L}^1$ and the $\\mathrm{L}^2$ norm, and group sparsity.\n",
    "\n",
    "## <a name=\"Prox\"></a>1.A. Proximal Operator\n",
    "\n",
    "The proximal operator of a function $f$ is:\n",
    "\n",
    "$$\\mathrm{prox}_f(v) = \\arg \\min_x(f(x)+\\frac{1}{2\\lambda}||x - v||_2^2)$$\n",
    "\n",
    "This means that it will optimize an input vector $v$ with respect to a function, but adding the constraint that the result has to be *somewhat close* (by the minimization of the second term, and with *somewhat* parametrized by $\\lambda$) to the original. \n",
    "\n",
    "The interest of the project is to see how common image regularizers combine with nonnegativity constraints. In particular, we will see wether:\n",
    "$$\\mathrm{prox}_{f} = \\mathrm{prox}_{\\delta_{\\rm I\\!R_+^N}}(\\mathrm{prox}_{\\Re})$$\n",
    "or \n",
    "$$\\mathrm{prox}_{f} = \\mathrm{prox}_{\\Re}(\\mathrm{prox}_{\\delta_{\\rm I\\!R_+^N}})$$\n",
    "where $f = \\delta_{\\rm I\\!R_+^N} + \\Re$,\n",
    "for several regularizers, starting by the know cases of $\\mathrm{L^1}$ and $\\mathrm{L^2}$ norms. \n",
    "\n",
    "In some cases for which the $\\mathrm{prox}$ is a point-wise operation, a plot of $v_i$ vs $x_i$ can be made, where $v_i$ is the $i^{th}$ element of $v$. In this cases, the previous equations can be provedor discarded analitically.  \n",
    "\n",
    "## <a name=\"Nonneg\"></a>1.B. Nonnegativity Function\n",
    "\n",
    "The nonnegativity function $\\delta$ is defined as:\n",
    "\n",
    "$$\\delta_{\\rm I\\!R_+^N} =\n",
    "\\begin{cases}\n",
    "        0 if x \\in \\rm I\\!R_+^N \\\\\n",
    "        +\\inf if x\\notin \\rm I\\!R_+^N\n",
    "     \\end{cases}$$\n",
    "     \n",
    "Given the definition of the proximal operator, it is immediate to see that to solve the proximal operator, we have as constraint $x\\in \\rm I\\!R_+^N$. As such, the first term vanishes (since $x\\in \\rm I\\!R_+^N$, by definition $f(x) = 0$). As such, we arrive to:\n",
    "\n",
    "$$prox_f(\\rm I\\!R_+^N(v)) = \\arg \\min_{x\\in \\rm I\\!R_+^N}\\left(\\frac{1}{2}||x - v||_2^2\\right)$$\n",
    "\n",
    "Given that $v \\in \\rm I\\!R_+^N$, then the $x\\in \\rm I\\!R_+^N$ that minimizes the prox operator is simply the $x$ closest to $v$, but yet inside the domain imposed by the indicator function (indicator of nonnegativity). It is useless to include the parameter $\\lambda$ in this proximal, as the minimization of squares is the only term present.\n",
    "\n",
    "In the next cell we define the nonnegativity proximal operator, and then make a plot of $v_i$ vs $x_i$."
   ]
  },
  {
   "cell_type": "code",
   "execution_count": 2,
   "id": "thirty-hazard",
   "metadata": {},
   "outputs": [
    {
     "data": {
      "text/plain": [
       "<matplotlib.legend.Legend at 0x254a03d3888>"
      ]
     },
     "execution_count": 2,
     "metadata": {},
     "output_type": "execute_result"
    },
    {
     "data": {
      "image/png": "[encoded data removed]",
      "text/plain": [
       "<Figure size 432x288 with 1 Axes>"
      ]
     },
     "metadata": {
      "needs_background": "light"
     },
     "output_type": "display_data"
    }
   ],
   "source": [
    "nonneg = lambda x: np.maximum(np.zeros_like(x), x)\n",
    "\n",
    "vi = np.arange(-100, 100)\n",
    "plt.figure()\n",
    "plt.title('Proximal of Nonnegativity Constraint')\n",
    "plt.grid()\n",
    "plt.xlabel('v')\n",
    "plt.ylabel('x')\n",
    "plt.plot(vi, list(map(nonneg, vi)), label = 'Prox\\u03b4')\n",
    "plt.legend()"
   ]
  },
  {
   "cell_type": "markdown",
   "id": "periodic-cross",
   "metadata": {},
   "source": [
    "# <a name = 'L1'></a> 2. L1 Norm\n",
    "[Back to Index](#Index)\n",
    "\n",
    "In this section we will prove the equations provided on [1.A](#Prox), for the $\\mathrm{L}^1$ norm. It is a part from the family of the $L^p$ norms where $p = 1$, is defined for a vector $x$ as:\n",
    "$$||x||_p = (\\sum_{i = 1}^n x^p)^\\frac{1}{p} $$\n",
    "\n",
    "It follows that the $L^1$ norm of a vector is simply the sum of its components. It is a common image regularizer because it enforces sparsity, a well known property of natural images. \n",
    "\n",
    "### <a name = 'L1_Prox'></a> 2.A Proximal \n",
    "[Back to Index](#Index)\n",
    "\n",
    "Following the definition of the Proximal operator:\n",
    "\n",
    "$$\\mathrm{prox}_{L^1}(v) = \\arg \\min_x(||x||_1 + \\frac{1}{2\\lambda}||x - v||_2^2))$$\n",
    "\n",
    "An intuitive interpretation is that the solution $x$ will be one where each element $x_i$ of $x$ is pulled towards $0$ in order to minimize  the $L^1$ norm (clearly without crossing $0$), but still remaining close to $v$ (to reduce the squared term). How much is it pulled depends on the parameter $\\lambda$.\n",
    "\n",
    "It follows that the $\\mathrm{prox}$ is indeed a point-wise operation, defined as:\n",
    "\\mathrm{}\n",
    "$$\\mathrm{prox}_{\\lambda \\mathrm{L}^1,}(x_i) = \\mathrm{sign}(x_i)\\mathrm{max}(|x_i| - \\lambda, 0)$$\n",
    "Run the next cell to show this effect."
   ]
  },
  {
   "cell_type": "code",
   "execution_count": 3,
   "id": "honey-elizabeth",
   "metadata": {},
   "outputs": [
    {
     "data": {
      "text/plain": [
       "<matplotlib.legend.Legend at 0x254a24fe8c8>"
      ]
     },
     "execution_count": 3,
     "metadata": {},
     "output_type": "execute_result"
    },
    {
     "data": {
      "image/png": "[encoded data removed]",
      "text/plain": [
       "<Figure size 432x288 with 1 Axes>"
      ]
     },
     "metadata": {
      "needs_background": "light"
     },
     "output_type": "display_data"
    }
   ],
   "source": [
    "l1_prox = lambda x, lamb: np.sign(x)*np.maximum(np.abs(x) - lamb, 0)\n",
    "\n",
    "lamb = 10\n",
    "vi = np.arange(-100, 100)\n",
    "plt.figure()\n",
    "plt.title('Proximal of L1 Norm')\n",
    "plt.grid()\n",
    "plt.xlabel('v')\n",
    "plt.ylabel('x')\n",
    "plt.axvline(lamb, color='r', linewidth=0.5, label='\\u03bb')\n",
    "plt.axvline(-lamb, color='r', linewidth=0.5, label='-\\u03bb')\n",
    "plt.plot(vi, list(map(l1_prox, vi, np.ones_like(vi)*lamb)), label = 'Prox L1')\n",
    "plt.legend()"
   ]
  },
  {
   "cell_type": "markdown",
   "id": "presidential-activation",
   "metadata": {},
   "source": [
    "### <a name = 'L1_Prox+Nonneg'></a> 2.B $\\mathrm{L}^1$ + Nonneg\n",
    "[Back to Index](#Index)\n",
    "\n",
    "In this section we will compute the proximal operator of the $\\mathrm{L}^1$ norm plus the nonnegativity constraint:\n",
    "$$\\mathrm{prox}_f(v)$$\n",
    "where   \n",
    "$$f(x) = ||x||_1 +  \\delta_{\\rm I\\!R_+^N}$$\n",
    "\n",
    "Following the definition from [section 1.B](#Proximal), and the derivation of the proximal from the nonnegativity constraint, it follows that:\n",
    "\n",
    "$$\\mathrm{prox}_{f}(v) = \\arg \\min_{x\\in \\rm I\\!R_+^N}(||x||_1 + \\frac{1}{2\\lambda}||x - v||_2^2))$$\n",
    "\n",
    "In this term we could add the function $\\delta_{\\rm_+^N}$, but since we have already defined $x\\in \\rm I\\!R_+^N$, its value vanishes. \n",
    "\n",
    "From the constraint in the domain of $x$ and the structure of the $\\mathrm{prox}_f(v)$, it is clear that the analytical solution with be similar to the solution of $\\mathrm{prox}_{\\mathrm{L^1}}(x)$, buth with the constraint in the domain applied:\n",
    "\n",
    "$$\\mathrm{prox}_{\\lambda \\mathrm{L}^1 + \\delta_{\\rm_+^N}}(v_i) = \\mathrm{max}(v_i - \\lambda, 0)$$\n",
    "\n",
    "Run the next cell to define this function and plot it."
   ]
  },
  {
   "cell_type": "code",
   "execution_count": 4,
   "id": "cultural-newsletter",
   "metadata": {},
   "outputs": [
    {
     "data": {
      "text/plain": [
       "<matplotlib.legend.Legend at 0x254a2591ec8>"
      ]
     },
     "execution_count": 4,
     "metadata": {},
     "output_type": "execute_result"
    },
    {
     "data": {
      "image/png": "[encoded data removed]",
      "text/plain": [
       "<Figure size 432x288 with 1 Axes>"
      ]
     },
     "metadata": {
      "needs_background": "light"
     },
     "output_type": "display_data"
    }
   ],
   "source": [
    "l1_plus_nonneg_prox = lambda x, lamb: np.maximum(x - lamb, 0)\n",
    "\n",
    "lamb = 10\n",
    "\n",
    "vi = np.arange(-100, 100)\n",
    "plt.figure()\n",
    "plt.title('Proximal of L1 Norm')\n",
    "plt.grid()\n",
    "plt.xlabel('v')\n",
    "plt.ylabel('x')\n",
    "plt.axvline(lamb, color='r', linewidth=0.5, label='\\u03bb')\n",
    "plt.plot(vi, list(map(l1_plus_nonneg_prox, vi, np.ones_like(vi)*lamb)), label='Prox L1+\\u03b4')\n",
    "plt.legend()"
   ]
  },
  {
   "cell_type": "markdown",
   "id": "hydraulic-question",
   "metadata": {},
   "source": [
    "### <a name = 'Prox_L1(Prox(Nonneg))'></a> 2.C $\\mathrm{prox}_{\\mathrm{L}^1}(\\mathrm{prox}_{\\delta_{\\rm I\\!R_+^N }}(x))$\n",
    "[Back to Index](#Index)\n",
    "\n",
    "In this section we will:\n",
    " * Compute $\\mathrm{prox}_{\\mathrm{L}^1}(\\mathrm{prox}_{\\delta_{\\rm I\\!R_+^N}}(x))$\n",
    " * Verify wether it is equal to $\\mathrm{prox}_{\\mathrm{L}^1\\delta_{\\rm I\\!R_+^N}}(x))$\n",
    " \n",
    "This is simply a composition of the two functions that we have already defined, `l1_prox` and `nonneg`. \n",
    "\n",
    "Run the next to apply both operators and plot them. Moreover, on the same plot we will plot $\\mathrm{prox}_{\\mathrm{L}^1\\delta_{\\rm_+}}(x))$, and verify wether it is the same."
   ]
  },
  {
   "cell_type": "code",
   "execution_count": 5,
   "id": "applicable-nature",
   "metadata": {},
   "outputs": [
    {
     "name": "stdout",
     "output_type": "stream",
     "text": [
      "prox_l1(prox_nonneg(v)) IS equal to prox(l1 + nonneg)\n"
     ]
    },
    {
     "data": {
      "image/png": "[encoded data removed]",
      "text/plain": [
       "<Figure size 432x288 with 1 Axes>"
      ]
     },
     "metadata": {
      "needs_background": "light"
     },
     "output_type": "display_data"
    }
   ],
   "source": [
    "vi = np.arange(-100, 100)\n",
    "nonneg_vect = list(map(nonneg, vi))\n",
    "final_vect = list(map(l1_prox, nonneg_vect, np.ones_like(vi)*lamb))\n",
    "l1_plus_nonneg_vect = list(map(l1_plus_nonneg_prox, vi, np.ones_like(vi)*lamb))\n",
    "plt.figure()\n",
    "plt.title('Proximal of L1 Norm')\n",
    "plt.grid()\n",
    "plt.xlabel('v')\n",
    "plt.ylabel('x')\n",
    "plt.axvline(lamb, color='r', linewidth=0.5, label='\\u03bb')\n",
    "plt.plot(vi, final_vect, ':', linewidth=3, label=r'$\\mathrm{prox}_{L1}(Prox_\\delta)(x)$')\n",
    "plt.plot(vi, l1_plus_nonneg_vect, '--', label='Prox_L1+\\u03b4(x)')\n",
    "plt.legend()\n",
    "\n",
    "if np.array_equal(final_vect, l1_plus_nonneg_vect):\n",
    "    print(f'prox_l1(prox_nonneg(v)) IS equal to prox(l1 + nonneg)')\n",
    "else:\n",
    "    print(f'prox_l1(prox_nonneg(v)) IS NOT equal to prox(l1 + nonneg)')"
   ]
  },
  {
   "cell_type": "markdown",
   "id": "macro-marathon",
   "metadata": {},
   "source": [
    "### <a name = 'Prox_L1(Prox(Nonneg))'></a> 2.D $\\mathrm{prox}_{\\mathrm{L}^1}(\\mathrm{prox}_{\\delta_{\\rm I\\!R_+^N }}(x))$\n",
    "[Back to Index](#Index)\n",
    "\n",
    "In this section we will do the same as in last section but in the inverse order ($\\mathrm{prox}_{\\delta_{\\rm I\\!R_+^N}(\\mathrm{prox}_{\\mathrm{L}^1}}(x))$ instead of $\\mathrm{prox}_{\\mathrm{L}^1}(\\mathrm{prox}_{\\delta_{\\rm I\\!R_+^N}}(x))$)\n",
    "\n",
    "Run the next cell to see the results"
   ]
  },
  {
   "cell_type": "code",
   "execution_count": 6,
   "id": "dense-script",
   "metadata": {},
   "outputs": [
    {
     "name": "stdout",
     "output_type": "stream",
     "text": [
      "prox_nonneg(prox_l1(v)) IS equal to prox(l1 + nonneg)\n"
     ]
    },
    {
     "data": {
      "image/png": "[encoded data removed]",
      "text/plain": [
       "<Figure size 432x288 with 1 Axes>"
      ]
     },
     "metadata": {
      "needs_background": "light"
     },
     "output_type": "display_data"
    }
   ],
   "source": [
    "lamb = 10\n",
    "\n",
    "vi = np.arange(-100, 100)\n",
    "nonneg_vect = list(map(l1_prox, vi, np.ones_like(vi)*lamb))\n",
    "final_vect = list(map(nonneg, nonneg_vect))\n",
    "l1_plus_nonneg_vect = list(map(l1_plus_nonneg_prox, vi, np.ones_like(vi)*lamb))\n",
    "plt.figure()\n",
    "plt.title('Proximal of L1 Norm')\n",
    "plt.grid()\n",
    "plt.xlabel('v')\n",
    "plt.ylabel('x')\n",
    "plt.axvline(lamb, color='r', linewidth=0.5, label='\\u03bb')\n",
    "plt.plot(vi, final_vect, ':', linewidth=3, label='Prox_\\u03b4(Prox_L1)(x)')\n",
    "plt.plot(vi, l1_plus_nonneg_vect, '-.', label='Prox_L1+\\u03b4(x)')\n",
    "plt.legend()\n",
    "\n",
    "if np.array_equal(final_vect, l1_plus_nonneg_vect):\n",
    "    print(f'prox_nonneg(prox_l1(v)) IS equal to prox(l1 + nonneg)')\n",
    "else:\n",
    "    print(f'prox_nonneg(prox_l1(v)) IS NOT equal to prox(l1 + nonneg)')"
   ]
  },
  {
   "cell_type": "markdown",
   "id": "dominant-piece",
   "metadata": {},
   "source": [
    "# <a name = 'L2'></a> 3. L2 Norm\n",
    "[Back to Index](#Index)\n",
    "\n",
    "In this section we will prove the equations provided on [1.A](#Prox), for the $\\mathrm{L}^2$ norm, in a similar way as we did in section [2](#L1). \n",
    "\n",
    "### <a name = 'L2_Prox'></a> 3.A Proximal \n",
    "[Back to Index](#Index)\n",
    "\n",
    "The proximal operator of the L2 Norm is solved by projection onto the L2 unit ball $\\Pi_B$, which follows from Moreau decomposition:\n",
    "\n",
    "$$\\mathrm{prox}_{L^2}(v) = v - \\lambda \\Pi_B\\frac{v}{\\lambda}$$\n",
    "\n",
    "Thus, the projection $\\Pi_B$ is simple. A vector $v$ remains unchanged if it is already inside $\\Pi_B$, and it can be projected into the ball by normalizaation by its own norm otherwise. It is clear from the above that if the point $\\frac{v}{\\lambda}$ is within $\\Pi_B$, the value of the $\\mathrm{prox}_{L^2}(v)$ will vanish. Thus:\n",
    "\n",
    "$$\\mathrm{prox}_{L^2}(v) =\n",
    "\\begin{cases}\n",
    "        (1 - \\frac{\\lambda}{||v||_2})v if ||v||_2 \\geq \\lambda \\\\\n",
    "        0 if ||v||_2 < \\lambda\n",
    "     \\end{cases}$$\n",
    "\n",
    "It is clear that the only interesting scenario is when $||v||_2 \\geq \\lambda$. It follows that when $||v||_2$ is fixed, the $\\mathrm{prox}$ is indeed a point-wise operation, defined as:\n",
    "$$\\mathrm{prox}_{\\lambda \\mathrm{L}^2,}(x_i) = (1 - \\lambda v)$$\n",
    "$$\\mathrm{s.t.} \\lambda < 1, ||v||_2 = 1 $$\n",
    "\n",
    "However, if $||v||_2 \\neq 1$ it is easy to generalize the $\\mathrm{prox}$ of the L2 norm as a scaling a factor $1 - \\frac{\\lambda}{||v||_2}$.\n",
    "\n",
    "Run the next cell to show $v$ vs $x$ for a parametrized version of the ($||v||_2 = 1$). Additionally, we will include the non-parametrized version"
   ]
  },
  {
   "cell_type": "code",
   "execution_count": 7,
   "id": "contemporary-biodiversity",
   "metadata": {},
   "outputs": [
    {
     "data": {
      "text/plain": [
       "<matplotlib.legend.Legend at 0x254a27c02c8>"
      ]
     },
     "execution_count": 7,
     "metadata": {},
     "output_type": "execute_result"
    },
    {
     "data": {
      "image/png": "[encoded data removed]",
      "text/plain": [
       "<Figure size 432x288 with 1 Axes>"
      ]
     },
     "metadata": {
      "needs_background": "light"
     },
     "output_type": "display_data"
    }
   ],
   "source": [
    "l2_prox_param = lambda x, lamb: (1 - np.minimum(lamb, np.ones_like(x)))*x\n",
    "l2_prox = lambda x, lamb: (1 - np.minimum(lamb/np.linalg.norm(x, 2), np.ones_like(x)))*x\n",
    "lamb = 0.5\n",
    "\n",
    "vi = np.arange(-10, 10)\n",
    "plt.figure()\n",
    "plt.title('Proximal of L2 Norm')\n",
    "plt.grid()\n",
    "plt.xlabel('v')\n",
    "plt.ylabel('x')\n",
    "plt.ylim([-10, 10])\n",
    "plt.xlim([-10, 10])\n",
    "plt.plot(vi, list(map(l2_prox_param, vi, np.ones_like(vi)*lamb)), label = 'Prox L1')\n",
    "plt.legend()"
   ]
  },
  {
   "cell_type": "markdown",
   "id": "indian-myanmar",
   "metadata": {},
   "source": [
    "### <a name = 'L2_Prox+Nonneg'></a> 3.B $\\mathrm{L}^2$ + Nonneg\n",
    "[Back to Index](#Index)\n",
    "\n",
    "As we have already seen, the $\\mathrm{prox}$ of $\\delta_{\\rm IR_+^N}$ imposes a constraint in the domain of the input vector $v$. Thus in this section we will compute the proximal operator of the $\\mathrm{L}^1$ norm plus the nonnegativity constraint$^{[1]}$:\n",
    "\n",
    "$$\\mathrm{prox}_{L^2 + \\delta_{\\rm I\\!R_+^N }}(v) = \\left(1 - \\frac{\\lambda}{\\mathrm{max}\\left(||\\mathrm{max}(x, 0)||_2, \\lambda\\right)} \\right)\\mathrm{max}(x, 0)$$\n",
    "\n",
    "It is explicit from the formula that $\\mathrm{prox}_{L^2 + \\delta_{\\rm I\\!R_+^N}}$ is acting on the projection into $\\rm I\\!R_+^N$. And thus, \n",
    "\n",
    "$$\\mathrm{prox}_{L^2 + \\delta_{\\rm I\\!R_+^N }} \\neq \\mathrm{prox}_{\\mathrm{L}^2}(\\mathrm{prox}_{\\delta_{\\rm I\\!R_+^N}})$$\n",
    "whereas in general (except for very specific cases) \n",
    "$$\\mathrm{prox}_{L^2 + \\delta_{\\rm I\\!R_+^N }} = \\mathrm{prox}_{\\delta_{\\rm I\\!R_+^N}}(\\mathrm{prox}_{\\Re})$$\n",
    "\n",
    "This case is clearly not a point wise operation independent of the input vector, and cannot be parametrized easily without loss of generalization (for we can assume a set of normalized vectors, but the norm will certainly change after applying nonnegativity constraints). Anyway, run the next cell to declare the correspinding map."
   ]
  },
  {
   "cell_type": "code",
   "execution_count": 8,
   "id": "canadian-excitement",
   "metadata": {},
   "outputs": [],
   "source": [
    "l2_plus_nonneg_prox = lambda x, lamb: (1 - lamb/(max(np.linalg.norm(np.maximum(x, 0), 2), np.max(lamb))))*np.maximum(x, 0)"
   ]
  },
  {
   "cell_type": "markdown",
   "id": "recreational-champagne",
   "metadata": {},
   "source": [
    "## <a name = 'DCT'></a> 4. Minimization of $DCTx$\n",
    "\n",
    "In this case we will try to minimiza an $f(x) = g(Qx)$. To begin with a simple case, we will choose $Q$ to be the [Discrete Cosine Transform](https://docs.scipy.org/doc/scipy/reference/generated/scipy.fftpack.dct.html),  which we know to be both orthogonal ($Q^TQ = QQ^T = I$) and real. Orthogonality has the advantage that it can be solved using the following property:\n",
    "$$\\mathrm{prox}_{\\lambda f}(v) =  Q^T\\mathrm{prox}_{\\lambda g}(Qv)$$\n",
    "where, in our case\n",
    "$$f(x) = ||Qx||_1$$\n",
    "\n",
    "### <a name = 'DCT_Prox'></a> 4.A Proximal\n",
    "\n",
    "If we choose $f(x) = \\|x\\|_1$, then by [section 2.A](#L1_Prox), we have:\n",
    "$$\\mathrm{prox}_{\\lambda f(x) = \\|Qx\\|_1}(v) = Q^T\\mathrm{sign}(Qv)\\mathrm{max}(|Qv| - \\lambda, 0)$$\n",
    "\n",
    "If we fix the size of $\\mathbf{x}$, this is evidently a pointwise operation. Run the next cell to declare $\\mathrm{prox}_{\\lambda f(x) = \\|Qx\\|_1}$ And plot the function as a point-wise operation (change the parameter $n$ to fix the isze of $\\mathbf{x}$).  \n",
    "<!-- $$f(x) = ||x||_1 +  \\delta_{\\rm I\\!R_+^N}$$ -->"
   ]
  },
  {
   "cell_type": "code",
   "execution_count": 9,
   "id": "sophisticated-church",
   "metadata": {},
   "outputs": [
    {
     "data": {
      "text/plain": [
       "<matplotlib.legend.Legend at 0x254a2843f08>"
      ]
     },
     "execution_count": 9,
     "metadata": {},
     "output_type": "execute_result"
    },
    {
     "data": {
      "image/png": "[encoded data removed]",
      "text/plain": [
       "<Figure size 432x288 with 1 Axes>"
      ]
     },
     "metadata": {
      "needs_background": "light"
     },
     "output_type": "display_data"
    }
   ],
   "source": [
    "# Declare prox as a function of x (vector), Q (Matrix), lamb (parameter)\n",
    "# l1_DCT_prox = lambda x, Q, lamb: Q.T @ np.sign(Q@x) * np.maximum(np.abs(Q@x) - lamb, 0)\n",
    "def DCT_l1_prox(v, lamb): \n",
    "    Q = scipy.fftpack.dct(np.eye(len(v)), norm = 'ortho')\n",
    "    return Q.T @ np.sign(Q@v) * np.maximum(np.abs(Q@v) - lamb, 0)\n",
    "\n",
    "n = 64\n",
    "v = np.arange(-n/2, n/2)\n",
    "Q = scipy.fftpack.dct(np.eye(n), norm = 'ortho')\n",
    "lamb = 5\n",
    "\n",
    "plt.figure()\n",
    "plt.title('Proximal of $f(x) = \\|Qx\\|_1$ Norm')\n",
    "plt.grid()\n",
    "plt.xlabel('v')\n",
    "plt.ylabel('x')\n",
    "# plt.axvline(lamb, color='r', linewidth=0.5, label='\\u03bb')\n",
    "# plt.axvline(-lamb, color='r', linewidth=0.5, label='-\\u03bb')\n",
    "plt.plot(v, DCT_l1_prox(v, lamb), label = '$\\mathrm{Prox}_{\\lambda \\|Qv\\|_1}$')\n",
    "plt.plot(v, Q@v, label = 'DCT ($Qx$)')\n",
    "plt.ylim([-100, 100])\n",
    "# plt.plot(v, list(map(l1_prox, Q@v, np.ones_like(v)*lamb)), label = '$\\mathrm{prox}_{\\lambda\\|Qx\\|}$')\n",
    "\n",
    "plt.legend()"
   ]
  },
  {
   "cell_type": "markdown",
   "id": "strong-specific",
   "metadata": {},
   "source": [
    "### <a name = 'MatQ_Prox+Nonneg'></a> 4.B $\\|Qx\\|_1$ + Nonneg\n",
    "[Back to Index](#Index)\n",
    "\n",
    "$$f(x) = ||Qx||_1 +  \\delta_{\\rm I\\!R_+^N}$$\n",
    "\n",
    "From the definition of the proximal operator:\n",
    "\n",
    "$$\\mathrm{prox}_f(v) = \\arg \\min_{x \\in \\rm I\\!R_+^N}(\\|Qx\\|_1+\\frac{1}{2}||x - v||_2^2)$$\n",
    "\n",
    "The function $f(x)$ is no longer simply a composition function $f\\circ g$ (the nonnegativity constraint acts on $x$, not on $Qx$). As such, it is not trivial to find a closed form solution, and we have to declare a function minimizing it as an optimization problem, solved by CVXPy. Run the following cell to declare this function."
   ]
  },
  {
   "cell_type": "code",
   "execution_count": 11,
   "id": "danish-conversation",
   "metadata": {},
   "outputs": [],
   "source": [
    "def DCT_l1_plus_nonneg(v, lamb):\n",
    "    \n",
    "    # Get dimension of v\n",
    "    n = len(v)\n",
    "    # define DCT matrix\n",
    "    DCT = scipy.fftpack.dct(np.eye(n), norm = 'ortho')\n",
    "    # Define nonnegative constraint\n",
    "    x = cp.Variable(n, nonneg = True) \n",
    "    # Define de the cost function\n",
    "    obj = cp.norm(DCT@x, 1) + cp.sum_squares(x - v)/(2*lamb)\n",
    "\n",
    "    prob = cp.Problem(cp.Minimize(obj))\n",
    "    prob.solve()\n",
    "    \n",
    "    return prob.value"
   ]
  },
  {
   "cell_type": "markdown",
   "id": "tutorial-divide",
   "metadata": {},
   "source": [
    "## <a name = 'MatQ'></a> 5. Minimization of $\\|Qx\\|_2$\n",
    "\n",
    "In this section we will try to minimize an $f(x) = g(Qx)$, but this time the general case, without making any assumptions on $Q$. \n",
    "\n",
    "### <a name = 'MatQ_Prox'></a> 5.A Proximal\n",
    "\n",
    "By the definition of the proximal:\n",
    "$$\\mathrm{prox}_f(v) = \\arg \\min_{x}(\\|Qx\\|_1+\\frac{1}{2}||x - v||_2^2)$$\n",
    "\n",
    "Run the next cell to declare `Q_L1_prox`. In it, we will hard-code `Q`to be the finite differences matrix. "
   ]
  },
  {
   "cell_type": "code",
   "execution_count": 12,
   "id": "maritime-design",
   "metadata": {},
   "outputs": [],
   "source": [
    "def Q_L2_prox(v, lamb):\n",
    "    \n",
    "    # Get dimension of v\n",
    "    n = len(v)\n",
    "    \n",
    "    # Declare Finite Differences\n",
    "#     vector = np.zeros((n,))\n",
    "#     vector[0] = 1\n",
    "#     vector[1] = -1\n",
    "#     idx = np.arange(n)\n",
    "#     Q = np.matlib.repmat(vector, n, 1)\n",
    "#     for i, row in enumerate(Q):\n",
    "#         Q[i] = np.roll(row, i)\n",
    "\n",
    "    # Declare LoG\n",
    "    vector = np.zeros((n,))\n",
    "    vector[0] = 1\n",
    "    vector[1] = -2\n",
    "    vector[2] = 1\n",
    "    idx = np.arange(n)\n",
    "    Q = np.matlib.repmat(vector, n, 1)\n",
    "    for i, row in enumerate(Q):\n",
    "        Q[i] = np.roll(row, i)\n",
    "\n",
    "\n",
    "\n",
    "    # Define variable\n",
    "    x = cp.Variable(n) \n",
    "    # Define de the cost function\n",
    "    obj = cp.norm(Q@v, 1) + cp.sum_squares(x - v)/(2*lamb)\n",
    "\n",
    "    prob = cp.Problem(cp.Minimize(obj))\n",
    "    prob.solve()\n",
    "    \n",
    "    return prob.value"
   ]
  },
  {
   "cell_type": "markdown",
   "id": "velvet-delhi",
   "metadata": {},
   "source": [
    "### <a name = 'MatQ+Nonneg_Prox'></a> 5.B Minimization of $\\|Qx\\|_2 + \\delta_{\\rm IR_+^N}(x)$\n",
    "\n",
    "In this section we will solve the proximal of $f(x) = \\|Qx\\|_2 + \\delta_{\\rm IR_+^N}(x)$\n",
    "\n",
    "$$\\mathrm{prox}_f(v) = \\arg \\min_{x \\in \\rm IR_+^N}(\\|Qx\\|_1+\\frac{1}{2 \\lambda}||x - v||_2^2)$$\n",
    "\n",
    "Run the next cell to declare `Q_L1_plus_nonneg_prox`. In it, we will hard-code `Q`to be the finite differences matrix. "
   ]
  },
  {
   "cell_type": "code",
   "execution_count": 13,
   "id": "passive-butter",
   "metadata": {},
   "outputs": [],
   "source": [
    "def Q_L2_plus_nonneg_prox(v, lamb):\n",
    "    \n",
    "    # Get dimension of v\n",
    "    n = len(v)\n",
    "    \n",
    "#     # Declare Finite Differences\n",
    "#     vector = np.zeros((n,))\n",
    "#     vector[0] = 1\n",
    "#     vector[1] = -1\n",
    "#     idx = np.arange(n)\n",
    "#     Q = np.matlib.repmat(vector, n, 1)\n",
    "#     for i, row in enumerate(Q):\n",
    "#         Q[i] = np.roll(row, i)\n",
    "\n",
    "    # Declare LoG\n",
    "    vector = np.zeros((n,))\n",
    "    vector[0] = 1\n",
    "    vector[1] = -2\n",
    "    vector[2] = 1\n",
    "    idx = np.arange(n)\n",
    "    Q = np.matlib.repmat(vector, n, 1)\n",
    "    for i, row in enumerate(Q):\n",
    "        Q[i] = np.roll(row, i)\n",
    "        \n",
    "    # Define variable\n",
    "    x = cp.Variable(n, nonneg = True) \n",
    "    # Define de the cost function\n",
    "    obj = cp.norm(Q@v, 1) + cp.sum_squares(x - v)/(2*lamb)\n",
    "\n",
    "    prob = cp.Problem(cp.Minimize(obj))\n",
    "    prob.solve()\n",
    "    \n",
    "    return prob.value"
   ]
  },
  {
   "cell_type": "markdown",
   "id": "medical-science",
   "metadata": {},
   "source": [
    "# <a name = 'Eval'></a> Evaluation\n",
    "\n",
    "The following function `evaluate` is designed to evaluate a number of random vectors created from normal distributions on the cases presented in [section 1](#Intro):\n",
    "\n",
    "$$\\mathrm{prox}_{L^2 + \\delta_{\\rm I\\!R_+^N }} $$\n",
    "$$ \\mathrm{prox}_{\\mathrm{L}^2}(\\mathrm{prox}_{\\delta_{\\rm I\\!R_+^N}})$$ \n",
    "$$\\mathrm{prox}_{\\delta_{\\rm I\\!R_+^N}}(\\mathrm{prox}_{\\mathvar{R}})$$\n",
    "\n",
    "And searches for equality. It takes as input parameters:\n",
    "* `reg` (function): Closed-form solution of the proximal operator of the regularizer, **Considerar como input problema CVXPY**\n",
    "* `reg_nonneg` (function): Closed-form solution of the proximal operator of the regularizer + $\\delta_{\\rm I\\!R_+^N }$,\n",
    "* `n` (int): Number of vectors\n",
    "* `shape` (tuple): Shape of the vectors\n",
    "* `mean` (scalar): Mean of the vectors\n",
    "* `sigma` (scalar): $\\sigma$ of the normal distribution used to sample the vectors\n",
    "* `lamb` (scalar): Parameter $\\lambda$ to be used in the pointwise operations.\n",
    "\n",
    "It returns:\n",
    "* `reg_nonneg` (boolean): The findings on whether $\\mathrm{prox}_{L^2 + \\delta_{\\rm I\\!R_+^N }} == \\mathrm{prox}_{\\mathrm{L}^2}(\\mathrm{prox}_{\\delta_{\\rm I\\!R_+^N}})$\n",
    "* `nonneg_reg` (boolean): The findings on whether\n",
    "$\\mathrm{prox}_{L^2 + \\delta_{\\rm I\\!R_+^N }} == \\mathrm{prox}_{\\delta_{\\rm I\\!R_+^N}}(\\mathrm{prox}_{\\Re})$"
   ]
  },
  {
   "cell_type": "markdown",
   "id": "collective-communication",
   "metadata": {},
   "source": [
    "Now we will run the function for the L1 and L2 norm"
   ]
  },
  {
   "cell_type": "code",
   "execution_count": 14,
   "id": "announced-characterization",
   "metadata": {},
   "outputs": [
    {
     "name": "stdout",
     "output_type": "stream",
     "text": [
      "L2 Norm:\n",
      "For the given regularizer, prox_nonneg(prox_reg(v)) IS NOT equal to prox(reg + nonneg)\n",
      "For the given regularizer, prox_reg(prox_nonneg(v)) SEEMS equal to prox(reg + nonneg)\n",
      "\n",
      "L1 Norm:\n",
      "For the given regularizer, prox_nonneg(prox_reg(v)) SEEMS equal to prox(reg + nonneg)\n",
      "For the given regularizer, prox_reg(prox_nonneg(v)) SEEMS equal to prox(reg + nonneg)\n",
      "\n",
      "||Qx||1 Norm, where Q is the DCT:\n",
      "For the given regularizer, prox_nonneg(prox_reg(v)) IS NOT equal to prox(reg + nonneg)\n",
      "For the given regularizer, prox_reg(prox_nonneg(v)) IS NOT equal to prox(reg + nonneg)\n",
      "\n",
      "||Qx||1 Norm, where Q is the finite differences:\n",
      "For the given regularizer, prox_nonneg(prox_reg(v)) IS NOT equal to prox(reg + nonneg)\n",
      "For the given regularizer, prox_reg(prox_nonneg(v)) IS NOT equal to prox(reg + nonneg)\n"
     ]
    },
    {
     "data": {
      "text/plain": [
       "(False, False)"
      ]
     },
     "execution_count": 14,
     "metadata": {},
     "output_type": "execute_result"
    }
   ],
   "source": [
    "print('L2 Norm:')\n",
    "proximal.evaluate(l2_prox, l2_plus_nonneg_prox, n = 100, shape = (100,), mean = 0, sigma = 1, lamb = 3)\n",
    "print('\\nL1 Norm:')\n",
    "proximal.evaluate(l1_prox, l1_plus_nonneg_prox, n = 100, shape = (100,), mean = 0, sigma = 1, lamb = 3)\n",
    "print('\\n||Qx||1 Norm, where Q is the DCT:')\n",
    "proximal.evaluate(DCT_l1_prox, DCT_l1_plus_nonneg, n = 100, shape = (100,), mean = 0, sigma = 1, lamb = 3)\n",
    "print('\\n||Qx||1 Norm, where Q is the finite differences:')\n",
    "proximal.evaluate(Q_L2_prox, Q_L2_plus_nonneg_prox, n = 100, shape = (100,), mean = 0, sigma = 1, lamb = 3)"
   ]
  },
  {
   "cell_type": "markdown",
   "id": "revolutionary-spray",
   "metadata": {},
   "source": [
    "## References\n",
    "\n",
    "[1](https://arc.aiaa.org/doi/pdf/10.2514/1.26320?casa_token=EpyiTfodqo4AAAAA%3AGmnFHyrImbNxMMk2ONs1c9wpN6bLTip8_a7irQweswoms0vMBtL1kGu6h8v6IK76_zhhhtk0KPA&) Pol del Aguila Pla and Joakim Jaldén, Cell detection by functional inverse diffusion and non-negative group sparsity—Part II: Proximal optimization and Performance evaluation, IEEE Transactions on Signal Processing, vol. 66, no. 20, pp. 5422–5437, 2018"
   ]
  }
 ],
 "metadata": {
  "kernelspec": {
   "display_name": "Python 3",
   "language": "python",
   "name": "python3"
  },
  "language_info": {
   "codemirror_mode": {
    "name": "ipython",
    "version": 3
   },
   "file_extension": ".py",
   "mimetype": "text/x-python",
   "name": "python",
   "nbconvert_exporter": "python",
   "pygments_lexer": "ipython3",
   "version": "3.7.9"
  }
 },
 "nbformat": 4,
 "nbformat_minor": 5
}
