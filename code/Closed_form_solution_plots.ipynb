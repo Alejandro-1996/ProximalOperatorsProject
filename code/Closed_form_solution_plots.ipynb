{
 "cells": [
  {
   "cell_type": "code",
   "execution_count": 1,
   "id": "heavy-johnston",
   "metadata": {},
   "outputs": [
    {
     "ename": "ImportError",
     "evalue": "cannot import name 'ProxUtils' from 'proximal' (C:\\Users\\dolly\\Documents\\EPFL\\MA-3\\Project\\ProximalOperatorsProject\\code\\proximal.py)",
     "output_type": "error",
     "traceback": [
      "\u001b[1;31m---------------------------------------------------------------------------\u001b[0m",
      "\u001b[1;31mImportError\u001b[0m                               Traceback (most recent call last)",
      "\u001b[1;32m<ipython-input-1-b9ea612c3aa2>\u001b[0m in \u001b[0;36m<module>\u001b[1;34m\u001b[0m\n\u001b[0;32m     11\u001b[0m \u001b[1;32mfrom\u001b[0m \u001b[0miplabs\u001b[0m \u001b[1;32mimport\u001b[0m \u001b[0mIPLabViewer\u001b[0m \u001b[1;32mas\u001b[0m \u001b[0mviewer\u001b[0m\u001b[1;33m\u001b[0m\u001b[1;33m\u001b[0m\u001b[0m\n\u001b[0;32m     12\u001b[0m \u001b[1;32mimport\u001b[0m \u001b[0mmatplotlib\u001b[0m\u001b[1;33m\u001b[0m\u001b[1;33m\u001b[0m\u001b[0m\n\u001b[1;32m---> 13\u001b[1;33m \u001b[1;32mfrom\u001b[0m \u001b[0mproximal\u001b[0m \u001b[1;32mimport\u001b[0m \u001b[0mProxUtils\u001b[0m\u001b[1;33m\u001b[0m\u001b[1;33m\u001b[0m\u001b[0m\n\u001b[0m\u001b[0;32m     14\u001b[0m \u001b[0mget_ipython\u001b[0m\u001b[1;33m(\u001b[0m\u001b[1;33m)\u001b[0m\u001b[1;33m.\u001b[0m\u001b[0mrun_line_magic\u001b[0m\u001b[1;33m(\u001b[0m\u001b[1;34m'matplotlib'\u001b[0m\u001b[1;33m,\u001b[0m \u001b[1;34m'widget'\u001b[0m\u001b[1;33m)\u001b[0m\u001b[1;33m\u001b[0m\u001b[1;33m\u001b[0m\u001b[0m\n",
      "\u001b[1;31mImportError\u001b[0m: cannot import name 'ProxUtils' from 'proximal' (C:\\Users\\dolly\\Documents\\EPFL\\MA-3\\Project\\ProximalOperatorsProject\\code\\proximal.py)"
     ]
    }
   ],
   "source": [
    "# Technical libraries\n",
    "import cvxpy as cp\n",
    "import numpy as np\n",
    "import numpy.matlib\n",
    "from scipy import linalg\n",
    "import matplotlib.pyplot as plt\n",
    "import ipywidgets as widgets\n",
    "import scipy \n",
    "import scipy.fftpack\n",
    "import proximal \n",
    "from iplabs import IPLabViewer as viewer\n",
    "import matplotlib\n",
    "from proximal import ProxUtils\n",
    "%matplotlib widget"
   ]
  },
  {
   "cell_type": "markdown",
   "id": "selected-wrong",
   "metadata": {},
   "source": [
    "Index\n",
    "\n",
    "1. [Nonnegativity]\n",
    "2. [$\\ell_1$]\n",
    "2. [$\\ell_2$]\n",
    "2. [$\\ell_3$]\n",
    "2. [$\\ell_4$]"
   ]
  },
  {
   "cell_type": "markdown",
   "id": "persistent-alias",
   "metadata": {},
   "source": [
    "Nonnegativity"
   ]
  },
  {
   "cell_type": "code",
   "execution_count": null,
   "id": "psychological-newport",
   "metadata": {},
   "outputs": [],
   "source": [
    "lamb = 0.8\n",
    "\n",
    "vi = np.arange(-10, 10, 0.1)\n",
    "plt.figure()\n",
    "plt.title('Element-wise Proximals')\n",
    "plt.grid()\n",
    "plt.xlabel('v')\n",
    "plt.ylabel('x')\n",
    "plt.plot(vi, list(map(proximal.ProxUtils.nonneg, vi)), label = r'$\\mathrm{prox}_{\\delta}$')\n",
    "plt.plot(vi, proximal.ProxUtils.l1_prox(vi, 0.8), label = r'$\\mathrm{prox}_{\\ell_1}$')\n",
    "plt.axvline(lamb, color='r', linewidth=0.5, label='\\u03bb')\n",
    "plt.axvline(-lamb, color='r', linewidth=0.5, label='-\\u03bb')\n",
    "plt.legend()"
   ]
  },
  {
   "cell_type": "code",
   "execution_count": 2,
   "id": "pointed-scanner",
   "metadata": {},
   "outputs": [
    {
     "ename": "NameError",
     "evalue": "name 'vi' is not defined",
     "output_type": "error",
     "traceback": [
      "\u001b[1;31m---------------------------------------------------------------------------\u001b[0m",
      "\u001b[1;31mNameError\u001b[0m                                 Traceback (most recent call last)",
      "\u001b[1;32m<ipython-input-2-6739ef46d136>\u001b[0m in \u001b[0;36m<module>\u001b[1;34m\u001b[0m\n\u001b[0;32m      2\u001b[0m         \u001b[1;32mreturn\u001b[0m \u001b[0mnp\u001b[0m\u001b[1;33m.\u001b[0m\u001b[0msign\u001b[0m\u001b[1;33m(\u001b[0m\u001b[0mx\u001b[0m\u001b[1;33m)\u001b[0m\u001b[1;33m*\u001b[0m\u001b[0mnp\u001b[0m\u001b[1;33m.\u001b[0m\u001b[0mmaximum\u001b[0m\u001b[1;33m(\u001b[0m\u001b[0mnp\u001b[0m\u001b[1;33m.\u001b[0m\u001b[0mabs\u001b[0m\u001b[1;33m(\u001b[0m\u001b[0mx\u001b[0m\u001b[1;33m)\u001b[0m \u001b[1;33m-\u001b[0m \u001b[0mlamb\u001b[0m\u001b[1;33m,\u001b[0m \u001b[1;36m0\u001b[0m\u001b[1;33m)\u001b[0m\u001b[1;33m\u001b[0m\u001b[1;33m\u001b[0m\u001b[0m\n\u001b[0;32m      3\u001b[0m \u001b[1;33m\u001b[0m\u001b[0m\n\u001b[1;32m----> 4\u001b[1;33m \u001b[0ml1_prox\u001b[0m\u001b[1;33m(\u001b[0m\u001b[0mvi\u001b[0m\u001b[1;33m,\u001b[0m \u001b[0mnp\u001b[0m\u001b[1;33m.\u001b[0m\u001b[0mones_like\u001b[0m\u001b[1;33m(\u001b[0m\u001b[0mvi\u001b[0m\u001b[1;33m)\u001b[0m\u001b[1;33m*\u001b[0m\u001b[1;36m0.8\u001b[0m\u001b[1;33m)\u001b[0m\u001b[1;33m\u001b[0m\u001b[1;33m\u001b[0m\u001b[0m\n\u001b[0m\u001b[0;32m      5\u001b[0m \u001b[0mvi\u001b[0m\u001b[1;33m\u001b[0m\u001b[1;33m\u001b[0m\u001b[0m\n\u001b[0;32m      6\u001b[0m \u001b[1;33m\u001b[0m\u001b[0m\n",
      "\u001b[1;31mNameError\u001b[0m: name 'vi' is not defined"
     ]
    }
   ],
   "source": [
    "def l1_prox(x, lamb):\n",
    "        return np.sign(x)*np.maximum(np.abs(x) - lamb, 0)\n",
    "    \n",
    "l1_prox(vi, np.ones_like(vi)*0.8)\n",
    "vi\n",
    "\n",
    "vi = np.arange(-10, 10)\n",
    "vi"
   ]
  },
  {
   "cell_type": "code",
   "execution_count": 7,
   "id": "steady-portal",
   "metadata": {},
   "outputs": [
    {
     "ename": "NameError",
     "evalue": "name 'v' is not defined",
     "output_type": "error",
     "traceback": [
      "\u001b[1;31m---------------------------------------------------------------------------\u001b[0m",
      "\u001b[1;31mNameError\u001b[0m                                 Traceback (most recent call last)",
      "\u001b[1;32m<ipython-input-7-30b2d7950bf2>\u001b[0m in \u001b[0;36m<module>\u001b[1;34m\u001b[0m\n\u001b[0;32m     20\u001b[0m \u001b[0mstart\u001b[0m \u001b[1;33m=\u001b[0m \u001b[0mtime\u001b[0m\u001b[1;33m.\u001b[0m\u001b[0mtime\u001b[0m\u001b[1;33m(\u001b[0m\u001b[1;33m)\u001b[0m\u001b[1;33m\u001b[0m\u001b[1;33m\u001b[0m\u001b[0m\n\u001b[0;32m     21\u001b[0m \u001b[1;32mfor\u001b[0m \u001b[0mi\u001b[0m \u001b[1;32min\u001b[0m \u001b[0mrange\u001b[0m\u001b[1;33m(\u001b[0m\u001b[1;36m1000\u001b[0m\u001b[1;33m)\u001b[0m\u001b[1;33m:\u001b[0m\u001b[1;33m\u001b[0m\u001b[1;33m\u001b[0m\u001b[0m\n\u001b[1;32m---> 22\u001b[1;33m     \u001b[0mu\u001b[0m \u001b[1;33m=\u001b[0m \u001b[0mnp\u001b[0m\u001b[1;33m.\u001b[0m\u001b[0mcopy\u001b[0m\u001b[1;33m(\u001b[0m\u001b[0mv\u001b[0m\u001b[1;33m)\u001b[0m\u001b[1;33m\u001b[0m\u001b[1;33m\u001b[0m\u001b[0m\n\u001b[0m\u001b[0;32m     23\u001b[0m     \u001b[0ml1_prox\u001b[0m\u001b[1;33m(\u001b[0m\u001b[0mu\u001b[0m\u001b[1;33m,\u001b[0m \u001b[1;36m1\u001b[0m\u001b[1;33m)\u001b[0m\u001b[1;33m\u001b[0m\u001b[1;33m\u001b[0m\u001b[0m\n\u001b[0;32m     24\u001b[0m \u001b[0mend\u001b[0m \u001b[1;33m=\u001b[0m \u001b[0mtime\u001b[0m\u001b[1;33m.\u001b[0m\u001b[0mtime\u001b[0m\u001b[1;33m(\u001b[0m\u001b[1;33m)\u001b[0m\u001b[1;33m\u001b[0m\u001b[1;33m\u001b[0m\u001b[0m\n",
      "\u001b[1;31mNameError\u001b[0m: name 'v' is not defined"
     ]
    }
   ],
   "source": [
    "l1_prox_lamb = lambda x, lamb: np.sign(x)*np.maximum(np.abs(x) - lamb, 0)\n",
    "\n",
    "def l1_prox(x, lamb):\n",
    "    return np.sign(x)*np.maximum(np.abs(x) - lamb, 0)\n",
    "    \n",
    "\n",
    "\n",
    "\n",
    "import time\n",
    "def nonneg(x):\n",
    "    return np.maximum(np.zeros_like(x), x)\n",
    "\n",
    "def nonneg_2(x):\n",
    "    x[x<0] = 0\n",
    "    return x\n",
    "        \n",
    "nonneg_lamb = lambda x: np.maximum(np.zeros_like(x), x)\n",
    "\n",
    "\n",
    "start = time.time()\n",
    "for i in range(1000):\n",
    "    u = np.copy(v)\n",
    "    l1_prox(u, 1)\n",
    "end = time.time()\n",
    "print(start - end)\n",
    "\n",
    "start = time.time()\n",
    "for i in range(1000):\n",
    "    u = np.copy(v)\n",
    "    l1_prox_lamb(u, 1)\n",
    "end = time.time()\n",
    "print(start - end)\n",
    "\n",
    "# v = np.random.normal(size = (100,100))\n",
    "# start = time.time()\n",
    "# for i in range(1000):\n",
    "#     u = np.copy(v)\n",
    "#     nonneg(u)\n",
    "# end = time.time()\n",
    "\n",
    "# print(start-end)\n",
    "\n",
    "# start = time.time()\n",
    "# for i in range(1000):\n",
    "#     u = np.copy(v)\n",
    "#     nonneg_lamb(u)\n",
    "# end = time.time()\n",
    "\n",
    "# print(start-end)\n",
    "\n",
    "# start = time.time()\n",
    "# for i in range(1000):\n",
    "#     u = np.copy(v)\n",
    "#     nonneg_2(u)\n",
    "# end = time.time()\n",
    "\n",
    "# print(start-end)"
   ]
  },
  {
   "cell_type": "code",
   "execution_count": 15,
   "id": "presidential-hammer",
   "metadata": {},
   "outputs": [
    {
     "data": {
      "text/plain": [
       "array([[0.        , 0.        , 0.        , ..., 0.        , 1.44782894,\n",
       "        0.28207851],\n",
       "       [1.32576064, 0.0508846 , 0.77053702, ..., 0.        , 0.        ,\n",
       "        0.25641335],\n",
       "       [2.10969191, 0.        , 0.70166901, ..., 0.        , 0.        ,\n",
       "        2.42599117],\n",
       "       ...,\n",
       "       [0.33654774, 0.        , 0.65842996, ..., 0.6789261 , 0.        ,\n",
       "        0.        ],\n",
       "       [0.        , 0.49813818, 0.10647412, ..., 0.87921435, 0.        ,\n",
       "        0.        ],\n",
       "       [0.        , 0.04199048, 0.        , ..., 0.        , 0.89509508,\n",
       "        0.68088978]])"
      ]
     },
     "execution_count": 15,
     "metadata": {},
     "output_type": "execute_result"
    }
   ],
   "source": [
    "v = np.random.normal(size = (100,100))\n",
    "nonneg_2(v)"
   ]
  },
  {
   "cell_type": "code",
   "execution_count": 16,
   "id": "aggressive-anderson",
   "metadata": {},
   "outputs": [
    {
     "data": {
      "text/plain": [
       "array([[0.        , 0.        , 0.        , ..., 0.        , 1.44782894,\n",
       "        0.28207851],\n",
       "       [1.32576064, 0.0508846 , 0.77053702, ..., 0.        , 0.        ,\n",
       "        0.25641335],\n",
       "       [2.10969191, 0.        , 0.70166901, ..., 0.        , 0.        ,\n",
       "        2.42599117],\n",
       "       ...,\n",
       "       [0.33654774, 0.        , 0.65842996, ..., 0.6789261 , 0.        ,\n",
       "        0.        ],\n",
       "       [0.        , 0.49813818, 0.10647412, ..., 0.87921435, 0.        ,\n",
       "        0.        ],\n",
       "       [0.        , 0.04199048, 0.        , ..., 0.        , 0.89509508,\n",
       "        0.68088978]])"
      ]
     },
     "execution_count": 16,
     "metadata": {},
     "output_type": "execute_result"
    }
   ],
   "source": [
    "v"
   ]
  },
  {
   "cell_type": "code",
   "execution_count": null,
   "id": "numerical-processor",
   "metadata": {},
   "outputs": [],
   "source": []
  }
 ],
 "metadata": {
  "kernelspec": {
   "display_name": "Python 3",
   "language": "python",
   "name": "python3"
  },
  "language_info": {
   "codemirror_mode": {
    "name": "ipython",
    "version": 3
   },
   "file_extension": ".py",
   "mimetype": "text/x-python",
   "name": "python",
   "nbconvert_exporter": "python",
   "pygments_lexer": "ipython3",
   "version": "3.7.9"
  }
 },
 "nbformat": 4,
 "nbformat_minor": 5
}
