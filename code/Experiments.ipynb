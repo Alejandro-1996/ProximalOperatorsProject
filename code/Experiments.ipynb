{
 "cells": [
  {
   "cell_type": "code",
   "execution_count": 1,
   "id": "varying-thursday",
   "metadata": {},
   "outputs": [],
   "source": [
    "# Import required Python libraries\n",
    "import cvxpy as cp\n",
    "import numpy as np\n",
    "import numpy.matlib\n",
    "from scipy import linalg\n",
    "import matplotlib.pyplot as plt\n",
    "import ipywidgets as widgets\n",
    "import scipy \n",
    "import scipy.fftpack\n",
    "from iplabs import IPLabViewer as viewer\n",
    "import matplotlib\n",
    "import cv2 as cv\n",
    "from skimage import color, transform, data, io\n",
    "import time\n",
    "\n",
    "# Import module for the project, to evaluate proximal operators\n",
    "import proximal \n",
    "\n",
    "# Configure plotting as dynamic\n",
    "%matplotlib widget"
   ]
  },
  {
   "cell_type": "markdown",
   "id": "framed-alpha",
   "metadata": {},
   "source": [
    "This notebook is dedicated for experiments/demonstrations on real images or on specially designed data. Note that cells in this notebook can take a **long** time to run on a standard computer. Thus, the results are also stored as `.npy` files. You can go directly to the visualization section of each experiment, that will load the pre-computed results.\n",
    "\n",
    "# Index\n",
    "1. [Total Variation](#1.-TV)\n",
    "    1. [Experiment](#1.A.-Experiment)\n",
    "    2. [Results](#1.B.-Results)\n",
    "2. [Hessian-Schatten norm](#2.-Hessian-Schatten-norm)\n",
    "    1. [Experiment](#2.A.-Experiment)\n",
    "    2. [Results](#2.B.-Results)\n",
    "2. [Group Sparsity](#3.-Group-Sparsity)\n",
    "    1. [Experiment](#3.A.-Experiment)\n",
    "    2. [Results](#3.B.-Results)"
   ]
  },
  {
   "cell_type": "markdown",
   "id": "excited-gates",
   "metadata": {},
   "source": [
    "# 1. TV\n",
    "[Index](#Index)\n",
    "\n",
    "For a demonstration of $\\operatorname{TV}$ regularization, I designed an experiment with the [Shepp-Logan phantom](https://en.wikipedia.org/wiki/Shepp%E2%80%93Logan_phantom), a standard test image in image reconstruction techniques. Moreover, it is a piece-wise constant image, which makes it ideal for $\\operatorname{TV}$ regularization. \n",
    "\n",
    "## 1.A. Experiment\n",
    "[Index](#Index)\n",
    "\n",
    "In the next cell, the Shepp-Logan phantom is loaded from the `scikit-image` data set. Then, white noise is added, sampled from the distribution $\\mathcal{N}(0, 0.08)$. To perform the experiment, in order, I evaluate $\\mathrm{prox}_{\\mathcal{R} + \\delta_{\\rm \\mathbb{R}_+^N}}(\\mathbf{v})$, $\\mathrm{prox}_{\\delta_{\\rm \\mathbb{R}_+^N}}(\\mathrm{prox}_{\\mathcal{R}}(\\mathbf{v}))$, and $\\mathrm{prox}_{\\mathcal{R}}(\\mathrm{prox}_{\\delta_{\\rm \\mathbb{R}_+^N}}(\\mathbf{v}))$. Keeping track of time for reference. Finally, I put the arrays together in a numpy array and store it for future use."
   ]
  },
  {
   "cell_type": "code",
   "execution_count": 2,
   "id": "handled-acoustic",
   "metadata": {},
   "outputs": [],
   "source": [
    "from skimage import color, transform, data\n",
    "import time\n",
    "phantom = data.shepp_logan_phantom()\n",
    "phantom = cv.resize(data.shepp_logan_phantom(), dsize = (200, 200), interpolation = cv.INTER_NEAREST)\n",
    "noisy_phantom = phantom + np.random.normal(loc=0, scale=0.08, size=phantom.shape)\n",
    "\n",
    "start = time.time()\n",
    "opt_nonneg_plus_prox =  proximal.TV_plus_nonneg_prox(noisy_phantom, 0.05)\n",
    "end = time.time()\n",
    "print(f'Time taken for prox_(tv + nonneg): {np.round(start - end)} seconds.')\n",
    "\n",
    "start = time.time()\n",
    "opt_nonneg_o_prox =  np.maximum(np.zeros_like(noisy_phantom), (proximal.TV_prox(noisy_phantom, 0.05)))\n",
    "end = time.time()\n",
    "print(f'Time taken for prox_nonneg(prox_tv): {np.round(start - end)} seconds.')\n",
    "\n",
    "start = time.time()\n",
    "opt_prox_o_nonneg = proximal.TV_prox(np.maximum(np.zeros_like(phantom), noisy_phantom), 0.05)\n",
    "end = time.time()\n",
    "print(f'Time taken for prox_tv(prox_nonneg): {np.round(start - end)} seconds.')\n",
    "\n",
    "# Pack original, noisy, ground_truth, prox_nonneg(prox_reg), prox_reg(prox_nonneg), and the error maps in a single numpy array and save array  \n",
    "phantom_TV_results = np.array([phantom, noisy_phantom, opt_nonneg_plus_prox, opt_nonneg_o_prox, opt_prox_o_nonneg, \n",
    "                               np.abs(opt_nonneg_plus_prox - opt_nonneg_o_prox), np.abs(opt_nonneg_plus_prox - opt_prox_o_nonneg)])\n",
    "np.save('phantom_TV_results.npy', phantom_TV_results)"
   ]
  },
  {
   "cell_type": "markdown",
   "id": "assisted-commission",
   "metadata": {},
   "source": [
    "## 1.B. Results\n",
    "[Index](#Index)\n",
    "\n",
    "In the next cell I reaload the data saved previously, unpack it, and plot it. The titles will include the `SNR` in `[dB]` for a better comparison to the original image.\n",
    "\n",
    "<!-- In the next cell, the Shepp-Logan phantom is loaded from the `scikit-image` data set. Then, white noise is added, sampled from the distribution $\\mathcal{N}(0, 0.08)$. Finally, in order, I evaluate $\\mathrm{prox}_{\\mathcal{R} + \\delta_{\\rm \\mathbb{R}_+^N}}(\\mathbf{v})$, $\\mathrm{prox}_{\\mathcal{R}}(\\mathrm{prox}_{\\delta_{\\rm \\mathbb{R}_+^N}}(\\mathbf{v}))$ and $\\mathrm{prox}_{\\delta_{\\rm \\mathbb{R}_+^N}}(\\mathrm{prox}_{\\mathcal{R}}(\\mathbf{v}))$. Finally, I put the arrays together in a numpy array and store it for future use. -->"
   ]
  },
  {
   "cell_type": "code",
   "execution_count": 2,
   "id": "eastern-salvation",
   "metadata": {},
   "outputs": [
    {
     "data": {
      "application/vnd.jupyter.widget-view+json": {
       "model_id": "ad335dad4e5140419ebd023ac63f805b",
       "version_major": 2,
       "version_minor": 0
      },
      "text/plain": [
       "HBox(children=(Output(layout=Layout(width='80%')), Output(), Output(layout=Layout(width='25%'))))"
      ]
     },
     "metadata": {},
     "output_type": "display_data"
    },
    {
     "data": {
      "application/vnd.jupyter.widget-view+json": {
       "model_id": "c9ddf37826424e2381a0418a68b4f641",
       "version_major": 2,
       "version_minor": 0
      },
      "text/plain": [
       "Button(description='Show Widgets', style=ButtonStyle())"
      ]
     },
     "metadata": {},
     "output_type": "display_data"
    },
    {
     "data": {
      "text/plain": [
       "<iplabs.IPLabViewer at 0x24023742108>"
      ]
     },
     "execution_count": 2,
     "metadata": {},
     "output_type": "execute_result"
    }
   ],
   "source": [
    "# Load results from npy file, and unpack\n",
    "phantom_TV_results = np.load('phantom_TV_results.npy')\n",
    "phantom, noisy_phantom, opt_nonneg_plus_prox, opt_nonneg_o_prox, opt_prox_o_nonneg, err_nonneg_o_prox, err_prox_o_nonneg = list(phantom_TV_results) \n",
    "\n",
    "# Repack for viewerand declare titles\n",
    "image_list = [phantom, noisy_phantom, opt_nonneg_plus_prox, opt_nonneg_o_prox, opt_prox_o_nonneg, err_nonneg_o_prox, err_prox_o_nonneg]\n",
    "title_list = ['Original', f'Noisy (SNR = {np.round(proximal.snr_db(phantom, noisy_phantom), 2)} [dB])',\n",
    "              '$\\mathrm{prox}_{\\delta + \\mathcal{R}}$' + f' (SNR = {np.round(proximal.snr_db(phantom, opt_nonneg_plus_prox), 2)} [dB])',\n",
    "              '$\\mathrm{prox}_{\\delta}(\\mathrm{prox}_{\\mathcal{R}})$' + f' (SNR = {np.round(proximal.snr_db(phantom, opt_nonneg_o_prox), 2)} [dB])',\n",
    "              '$\\mathrm{prox}_{\\mathcal{R}}(\\mathrm{prox}_{\\delta})$' + f' (SNR = {np.round(proximal.snr_db(phantom, opt_prox_o_nonneg), 2)} [dB])',\n",
    "              '$\\mathrm{prox}_{\\delta + \\mathcal{R}}$ - $\\mathrm{prox}_{\\delta}(\\mathrm{prox}_{\\mathcal{R}})$',\n",
    "              '$\\mathrm{prox}_{\\delta + \\mathcal{R}}$ - $\\mathrm{prox}_{\\mathcal{R}}(\\mathrm{prox}_{\\delta})$']\n",
    "\n",
    "# Visualize\n",
    "viewer(image_list, title = title_list)"
   ]
  },
  {
   "cell_type": "markdown",
   "id": "behavioral-transcript",
   "metadata": {},
   "source": [
    "# 2. Hessian-Schatten norm\n",
    "[Index](#Index)\n",
    "\n",
    "Experiment designed to test the effect of Hessian-Shatten norm (HS) regularization. In the first part, and for comparison purposes, I also applied the regularization to the Shepp-Logan phantom. However, the piece-wise linear results of HS regularization are not Ideal. So I used another standard, more realistic image, *peppers*. This was taken from the [University of South California Signal and Image Processing Institute](http://sipi.usc.edu/database/database.php?volume=misc&image=13#top).\n",
    "\n",
    "## 2.A. Experiment\n",
    "[Index](#Index)\n",
    "\n",
    "### Shepp Logan Phantom\n",
    "The following cell reloads the Shepp-Logan phantom, adds noise to it, and calculates the three cases that I am interested in, keeping track of the time for reference. Furthermore, it packs the results and saves them in `.npy` format.\n",
    "<!-- In the following image I present the results \n",
    "* $\\mathrm{prox}_{\\delta}(\\mathrm{prox}_{\\mathcal{R}(x)})$: SNR [dB] differs by only 0.1. Stats -rounded to the second decimal- are the exact same\n",
    "* $\\mathrm{prox}_{\\mathcal{R}}(\\mathrm{prox}_{\\delta}(x))$: Results are clearly not the same -->"
   ]
  },
  {
   "cell_type": "code",
   "execution_count": 3,
   "id": "extraordinary-integer",
   "metadata": {},
   "outputs": [
    {
     "ename": "KeyboardInterrupt",
     "evalue": "",
     "output_type": "error",
     "traceback": [
      "\u001b[1;31m---------------------------------------------------------------------------\u001b[0m",
      "\u001b[1;31mKeyboardInterrupt\u001b[0m                         Traceback (most recent call last)",
      "\u001b[1;32m<ipython-input-3-44c1c25c830f>\u001b[0m in \u001b[0;36m<module>\u001b[1;34m\u001b[0m\n\u001b[0;32m      4\u001b[0m \u001b[1;33m\u001b[0m\u001b[0m\n\u001b[0;32m      5\u001b[0m \u001b[0mstart\u001b[0m \u001b[1;33m=\u001b[0m \u001b[0mtime\u001b[0m\u001b[1;33m.\u001b[0m\u001b[0mtime\u001b[0m\u001b[1;33m(\u001b[0m\u001b[1;33m)\u001b[0m\u001b[1;33m\u001b[0m\u001b[1;33m\u001b[0m\u001b[0m\n\u001b[1;32m----> 6\u001b[1;33m \u001b[0mopt_nonneg_plus_prox\u001b[0m \u001b[1;33m=\u001b[0m  \u001b[0mproximal\u001b[0m\u001b[1;33m.\u001b[0m\u001b[0mHessian_Schatten_plus_nonneg_prox\u001b[0m\u001b[1;33m(\u001b[0m\u001b[0mnoisy_phantom\u001b[0m\u001b[1;33m,\u001b[0m \u001b[1;36m0.05\u001b[0m\u001b[1;33m)\u001b[0m\u001b[1;33m\u001b[0m\u001b[1;33m\u001b[0m\u001b[0m\n\u001b[0m\u001b[0;32m      7\u001b[0m \u001b[0mend\u001b[0m \u001b[1;33m=\u001b[0m \u001b[0mtime\u001b[0m\u001b[1;33m.\u001b[0m\u001b[0mtime\u001b[0m\u001b[1;33m(\u001b[0m\u001b[1;33m)\u001b[0m\u001b[1;33m\u001b[0m\u001b[1;33m\u001b[0m\u001b[0m\n\u001b[0;32m      8\u001b[0m \u001b[0mprint\u001b[0m\u001b[1;33m(\u001b[0m\u001b[1;34mf'Time taken for prox_(tv + nonneg): {np.round(start - end)} seconds.'\u001b[0m\u001b[1;33m)\u001b[0m\u001b[1;33m\u001b[0m\u001b[1;33m\u001b[0m\u001b[0m\n",
      "\u001b[1;32m~\\Documents\\EPFL\\MA-3\\Project\\ProximalOperatorsProject\\code\\proximal.py\u001b[0m in \u001b[0;36mHessian_Schatten_plus_nonneg_prox\u001b[1;34m(v, lamb, p)\u001b[0m\n\u001b[0;32m    627\u001b[0m     \u001b[0mobj\u001b[0m \u001b[1;33m=\u001b[0m \u001b[0mcp\u001b[0m\u001b[1;33m.\u001b[0m\u001b[0mnorm\u001b[0m\u001b[1;33m(\u001b[0m\u001b[0mcp\u001b[0m\u001b[1;33m.\u001b[0m\u001b[0mvstack\u001b[0m\u001b[1;33m(\u001b[0m\u001b[0mhs_obj\u001b[0m\u001b[1;33m)\u001b[0m\u001b[1;33m,\u001b[0m \u001b[1;36m1\u001b[0m\u001b[1;33m)\u001b[0m \u001b[1;33m+\u001b[0m \u001b[0mcp\u001b[0m\u001b[1;33m.\u001b[0m\u001b[0msum_squares\u001b[0m\u001b[1;33m(\u001b[0m\u001b[0mx\u001b[0m \u001b[1;33m-\u001b[0m \u001b[0mv\u001b[0m\u001b[1;33m)\u001b[0m\u001b[1;33m/\u001b[0m\u001b[1;33m(\u001b[0m\u001b[1;36m2\u001b[0m\u001b[1;33m*\u001b[0m\u001b[0mlamb\u001b[0m\u001b[1;33m)\u001b[0m\u001b[1;33m\u001b[0m\u001b[1;33m\u001b[0m\u001b[0m\n\u001b[0;32m    628\u001b[0m     \u001b[0mprob\u001b[0m \u001b[1;33m=\u001b[0m \u001b[0mcp\u001b[0m\u001b[1;33m.\u001b[0m\u001b[0mProblem\u001b[0m\u001b[1;33m(\u001b[0m\u001b[0mcp\u001b[0m\u001b[1;33m.\u001b[0m\u001b[0mMinimize\u001b[0m\u001b[1;33m(\u001b[0m\u001b[0mobj\u001b[0m\u001b[1;33m)\u001b[0m\u001b[1;33m)\u001b[0m\u001b[1;33m\u001b[0m\u001b[1;33m\u001b[0m\u001b[0m\n\u001b[1;32m--> 629\u001b[1;33m     \u001b[0mprob\u001b[0m\u001b[1;33m.\u001b[0m\u001b[0msolve\u001b[0m\u001b[1;33m(\u001b[0m\u001b[0mcp\u001b[0m\u001b[1;33m.\u001b[0m\u001b[0mMOSEK\u001b[0m\u001b[1;33m)\u001b[0m\u001b[1;33m\u001b[0m\u001b[1;33m\u001b[0m\u001b[0m\n\u001b[0m\u001b[0;32m    630\u001b[0m \u001b[1;33m\u001b[0m\u001b[0m\n\u001b[0;32m    631\u001b[0m     \u001b[1;32mreturn\u001b[0m \u001b[0mx\u001b[0m\u001b[1;33m.\u001b[0m\u001b[0mvalue\u001b[0m\u001b[1;33m\u001b[0m\u001b[1;33m\u001b[0m\u001b[0m\n",
      "\u001b[1;32mc:\\users\\dolly\\documents\\epfl\\ma-3\\project\\prox_proj\\lib\\site-packages\\cvxpy\\problems\\problem.py\u001b[0m in \u001b[0;36msolve\u001b[1;34m(self, *args, **kwargs)\u001b[0m\n\u001b[0;32m    399\u001b[0m         \u001b[1;32melse\u001b[0m\u001b[1;33m:\u001b[0m\u001b[1;33m\u001b[0m\u001b[1;33m\u001b[0m\u001b[0m\n\u001b[0;32m    400\u001b[0m             \u001b[0msolve_func\u001b[0m \u001b[1;33m=\u001b[0m \u001b[0mProblem\u001b[0m\u001b[1;33m.\u001b[0m\u001b[0m_solve\u001b[0m\u001b[1;33m\u001b[0m\u001b[1;33m\u001b[0m\u001b[0m\n\u001b[1;32m--> 401\u001b[1;33m         \u001b[1;32mreturn\u001b[0m \u001b[0msolve_func\u001b[0m\u001b[1;33m(\u001b[0m\u001b[0mself\u001b[0m\u001b[1;33m,\u001b[0m \u001b[1;33m*\u001b[0m\u001b[0margs\u001b[0m\u001b[1;33m,\u001b[0m \u001b[1;33m**\u001b[0m\u001b[0mkwargs\u001b[0m\u001b[1;33m)\u001b[0m\u001b[1;33m\u001b[0m\u001b[1;33m\u001b[0m\u001b[0m\n\u001b[0m\u001b[0;32m    402\u001b[0m \u001b[1;33m\u001b[0m\u001b[0m\n\u001b[0;32m    403\u001b[0m     \u001b[1;33m@\u001b[0m\u001b[0mclassmethod\u001b[0m\u001b[1;33m\u001b[0m\u001b[1;33m\u001b[0m\u001b[0m\n",
      "\u001b[1;32mc:\\users\\dolly\\documents\\epfl\\ma-3\\project\\prox_proj\\lib\\site-packages\\cvxpy\\problems\\problem.py\u001b[0m in \u001b[0;36m_solve\u001b[1;34m(self, solver, warm_start, verbose, gp, qcp, requires_grad, enforce_dpp, **kwargs)\u001b[0m\n\u001b[0;32m    814\u001b[0m \u001b[1;33m\u001b[0m\u001b[0m\n\u001b[0;32m    815\u001b[0m         data, solving_chain, inverse_data = self.get_problem_data(\n\u001b[1;32m--> 816\u001b[1;33m             solver, gp, enforce_dpp)\n\u001b[0m\u001b[0;32m    817\u001b[0m         solution = solving_chain.solve_via_data(\n\u001b[0;32m    818\u001b[0m             self, data, warm_start, verbose, kwargs)\n",
      "\u001b[1;32mc:\\users\\dolly\\documents\\epfl\\ma-3\\project\\prox_proj\\lib\\site-packages\\cvxpy\\problems\\problem.py\u001b[0m in \u001b[0;36mget_problem_data\u001b[1;34m(self, solver, gp, enforce_dpp)\u001b[0m\n\u001b[0;32m    528\u001b[0m             \u001b[0minverse_data\u001b[0m \u001b[1;33m=\u001b[0m \u001b[0mself\u001b[0m\u001b[1;33m.\u001b[0m\u001b[0m_cache\u001b[0m\u001b[1;33m.\u001b[0m\u001b[0minverse_data\u001b[0m \u001b[1;33m+\u001b[0m \u001b[1;33m[\u001b[0m\u001b[0msolver_inverse_data\u001b[0m\u001b[1;33m]\u001b[0m\u001b[1;33m\u001b[0m\u001b[1;33m\u001b[0m\u001b[0m\n\u001b[0;32m    529\u001b[0m         \u001b[1;32melse\u001b[0m\u001b[1;33m:\u001b[0m\u001b[1;33m\u001b[0m\u001b[1;33m\u001b[0m\u001b[0m\n\u001b[1;32m--> 530\u001b[1;33m             \u001b[0mdata\u001b[0m\u001b[1;33m,\u001b[0m \u001b[0minverse_data\u001b[0m \u001b[1;33m=\u001b[0m \u001b[0msolving_chain\u001b[0m\u001b[1;33m.\u001b[0m\u001b[0mapply\u001b[0m\u001b[1;33m(\u001b[0m\u001b[0mself\u001b[0m\u001b[1;33m)\u001b[0m\u001b[1;33m\u001b[0m\u001b[1;33m\u001b[0m\u001b[0m\n\u001b[0m\u001b[0;32m    531\u001b[0m             safe_to_cache = (\n\u001b[0;32m    532\u001b[0m                 \u001b[0misinstance\u001b[0m\u001b[1;33m(\u001b[0m\u001b[0mdata\u001b[0m\u001b[1;33m,\u001b[0m \u001b[0mdict\u001b[0m\u001b[1;33m)\u001b[0m\u001b[1;33m\u001b[0m\u001b[1;33m\u001b[0m\u001b[0m\n",
      "\u001b[1;32mc:\\users\\dolly\\documents\\epfl\\ma-3\\project\\prox_proj\\lib\\site-packages\\cvxpy\\reductions\\chain.py\u001b[0m in \u001b[0;36mapply\u001b[1;34m(self, problem)\u001b[0m\n\u001b[0;32m     69\u001b[0m         \u001b[0minverse_data\u001b[0m \u001b[1;33m=\u001b[0m \u001b[1;33m[\u001b[0m\u001b[1;33m]\u001b[0m\u001b[1;33m\u001b[0m\u001b[1;33m\u001b[0m\u001b[0m\n\u001b[0;32m     70\u001b[0m         \u001b[1;32mfor\u001b[0m \u001b[0mr\u001b[0m \u001b[1;32min\u001b[0m \u001b[0mself\u001b[0m\u001b[1;33m.\u001b[0m\u001b[0mreductions\u001b[0m\u001b[1;33m:\u001b[0m\u001b[1;33m\u001b[0m\u001b[1;33m\u001b[0m\u001b[0m\n\u001b[1;32m---> 71\u001b[1;33m             \u001b[0mproblem\u001b[0m\u001b[1;33m,\u001b[0m \u001b[0minv\u001b[0m \u001b[1;33m=\u001b[0m \u001b[0mr\u001b[0m\u001b[1;33m.\u001b[0m\u001b[0mapply\u001b[0m\u001b[1;33m(\u001b[0m\u001b[0mproblem\u001b[0m\u001b[1;33m)\u001b[0m\u001b[1;33m\u001b[0m\u001b[1;33m\u001b[0m\u001b[0m\n\u001b[0m\u001b[0;32m     72\u001b[0m             \u001b[0minverse_data\u001b[0m\u001b[1;33m.\u001b[0m\u001b[0mappend\u001b[0m\u001b[1;33m(\u001b[0m\u001b[0minv\u001b[0m\u001b[1;33m)\u001b[0m\u001b[1;33m\u001b[0m\u001b[1;33m\u001b[0m\u001b[0m\n\u001b[0;32m     73\u001b[0m         \u001b[1;32mreturn\u001b[0m \u001b[0mproblem\u001b[0m\u001b[1;33m,\u001b[0m \u001b[0minverse_data\u001b[0m\u001b[1;33m\u001b[0m\u001b[1;33m\u001b[0m\u001b[0m\n",
      "\u001b[1;32mc:\\users\\dolly\\documents\\epfl\\ma-3\\project\\prox_proj\\lib\\site-packages\\cvxpy\\reductions\\dcp2cone\\dcp2cone.py\u001b[0m in \u001b[0;36mapply\u001b[1;34m(self, problem)\u001b[0m\n\u001b[0;32m     41\u001b[0m         \u001b[1;32mif\u001b[0m \u001b[1;32mnot\u001b[0m \u001b[0mself\u001b[0m\u001b[1;33m.\u001b[0m\u001b[0maccepts\u001b[0m\u001b[1;33m(\u001b[0m\u001b[0mproblem\u001b[0m\u001b[1;33m)\u001b[0m\u001b[1;33m:\u001b[0m\u001b[1;33m\u001b[0m\u001b[1;33m\u001b[0m\u001b[0m\n\u001b[0;32m     42\u001b[0m             \u001b[1;32mraise\u001b[0m \u001b[0mValueError\u001b[0m\u001b[1;33m(\u001b[0m\u001b[1;34m\"Cannot reduce problem to cone program\"\u001b[0m\u001b[1;33m)\u001b[0m\u001b[1;33m\u001b[0m\u001b[1;33m\u001b[0m\u001b[0m\n\u001b[1;32m---> 43\u001b[1;33m         \u001b[1;32mreturn\u001b[0m \u001b[0msuper\u001b[0m\u001b[1;33m(\u001b[0m\u001b[0mDcp2Cone\u001b[0m\u001b[1;33m,\u001b[0m \u001b[0mself\u001b[0m\u001b[1;33m)\u001b[0m\u001b[1;33m.\u001b[0m\u001b[0mapply\u001b[0m\u001b[1;33m(\u001b[0m\u001b[0mproblem\u001b[0m\u001b[1;33m)\u001b[0m\u001b[1;33m\u001b[0m\u001b[1;33m\u001b[0m\u001b[0m\n\u001b[0m",
      "\u001b[1;32mc:\\users\\dolly\\documents\\epfl\\ma-3\\project\\prox_proj\\lib\\site-packages\\cvxpy\\reductions\\canonicalization.py\u001b[0m in \u001b[0;36mapply\u001b[1;34m(self, problem)\u001b[0m\n\u001b[0;32m     58\u001b[0m \u001b[1;33m\u001b[0m\u001b[0m\n\u001b[0;32m     59\u001b[0m         canon_objective, canon_constraints = self.canonicalize_tree(\n\u001b[1;32m---> 60\u001b[1;33m             problem.objective)\n\u001b[0m\u001b[0;32m     61\u001b[0m \u001b[1;33m\u001b[0m\u001b[0m\n\u001b[0;32m     62\u001b[0m         \u001b[1;32mfor\u001b[0m \u001b[0mconstraint\u001b[0m \u001b[1;32min\u001b[0m \u001b[0mproblem\u001b[0m\u001b[1;33m.\u001b[0m\u001b[0mconstraints\u001b[0m\u001b[1;33m:\u001b[0m\u001b[1;33m\u001b[0m\u001b[1;33m\u001b[0m\u001b[0m\n",
      "\u001b[1;32mc:\\users\\dolly\\documents\\epfl\\ma-3\\project\\prox_proj\\lib\\site-packages\\cvxpy\\reductions\\canonicalization.py\u001b[0m in \u001b[0;36mcanonicalize_tree\u001b[1;34m(self, expr)\u001b[0m\n\u001b[0;32m     97\u001b[0m             \u001b[0mconstrs\u001b[0m \u001b[1;33m=\u001b[0m \u001b[1;33m[\u001b[0m\u001b[1;33m]\u001b[0m\u001b[1;33m\u001b[0m\u001b[1;33m\u001b[0m\u001b[0m\n\u001b[0;32m     98\u001b[0m             \u001b[1;32mfor\u001b[0m \u001b[0marg\u001b[0m \u001b[1;32min\u001b[0m \u001b[0mexpr\u001b[0m\u001b[1;33m.\u001b[0m\u001b[0margs\u001b[0m\u001b[1;33m:\u001b[0m\u001b[1;33m\u001b[0m\u001b[1;33m\u001b[0m\u001b[0m\n\u001b[1;32m---> 99\u001b[1;33m                 \u001b[0mcanon_arg\u001b[0m\u001b[1;33m,\u001b[0m \u001b[0mc\u001b[0m \u001b[1;33m=\u001b[0m \u001b[0mself\u001b[0m\u001b[1;33m.\u001b[0m\u001b[0mcanonicalize_tree\u001b[0m\u001b[1;33m(\u001b[0m\u001b[0marg\u001b[0m\u001b[1;33m)\u001b[0m\u001b[1;33m\u001b[0m\u001b[1;33m\u001b[0m\u001b[0m\n\u001b[0m\u001b[0;32m    100\u001b[0m                 \u001b[0mcanon_args\u001b[0m \u001b[1;33m+=\u001b[0m \u001b[1;33m[\u001b[0m\u001b[0mcanon_arg\u001b[0m\u001b[1;33m]\u001b[0m\u001b[1;33m\u001b[0m\u001b[1;33m\u001b[0m\u001b[0m\n\u001b[0;32m    101\u001b[0m                 \u001b[0mconstrs\u001b[0m \u001b[1;33m+=\u001b[0m \u001b[0mc\u001b[0m\u001b[1;33m\u001b[0m\u001b[1;33m\u001b[0m\u001b[0m\n",
      "\u001b[1;32mc:\\users\\dolly\\documents\\epfl\\ma-3\\project\\prox_proj\\lib\\site-packages\\cvxpy\\reductions\\canonicalization.py\u001b[0m in \u001b[0;36mcanonicalize_tree\u001b[1;34m(self, expr)\u001b[0m\n\u001b[0;32m     97\u001b[0m             \u001b[0mconstrs\u001b[0m \u001b[1;33m=\u001b[0m \u001b[1;33m[\u001b[0m\u001b[1;33m]\u001b[0m\u001b[1;33m\u001b[0m\u001b[1;33m\u001b[0m\u001b[0m\n\u001b[0;32m     98\u001b[0m             \u001b[1;32mfor\u001b[0m \u001b[0marg\u001b[0m \u001b[1;32min\u001b[0m \u001b[0mexpr\u001b[0m\u001b[1;33m.\u001b[0m\u001b[0margs\u001b[0m\u001b[1;33m:\u001b[0m\u001b[1;33m\u001b[0m\u001b[1;33m\u001b[0m\u001b[0m\n\u001b[1;32m---> 99\u001b[1;33m                 \u001b[0mcanon_arg\u001b[0m\u001b[1;33m,\u001b[0m \u001b[0mc\u001b[0m \u001b[1;33m=\u001b[0m \u001b[0mself\u001b[0m\u001b[1;33m.\u001b[0m\u001b[0mcanonicalize_tree\u001b[0m\u001b[1;33m(\u001b[0m\u001b[0marg\u001b[0m\u001b[1;33m)\u001b[0m\u001b[1;33m\u001b[0m\u001b[1;33m\u001b[0m\u001b[0m\n\u001b[0m\u001b[0;32m    100\u001b[0m                 \u001b[0mcanon_args\u001b[0m \u001b[1;33m+=\u001b[0m \u001b[1;33m[\u001b[0m\u001b[0mcanon_arg\u001b[0m\u001b[1;33m]\u001b[0m\u001b[1;33m\u001b[0m\u001b[1;33m\u001b[0m\u001b[0m\n\u001b[0;32m    101\u001b[0m                 \u001b[0mconstrs\u001b[0m \u001b[1;33m+=\u001b[0m \u001b[0mc\u001b[0m\u001b[1;33m\u001b[0m\u001b[1;33m\u001b[0m\u001b[0m\n",
      "\u001b[1;32mc:\\users\\dolly\\documents\\epfl\\ma-3\\project\\prox_proj\\lib\\site-packages\\cvxpy\\reductions\\canonicalization.py\u001b[0m in \u001b[0;36mcanonicalize_tree\u001b[1;34m(self, expr)\u001b[0m\n\u001b[0;32m     97\u001b[0m             \u001b[0mconstrs\u001b[0m \u001b[1;33m=\u001b[0m \u001b[1;33m[\u001b[0m\u001b[1;33m]\u001b[0m\u001b[1;33m\u001b[0m\u001b[1;33m\u001b[0m\u001b[0m\n\u001b[0;32m     98\u001b[0m             \u001b[1;32mfor\u001b[0m \u001b[0marg\u001b[0m \u001b[1;32min\u001b[0m \u001b[0mexpr\u001b[0m\u001b[1;33m.\u001b[0m\u001b[0margs\u001b[0m\u001b[1;33m:\u001b[0m\u001b[1;33m\u001b[0m\u001b[1;33m\u001b[0m\u001b[0m\n\u001b[1;32m---> 99\u001b[1;33m                 \u001b[0mcanon_arg\u001b[0m\u001b[1;33m,\u001b[0m \u001b[0mc\u001b[0m \u001b[1;33m=\u001b[0m \u001b[0mself\u001b[0m\u001b[1;33m.\u001b[0m\u001b[0mcanonicalize_tree\u001b[0m\u001b[1;33m(\u001b[0m\u001b[0marg\u001b[0m\u001b[1;33m)\u001b[0m\u001b[1;33m\u001b[0m\u001b[1;33m\u001b[0m\u001b[0m\n\u001b[0m\u001b[0;32m    100\u001b[0m                 \u001b[0mcanon_args\u001b[0m \u001b[1;33m+=\u001b[0m \u001b[1;33m[\u001b[0m\u001b[0mcanon_arg\u001b[0m\u001b[1;33m]\u001b[0m\u001b[1;33m\u001b[0m\u001b[1;33m\u001b[0m\u001b[0m\n\u001b[0;32m    101\u001b[0m                 \u001b[0mconstrs\u001b[0m \u001b[1;33m+=\u001b[0m \u001b[0mc\u001b[0m\u001b[1;33m\u001b[0m\u001b[1;33m\u001b[0m\u001b[0m\n",
      "\u001b[1;32mc:\\users\\dolly\\documents\\epfl\\ma-3\\project\\prox_proj\\lib\\site-packages\\cvxpy\\reductions\\canonicalization.py\u001b[0m in \u001b[0;36mcanonicalize_tree\u001b[1;34m(self, expr)\u001b[0m\n\u001b[0;32m     97\u001b[0m             \u001b[0mconstrs\u001b[0m \u001b[1;33m=\u001b[0m \u001b[1;33m[\u001b[0m\u001b[1;33m]\u001b[0m\u001b[1;33m\u001b[0m\u001b[1;33m\u001b[0m\u001b[0m\n\u001b[0;32m     98\u001b[0m             \u001b[1;32mfor\u001b[0m \u001b[0marg\u001b[0m \u001b[1;32min\u001b[0m \u001b[0mexpr\u001b[0m\u001b[1;33m.\u001b[0m\u001b[0margs\u001b[0m\u001b[1;33m:\u001b[0m\u001b[1;33m\u001b[0m\u001b[1;33m\u001b[0m\u001b[0m\n\u001b[1;32m---> 99\u001b[1;33m                 \u001b[0mcanon_arg\u001b[0m\u001b[1;33m,\u001b[0m \u001b[0mc\u001b[0m \u001b[1;33m=\u001b[0m \u001b[0mself\u001b[0m\u001b[1;33m.\u001b[0m\u001b[0mcanonicalize_tree\u001b[0m\u001b[1;33m(\u001b[0m\u001b[0marg\u001b[0m\u001b[1;33m)\u001b[0m\u001b[1;33m\u001b[0m\u001b[1;33m\u001b[0m\u001b[0m\n\u001b[0m\u001b[0;32m    100\u001b[0m                 \u001b[0mcanon_args\u001b[0m \u001b[1;33m+=\u001b[0m \u001b[1;33m[\u001b[0m\u001b[0mcanon_arg\u001b[0m\u001b[1;33m]\u001b[0m\u001b[1;33m\u001b[0m\u001b[1;33m\u001b[0m\u001b[0m\n\u001b[0;32m    101\u001b[0m                 \u001b[0mconstrs\u001b[0m \u001b[1;33m+=\u001b[0m \u001b[0mc\u001b[0m\u001b[1;33m\u001b[0m\u001b[1;33m\u001b[0m\u001b[0m\n",
      "\u001b[1;32mc:\\users\\dolly\\documents\\epfl\\ma-3\\project\\prox_proj\\lib\\site-packages\\cvxpy\\reductions\\canonicalization.py\u001b[0m in \u001b[0;36mcanonicalize_tree\u001b[1;34m(self, expr)\u001b[0m\n\u001b[0;32m     97\u001b[0m             \u001b[0mconstrs\u001b[0m \u001b[1;33m=\u001b[0m \u001b[1;33m[\u001b[0m\u001b[1;33m]\u001b[0m\u001b[1;33m\u001b[0m\u001b[1;33m\u001b[0m\u001b[0m\n\u001b[0;32m     98\u001b[0m             \u001b[1;32mfor\u001b[0m \u001b[0marg\u001b[0m \u001b[1;32min\u001b[0m \u001b[0mexpr\u001b[0m\u001b[1;33m.\u001b[0m\u001b[0margs\u001b[0m\u001b[1;33m:\u001b[0m\u001b[1;33m\u001b[0m\u001b[1;33m\u001b[0m\u001b[0m\n\u001b[1;32m---> 99\u001b[1;33m                 \u001b[0mcanon_arg\u001b[0m\u001b[1;33m,\u001b[0m \u001b[0mc\u001b[0m \u001b[1;33m=\u001b[0m \u001b[0mself\u001b[0m\u001b[1;33m.\u001b[0m\u001b[0mcanonicalize_tree\u001b[0m\u001b[1;33m(\u001b[0m\u001b[0marg\u001b[0m\u001b[1;33m)\u001b[0m\u001b[1;33m\u001b[0m\u001b[1;33m\u001b[0m\u001b[0m\n\u001b[0m\u001b[0;32m    100\u001b[0m                 \u001b[0mcanon_args\u001b[0m \u001b[1;33m+=\u001b[0m \u001b[1;33m[\u001b[0m\u001b[0mcanon_arg\u001b[0m\u001b[1;33m]\u001b[0m\u001b[1;33m\u001b[0m\u001b[1;33m\u001b[0m\u001b[0m\n\u001b[0;32m    101\u001b[0m                 \u001b[0mconstrs\u001b[0m \u001b[1;33m+=\u001b[0m \u001b[0mc\u001b[0m\u001b[1;33m\u001b[0m\u001b[1;33m\u001b[0m\u001b[0m\n",
      "\u001b[1;32mc:\\users\\dolly\\documents\\epfl\\ma-3\\project\\prox_proj\\lib\\site-packages\\cvxpy\\reductions\\canonicalization.py\u001b[0m in \u001b[0;36mcanonicalize_tree\u001b[1;34m(self, expr)\u001b[0m\n\u001b[0;32m    100\u001b[0m                 \u001b[0mcanon_args\u001b[0m \u001b[1;33m+=\u001b[0m \u001b[1;33m[\u001b[0m\u001b[0mcanon_arg\u001b[0m\u001b[1;33m]\u001b[0m\u001b[1;33m\u001b[0m\u001b[1;33m\u001b[0m\u001b[0m\n\u001b[0;32m    101\u001b[0m                 \u001b[0mconstrs\u001b[0m \u001b[1;33m+=\u001b[0m \u001b[0mc\u001b[0m\u001b[1;33m\u001b[0m\u001b[1;33m\u001b[0m\u001b[0m\n\u001b[1;32m--> 102\u001b[1;33m             \u001b[0mcanon_expr\u001b[0m\u001b[1;33m,\u001b[0m \u001b[0mc\u001b[0m \u001b[1;33m=\u001b[0m \u001b[0mself\u001b[0m\u001b[1;33m.\u001b[0m\u001b[0mcanonicalize_expr\u001b[0m\u001b[1;33m(\u001b[0m\u001b[0mexpr\u001b[0m\u001b[1;33m,\u001b[0m \u001b[0mcanon_args\u001b[0m\u001b[1;33m)\u001b[0m\u001b[1;33m\u001b[0m\u001b[1;33m\u001b[0m\u001b[0m\n\u001b[0m\u001b[0;32m    103\u001b[0m             \u001b[0mconstrs\u001b[0m \u001b[1;33m+=\u001b[0m \u001b[0mc\u001b[0m\u001b[1;33m\u001b[0m\u001b[1;33m\u001b[0m\u001b[0m\n\u001b[0;32m    104\u001b[0m         \u001b[1;32mreturn\u001b[0m \u001b[0mcanon_expr\u001b[0m\u001b[1;33m,\u001b[0m \u001b[0mconstrs\u001b[0m\u001b[1;33m\u001b[0m\u001b[1;33m\u001b[0m\u001b[0m\n",
      "\u001b[1;32mc:\\users\\dolly\\documents\\epfl\\ma-3\\project\\prox_proj\\lib\\site-packages\\cvxpy\\reductions\\canonicalization.py\u001b[0m in \u001b[0;36mcanonicalize_expr\u001b[1;34m(self, expr, args)\u001b[0m\n\u001b[0;32m    111\u001b[0m             \u001b[1;32mreturn\u001b[0m \u001b[0mexpr\u001b[0m\u001b[1;33m,\u001b[0m \u001b[1;33m[\u001b[0m\u001b[1;33m]\u001b[0m\u001b[1;33m\u001b[0m\u001b[1;33m\u001b[0m\u001b[0m\n\u001b[0;32m    112\u001b[0m         \u001b[1;32melif\u001b[0m \u001b[0mtype\u001b[0m\u001b[1;33m(\u001b[0m\u001b[0mexpr\u001b[0m\u001b[1;33m)\u001b[0m \u001b[1;32min\u001b[0m \u001b[0mself\u001b[0m\u001b[1;33m.\u001b[0m\u001b[0mcanon_methods\u001b[0m\u001b[1;33m:\u001b[0m\u001b[1;33m\u001b[0m\u001b[1;33m\u001b[0m\u001b[0m\n\u001b[1;32m--> 113\u001b[1;33m             \u001b[1;32mreturn\u001b[0m \u001b[0mself\u001b[0m\u001b[1;33m.\u001b[0m\u001b[0mcanon_methods\u001b[0m\u001b[1;33m[\u001b[0m\u001b[0mtype\u001b[0m\u001b[1;33m(\u001b[0m\u001b[0mexpr\u001b[0m\u001b[1;33m)\u001b[0m\u001b[1;33m]\u001b[0m\u001b[1;33m(\u001b[0m\u001b[0mexpr\u001b[0m\u001b[1;33m,\u001b[0m \u001b[0margs\u001b[0m\u001b[1;33m)\u001b[0m\u001b[1;33m\u001b[0m\u001b[1;33m\u001b[0m\u001b[0m\n\u001b[0m\u001b[0;32m    114\u001b[0m         \u001b[1;32melse\u001b[0m\u001b[1;33m:\u001b[0m\u001b[1;33m\u001b[0m\u001b[1;33m\u001b[0m\u001b[0m\n\u001b[0;32m    115\u001b[0m             \u001b[1;32mreturn\u001b[0m \u001b[0mexpr\u001b[0m\u001b[1;33m.\u001b[0m\u001b[0mcopy\u001b[0m\u001b[1;33m(\u001b[0m\u001b[0margs\u001b[0m\u001b[1;33m)\u001b[0m\u001b[1;33m,\u001b[0m \u001b[1;33m[\u001b[0m\u001b[1;33m]\u001b[0m\u001b[1;33m\u001b[0m\u001b[1;33m\u001b[0m\u001b[0m\n",
      "\u001b[1;32mc:\\users\\dolly\\documents\\epfl\\ma-3\\project\\prox_proj\\lib\\site-packages\\cvxpy\\reductions\\eliminate_pwl\\atom_canonicalizers\\abs_canon.py\u001b[0m in \u001b[0;36mabs_canon\u001b[1;34m(expr, args)\u001b[0m\n\u001b[0;32m     21\u001b[0m     \u001b[0mx\u001b[0m \u001b[1;33m=\u001b[0m \u001b[0margs\u001b[0m\u001b[1;33m[\u001b[0m\u001b[1;36m0\u001b[0m\u001b[1;33m]\u001b[0m\u001b[1;33m\u001b[0m\u001b[1;33m\u001b[0m\u001b[0m\n\u001b[0;32m     22\u001b[0m     \u001b[0mt\u001b[0m \u001b[1;33m=\u001b[0m \u001b[0mVariable\u001b[0m\u001b[1;33m(\u001b[0m\u001b[0mexpr\u001b[0m\u001b[1;33m.\u001b[0m\u001b[0mshape\u001b[0m\u001b[1;33m)\u001b[0m\u001b[1;33m\u001b[0m\u001b[1;33m\u001b[0m\u001b[0m\n\u001b[1;32m---> 23\u001b[1;33m     \u001b[0mconstraints\u001b[0m \u001b[1;33m=\u001b[0m \u001b[1;33m[\u001b[0m\u001b[0mt\u001b[0m \u001b[1;33m>=\u001b[0m \u001b[0mx\u001b[0m\u001b[1;33m,\u001b[0m \u001b[0mt\u001b[0m \u001b[1;33m>=\u001b[0m \u001b[1;33m-\u001b[0m\u001b[0mx\u001b[0m\u001b[1;33m]\u001b[0m\u001b[1;33m\u001b[0m\u001b[1;33m\u001b[0m\u001b[0m\n\u001b[0m\u001b[0;32m     24\u001b[0m     \u001b[1;32mreturn\u001b[0m \u001b[0mt\u001b[0m\u001b[1;33m,\u001b[0m \u001b[0mconstraints\u001b[0m\u001b[1;33m\u001b[0m\u001b[1;33m\u001b[0m\u001b[0m\n",
      "\u001b[1;32mc:\\users\\dolly\\documents\\epfl\\ma-3\\project\\prox_proj\\lib\\site-packages\\cvxpy\\expressions\\expression.py\u001b[0m in \u001b[0;36mcast_op\u001b[1;34m(self, other)\u001b[0m\n\u001b[0;32m     45\u001b[0m         \"\"\"\n\u001b[0;32m     46\u001b[0m         \u001b[0mother\u001b[0m \u001b[1;33m=\u001b[0m \u001b[0mself\u001b[0m\u001b[1;33m.\u001b[0m\u001b[0mcast_to_const\u001b[0m\u001b[1;33m(\u001b[0m\u001b[0mother\u001b[0m\u001b[1;33m)\u001b[0m\u001b[1;33m\u001b[0m\u001b[1;33m\u001b[0m\u001b[0m\n\u001b[1;32m---> 47\u001b[1;33m         \u001b[1;32mreturn\u001b[0m \u001b[0mbinary_op\u001b[0m\u001b[1;33m(\u001b[0m\u001b[0mself\u001b[0m\u001b[1;33m,\u001b[0m \u001b[0mother\u001b[0m\u001b[1;33m)\u001b[0m\u001b[1;33m\u001b[0m\u001b[1;33m\u001b[0m\u001b[0m\n\u001b[0m\u001b[0;32m     48\u001b[0m     \u001b[1;32mreturn\u001b[0m \u001b[0mcast_op\u001b[0m\u001b[1;33m\u001b[0m\u001b[1;33m\u001b[0m\u001b[0m\n\u001b[0;32m     49\u001b[0m \u001b[1;33m\u001b[0m\u001b[0m\n",
      "\u001b[1;32mc:\\users\\dolly\\documents\\epfl\\ma-3\\project\\prox_proj\\lib\\site-packages\\cvxpy\\expressions\\expression.py\u001b[0m in \u001b[0;36m__ge__\u001b[1;34m(self, other)\u001b[0m\n\u001b[0;32m    658\u001b[0m         \"\"\"NonPos : Creates an inequality constraint.\n\u001b[0;32m    659\u001b[0m         \"\"\"\n\u001b[1;32m--> 660\u001b[1;33m         \u001b[1;32mreturn\u001b[0m \u001b[0mother\u001b[0m\u001b[1;33m.\u001b[0m\u001b[0m__le__\u001b[0m\u001b[1;33m(\u001b[0m\u001b[0mself\u001b[0m\u001b[1;33m)\u001b[0m\u001b[1;33m\u001b[0m\u001b[1;33m\u001b[0m\u001b[0m\n\u001b[0m\u001b[0;32m    661\u001b[0m \u001b[1;33m\u001b[0m\u001b[0m\n\u001b[0;32m    662\u001b[0m     \u001b[1;32mdef\u001b[0m \u001b[0m__gt__\u001b[0m\u001b[1;33m(\u001b[0m\u001b[0mself\u001b[0m\u001b[1;33m,\u001b[0m \u001b[0mother\u001b[0m\u001b[1;33m)\u001b[0m\u001b[1;33m:\u001b[0m\u001b[1;33m\u001b[0m\u001b[1;33m\u001b[0m\u001b[0m\n",
      "\u001b[1;32mc:\\users\\dolly\\documents\\epfl\\ma-3\\project\\prox_proj\\lib\\site-packages\\cvxpy\\expressions\\expression.py\u001b[0m in \u001b[0;36mcast_op\u001b[1;34m(self, other)\u001b[0m\n\u001b[0;32m     45\u001b[0m         \"\"\"\n\u001b[0;32m     46\u001b[0m         \u001b[0mother\u001b[0m \u001b[1;33m=\u001b[0m \u001b[0mself\u001b[0m\u001b[1;33m.\u001b[0m\u001b[0mcast_to_const\u001b[0m\u001b[1;33m(\u001b[0m\u001b[0mother\u001b[0m\u001b[1;33m)\u001b[0m\u001b[1;33m\u001b[0m\u001b[1;33m\u001b[0m\u001b[0m\n\u001b[1;32m---> 47\u001b[1;33m         \u001b[1;32mreturn\u001b[0m \u001b[0mbinary_op\u001b[0m\u001b[1;33m(\u001b[0m\u001b[0mself\u001b[0m\u001b[1;33m,\u001b[0m \u001b[0mother\u001b[0m\u001b[1;33m)\u001b[0m\u001b[1;33m\u001b[0m\u001b[1;33m\u001b[0m\u001b[0m\n\u001b[0m\u001b[0;32m     48\u001b[0m     \u001b[1;32mreturn\u001b[0m \u001b[0mcast_op\u001b[0m\u001b[1;33m\u001b[0m\u001b[1;33m\u001b[0m\u001b[0m\n\u001b[0;32m     49\u001b[0m \u001b[1;33m\u001b[0m\u001b[0m\n",
      "\u001b[1;32mc:\\users\\dolly\\documents\\epfl\\ma-3\\project\\prox_proj\\lib\\site-packages\\cvxpy\\expressions\\expression.py\u001b[0m in \u001b[0;36m__le__\u001b[1;34m(self, other)\u001b[0m\n\u001b[0;32m    647\u001b[0m         \"\"\"Inequality : Creates an inequality constraint ``self <= other``.\n\u001b[0;32m    648\u001b[0m         \"\"\"\n\u001b[1;32m--> 649\u001b[1;33m         \u001b[1;32mreturn\u001b[0m \u001b[0mInequality\u001b[0m\u001b[1;33m(\u001b[0m\u001b[0mself\u001b[0m\u001b[1;33m,\u001b[0m \u001b[0mother\u001b[0m\u001b[1;33m)\u001b[0m\u001b[1;33m\u001b[0m\u001b[1;33m\u001b[0m\u001b[0m\n\u001b[0m\u001b[0;32m    650\u001b[0m \u001b[1;33m\u001b[0m\u001b[0m\n\u001b[0;32m    651\u001b[0m     \u001b[1;32mdef\u001b[0m \u001b[0m__lt__\u001b[0m\u001b[1;33m(\u001b[0m\u001b[0mself\u001b[0m\u001b[1;33m,\u001b[0m \u001b[0mother\u001b[0m\u001b[1;33m)\u001b[0m\u001b[1;33m:\u001b[0m\u001b[1;33m\u001b[0m\u001b[1;33m\u001b[0m\u001b[0m\n",
      "\u001b[1;32mc:\\users\\dolly\\documents\\epfl\\ma-3\\project\\prox_proj\\lib\\site-packages\\cvxpy\\constraints\\nonpos.py\u001b[0m in \u001b[0;36m__init__\u001b[1;34m(self, lhs, rhs, constr_id)\u001b[0m\n\u001b[0;32m    153\u001b[0m         \u001b[0mself\u001b[0m\u001b[1;33m.\u001b[0m\u001b[0m_expr\u001b[0m \u001b[1;33m=\u001b[0m \u001b[0mlhs\u001b[0m \u001b[1;33m-\u001b[0m \u001b[0mrhs\u001b[0m\u001b[1;33m\u001b[0m\u001b[1;33m\u001b[0m\u001b[0m\n\u001b[0;32m    154\u001b[0m         \u001b[1;31m# TODO remove this restriction.\u001b[0m\u001b[1;33m\u001b[0m\u001b[1;33m\u001b[0m\u001b[1;33m\u001b[0m\u001b[0m\n\u001b[1;32m--> 155\u001b[1;33m         \u001b[1;32mif\u001b[0m \u001b[0mself\u001b[0m\u001b[1;33m.\u001b[0m\u001b[0m_expr\u001b[0m\u001b[1;33m.\u001b[0m\u001b[0mis_complex\u001b[0m\u001b[1;33m(\u001b[0m\u001b[1;33m)\u001b[0m\u001b[1;33m:\u001b[0m\u001b[1;33m\u001b[0m\u001b[1;33m\u001b[0m\u001b[0m\n\u001b[0m\u001b[0;32m    156\u001b[0m             \u001b[1;32mraise\u001b[0m \u001b[0mValueError\u001b[0m\u001b[1;33m(\u001b[0m\u001b[1;34m\"Inequality constraints cannot be complex.\"\u001b[0m\u001b[1;33m)\u001b[0m\u001b[1;33m\u001b[0m\u001b[1;33m\u001b[0m\u001b[0m\n\u001b[0;32m    157\u001b[0m         \u001b[0msuper\u001b[0m\u001b[1;33m(\u001b[0m\u001b[0mInequality\u001b[0m\u001b[1;33m,\u001b[0m \u001b[0mself\u001b[0m\u001b[1;33m)\u001b[0m\u001b[1;33m.\u001b[0m\u001b[0m__init__\u001b[0m\u001b[1;33m(\u001b[0m\u001b[1;33m[\u001b[0m\u001b[0mlhs\u001b[0m\u001b[1;33m,\u001b[0m \u001b[0mrhs\u001b[0m\u001b[1;33m]\u001b[0m\u001b[1;33m,\u001b[0m \u001b[0mconstr_id\u001b[0m\u001b[1;33m)\u001b[0m\u001b[1;33m\u001b[0m\u001b[1;33m\u001b[0m\u001b[0m\n",
      "\u001b[1;32mc:\\users\\dolly\\documents\\epfl\\ma-3\\project\\prox_proj\\lib\\site-packages\\cvxpy\\atoms\\affine\\affine_atom.py\u001b[0m in \u001b[0;36mis_complex\u001b[1;34m(self)\u001b[0m\n\u001b[0;32m     46\u001b[0m         \"\"\"\n\u001b[0;32m     47\u001b[0m         \u001b[1;31m# Default is most generic argument.\u001b[0m\u001b[1;33m\u001b[0m\u001b[1;33m\u001b[0m\u001b[1;33m\u001b[0m\u001b[0m\n\u001b[1;32m---> 48\u001b[1;33m         \u001b[1;32mreturn\u001b[0m \u001b[0many\u001b[0m\u001b[1;33m(\u001b[0m\u001b[0marg\u001b[0m\u001b[1;33m.\u001b[0m\u001b[0mis_complex\u001b[0m\u001b[1;33m(\u001b[0m\u001b[1;33m)\u001b[0m \u001b[1;32mfor\u001b[0m \u001b[0marg\u001b[0m \u001b[1;32min\u001b[0m \u001b[0mself\u001b[0m\u001b[1;33m.\u001b[0m\u001b[0margs\u001b[0m\u001b[1;33m)\u001b[0m\u001b[1;33m\u001b[0m\u001b[1;33m\u001b[0m\u001b[0m\n\u001b[0m\u001b[0;32m     49\u001b[0m \u001b[1;33m\u001b[0m\u001b[0m\n\u001b[0;32m     50\u001b[0m     \u001b[1;32mdef\u001b[0m \u001b[0mis_atom_convex\u001b[0m\u001b[1;33m(\u001b[0m\u001b[0mself\u001b[0m\u001b[1;33m)\u001b[0m\u001b[1;33m:\u001b[0m\u001b[1;33m\u001b[0m\u001b[1;33m\u001b[0m\u001b[0m\n",
      "\u001b[1;32mc:\\users\\dolly\\documents\\epfl\\ma-3\\project\\prox_proj\\lib\\site-packages\\cvxpy\\atoms\\affine\\affine_atom.py\u001b[0m in \u001b[0;36m<genexpr>\u001b[1;34m(.0)\u001b[0m\n\u001b[0;32m     46\u001b[0m         \"\"\"\n\u001b[0;32m     47\u001b[0m         \u001b[1;31m# Default is most generic argument.\u001b[0m\u001b[1;33m\u001b[0m\u001b[1;33m\u001b[0m\u001b[1;33m\u001b[0m\u001b[0m\n\u001b[1;32m---> 48\u001b[1;33m         \u001b[1;32mreturn\u001b[0m \u001b[0many\u001b[0m\u001b[1;33m(\u001b[0m\u001b[0marg\u001b[0m\u001b[1;33m.\u001b[0m\u001b[0mis_complex\u001b[0m\u001b[1;33m(\u001b[0m\u001b[1;33m)\u001b[0m \u001b[1;32mfor\u001b[0m \u001b[0marg\u001b[0m \u001b[1;32min\u001b[0m \u001b[0mself\u001b[0m\u001b[1;33m.\u001b[0m\u001b[0margs\u001b[0m\u001b[1;33m)\u001b[0m\u001b[1;33m\u001b[0m\u001b[1;33m\u001b[0m\u001b[0m\n\u001b[0m\u001b[0;32m     49\u001b[0m \u001b[1;33m\u001b[0m\u001b[0m\n\u001b[0;32m     50\u001b[0m     \u001b[1;32mdef\u001b[0m \u001b[0mis_atom_convex\u001b[0m\u001b[1;33m(\u001b[0m\u001b[0mself\u001b[0m\u001b[1;33m)\u001b[0m\u001b[1;33m:\u001b[0m\u001b[1;33m\u001b[0m\u001b[1;33m\u001b[0m\u001b[0m\n",
      "\u001b[1;32mc:\\users\\dolly\\documents\\epfl\\ma-3\\project\\prox_proj\\lib\\site-packages\\cvxpy\\atoms\\affine\\binary_operators.py\u001b[0m in \u001b[0;36mis_complex\u001b[1;34m(self)\u001b[0m\n\u001b[0;32m     74\u001b[0m         \"\"\"Is the expression complex valued?\n\u001b[0;32m     75\u001b[0m         \"\"\"\n\u001b[1;32m---> 76\u001b[1;33m         \u001b[1;32mreturn\u001b[0m \u001b[1;33m(\u001b[0m\u001b[0mself\u001b[0m\u001b[1;33m.\u001b[0m\u001b[0margs\u001b[0m\u001b[1;33m[\u001b[0m\u001b[1;36m0\u001b[0m\u001b[1;33m]\u001b[0m\u001b[1;33m.\u001b[0m\u001b[0mis_complex\u001b[0m\u001b[1;33m(\u001b[0m\u001b[1;33m)\u001b[0m \u001b[1;32mor\u001b[0m \u001b[0mself\u001b[0m\u001b[1;33m.\u001b[0m\u001b[0margs\u001b[0m\u001b[1;33m[\u001b[0m\u001b[1;36m1\u001b[0m\u001b[1;33m]\u001b[0m\u001b[1;33m.\u001b[0m\u001b[0mis_complex\u001b[0m\u001b[1;33m(\u001b[0m\u001b[1;33m)\u001b[0m\u001b[1;33m)\u001b[0m \u001b[1;32mand\u001b[0m\u001b[0;31m \u001b[0m\u001b[0;31m\\\u001b[0m\u001b[1;33m\u001b[0m\u001b[1;33m\u001b[0m\u001b[0m\n\u001b[0m\u001b[0;32m     77\u001b[0m             \u001b[1;32mnot\u001b[0m \u001b[1;33m(\u001b[0m\u001b[0mself\u001b[0m\u001b[1;33m.\u001b[0m\u001b[0margs\u001b[0m\u001b[1;33m[\u001b[0m\u001b[1;36m0\u001b[0m\u001b[1;33m]\u001b[0m\u001b[1;33m.\u001b[0m\u001b[0mis_imag\u001b[0m\u001b[1;33m(\u001b[0m\u001b[1;33m)\u001b[0m \u001b[1;32mand\u001b[0m \u001b[0mself\u001b[0m\u001b[1;33m.\u001b[0m\u001b[0margs\u001b[0m\u001b[1;33m[\u001b[0m\u001b[1;36m1\u001b[0m\u001b[1;33m]\u001b[0m\u001b[1;33m.\u001b[0m\u001b[0mis_imag\u001b[0m\u001b[1;33m(\u001b[0m\u001b[1;33m)\u001b[0m\u001b[1;33m)\u001b[0m\u001b[1;33m\u001b[0m\u001b[1;33m\u001b[0m\u001b[0m\n\u001b[0;32m     78\u001b[0m \u001b[1;33m\u001b[0m\u001b[0m\n",
      "\u001b[1;32mc:\\users\\dolly\\documents\\epfl\\ma-3\\project\\prox_proj\\lib\\site-packages\\cvxpy\\utilities\\performance_utils.py\u001b[0m in \u001b[0;36m_compute_once\u001b[1;34m(self, *args, **kwargs)\u001b[0m\n\u001b[0;32m     64\u001b[0m             \u001b[0msetattr\u001b[0m\u001b[1;33m(\u001b[0m\u001b[0mself\u001b[0m\u001b[1;33m,\u001b[0m \u001b[0mcache_name\u001b[0m\u001b[1;33m,\u001b[0m \u001b[1;33m{\u001b[0m\u001b[1;33m}\u001b[0m\u001b[1;33m)\u001b[0m\u001b[1;33m\u001b[0m\u001b[1;33m\u001b[0m\u001b[0m\n\u001b[0;32m     65\u001b[0m         \u001b[0mcache\u001b[0m \u001b[1;33m=\u001b[0m \u001b[0mgetattr\u001b[0m\u001b[1;33m(\u001b[0m\u001b[0mself\u001b[0m\u001b[1;33m,\u001b[0m \u001b[0mcache_name\u001b[0m\u001b[1;33m)\u001b[0m\u001b[1;33m\u001b[0m\u001b[1;33m\u001b[0m\u001b[0m\n\u001b[1;32m---> 66\u001b[1;33m         \u001b[0mkey\u001b[0m \u001b[1;33m=\u001b[0m \u001b[0m_cache_key\u001b[0m\u001b[1;33m(\u001b[0m\u001b[0margs\u001b[0m\u001b[1;33m,\u001b[0m \u001b[0mkwargs\u001b[0m\u001b[1;33m)\u001b[0m\u001b[1;33m\u001b[0m\u001b[1;33m\u001b[0m\u001b[0m\n\u001b[0m\u001b[0;32m     67\u001b[0m         \u001b[1;32mif\u001b[0m \u001b[0mkey\u001b[0m \u001b[1;32min\u001b[0m \u001b[0mcache\u001b[0m\u001b[1;33m:\u001b[0m\u001b[1;33m\u001b[0m\u001b[1;33m\u001b[0m\u001b[0m\n\u001b[0;32m     68\u001b[0m             \u001b[1;32mreturn\u001b[0m \u001b[0mcache\u001b[0m\u001b[1;33m[\u001b[0m\u001b[0mkey\u001b[0m\u001b[1;33m]\u001b[0m\u001b[1;33m\u001b[0m\u001b[1;33m\u001b[0m\u001b[0m\n",
      "\u001b[1;32mc:\\users\\dolly\\documents\\epfl\\ma-3\\project\\prox_proj\\lib\\site-packages\\cvxpy\\utilities\\performance_utils.py\u001b[0m in \u001b[0;36m_cache_key\u001b[1;34m(args, kwargs)\u001b[0m\n\u001b[0;32m     40\u001b[0m \u001b[1;32mdef\u001b[0m \u001b[0m_cache_key\u001b[0m\u001b[1;33m(\u001b[0m\u001b[0margs\u001b[0m\u001b[1;33m,\u001b[0m \u001b[0mkwargs\u001b[0m\u001b[1;33m)\u001b[0m\u001b[1;33m:\u001b[0m\u001b[1;33m\u001b[0m\u001b[1;33m\u001b[0m\u001b[0m\n\u001b[0;32m     41\u001b[0m     \u001b[0mkey\u001b[0m \u001b[1;33m=\u001b[0m \u001b[0margs\u001b[0m \u001b[1;33m+\u001b[0m \u001b[0mtuple\u001b[0m\u001b[1;33m(\u001b[0m\u001b[1;33m[\u001b[0m\u001b[1;33m(\u001b[0m\u001b[0mkey\u001b[0m\u001b[1;33m,\u001b[0m \u001b[0mitem\u001b[0m\u001b[1;33m)\u001b[0m \u001b[1;32mfor\u001b[0m \u001b[0mkey\u001b[0m\u001b[1;33m,\u001b[0m \u001b[0mitem\u001b[0m \u001b[1;32min\u001b[0m \u001b[0mkwargs\u001b[0m\u001b[1;33m.\u001b[0m\u001b[0mitems\u001b[0m\u001b[1;33m(\u001b[0m\u001b[1;33m)\u001b[0m\u001b[1;33m]\u001b[0m\u001b[1;33m)\u001b[0m\u001b[1;33m\u001b[0m\u001b[1;33m\u001b[0m\u001b[0m\n\u001b[1;32m---> 42\u001b[1;33m     \u001b[1;32mif\u001b[0m \u001b[0mscopes\u001b[0m\u001b[1;33m.\u001b[0m\u001b[0mdpp_scope_active\u001b[0m\u001b[1;33m(\u001b[0m\u001b[1;33m)\u001b[0m\u001b[1;33m:\u001b[0m\u001b[1;33m\u001b[0m\u001b[1;33m\u001b[0m\u001b[0m\n\u001b[0m\u001b[0;32m     43\u001b[0m         \u001b[0mkey\u001b[0m \u001b[1;33m=\u001b[0m \u001b[1;33m(\u001b[0m\u001b[1;34m'__dpp_scope_active__'\u001b[0m\u001b[1;33m,\u001b[0m\u001b[1;33m)\u001b[0m \u001b[1;33m+\u001b[0m \u001b[0mkey\u001b[0m\u001b[1;33m\u001b[0m\u001b[1;33m\u001b[0m\u001b[0m\n\u001b[0;32m     44\u001b[0m     \u001b[1;32mreturn\u001b[0m \u001b[0mkey\u001b[0m\u001b[1;33m\u001b[0m\u001b[1;33m\u001b[0m\u001b[0m\n",
      "\u001b[1;31mKeyboardInterrupt\u001b[0m: "
     ]
    }
   ],
   "source": [
    "# phantom = transform.resize(color.rgb2gray(data.astronaut()), (128, 128))\n",
    "phantom = cv.resize(data.shepp_logan_phantom(), dsize = (100, 100),interpolation = cv.INTER_NEAREST)\n",
    "noisy_phantom = phantom + np.random.normal(loc=0, scale=0.08, size=phantom.shape)\n",
    "\n",
    "start = time.time()\n",
    "opt_nonneg_plus_prox =  proximal.Hessian_Schatten_plus_nonneg_prox(noisy_phantom, 0.05)\n",
    "end = time.time()\n",
    "print(f'Time taken for prox_(tv + nonneg): {np.round(start - end)} seconds.')\n",
    "\n",
    "start = time.time()\n",
    "opt_nonneg_o_prox =  np.maximum(np.zeros_like(noisy_phantom), (proximal.Hessian_Schatten_prox(noisy_phantom, 0.05)))\n",
    "end = time.time()\n",
    "print(f'Time taken for prox_nonneg(prox_tv): {np.round(start - end)} seconds.')\n",
    "\n",
    "start = time.time()\n",
    "opt_prox_o_nonneg = proximal.Hessian_Schatten_prox(np.maximum(np.zeros_like(phantom), noisy_phantom), 0.05)\n",
    "end = time.time()\n",
    "print(f'Time taken for prox_tv(prox_nonneg): {np.round(start - end)} seconds.')\n",
    "\n",
    "image_arr = np.array([phantom, noisy_phantom, opt_nonneg_plus_prox, opt_nonneg_o_prox, opt_prox_o_nonneg, \n",
    "                      np.abs(opt_nonneg_plus_prox - opt_nonneg_o_prox), np.abs(opt_nonneg_plus_prox - opt_prox_o_nonneg)])\n",
    "np.save('phantom_Hessian_Schatten.npy', image_arr)"
   ]
  },
  {
   "cell_type": "markdown",
   "id": "designing-nerve",
   "metadata": {},
   "source": [
    "### Peppers\n",
    "\n",
    "In the following cell I repeat the experiment for a different image. First I will load the image `peppers_orig`, stored as a `.tiff` file. Moreover, I will resize it to $64\\times 64$ (as, with the method I am choosing to solve the proximal operator of the Hessian-Schatten norm, it is unfeasible to try on a larger image) and I will add white noise sampled from the distribution $\\mathcal{N}(0, 0.1)$."
   ]
  },
  {
   "cell_type": "code",
   "execution_count": 4,
   "id": "exotic-domain",
   "metadata": {},
   "outputs": [],
   "source": [
    "peppers_orig = io.imread('peppers.tiff', as_gray = True)\n",
    "peppers = transform.resize(io.imread('peppers.tiff', as_gray = True), (64, 64), mode='reflect')\n",
    "noisy_peppers = peppers + np.random.normal(loc=0, scale=0.1, size=peppers.shape)"
   ]
  },
  {
   "cell_type": "markdown",
   "id": "imperial-cardiff",
   "metadata": {},
   "source": [
    "Now in the next cell I will evaluate $\\mathrm{prox}_{\\mathcal{R} + \\delta_{\\rm \\mathbb{R}_+^N}}(\\mathbf{v})$, $\\mathrm{prox}_{\\delta_{\\rm \\mathbb{R}_+^N}}(\\mathrm{prox}_{\\mathcal{R}}(\\mathbf{v}))$, and $\\mathrm{prox}_{\\mathcal{R}}(\\mathrm{prox}_{\\delta_{\\rm \\mathbb{R}_+^N}}(\\mathbf{v}))$, and keep track of the time for reference. Finally, I will, save the array as a `.npy` file to avoid losing it when restarting the kernel. "
   ]
  },
  {
   "cell_type": "code",
   "execution_count": 9,
   "id": "enhanced-conditions",
   "metadata": {},
   "outputs": [
    {
     "name": "stdout",
     "output_type": "stream",
     "text": [
      "Time taken for prox_(tv + nonneg): -9685.0 seconds.\n",
      "Time taken for prox_nonneg(prox_tv): -8705.0 seconds.\n",
      "Time taken for prox_tv(prox_nonneg): -9376.0 seconds.\n"
     ]
    },
    {
     "ename": "NameError",
     "evalue": "name 'phantom' is not defined",
     "output_type": "error",
     "traceback": [
      "\u001b[1;31m---------------------------------------------------------------------------\u001b[0m",
      "\u001b[1;31mNameError\u001b[0m                                 Traceback (most recent call last)",
      "\u001b[1;32m<ipython-input-9-66b9a997af8a>\u001b[0m in \u001b[0;36m<module>\u001b[1;34m\u001b[0m\n\u001b[0;32m     22\u001b[0m \u001b[1;33m\u001b[0m\u001b[0m\n\u001b[0;32m     23\u001b[0m \u001b[0mimage_list\u001b[0m \u001b[1;33m=\u001b[0m \u001b[1;33m[\u001b[0m\u001b[0mpeppers\u001b[0m\u001b[1;33m,\u001b[0m \u001b[0mnoisy_peppers\u001b[0m\u001b[1;33m,\u001b[0m \u001b[0mopt_nonneg_plus_prox\u001b[0m\u001b[1;33m,\u001b[0m \u001b[0mopt_nonneg_o_prox\u001b[0m\u001b[1;33m,\u001b[0m \u001b[0mopt_prox_o_nonneg\u001b[0m\u001b[1;33m,\u001b[0m \u001b[0mnp\u001b[0m\u001b[1;33m.\u001b[0m\u001b[0mabs\u001b[0m\u001b[1;33m(\u001b[0m\u001b[0mopt_nonneg_plus_prox\u001b[0m \u001b[1;33m-\u001b[0m \u001b[0mopt_nonneg_o_prox\u001b[0m\u001b[1;33m)\u001b[0m\u001b[1;33m,\u001b[0m \u001b[0mnp\u001b[0m\u001b[1;33m.\u001b[0m\u001b[0mabs\u001b[0m\u001b[1;33m(\u001b[0m\u001b[0mopt_nonneg_plus_prox\u001b[0m \u001b[1;33m-\u001b[0m \u001b[0mopt_prox_o_nonneg\u001b[0m\u001b[1;33m)\u001b[0m\u001b[1;33m]\u001b[0m\u001b[1;33m\u001b[0m\u001b[1;33m\u001b[0m\u001b[0m\n\u001b[1;32m---> 24\u001b[1;33m title_list = ['Original', f'Noisy (SNR = {np.round(snr_db(phantom, noisy_phantom), 2)} [dB])',\n\u001b[0m\u001b[0;32m     25\u001b[0m               \u001b[1;34m'$\\mathrm{prox}_{\\delta + \\mathcal{R}}$'\u001b[0m \u001b[1;33m+\u001b[0m \u001b[1;34mf' (SNR = {np.round(snr_db(phantom, opt_nonneg_plus_prox), 2)} [dB])'\u001b[0m\u001b[1;33m,\u001b[0m\u001b[1;33m\u001b[0m\u001b[1;33m\u001b[0m\u001b[0m\n\u001b[0;32m     26\u001b[0m               \u001b[1;34m'$\\mathrm{prox}_{\\delta}(\\mathrm{prox}_{\\mathcal{R}})$'\u001b[0m \u001b[1;33m+\u001b[0m \u001b[1;34mf' (SNR = {np.round(snr_db(phantom, opt_nonneg_o_prox), 2)} [dB])'\u001b[0m\u001b[1;33m,\u001b[0m\u001b[1;33m\u001b[0m\u001b[1;33m\u001b[0m\u001b[0m\n",
      "\u001b[1;31mNameError\u001b[0m: name 'phantom' is not defined"
     ]
    }
   ],
   "source": [
    "# Keep track of time\n",
    "start = time.time()\n",
    "# Calculate the proximal operator of f = R + δ\n",
    "opt_nonneg_plus_prox =  proximal.Hessian_Schatten_plus_nonneg_prox(noisy_peppers, 0.05)\n",
    "end = time.time()\n",
    "# Print time spent to user \n",
    "print(f'Time taken for prox_(tv + nonneg): {np.round(start - end)} seconds.')\n",
    "\n",
    "# Repeat for  prox_f(prox_g), where g = R and f = δ\n",
    "start = time.time()\n",
    "opt_nonneg_o_prox =  np.maximum(np.zeros_like(noisy_peppers), (proximal.Hessian_Schatten_prox(noisy_peppers, 0.05)))\n",
    "end = time.time()\n",
    "print(f'Time taken for prox_nonneg(prox_tv): {np.round(start - end)} seconds.')\n",
    "\n",
    "# Repeat for  prox_f(prox_g), where g = δ and f = R and\n",
    "start = time.time()\n",
    "opt_prox_o_nonneg = proximal.Hessian_Schatten_prox(np.maximum(np.zeros_like(noisy_peppers), noisy_peppers), 0.05)\n",
    "end = time.time()\n",
    "print(f'Time taken for prox_tv(prox_nonneg): {np.round(start - end)} seconds.')\n",
    "\n",
    "image_arr = np.array([peppers, noisy_peppers, opt_nonneg_plus_prox, opt_nonneg_o_prox, opt_prox_o_nonneg, np.abs(opt_nonneg_plus_prox - opt_nonneg_o_prox), np.abs(opt_nonneg_plus_prox - opt_prox_o_nonneg)])\n",
    "np.save('peppers_Hessian_Schatten.npy', image_arr)"
   ]
  },
  {
   "cell_type": "markdown",
   "id": "alike-climate",
   "metadata": {},
   "source": [
    "## 2.B. Results\n",
    "[Index](#Index)\n",
    "\n",
    "In this section I will present the results from Hessian-Schatten norm regularization. For a discussion of these results, see section 4 of the [report](../report/Report.pdf). \n",
    "\n",
    "### Shepp-Logan phantom\n",
    "In the following cell, I will load the previously saved results, and plot them with the SNR displayed."
   ]
  },
  {
   "cell_type": "code",
   "execution_count": 4,
   "id": "distributed-penny",
   "metadata": {},
   "outputs": [
    {
     "data": {
      "application/vnd.jupyter.widget-view+json": {
       "model_id": "a257cd835c164cb8b86abba28c61696a",
       "version_major": 2,
       "version_minor": 0
      },
      "text/plain": [
       "HBox(children=(Output(layout=Layout(width='80%')), Output(), Output(layout=Layout(width='25%'))))"
      ]
     },
     "metadata": {},
     "output_type": "display_data"
    },
    {
     "data": {
      "application/vnd.jupyter.widget-view+json": {
       "model_id": "48fde546f95746f5a0f775e31b70dc05",
       "version_major": 2,
       "version_minor": 0
      },
      "text/plain": [
       "Button(description='Show Widgets', style=ButtonStyle())"
      ]
     },
     "metadata": {},
     "output_type": "display_data"
    },
    {
     "data": {
      "text/plain": [
       "<iplabs.IPLabViewer at 0x24037345908>"
      ]
     },
     "execution_count": 4,
     "metadata": {},
     "output_type": "execute_result"
    }
   ],
   "source": [
    "image_arr = np.load('phantom_Hessian_Schatten.npy')\n",
    "\n",
    "# Unpack from just loaded results\n",
    "phantom, noisy_phantom, opt_nonneg_plus_prox, opt_nonneg_o_prox, opt_prox_o_nonneg, err_nonneg_o_prox, err_prox_o_nonneg = list(image_arr)\n",
    "\n",
    "image_list = [phantom, noisy_phantom, opt_nonneg_plus_prox, opt_nonneg_o_prox, opt_prox_o_nonneg, np.abs(opt_nonneg_plus_prox - opt_nonneg_o_prox), np.abs(opt_nonneg_plus_prox - opt_prox_o_nonneg)]\n",
    "title_list = ['Original', f'Noisy (SNR = {np.round(proximal.snr_db(phantom, noisy_phantom), 3)} [dB])',\n",
    "              '$\\mathrm{prox}_{\\delta + \\mathcal{R}}$' + f' (SNR = {np.round(proximal.snr_db(phantom, opt_nonneg_plus_prox), 3)} [dB])',\n",
    "              '$\\mathrm{prox}_{\\delta}(\\mathrm{prox}_{\\mathcal{R}})$' + f' (SNR = {np.round(proximal.snr_db(phantom, opt_nonneg_o_prox), 3)} [dB])',\n",
    "              '$\\mathrm{prox}_{\\mathcal{R}}(\\mathrm{prox}_{\\delta})$' + f' (SNR = {np.round(proximal.snr_db(phantom, opt_prox_o_nonneg), 3)} [dB])',\n",
    "              '$\\mathrm{prox}_{\\delta + \\mathcal{R}}$ - $\\mathrm{prox}_{\\delta}(\\mathrm{prox}_{\\mathcal{R}})$',\n",
    "              '$\\mathrm{prox}_{\\delta + \\mathcal{R}}$ - $\\mathrm{prox}_{\\mathcal{R}}(\\mathrm{prox}_{\\delta})$']\n",
    "\n",
    "viewer(image_list, title = title_list)"
   ]
  },
  {
   "cell_type": "markdown",
   "id": "circular-technical",
   "metadata": {},
   "source": [
    "### Peppers\n",
    "\n",
    "In the following cell, I will load the previously saved results, and plot them with the SNR displayed."
   ]
  },
  {
   "cell_type": "code",
   "execution_count": 5,
   "id": "healthy-dictionary",
   "metadata": {},
   "outputs": [
    {
     "data": {
      "application/vnd.jupyter.widget-view+json": {
       "model_id": "dd3b95e1bcf14eabac6d12e7d4991b75",
       "version_major": 2,
       "version_minor": 0
      },
      "text/plain": [
       "HBox(children=(Output(layout=Layout(width='80%')), Output(), Output(layout=Layout(width='25%'))))"
      ]
     },
     "metadata": {},
     "output_type": "display_data"
    },
    {
     "data": {
      "application/vnd.jupyter.widget-view+json": {
       "model_id": "743dc554f93344bba3bd677226f40bed",
       "version_major": 2,
       "version_minor": 0
      },
      "text/plain": [
       "Button(description='Show Widgets', style=ButtonStyle())"
      ]
     },
     "metadata": {},
     "output_type": "display_data"
    },
    {
     "data": {
      "text/plain": [
       "<iplabs.IPLabViewer at 0x24039a01608>"
      ]
     },
     "execution_count": 5,
     "metadata": {},
     "output_type": "execute_result"
    }
   ],
   "source": [
    "# Load results\n",
    "image_arr = np.load('peppers_Hessian_Schatten.npy')\n",
    "\n",
    "# Unpack from just loaded results\n",
    "peppers, noisy_peppers, opt_nonneg_plus_prox, opt_nonneg_o_prox, opt_prox_o_nonneg, err_nonneg_o_prox, err_prox_o_nonneg = list(image_arr)\n",
    "# Create list for image viewer\n",
    "image_list = [peppers, noisy_peppers, opt_nonneg_plus_prox, opt_nonneg_o_prox, opt_prox_o_nonneg, err_nonneg_o_prox, err_prox_o_nonneg]\n",
    "# Create title list, calculating SNR up to 3 decimal digits when applicable\n",
    "title_list = ['Original', f'Noisy (SNR = {np.round(proximal.snr_db(peppers, noisy_peppers), 3)} [dB])',\n",
    "              '$\\mathrm{prox}_{\\delta + \\mathcal{R}}$' + f' (SNR = {np.round(proximal.snr_db(peppers, opt_nonneg_plus_prox), 3)} [dB])',\n",
    "              '$\\mathrm{prox}_{\\delta}(\\mathrm{prox}_{\\mathcal{R}})$' + f' (SNR = {np.round(proximal.snr_db(peppers, opt_nonneg_o_prox), 3)} [dB])',\n",
    "              '$\\mathrm{prox}_{\\mathcal{R}}(\\mathrm{prox}_{\\delta})$' + f' (SNR = {np.round(proximal.snr_db(peppers, opt_prox_o_nonneg), 3)} [dB])',\n",
    "              '$\\mathrm{prox}_{\\delta + \\mathcal{R}}$ - $\\mathrm{prox}_{\\delta}(\\mathrm{prox}_{\\mathcal{R}})$',\n",
    "              '$\\mathrm{prox}_{\\delta + \\mathcal{R}}$ - $\\mathrm{prox}_{\\mathcal{R}}(\\mathrm{prox}_{\\delta})$']\n",
    "# Display\n",
    "viewer(image_list, title = title_list)"
   ]
  },
  {
   "cell_type": "markdown",
   "id": "digital-smith",
   "metadata": {},
   "source": [
    "## 3. Group Sparsity\n",
    "[Index](#Index)\n",
    "\n",
    "Since group sparsity by itself is not useful for a simple example like denoising, I have designed a simple, $1$-dimensional experiment to show its effects. \n",
    "\n",
    "### 3.A. Experiment\n",
    "[Index](#Index)\n",
    "\n",
    "The experiment consists of creating a sequence built from $3$ distinguishable regions, sampled from different normal distributions. Then, *Group Sparsity* is applied to this region, with the $3$ different groups corresponding to the 3 different regions. Since this is not a computationally expensive experiment, the results are not saved, nor the time is taken."
   ]
  },
  {
   "cell_type": "code",
   "execution_count": 7,
   "id": "liked-smell",
   "metadata": {},
   "outputs": [],
   "source": [
    "v = np.concatenate([np.random.normal(size = (20, ), scale = 0.2)+0.1, np.random.normal(size = (20, )) + 3, np.random.normal(size = (20, )) + -0.5])\n",
    "\n",
    "opt_nonneg_plus_prox =  proximal.GS_1D_plus_nonneg_prox(v, 0.5, 3, 2, 1)\n",
    "\n",
    "# Repeat for  prox_f(prox_g), where g = R and f = δ\n",
    "opt_nonneg_o_prox =  np.maximum(np.zeros_like(v), (proximal.GS_1D_prox(v, 0.5, 3, 2, 1)))\n",
    "\n",
    "# Repeat for  prox_f(prox_g), where g = δ and f = R and\n",
    "opt_prox_o_nonneg = proximal.GS_1D_prox(np.maximum(np.zeros_like(v), v), 0.5, 3, 2, 1)"
   ]
  },
  {
   "cell_type": "markdown",
   "id": "polished-valuation",
   "metadata": {},
   "source": [
    "### 3.B. Results\n",
    "[Index](#Index)\n",
    "\n",
    "In the next cell I will plot the results of Group Sparsity with $\\|\\cdot\\|_{2, 1}$ regularization."
   ]
  },
  {
   "cell_type": "code",
   "execution_count": 7,
   "id": "agricultural-colony",
   "metadata": {},
   "outputs": [
    {
     "data": {
      "application/vnd.jupyter.widget-view+json": {
       "model_id": "df45f9e898f84eceaf8afecd92e4b6f6",
       "version_major": 2,
       "version_minor": 0
      },
      "text/plain": [
       "Canvas(toolbar=Toolbar(toolitems=[('Home', 'Reset original view', 'home', 'home'), ('Pan', 'Pan axes with left…"
      ]
     },
     "metadata": {},
     "output_type": "display_data"
    }
   ],
   "source": [
    "plt.figure(figsize = (8, 6))\n",
    "plt.plot(v, 'o', label = '$\\mathbf{v}$', markersize = 6)\n",
    "plt.plot(opt_nonneg_plus_prox, 's', label = '$\\mathrm{prox}_{\\mathcal{R} + \\delta}(\\mathbf{v})$', alpha = 1 ,markersize = 4)\n",
    "plt.plot(opt_nonneg_o_prox, 'x', label = '$\\mathrm{prox}_{\\delta}(\\mathrm{prox}_{\\mathcal{R}}(\\mathbf{v}))$', alpha = 1, markersize = 9)\n",
    "plt.plot(opt_prox_o_nonneg, '+', label = '$\\mathrm{prox}_{\\mathcal{R}}(\\mathrm{prox}_{\\delta}(\\mathbf{v}))$', alpha = 1, markersize = 11)\n",
    "plt.axvline(19.5, color='r', linewidth=0.5)\n",
    "plt.axvline(39.5, color='r', linewidth=0.5)\n",
    "plt.xlabel('Index', fontname='Calibri', fontsize=14)\n",
    "plt.ylabel('Value', fontname='Calibri', fontsize=14)\n",
    "plt.grid()\n",
    "plt.legend()\n",
    "plt.title('$||\\cdot||_{2, 1}$ Mixed Norm Regularization', fontsize =20)\n",
    "plt.show()"
   ]
  }
 ],
 "metadata": {
  "kernelspec": {
   "display_name": "Python 3",
   "language": "python",
   "name": "python3"
  },
  "language_info": {
   "codemirror_mode": {
    "name": "ipython",
    "version": 3
   },
   "file_extension": ".py",
   "mimetype": "text/x-python",
   "name": "python",
   "nbconvert_exporter": "python",
   "pygments_lexer": "ipython3",
   "version": "3.7.9"
  }
 },
 "nbformat": 4,
 "nbformat_minor": 5
}
